{
 "cells": [
  {
   "cell_type": "code",
   "execution_count": null,
   "id": "ae84fbbe",
   "metadata": {},
   "outputs": [],
   "source": [
    "#!pip install basemap\n",
    "#!pip install basemap-data\n",
    "#!pip install folium\n",
    "#!pip install kneed"
   ]
  },
  {
   "cell_type": "markdown",
   "id": "f29b01c8",
   "metadata": {},
   "source": [
    "This notebook investigates police crime statistics that collect street crimes reported by area for each crime type in England and Wales. \n",
    "\n",
    "#### Crime types\n",
    "\n",
    "[Crime Tree](https://assets-hmicfrs.justiceinspectorates.gov.uk/uploads/crime-tree.pdf)\n",
    "\n",
    "* Violence and sexual offences - homicide, violence with and without injury, rape and other sexual offences\n",
    "* Robbery - of business and personal property\n",
    "* Theft - burglary in dwelling or other building, vehicles, person, bicycle, shoplifting, all others\n",
    "* Criminal damage and arson\n",
    "* Drugs - trafficking and possession\n",
    "* Possession of weapons\n",
    "* Public order\n",
    "* Other miscellaneous offences\n",
    "\n",
    "#### Data Sources:\n",
    "\n",
    "[Crime Figures](https://data.police.uk/data/)\n",
    "\n",
    "[Population Figures](https://cy.ons.gov.uk/peoplepopulationandcommunity/crimeandjustice/datasets/policeforceareadatatables)"
   ]
  },
  {
   "cell_type": "code",
   "execution_count": null,
   "id": "cee8fe61",
   "metadata": {},
   "outputs": [],
   "source": [
    "import pandas as pd\n",
    "import numpy as np\n",
    "import matplotlib.pyplot as plt\n",
    "import seaborn as sns\n",
    "import glob\n",
    "from mpl_toolkits.basemap import Basemap\n",
    "import folium\n",
    "from folium import plugins\n",
    "from sklearn.cluster import KMeans"
   ]
  },
  {
   "cell_type": "code",
   "execution_count": null,
   "id": "b6683f33",
   "metadata": {},
   "outputs": [],
   "source": [
    "# Set path to get data\n",
    "\n",
    "paths = ['2023-01','2023-02','2023-03','2023-04','2023-05','2023-06','2023-07',\n",
    "         '2023-08','2023-09','2023-10','2023-11','2023-12']\n",
    "\n",
    "# Create empty file list\n",
    "file_list = []\n",
    "names = []\n",
    "\n",
    "# Iterate over paths and add to the file list\n",
    "\n",
    "for p in paths:\n",
    "    path = r'C:\\\\Users\\\\imoge\\\\Downloads\\\\PoliceData\\\\' + p\n",
    "    all_files = glob.glob(path + \"/*.csv\")\n",
    "    file_list.append(all_files)\n",
    "    for item in all_files:\n",
    "        names.append(item.rsplit('.', 1)[0].rsplit('-',1)[0].rsplit('-',1)[1])\n",
    "        names = sorted(names)\n",
    "        \n",
    "#  Convert to one list\n",
    "all_files = [item for sublist in file_list for item in sublist]\n",
    "len(all_files)"
   ]
  },
  {
   "cell_type": "code",
   "execution_count": null,
   "id": "2b77c47e",
   "metadata": {},
   "outputs": [],
   "source": [
    "# Create list of all files\n",
    "\n",
    "li = []\n",
    "for filename in all_files:\n",
    "    df = pd.read_csv(filename, index_col=None, header=0)\n",
    "    li.append(df)\n",
    "    \n",
    "len(li)"
   ]
  },
  {
   "cell_type": "code",
   "execution_count": null,
   "id": "e24e548d",
   "metadata": {},
   "outputs": [],
   "source": [
    "# Concat into a dataframe and get the shape\n",
    "df = pd.concat(li, axis=0, ignore_index=True)\n",
    "df.shape"
   ]
  },
  {
   "cell_type": "code",
   "execution_count": null,
   "id": "8463eeef",
   "metadata": {},
   "outputs": [],
   "source": [
    "# Get the unique police units\n",
    "df['Falls within'].unique()"
   ]
  },
  {
   "cell_type": "code",
   "execution_count": null,
   "id": "42c72917",
   "metadata": {},
   "outputs": [],
   "source": [
    "len(df['Falls within'].unique())"
   ]
  },
  {
   "cell_type": "code",
   "execution_count": null,
   "id": "8d957003",
   "metadata": {},
   "outputs": [],
   "source": [
    "df.shape"
   ]
  },
  {
   "cell_type": "code",
   "execution_count": null,
   "id": "ebc79b53",
   "metadata": {},
   "outputs": [],
   "source": [
    "df.head()"
   ]
  },
  {
   "cell_type": "code",
   "execution_count": null,
   "id": "b570017e",
   "metadata": {},
   "outputs": [],
   "source": [
    "df.info()"
   ]
  },
  {
   "cell_type": "code",
   "execution_count": null,
   "id": "8c8c39ea",
   "metadata": {},
   "outputs": [],
   "source": [
    "df.isnull().sum()"
   ]
  },
  {
   "cell_type": "markdown",
   "id": "56b8c73f",
   "metadata": {},
   "source": [
    "We have some missing data for several of the features including the crime ID, longitude, latitude, LSOA code and name and the last outcome category"
   ]
  },
  {
   "cell_type": "code",
   "execution_count": null,
   "id": "2ea0603f",
   "metadata": {},
   "outputs": [],
   "source": [
    "# Look at which areas have nulls for LSOA code\n",
    "df[df['LSOA code'].isnull()]['Reported by'].value_counts()"
   ]
  },
  {
   "cell_type": "code",
   "execution_count": null,
   "id": "debf8743",
   "metadata": {},
   "outputs": [],
   "source": [
    "# Look at Northern Ireland\n",
    "df[df['Reported by'] == 'Police Service of Northern Ireland'].head()"
   ]
  },
  {
   "cell_type": "markdown",
   "id": "85a7b75c",
   "metadata": {},
   "source": [
    "There is quite a lot of missing data so we will drop these"
   ]
  },
  {
   "cell_type": "code",
   "execution_count": null,
   "id": "0c72dc38",
   "metadata": {},
   "outputs": [],
   "source": [
    "df = df[df['Reported by']!= 'Police Service of Northern Ireland']\n",
    "df.shape"
   ]
  },
  {
   "cell_type": "code",
   "execution_count": null,
   "id": "8c02764e",
   "metadata": {},
   "outputs": [],
   "source": [
    "df[df['LSOA code'].isnull()].head()"
   ]
  },
  {
   "cell_type": "markdown",
   "id": "51ef3412",
   "metadata": {},
   "source": [
    "The rows with no location details seem to coincide with no LSOA code or name so we will drop those rows"
   ]
  },
  {
   "cell_type": "code",
   "execution_count": null,
   "id": "e3a43648",
   "metadata": {},
   "outputs": [],
   "source": [
    "df.dropna(subset = ['LSOA name'], inplace = True)"
   ]
  },
  {
   "cell_type": "markdown",
   "id": "f3f35464",
   "metadata": {},
   "source": [
    "The remaining missing values are involved with the last outcome category, so if there is no outcome then there is no ID. We will drop both those columns"
   ]
  },
  {
   "cell_type": "code",
   "execution_count": null,
   "id": "d3a06f4d",
   "metadata": {},
   "outputs": [],
   "source": [
    "df.drop(columns = ['Crime ID','Last outcome category', 'Context'],axis =1, inplace = True)"
   ]
  },
  {
   "cell_type": "code",
   "execution_count": null,
   "id": "2a4b85b9",
   "metadata": {},
   "outputs": [],
   "source": [
    "df.shape"
   ]
  },
  {
   "cell_type": "code",
   "execution_count": null,
   "id": "80a3ae37",
   "metadata": {},
   "outputs": [],
   "source": [
    "df.head()"
   ]
  },
  {
   "cell_type": "markdown",
   "id": "15994faf",
   "metadata": {},
   "source": [
    "We will also drop the 'Reported by' category, the Location and the LSOA name"
   ]
  },
  {
   "cell_type": "code",
   "execution_count": null,
   "id": "0db6ac63",
   "metadata": {},
   "outputs": [],
   "source": [
    "df.drop(columns = ['Reported by','LSOA name'], axis = 1, inplace = True)\n",
    "df.head()"
   ]
  },
  {
   "cell_type": "code",
   "execution_count": null,
   "id": "db6795d2",
   "metadata": {},
   "outputs": [],
   "source": [
    "# Change the name of the Month column to date and then replace with a datetime object \n",
    "df.rename(columns = {'Month':'Date'},inplace = True)\n",
    "df['Date'] = pd.to_datetime(df['Date'])"
   ]
  },
  {
   "cell_type": "code",
   "execution_count": null,
   "id": "38d8771a",
   "metadata": {},
   "outputs": [],
   "source": [
    "# Extract year, month and day\n",
    "df['Year'] = df['Date'].dt.year\n",
    "df['Month'] = df['Date'].dt.month\n",
    "df['Month Name'] = df['Date'].dt.month_name()"
   ]
  },
  {
   "cell_type": "code",
   "execution_count": null,
   "id": "db7c72a8",
   "metadata": {},
   "outputs": [],
   "source": [
    "df.drop(columns = ['Date'], axis = 1, inplace = True)"
   ]
  },
  {
   "cell_type": "code",
   "execution_count": null,
   "id": "f48853bc",
   "metadata": {},
   "outputs": [],
   "source": [
    "df.head()"
   ]
  },
  {
   "cell_type": "markdown",
   "id": "90e61387",
   "metadata": {},
   "source": [
    "## Exploratory Data Analysis"
   ]
  },
  {
   "cell_type": "markdown",
   "id": "ed422a9b",
   "metadata": {},
   "source": [
    "The highest number of reported crimes are unsurprisingly in the metropolitan police area. We can add in some population figures to allow comparison between areas"
   ]
  },
  {
   "cell_type": "markdown",
   "id": "b4929baf",
   "metadata": {},
   "source": [
    "### Where are the crimes being reported to occur?"
   ]
  },
  {
   "cell_type": "code",
   "execution_count": null,
   "id": "ed9f8ec0",
   "metadata": {
    "scrolled": true
   },
   "outputs": [],
   "source": [
    "# Map these crimes on a map of England and Wales\n",
    "\n",
    "lat = df['Latitude'].to_list()\n",
    "long = df['Longitude'].to_list()\n",
    "\n",
    "crime_map = folium.Map([52.3555, 1.1743], zoom_start=5)\n",
    "\n",
    "heatmap = plugins.HeatMap(list(zip(lat,long)),radius = 1, blur = 1)\n",
    "crime_map.add_child(heatmap)"
   ]
  },
  {
   "cell_type": "code",
   "execution_count": null,
   "id": "908384ba",
   "metadata": {},
   "outputs": [],
   "source": [
    "file_name = 'C:/Users/imoge/Projects'\n",
    "crime_map.save(file_name + '.html')"
   ]
  },
  {
   "cell_type": "code",
   "execution_count": null,
   "id": "28add3ec",
   "metadata": {},
   "outputs": [],
   "source": [
    "# Plot crimes by area\n",
    "sns.set_palette('dark')\n",
    "fig, ax = plt.subplots(figsize = (8,10))\n",
    "ax = df['Falls within'].value_counts().plot(kind = 'barh')\n",
    "plt.title('Crimes by Area 2023')\n",
    "ax.invert_yaxis()\n",
    "ax.spines[['right', 'top']].set_visible(False);"
   ]
  },
  {
   "cell_type": "markdown",
   "id": "48f34ddc",
   "metadata": {},
   "source": [
    "Most crimes are reported in the area of the Metropolitan Police and the least by the City of London police"
   ]
  },
  {
   "cell_type": "code",
   "execution_count": null,
   "id": "682d6fd7",
   "metadata": {},
   "outputs": [],
   "source": [
    "# Plot crimes by type\n",
    "sns.set_palette('dark')\n",
    "ax = df['Crime type'].value_counts().plot(kind = 'barh')\n",
    "plt.title('Crimes by Type 2023')\n",
    "ax.spines[['right', 'top']].set_visible(False);"
   ]
  },
  {
   "cell_type": "markdown",
   "id": "0ea8542d",
   "metadata": {},
   "source": [
    "Most crimes involve violence and sexual offences"
   ]
  },
  {
   "cell_type": "code",
   "execution_count": null,
   "id": "b5def447",
   "metadata": {},
   "outputs": [],
   "source": [
    "# Find the maximum value for each crime type\n",
    "maxValueIndex = crime_pivot.idxmax()\n",
    " \n",
    "print(\"Maximum values of columns are at row index position :\")\n",
    "print(maxValueIndex)"
   ]
  },
  {
   "cell_type": "markdown",
   "id": "38c475b0",
   "metadata": {},
   "source": [
    "With the exception of possession of weapons the Metropolitan Police Service has the highest number of reported crimes of all types"
   ]
  },
  {
   "cell_type": "markdown",
   "id": "dbfca47b",
   "metadata": {},
   "source": [
    "### When do crimes occur?"
   ]
  },
  {
   "cell_type": "code",
   "execution_count": null,
   "id": "3be8725e",
   "metadata": {},
   "outputs": [],
   "source": [
    "df['Month Name'].value_counts().plot(kind = 'bar')"
   ]
  },
  {
   "cell_type": "markdown",
   "id": "04de6a46",
   "metadata": {},
   "source": [
    "Most in June and least in December"
   ]
  },
  {
   "cell_type": "markdown",
   "id": "68ae9518",
   "metadata": {},
   "source": [
    "### Adding in population figures"
   ]
  },
  {
   "cell_type": "markdown",
   "id": "f0dcf1ff",
   "metadata": {},
   "source": [
    "To make proper comparisions we need to add some population figures"
   ]
  },
  {
   "cell_type": "code",
   "execution_count": null,
   "id": "1d61ea84",
   "metadata": {},
   "outputs": [],
   "source": [
    "# Bring in the population figures\n",
    "pop = pd.read_excel(r'C:\\\\Users\\\\imoge\\\\Downloads\\\\PolicePop.xlsx',sheet_name = 5, skiprows = 7, usecols = \"A,B,C\")\n",
    "pop.columns = ['Area Code','Area Name', 'Pop']\n",
    "pop.shape"
   ]
  },
  {
   "cell_type": "code",
   "execution_count": null,
   "id": "f3f50328",
   "metadata": {},
   "outputs": [],
   "source": [
    "pop.sort_values(by = 'Area Name')"
   ]
  },
  {
   "cell_type": "code",
   "execution_count": null,
   "id": "8b2f77ec",
   "metadata": {},
   "outputs": [],
   "source": [
    "# Drop rows we don't need\n",
    "drop_these = ['E92000001','K04000001','E12000006','E12000003','W92000004','E12000009', 'E12000008','E12000007',\n",
    "              'E12000005','E12000004','E12000001','E12000002']\n",
    "\n",
    "\n",
    "pop = pop.loc[~pop['Area Code'].isin(drop_these)]\n",
    "\n",
    "pop.shape"
   ]
  },
  {
   "cell_type": "code",
   "execution_count": null,
   "id": "ca98dfd4",
   "metadata": {},
   "outputs": [],
   "source": [
    "pop.sort_values(by = 'Area Name')"
   ]
  },
  {
   "cell_type": "markdown",
   "id": "d2fffbdd",
   "metadata": {},
   "source": [
    "We want to merge this population data with the crime data. As we only have the higher area code for population, we will need to merge on the area name and we need to make sure the names in one table match the other."
   ]
  },
  {
   "cell_type": "code",
   "execution_count": null,
   "id": "e804d02d",
   "metadata": {},
   "outputs": [],
   "source": [
    "by_county = df.groupby('Falls within', as_index = False)['Year'].count()\n",
    "by_county"
   ]
  },
  {
   "cell_type": "code",
   "execution_count": null,
   "id": "3f9e1f89",
   "metadata": {},
   "outputs": [],
   "source": [
    "# Add join column to each dataframe\n",
    "by_county['join']= 1\n",
    "pop['join'] = 1"
   ]
  },
  {
   "cell_type": "code",
   "execution_count": null,
   "id": "9c1c7feb",
   "metadata": {},
   "outputs": [],
   "source": [
    "# Mark each row where the Area Name is found within the Falls Within column of the by_county dataframe\n",
    "\n",
    "merged_df = by_county.merge(pop, on = 'join')\n",
    "pop.drop('join',axis = 1, inplace = True)\n",
    "\n",
    "merged_df['match'] = merged_df.apply(lambda x: x['Falls within'].find(x['Area Name']), axis = 1).ge(0)\n",
    "merged_df"
   ]
  },
  {
   "cell_type": "code",
   "execution_count": null,
   "id": "7e0727a3",
   "metadata": {},
   "outputs": [],
   "source": [
    "# Select the rows and columns we want\n",
    "matched_df = merged_df[merged_df['match']==True]\n",
    "matched_df = matched_df[['Falls within','Pop']]\n",
    "matched_df.shape"
   ]
  },
  {
   "cell_type": "code",
   "execution_count": null,
   "id": "fda169b1",
   "metadata": {},
   "outputs": [],
   "source": [
    "matched_df"
   ]
  },
  {
   "cell_type": "markdown",
   "id": "2927d515",
   "metadata": {},
   "source": [
    "We are missing Greater Manchester police for which we do not have any police reported crime figures and British Transport Police for which we wouldn't have population figures. We will exclude these from the analysis going forward"
   ]
  },
  {
   "cell_type": "code",
   "execution_count": null,
   "id": "109d1bed",
   "metadata": {},
   "outputs": [],
   "source": [
    "df = df[df['Falls within']!='British Transport Police']"
   ]
  },
  {
   "cell_type": "markdown",
   "id": "39719863",
   "metadata": {},
   "source": [
    "With the exception of possession of weapons, the highest number of crimes of all types are reported in the area of the Metropolitan Police Service"
   ]
  },
  {
   "cell_type": "markdown",
   "id": "c7a1e949",
   "metadata": {},
   "source": [
    "We should compare the crimes per head or the crimes per thousand in order to properly compare these"
   ]
  },
  {
   "cell_type": "markdown",
   "id": "5a6718b7",
   "metadata": {},
   "source": [
    "### Crimes per 1000 population"
   ]
  },
  {
   "cell_type": "code",
   "execution_count": null,
   "id": "321ec1fa",
   "metadata": {},
   "outputs": [],
   "source": [
    "# Groupby the area and crime time and then count the reported crimes, then creating a pivot table with a total column\n",
    "crime_pivot = df.groupby(['Falls within','Crime type'],as_index = False)['LSOA code'].count().pivot(index = 'Falls within', \n",
    "                                                                                     columns = 'Crime type', \n",
    "                                                                                     values = 'LSOA code')\n",
    "crime_pivot['Total'] = crime_pivot.sum(axis = 1)\n",
    "crime_pivot"
   ]
  },
  {
   "cell_type": "code",
   "execution_count": null,
   "id": "72554e38",
   "metadata": {},
   "outputs": [],
   "source": [
    "# Create a list of area names\n",
    "count_names = list(matched_df['Falls within'])"
   ]
  },
  {
   "cell_type": "code",
   "execution_count": null,
   "id": "bfcc1829",
   "metadata": {},
   "outputs": [],
   "source": [
    "# Merge the pivot with the population figures, then calculate number of crimes per 1000 population, add the index name and sort\n",
    "crime_pivot_merged = crime_pivot.merge(matched_df, left_on = crime_pivot.index, right_on = 'Falls within').drop(columns = ['Falls within'],axis = 1)\n",
    "crime_per_thousand = crime_pivot_merged.iloc[:,0:-1].apply(lambda x: x/crime_pivot_merged['Pop']*1000)\n",
    "crime_per_thousand.index = count_names\n",
    "crime_per_thousand.sort_values(by = 'Total',ascending = False)"
   ]
  },
  {
   "cell_type": "code",
   "execution_count": null,
   "id": "2502304a",
   "metadata": {},
   "outputs": [],
   "source": [
    "# Plot the crimes per 1000 population\n",
    "fig, ax = plt.subplots(figsize = (8,12))\n",
    "crime_per_thousand[['Total']].sort_values(by = 'Total',ascending = False).plot(ax = ax, kind = 'barh')\n",
    "plt.title('Crimes per 1000 Population by Area 2023')\n",
    "ax.invert_yaxis()\n",
    "ax.spines[['right', 'top']].set_visible(False);"
   ]
  },
  {
   "cell_type": "markdown",
   "id": "1be5c0dc",
   "metadata": {},
   "source": [
    "We can see some changes in the chart when we calculate the crimes per 1000 population. The City of London was at the bottom of the table in terms of the number of reported street crimes but at the top when calculated per 000 head of population"
   ]
  },
  {
   "cell_type": "markdown",
   "id": "4b91f0fb",
   "metadata": {},
   "source": [
    "### Correlation between crime types"
   ]
  },
  {
   "cell_type": "code",
   "execution_count": null,
   "id": "b9199177",
   "metadata": {},
   "outputs": [],
   "source": [
    "# Look at correlations\n",
    "crime_corr = crime_per_thousand.iloc[:,0:-1].corr()\n",
    "crime_corr"
   ]
  },
  {
   "cell_type": "markdown",
   "id": "624a39ca",
   "metadata": {},
   "source": [
    "This is quite hard to look at so we will do a heatmap"
   ]
  },
  {
   "cell_type": "code",
   "execution_count": null,
   "id": "8ca51210",
   "metadata": {},
   "outputs": [],
   "source": [
    "# Lets look at a heatmap\n",
    "cmap = sns.cm.rocket_r\n",
    "fig, ax = plt.subplots(figsize = (12,10))\n",
    "sns.heatmap(crime_corr, annot = True, cmap = cmap);"
   ]
  },
  {
   "cell_type": "markdown",
   "id": "3148e6d3",
   "metadata": {},
   "source": [
    "There seems to be positive correlation amongst most of the crime types and it is easier to see which ones are not highly correlated to other crimes - vehicle and anti-social behaviour"
   ]
  },
  {
   "cell_type": "code",
   "execution_count": null,
   "id": "d692c7d7",
   "metadata": {},
   "outputs": [],
   "source": [
    "# Get correlation matrix, remove duplicates and unstack\n",
    "corr_mat = crime_corr\n",
    "upper_corr_mat = corr_mat.where( \n",
    "    np.triu(np.ones(corr_mat.shape), k=1).astype(bool)) \n",
    "unique_corr_pairs = upper_corr_mat.unstack().dropna() \n",
    "  \n",
    "# Sort correlation pairs \n",
    "sorted_mat = unique_corr_pairs.sort_values() \n",
    "sorted_mat = pd.DataFrame(sorted_mat).sort_values(by = 0,ascending = False)\n",
    "sorted_mat = sorted_mat[sorted_mat[0]<1.0]\n",
    "sorted_mat.head(10)"
   ]
  },
  {
   "cell_type": "markdown",
   "id": "c9ad898a",
   "metadata": {},
   "source": [
    "The highest correlations are various types of theft which are all interelated in terms of occurrence"
   ]
  },
  {
   "cell_type": "code",
   "execution_count": null,
   "id": "96330ad2",
   "metadata": {},
   "outputs": [],
   "source": [
    "sorted_mat.tail()"
   ]
  },
  {
   "cell_type": "code",
   "execution_count": null,
   "id": "e9d58e5f",
   "metadata": {},
   "outputs": [],
   "source": [
    "sns.pairplot(data = crime_per_thousand.iloc[:,0:-1])"
   ]
  },
  {
   "cell_type": "markdown",
   "id": "32ca1c5c",
   "metadata": {},
   "source": [
    "The pairplot is a little difficult to see but the correlations indicate that the occurrence of one type of crime is highly correlated with another"
   ]
  },
  {
   "cell_type": "code",
   "execution_count": null,
   "id": "ddb06a3c",
   "metadata": {},
   "outputs": [],
   "source": [
    "# Have a look at the highest correlation relationship\n",
    "ax = sns.scatterplot(data = crime_per_thousand, x = crime_pivot['Theft from the person'], y = crime_pivot['Other theft'])\n",
    "plt.title('Other theft against theft from the person')\n",
    "plt.xlabel('Theft from the person', labelpad = 10)\n",
    "ax.spines[['right', 'top']].set_visible(False);"
   ]
  },
  {
   "cell_type": "markdown",
   "id": "0300347c",
   "metadata": {},
   "source": [
    "* This seems to suggest a strong correlation between theft from the person and other theft occurring in an area\n",
    "* There is one point way above the rest, which relates to the figures for the Metroplolitan Police area"
   ]
  },
  {
   "cell_type": "markdown",
   "id": "6ffb1da4",
   "metadata": {},
   "source": [
    "### Crimes in the Metropolitan Area"
   ]
  },
  {
   "cell_type": "markdown",
   "id": "4ee7bd39",
   "metadata": {},
   "source": [
    "Lets have a look at all the incidences on a scatter plot for that police area which is London"
   ]
  },
  {
   "cell_type": "code",
   "execution_count": null,
   "id": "8f2f60e9",
   "metadata": {},
   "outputs": [],
   "source": [
    "# Get location by crime details\n",
    "crime_met = df[df['Falls within'] == 'Metropolitan Police Service']\n",
    "location_met = crime_met[['Latitude','Longitude','Crime type']]\n",
    "location_met = location_met.dropna()\n",
    "#location_met = location_met.loc[(location_met['Latitude']<52) & (location_met['Longitude'] > -2)]  \n",
    "\n",
    "# Plot the metropolitan data\n",
    "fig, ax = plt.subplots(figsize = (11,8))\n",
    "ax = sns.scatterplot(data = location_met, x = 'Longitude', y = 'Latitude', hue = 'Crime type')\n",
    "\n",
    "# Legend\n",
    "handles, labels = ax.get_legend_handles_labels()\n",
    "ax.legend(reversed(handles), reversed(labels),loc='upper right', bbox_to_anchor=(1.25, 1),\n",
    "          ncol=1, fancybox=True, shadow=True)\n",
    "plt.title('Crimes by Latitude and Longitude for the Metropolitan Police Area');"
   ]
  },
  {
   "cell_type": "code",
   "execution_count": null,
   "id": "2bf43d48",
   "metadata": {},
   "outputs": [],
   "source": [
    "# Plotting heat map of all crimes\n",
    "lat = crime_met_map['Latitude'].to_list()\n",
    "long = crime_met_map['Longitude'].to_list()\n",
    "\n",
    "crime_map = folium.Map([51.5072,  0.1276], zoom_start=10)\n",
    "\n",
    "heatmap = plugins.HeatMap(list(zip(lat,long)),radius = 2, blur = 1)\n",
    "crime_map.add_child(heatmap)"
   ]
  },
  {
   "cell_type": "markdown",
   "id": "9730195a",
   "metadata": {},
   "source": [
    "Lets drop out the violent crime"
   ]
  },
  {
   "cell_type": "code",
   "execution_count": null,
   "id": "8104e865",
   "metadata": {},
   "outputs": [],
   "source": [
    "# Focussing on robberies and theft\n",
    "exclude_crimes = ['Violence and sexual offences', 'Possession of weapons', ' Public order', ' Vehicle crime',\n",
    "                 'Other crime','Drugs','Criminal damage and arson', 'Anti-social behaviour']\n",
    "\n",
    "# Get location by crime details\n",
    "crime_met_exclude = df[(df['Falls within'] == 'Metropolitan Police Service') & (~df['Crime type'].isin(exclude_crimes))]\n",
    "location_met = crime_met_exclude[['Latitude','Longitude','Crime type']]\n",
    "location_met = location_met.dropna()\n",
    "location_met = location_met.loc[(location_met['Latitude']<51.7) & (location_met['Longitude'] > -0.5) & (location_met['Longitude'] < 0.3)& (location_met['Latitude']>51.3)]\n",
    "\n",
    "# Plot the metropolitan data\n",
    "fig, ax = plt.subplots(figsize = (11,8))\n",
    "ax = sns.scatterplot(data = location_met, x = 'Longitude', y = 'Latitude', hue = 'Crime type')\n",
    "\n",
    "# Legend\n",
    "handles, labels = ax.get_legend_handles_labels()\n",
    "ax.legend(reversed(handles), reversed(labels),loc='upper right', bbox_to_anchor=(1.25, 1),\n",
    "          ncol=1, fancybox=True, shadow=True)\n",
    "plt.title('Theft, Burglary and Robbery Crimes for the Metropolitan Police Area');"
   ]
  },
  {
   "cell_type": "markdown",
   "id": "ea0ce49a",
   "metadata": {},
   "source": [
    "* The incidents are very much clustered in Central London.\n",
    "* The majority of incidents seems to be robbery.\n",
    "* We can see a cluster of theft from the person in the very centre\n",
    "\n",
    "We could analyse it further by seeing which LSOA code has the most crimes reported in the area and what crimes took place"
   ]
  },
  {
   "cell_type": "code",
   "execution_count": null,
   "id": "2022e02b",
   "metadata": {},
   "outputs": [],
   "source": [
    "# Group crimes by LSOA code to find where most take place\n",
    "crime_met.groupby(['LSOA code'],as_index = False)['Crime type'].count().sort_values(by = 'Crime type',ascending = False).head()"
   ]
  },
  {
   "cell_type": "markdown",
   "id": "a9f08c96",
   "metadata": {},
   "source": [
    "We can see two areas with the highest number of recorded incidents"
   ]
  },
  {
   "cell_type": "code",
   "execution_count": null,
   "id": "bad1f86f",
   "metadata": {},
   "outputs": [],
   "source": [
    "# Get those rows in these top 3 areas\n",
    "codes = ['E01035716','E01004734']\n",
    "met_codes = crime_met[crime_met['LSOA code'].isin(codes)]"
   ]
  },
  {
   "cell_type": "code",
   "execution_count": null,
   "id": "c94c2382",
   "metadata": {},
   "outputs": [],
   "source": [
    "# Group by code and crime type and pivot\n",
    "met_codes.groupby(['LSOA code','Crime type'],as_index = False)['Year'].count().pivot(index = 'Crime type',\n",
    "                                                                                     columns = 'LSOA code',\n",
    "                                                                                    values = 'Year')"
   ]
  },
  {
   "cell_type": "markdown",
   "id": "f060f95a",
   "metadata": {},
   "source": [
    "* We can see that theft is the most reported type of crime in these two areas is theft from the person and other theft\n",
    "* Lets have a look at violence and sexual offences which is perhaps considered to be the most serious of these crimes\n",
    "* The most violent crimes are in LSOA code E01004734"
   ]
  },
  {
   "cell_type": "code",
   "execution_count": null,
   "id": "57c2e2dd",
   "metadata": {},
   "outputs": [],
   "source": [
    "# In what location?\n",
    "viol = crime_met[(crime_met['LSOA code']=='E01004734') & (crime_met['Crime type']=='Violence and sexual offences')].groupby('Location',\n",
    "                                                                                                                     as_index = False)['Year'].count().sort_values(by = 'Year', \n",
    "                                                                                                                     ascending = False).head(10)\n",
    "viol"
   ]
  },
  {
   "cell_type": "markdown",
   "id": "5f8be512",
   "metadata": {},
   "source": [
    "* We can see that by narrowing the dataframes down we can identify where the most  offences occur and in what location in that LSOA area\n",
    "\n",
    "* We can see that the nightclub and theatre/concert hall are key locations"
   ]
  },
  {
   "cell_type": "code",
   "execution_count": null,
   "id": "eb3e300b",
   "metadata": {},
   "outputs": [],
   "source": [
    "# Filter for the LSOA into a dataframe\n",
    "E01004734_viol = crime_met[(crime_met['LSOA code']=='E01004734') & (crime_met['Crime type']=='Violence and sexual offences')]"
   ]
  },
  {
   "cell_type": "code",
   "execution_count": null,
   "id": "d9a0caae",
   "metadata": {},
   "outputs": [],
   "source": [
    "# Draw map of violence offences in the metropolitan LSOA E01004734\n",
    "lat = E01004734_viol['Latitude'].to_list()\n",
    "long = E01004734_viol['Longitude'].to_list()\n",
    "\n",
    "E01004734_map = folium.Map([51.51,  -0.122], zoom_start=14.5)\n",
    "\n",
    "heatmap = plugins.HeatMap(list(zip(lat,long)),radius = 5, blur = 1)\n",
    "E01004734_map.add_child(heatmap)"
   ]
  },
  {
   "cell_type": "markdown",
   "id": "a3f9755d",
   "metadata": {},
   "source": [
    "These offences are being reported to occur in or around Leicester Square, a nightlife area"
   ]
  },
  {
   "cell_type": "code",
   "execution_count": null,
   "id": "0128b83e",
   "metadata": {},
   "outputs": [],
   "source": [
    "# What month are these being reported?\n",
    "E01004734_viol['Month'].value_counts().plot(kind = 'bar')"
   ]
  },
  {
   "cell_type": "markdown",
   "id": "e35aad97",
   "metadata": {},
   "source": [
    "Most are reported in December and the least in March and April"
   ]
  },
  {
   "cell_type": "markdown",
   "id": "2be0aa5d",
   "metadata": {},
   "source": [
    "### Crimes in the City of London"
   ]
  },
  {
   "cell_type": "markdown",
   "id": "839aa7e0",
   "metadata": {},
   "source": [
    "We found earlier that the City of London had the highest reported crimes per 1000 population."
   ]
  },
  {
   "cell_type": "code",
   "execution_count": null,
   "id": "14e97282",
   "metadata": {},
   "outputs": [],
   "source": [
    "crime_city = df[df['Falls within'] == 'City of London Police']"
   ]
  },
  {
   "cell_type": "code",
   "execution_count": null,
   "id": "ffcedd54",
   "metadata": {},
   "outputs": [],
   "source": [
    "crime_city.groupby(['Crime type'],as_index = False)['Year'].count().sort_values(by = 'Year',ascending = False)"
   ]
  },
  {
   "cell_type": "markdown",
   "id": "a2505b96",
   "metadata": {},
   "source": [
    "We can see that other theft, violence and sexual offences and theft from the person are the most common types of crime for this area. "
   ]
  },
  {
   "cell_type": "code",
   "execution_count": null,
   "id": "b2d82fb6",
   "metadata": {},
   "outputs": [],
   "source": [
    "# Group crimes by LSOA code to find where most take place\n",
    "crime_city.groupby(['LSOA code'],as_index = False)['Crime type'].count().sort_values(by = 'Crime type',ascending = False).head()"
   ]
  },
  {
   "cell_type": "markdown",
   "id": "2ee5380c",
   "metadata": {},
   "source": [
    "* We can see that offences are very much concentrated in one LSOA\n",
    "* Where are the violent crimes happening in the City of London?"
   ]
  },
  {
   "cell_type": "code",
   "execution_count": null,
   "id": "dee47bc7",
   "metadata": {},
   "outputs": [],
   "source": [
    "# Filter for violent and group by LSOA code\n",
    "city_viol = crime_city[crime_city['Crime type'] == 'Violence and sexual offences']\n",
    "city_viol.groupby('LSOA code',as_index = False)['Year'].count()"
   ]
  },
  {
   "cell_type": "markdown",
   "id": "6755701f",
   "metadata": {},
   "source": [
    "The same LSOA code appears, so again we can find out the top locations"
   ]
  },
  {
   "cell_type": "code",
   "execution_count": null,
   "id": "5dd67e6e",
   "metadata": {},
   "outputs": [],
   "source": [
    "city_viol.groupby('Location',as_index = False)['Year'].count().sort_values(by = 'Year',ascending = False)"
   ]
  },
  {
   "cell_type": "code",
   "execution_count": null,
   "id": "d02ecd08",
   "metadata": {},
   "outputs": [],
   "source": [
    "# Get the violent crime for this LSOA \n",
    "E01032739_viol = city_viol[(city_viol['LSOA code']=='E01032739')]"
   ]
  },
  {
   "cell_type": "code",
   "execution_count": null,
   "id": "4be87f50",
   "metadata": {},
   "outputs": [],
   "source": [
    "# Draw map of violence offences in the metropolitan LSOA E01004734\n",
    "lat = E01032739_viol['Latitude'].to_list()\n",
    "long = E01032739_viol['Longitude'].to_list()\n",
    "\n",
    "E01004734_map = folium.Map([51.51,  -0.09], zoom_start=14)\n",
    "\n",
    "heatmap = plugins.HeatMap(list(zip(lat,long)),radius = 5, blur = 1)\n",
    "E01004734_map.add_child(heatmap)"
   ]
  },
  {
   "cell_type": "markdown",
   "id": "79820c22",
   "metadata": {},
   "source": [
    "## Can we cluster the data to find areas in common for crimes?"
   ]
  },
  {
   "cell_type": "code",
   "execution_count": null,
   "id": "b7b70e70",
   "metadata": {},
   "outputs": [],
   "source": [
    "# Select the raw crime figures\n",
    "df_cluster = crime_pivot.iloc[:,0:-1]\n",
    "df_cluster.head()"
   ]
  },
  {
   "cell_type": "code",
   "execution_count": null,
   "id": "62649df9",
   "metadata": {},
   "outputs": [],
   "source": [
    "# Scale the datapoints for use with clustering model\n",
    "from sklearn.preprocessing import StandardScaler\n",
    "object = StandardScaler()\n",
    "standard = object.fit_transform(df_cluster)\n",
    "standard"
   ]
  },
  {
   "cell_type": "code",
   "execution_count": null,
   "id": "3c1a994e",
   "metadata": {},
   "outputs": [],
   "source": [
    "import os\n",
    "os.environ[\"OMP_NUM_THREADS\"] = '1'"
   ]
  },
  {
   "cell_type": "code",
   "execution_count": null,
   "id": "737c6167",
   "metadata": {},
   "outputs": [],
   "source": [
    "# Plot the elbow curve\n",
    "\n",
    "plt.figure(figsize = (6,4))\n",
    "wcss = []\n",
    "for i in range(1,11):\n",
    "    kmeans = KMeans(n_clusters = i, init = 'k-means++', random_state = 42)\n",
    "    kmeans.fit(standard)\n",
    "    wcss.append(kmeans.inertia_)\n",
    "    \n",
    "plt.plot(range(1,11), wcss, 'bx-')\n",
    "plt.title('Elbow Method')\n",
    "plt.xlabel('Num clusters')\n",
    "plt.ylabel('WCSS')"
   ]
  },
  {
   "cell_type": "code",
   "execution_count": null,
   "id": "63f12f9c",
   "metadata": {},
   "outputs": [],
   "source": [
    "# Plot the point where the curve starts to flatten\n",
    "from kneed import KneeLocator\n",
    "y = wcss\n",
    "x = range(1, len(y)+1)\n",
    "kn = KneeLocator(x, y, curve='convex', direction='decreasing')\n",
    "print(kn.knee)\n",
    "\n",
    "plt.plot(range(1,11), wcss, 'bx-')\n",
    "plt.title('Elbow Method')\n",
    "plt.xlabel('Num clusters')\n",
    "plt.ylabel('WCSS')\n",
    "\n",
    "plt.vlines(kn.knee, plt.ylim()[0], plt.ylim()[1], linestyles='dashed');"
   ]
  },
  {
   "cell_type": "code",
   "execution_count": null,
   "id": "255ebecc",
   "metadata": {},
   "outputs": [],
   "source": [
    "# Run kmeans with 3 clusters\n",
    "kmeans = KMeans(n_clusters = 3, init = 'k-means++', random_state = 42)\n",
    "mod1 = kmeans.fit_predict(standard)\n",
    "mod1 = mod1+1\n",
    "mod1"
   ]
  },
  {
   "cell_type": "code",
   "execution_count": null,
   "id": "6656cb61",
   "metadata": {},
   "outputs": [],
   "source": [
    "# Create cluster column\n",
    "cluster = list(mod1)\n",
    "df_cluster['Cluster']=cluster\n",
    "df_cluster.head()"
   ]
  },
  {
   "cell_type": "code",
   "execution_count": null,
   "id": "3e795d49",
   "metadata": {},
   "outputs": [],
   "source": [
    "# Have a look at the means\n",
    "mean_cluster = pd.DataFrame(round(df_cluster.groupby('Cluster').mean()))\n",
    "mean_cluster"
   ]
  },
  {
   "cell_type": "markdown",
   "id": "d4f650b7",
   "metadata": {},
   "source": [
    "We can see that the mean values for crimes vary by cluster "
   ]
  },
  {
   "cell_type": "code",
   "execution_count": null,
   "id": "5a9efb5f",
   "metadata": {},
   "outputs": [],
   "source": [
    "# Plot these\n",
    "ax = mean_cluster.plot(kind = 'bar', stacked = True)\n",
    "\n",
    "# Legend\n",
    "handles, labels = ax.get_legend_handles_labels()\n",
    "ax.legend(reversed(handles), reversed(labels),loc='upper right', bbox_to_anchor=(1.6, 1),\n",
    "          ncol=1, fancybox=True, shadow=True);\n"
   ]
  },
  {
   "cell_type": "code",
   "execution_count": null,
   "id": "26458117",
   "metadata": {},
   "outputs": [],
   "source": [
    "# Reset index and rename the area column from index\n",
    "df_cluster.reset_index(inplace = True)\n",
    "df_cluster.rename(columns = {'index':'Falls within'}, inplace = True)\n",
    "df_cluster.head()"
   ]
  },
  {
   "cell_type": "code",
   "execution_count": null,
   "id": "3c737d5a",
   "metadata": {},
   "outputs": [],
   "source": [
    "# Group the areas by cluster\n",
    "df_cluster.groupby('Cluster', as_index = False)['Falls within'].count()"
   ]
  },
  {
   "cell_type": "code",
   "execution_count": null,
   "id": "c6cb4b1c",
   "metadata": {},
   "outputs": [],
   "source": [
    "# What areas are in cluster 1\n",
    "df_cluster[df_cluster['Cluster']==1]"
   ]
  },
  {
   "cell_type": "code",
   "execution_count": null,
   "id": "04038f50",
   "metadata": {},
   "outputs": [],
   "source": [
    "# What areas are in cluster 2\n",
    "df_cluster[df_cluster['Cluster']==2]"
   ]
  },
  {
   "cell_type": "code",
   "execution_count": null,
   "id": "ce5f328c",
   "metadata": {},
   "outputs": [],
   "source": [
    "# What areas are in cluster 3\n",
    "df_cluster[df_cluster['Cluster']==3]"
   ]
  },
  {
   "cell_type": "code",
   "execution_count": null,
   "id": "d5fd40d0",
   "metadata": {},
   "outputs": [],
   "source": [
    "# Plot a few charts of crimes to see the clusters\n",
    "sns.scatterplot(data = df_cluster, x = 'Robbery', y = 'Shoplifting', hue = 'Cluster')\n",
    "plt.title('Shoplifting against Robbery');"
   ]
  },
  {
   "cell_type": "code",
   "execution_count": null,
   "id": "7239b7c4",
   "metadata": {},
   "outputs": [],
   "source": [
    "sns.scatterplot(data = df_cluster, x = 'Robbery', y = 'Burglary', hue = 'Cluster')\n",
    "plt.title('Burglary against Robbery');"
   ]
  },
  {
   "cell_type": "code",
   "execution_count": null,
   "id": "60a71f4c",
   "metadata": {},
   "outputs": [],
   "source": [
    "sns.scatterplot(data = df_cluster, x = 'Violence and sexual offences', y = 'Robbery', hue = 'Cluster')\n",
    "plt.title('Violence against Robbery');"
   ]
  },
  {
   "cell_type": "markdown",
   "id": "3924fa78",
   "metadata": {},
   "source": [
    "Building a model based on raw crime figures by area provides a straightforward representation of the total number of crimes reported in each area. This approach can be useful for identifying areas with the highest number of reported crimes, without considering the population size. It can help in understanding the overall crime distribution across different areas.\n",
    "\n",
    "We can see that the clusters are quite distinct with lower crime areas clustered as the bottom left of the charts and these seem to be mostly shire or more rural counties. The Metropolitan Police area is an outlier of one point in the cluster up to the top right. The other two clusters are more towards cluster one as the left to middle bottom of the chart. This probably mostly reflects differences in the types of areas, being more urban, with higher populations which tend to experience higher crimes. \n",
    "\n",
    "Building a model based on crime per head (crime rate) can provide a more normalized view of crime statistics, taking into account the population size of each area. This can help in comparing areas with different population sizes and identifying areas with higher crime rates relative to their population. It can be useful for understanding the relative impact of crime on a per capita basis.\n",
    "\n",
    "We will rerun the model with crime per capita figures to see if we can see any changes"
   ]
  },
  {
   "cell_type": "code",
   "execution_count": null,
   "id": "20ccad93",
   "metadata": {},
   "outputs": [],
   "source": [
    "# Select the raw crime figures\n",
    "df_cluster2 = crime_per_thousand.iloc[:,0:-1]"
   ]
  },
  {
   "cell_type": "code",
   "execution_count": null,
   "id": "4dd90416",
   "metadata": {},
   "outputs": [],
   "source": [
    "# Scale the datapoints for use with clustering model\n",
    "object2 = StandardScaler()\n",
    "standard = object2.fit_transform(df_cluster2)\n",
    "standard"
   ]
  },
  {
   "cell_type": "code",
   "execution_count": null,
   "id": "65cca964",
   "metadata": {},
   "outputs": [],
   "source": [
    "# Plot the elbow chart with the change point\n",
    "\n",
    "plt.figure(figsize = (6,4))\n",
    "wcss = []\n",
    "for i in range(1,11):\n",
    "    kmeans = KMeans(n_clusters = i, init = 'k-means++', random_state = 42)\n",
    "    kmeans.fit(standard)\n",
    "    wcss.append(kmeans.inertia_)\n",
    "    \n",
    "y = wcss\n",
    "x = range(1, len(y)+1)\n",
    "kn = KneeLocator(x, y, curve='convex', direction='decreasing')\n",
    "print(kn.knee)\n",
    "\n",
    "plt.plot(range(1,11), wcss, 'bx-')\n",
    "plt.title('Elbow Method')\n",
    "plt.xlabel('Num clusters')\n",
    "plt.ylabel('WCSS')\n",
    "\n",
    "plt.vlines(kn.knee, plt.ylim()[0], plt.ylim()[1], linestyles='dashed');\n"
   ]
  },
  {
   "cell_type": "markdown",
   "id": "e4b1d169",
   "metadata": {},
   "source": [
    "Looks like the elbow is more at point 2 than 3"
   ]
  },
  {
   "cell_type": "code",
   "execution_count": null,
   "id": "f6c03865",
   "metadata": {},
   "outputs": [],
   "source": [
    "# Run kmeans with 2 clusters\n",
    "kmeans = KMeans(n_clusters = 2, init = 'k-means++', random_state = 42)\n",
    "mod2 = kmeans.fit_predict(standard)\n",
    "mod2 = mod2+1\n",
    "mod2"
   ]
  },
  {
   "cell_type": "code",
   "execution_count": null,
   "id": "43844600",
   "metadata": {},
   "outputs": [],
   "source": [
    "# Add the clusters to the dataframe\n",
    "cluster2 = list(mod2)\n",
    "df_cluster2['Cluster'] = cluster2"
   ]
  },
  {
   "cell_type": "code",
   "execution_count": null,
   "id": "177f400a",
   "metadata": {},
   "outputs": [],
   "source": [
    "# Get the means for each cluster\n",
    "mean_cluster2 = pd.DataFrame(round(df_cluster2.groupby('Cluster').mean()))\n",
    "mean_cluster2"
   ]
  },
  {
   "cell_type": "code",
   "execution_count": null,
   "id": "33e32315",
   "metadata": {},
   "outputs": [],
   "source": [
    "# Plot the means\n",
    "ax = mean_cluster2.plot(kind = 'bar', stacked = True)\n",
    "\n",
    "# Legend\n",
    "handles, labels = ax.get_legend_handles_labels()\n",
    "ax.legend(reversed(handles), reversed(labels),loc='upper right', bbox_to_anchor=(1.6, 1),\n",
    "          ncol=1, fancybox=True, shadow=True);"
   ]
  },
  {
   "cell_type": "code",
   "execution_count": null,
   "id": "9fb00320",
   "metadata": {},
   "outputs": [],
   "source": [
    "# Reset the index and rename, then group the areas by cluster\n",
    "\n",
    "df_cluster2.reset_index(inplace = True)\n",
    "df_cluster2.rename(columns = {'index':'Falls within'}, inplace = True)\n",
    "df_cluster2.head()\n",
    "\n",
    "df_cluster2.groupby('Cluster', as_index = False)['Falls within'].count()"
   ]
  },
  {
   "cell_type": "code",
   "execution_count": null,
   "id": "f5ad7a4f",
   "metadata": {},
   "outputs": [],
   "source": [
    "# What areas are in cluster 1\n",
    "df_cluster2[df_cluster2['Cluster']==1]"
   ]
  },
  {
   "cell_type": "markdown",
   "id": "6e315f16",
   "metadata": {},
   "source": [
    "This time instead of the Metropolitan Police in a distinct cluster by itself, we have the City of London and everything else is in the second cluster"
   ]
  },
  {
   "cell_type": "code",
   "execution_count": null,
   "id": "3efaeb0b",
   "metadata": {},
   "outputs": [],
   "source": [
    "# Plot an example chart of crimes to see the clusters\n",
    "sns.scatterplot(data = df_cluster2, x = 'Robbery', y = 'Shoplifting', hue = 'Cluster')\n",
    "plt.title('Shoplifting against Robbery');"
   ]
  },
  {
   "cell_type": "markdown",
   "id": "5c68cae6",
   "metadata": {},
   "source": [
    "#### Conclusions\n",
    "\n",
    "* After using the crime per capita figure to cluster the data and thereby controlling for the effect of population, we can see that one authority, the City of London has much higher crime figures than the others. \n",
    "* This is a simplistic analysis, as in fact we might choose to add in a whole range of other socio-economic factors that have been found to be linked to crime in research papers and try to cluster on these. This would allow us to group police areas together on common characteristics to try to see what factors have the most influence on crime. \n",
    "* We need to look at per capita crime to compare and that the City of London has by far and away the highest number of crimes per head of people living there. \n",
    "* Even so, we know that this area has a huge transient population of daily visitors for work etc and just using the population living there is perhaps misleading. Further work would need to be undertaken to uncover the true drivers of crime in this area."
   ]
  }
 ],
 "metadata": {
  "kernelspec": {
   "display_name": "Python 3",
   "language": "python",
   "name": "python3"
  },
  "language_info": {
   "codemirror_mode": {
    "name": "ipython",
    "version": 3
   },
   "file_extension": ".py",
   "mimetype": "text/x-python",
   "name": "python",
   "nbconvert_exporter": "python",
   "pygments_lexer": "ipython3",
   "version": "3.7.10"
  }
 },
 "nbformat": 4,
 "nbformat_minor": 5
}
