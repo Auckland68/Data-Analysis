{
 "cells": [
  {
   "cell_type": "markdown",
   "id": "792ded76",
   "metadata": {},
   "source": [
    "## Introduction"
   ]
  },
  {
   "cell_type": "markdown",
   "id": "b8e9d967",
   "metadata": {},
   "source": [
    "We reglarly hear in the news and social media that illegal migrants and asylum seekers to the UK are mainly men of fighting age and that most are arriving by small boats across the channel from France. \n",
    "\n",
    "This analysis investigates the UK official statistics on migration from the UK Government to identify whether these assertions are indeed true.\n",
    "\n",
    "#### Source Data\n",
    "\n",
    "[Irregular Migration Statistics Data](https://www.gov.uk/government/statistical-data-sets/irregular-migration-detailed-dataset-and-summary-tables)\n",
    "\n",
    "The data is from Quarter 1 from 2018 to Quarter 1 2024 which is the latest available at the time of the analysis.\n",
    "\n",
    "Notes\n",
    "1. Data on small boat arrivals relates to any individual who is either (a) detected on arrival to the UK, or (b) detected in the Channel by UK authorities and subsequently brought to the UK, having travelled across the English channel in a small boat.\n",
    "2. Data on inadequately documented air arrivals relates to recorded detections of individuals who intentionally attempt to arrive in the UK through air routes either without adequate documentation or using fraudulent documentation. This does not include passengers who have genuinely made a mistake, lost their documents, or have arrived inadequately documented for reasons outside of their control. It does not include those who were prevented from boarding at their port of embarkation.\n",
    "3. Data on recorded detections in the UK relates to recorded detections of individuals outside of the controlled environment of a port, who when encountered are believed by authorities to have evaded border controls to enter the UK irregularly, up to 72 hours before being detected. This includes detections at the ports serviced by the juxtaposed controls (Dover, Cheriton/Longport and St Pancras). \n",
    "4. Data on recorded detections at UK ports relates to recorded detections of individuals attempting to enter the UK irregularly at ports. This includes, for example, those detected at ports in lorries, and shipping containers. It does not include detections at ports that are serviced by the juxtaposed controls (Dover, Cheriton/Longport and St Pancras) or those prevented from leaving their port of embarkation en route to the UK, such as those detected at the juxtaposed controls in France and Belgium.\n"
   ]
  },
  {
   "cell_type": "markdown",
   "id": "2a9f19c6",
   "metadata": {},
   "source": [
    "## Import libraries and data"
   ]
  },
  {
   "cell_type": "code",
   "execution_count": 12,
   "id": "04758f16",
   "metadata": {},
   "outputs": [],
   "source": [
    "import pandas as pd\n",
    "import numpy as np\n",
    "import matplotlib.pyplot as plt\n",
    "import seaborn as sns\n",
    "import plotly\n",
    "import plotly.express as px\n",
    "import warnings\n",
    "\n",
    "warnings.filterwarnings(\"ignore\")"
   ]
  },
  {
   "cell_type": "code",
   "execution_count": 13,
   "id": "29d51bda",
   "metadata": {},
   "outputs": [],
   "source": [
    "df = pd.read_csv(r'C:\\Users\\imoge\\AllMLProjects\\Data\\UK_irregular_migration_updated.csv',skiprows = 1)"
   ]
  },
  {
   "cell_type": "code",
   "execution_count": 14,
   "id": "210ac7dc",
   "metadata": {},
   "outputs": [
    {
     "data": {
      "text/plain": [
       "(13406, 10)"
      ]
     },
     "execution_count": 14,
     "metadata": {},
     "output_type": "execute_result"
    }
   ],
   "source": [
    "df.shape"
   ]
  },
  {
   "cell_type": "code",
   "execution_count": 15,
   "id": "69f5cd0e",
   "metadata": {},
   "outputs": [
    {
     "data": {
      "text/html": [
       "<div>\n",
       "<style scoped>\n",
       "    .dataframe tbody tr th:only-of-type {\n",
       "        vertical-align: middle;\n",
       "    }\n",
       "\n",
       "    .dataframe tbody tr th {\n",
       "        vertical-align: top;\n",
       "    }\n",
       "\n",
       "    .dataframe thead th {\n",
       "        text-align: right;\n",
       "    }\n",
       "</style>\n",
       "<table border=\"1\" class=\"dataframe\">\n",
       "  <thead>\n",
       "    <tr style=\"text-align: right;\">\n",
       "      <th></th>\n",
       "      <th>Year</th>\n",
       "      <th>Quarter</th>\n",
       "      <th>Method of entry</th>\n",
       "      <th>Nationality</th>\n",
       "      <th>Region</th>\n",
       "      <th>Sex</th>\n",
       "      <th>Age Group</th>\n",
       "      <th>Number of detections</th>\n",
       "      <th>Unnamed: 8</th>\n",
       "      <th>Unnamed: 9</th>\n",
       "    </tr>\n",
       "  </thead>\n",
       "  <tbody>\n",
       "    <tr>\n",
       "      <th>0</th>\n",
       "      <td>2018</td>\n",
       "      <td>2018 Q1</td>\n",
       "      <td>Inadequately documented air arrivals</td>\n",
       "      <td>Afghanistan</td>\n",
       "      <td>Asia Central</td>\n",
       "      <td>Female</td>\n",
       "      <td>17 and under</td>\n",
       "      <td>14</td>\n",
       "      <td>NaN</td>\n",
       "      <td>NaN</td>\n",
       "    </tr>\n",
       "    <tr>\n",
       "      <th>1</th>\n",
       "      <td>2018</td>\n",
       "      <td>2018 Q1</td>\n",
       "      <td>Inadequately documented air arrivals</td>\n",
       "      <td>Afghanistan</td>\n",
       "      <td>Asia Central</td>\n",
       "      <td>Female</td>\n",
       "      <td>18 to 24</td>\n",
       "      <td>4</td>\n",
       "      <td>NaN</td>\n",
       "      <td>NaN</td>\n",
       "    </tr>\n",
       "    <tr>\n",
       "      <th>2</th>\n",
       "      <td>2018</td>\n",
       "      <td>2018 Q1</td>\n",
       "      <td>Inadequately documented air arrivals</td>\n",
       "      <td>Afghanistan</td>\n",
       "      <td>Asia Central</td>\n",
       "      <td>Female</td>\n",
       "      <td>25 to 39</td>\n",
       "      <td>14</td>\n",
       "      <td>NaN</td>\n",
       "      <td>NaN</td>\n",
       "    </tr>\n",
       "    <tr>\n",
       "      <th>3</th>\n",
       "      <td>2018</td>\n",
       "      <td>2018 Q1</td>\n",
       "      <td>Inadequately documented air arrivals</td>\n",
       "      <td>Afghanistan</td>\n",
       "      <td>Asia Central</td>\n",
       "      <td>Female</td>\n",
       "      <td>40 and over</td>\n",
       "      <td>22</td>\n",
       "      <td>NaN</td>\n",
       "      <td>NaN</td>\n",
       "    </tr>\n",
       "    <tr>\n",
       "      <th>4</th>\n",
       "      <td>2018</td>\n",
       "      <td>2018 Q1</td>\n",
       "      <td>Inadequately documented air arrivals</td>\n",
       "      <td>Afghanistan</td>\n",
       "      <td>Asia Central</td>\n",
       "      <td>Male</td>\n",
       "      <td>17 and under</td>\n",
       "      <td>21</td>\n",
       "      <td>NaN</td>\n",
       "      <td>NaN</td>\n",
       "    </tr>\n",
       "  </tbody>\n",
       "</table>\n",
       "</div>"
      ],
      "text/plain": [
       "   Year  Quarter                       Method of entry  Nationality  \\\n",
       "0  2018  2018 Q1  Inadequately documented air arrivals  Afghanistan   \n",
       "1  2018  2018 Q1  Inadequately documented air arrivals  Afghanistan   \n",
       "2  2018  2018 Q1  Inadequately documented air arrivals  Afghanistan   \n",
       "3  2018  2018 Q1  Inadequately documented air arrivals  Afghanistan   \n",
       "4  2018  2018 Q1  Inadequately documented air arrivals  Afghanistan   \n",
       "\n",
       "         Region     Sex     Age Group Number of detections  Unnamed: 8  \\\n",
       "0  Asia Central  Female  17 and under                   14         NaN   \n",
       "1  Asia Central  Female      18 to 24                    4         NaN   \n",
       "2  Asia Central  Female      25 to 39                   14         NaN   \n",
       "3  Asia Central  Female   40 and over                   22         NaN   \n",
       "4  Asia Central    Male  17 and under                   21         NaN   \n",
       "\n",
       "   Unnamed: 9  \n",
       "0         NaN  \n",
       "1         NaN  \n",
       "2         NaN  \n",
       "3         NaN  \n",
       "4         NaN  "
      ]
     },
     "execution_count": 15,
     "metadata": {},
     "output_type": "execute_result"
    }
   ],
   "source": [
    "df.head()"
   ]
  },
  {
   "cell_type": "code",
   "execution_count": 16,
   "id": "0e39ad73",
   "metadata": {},
   "outputs": [
    {
     "data": {
      "text/html": [
       "<div>\n",
       "<style scoped>\n",
       "    .dataframe tbody tr th:only-of-type {\n",
       "        vertical-align: middle;\n",
       "    }\n",
       "\n",
       "    .dataframe tbody tr th {\n",
       "        vertical-align: top;\n",
       "    }\n",
       "\n",
       "    .dataframe thead th {\n",
       "        text-align: right;\n",
       "    }\n",
       "</style>\n",
       "<table border=\"1\" class=\"dataframe\">\n",
       "  <thead>\n",
       "    <tr style=\"text-align: right;\">\n",
       "      <th></th>\n",
       "      <th>Year</th>\n",
       "      <th>Quarter</th>\n",
       "      <th>Method of entry</th>\n",
       "      <th>Nationality</th>\n",
       "      <th>Region</th>\n",
       "      <th>Sex</th>\n",
       "      <th>Age Group</th>\n",
       "      <th>Number of detections</th>\n",
       "      <th>Unnamed: 8</th>\n",
       "      <th>Unnamed: 9</th>\n",
       "    </tr>\n",
       "  </thead>\n",
       "  <tbody>\n",
       "    <tr>\n",
       "      <th>13401</th>\n",
       "      <td>2025</td>\n",
       "      <td>2025 Q1</td>\n",
       "      <td>Small boat arrivals</td>\n",
       "      <td>Yemen</td>\n",
       "      <td>Middle East</td>\n",
       "      <td>Female</td>\n",
       "      <td>40 and over</td>\n",
       "      <td>3</td>\n",
       "      <td>NaN</td>\n",
       "      <td>NaN</td>\n",
       "    </tr>\n",
       "    <tr>\n",
       "      <th>13402</th>\n",
       "      <td>2025</td>\n",
       "      <td>2025 Q1</td>\n",
       "      <td>Small boat arrivals</td>\n",
       "      <td>Yemen</td>\n",
       "      <td>Middle East</td>\n",
       "      <td>Male</td>\n",
       "      <td>17 and under</td>\n",
       "      <td>3</td>\n",
       "      <td>NaN</td>\n",
       "      <td>NaN</td>\n",
       "    </tr>\n",
       "    <tr>\n",
       "      <th>13403</th>\n",
       "      <td>2025</td>\n",
       "      <td>2025 Q1</td>\n",
       "      <td>Small boat arrivals</td>\n",
       "      <td>Yemen</td>\n",
       "      <td>Middle East</td>\n",
       "      <td>Male</td>\n",
       "      <td>18 to 24</td>\n",
       "      <td>59</td>\n",
       "      <td>NaN</td>\n",
       "      <td>NaN</td>\n",
       "    </tr>\n",
       "    <tr>\n",
       "      <th>13404</th>\n",
       "      <td>2025</td>\n",
       "      <td>2025 Q1</td>\n",
       "      <td>Small boat arrivals</td>\n",
       "      <td>Yemen</td>\n",
       "      <td>Middle East</td>\n",
       "      <td>Male</td>\n",
       "      <td>25 to 39</td>\n",
       "      <td>173</td>\n",
       "      <td>NaN</td>\n",
       "      <td>NaN</td>\n",
       "    </tr>\n",
       "    <tr>\n",
       "      <th>13405</th>\n",
       "      <td>2025</td>\n",
       "      <td>2025 Q1</td>\n",
       "      <td>Small boat arrivals</td>\n",
       "      <td>Yemen</td>\n",
       "      <td>Middle East</td>\n",
       "      <td>Male</td>\n",
       "      <td>40 and over</td>\n",
       "      <td>28</td>\n",
       "      <td>NaN</td>\n",
       "      <td>NaN</td>\n",
       "    </tr>\n",
       "  </tbody>\n",
       "</table>\n",
       "</div>"
      ],
      "text/plain": [
       "       Year  Quarter      Method of entry Nationality       Region     Sex  \\\n",
       "13401  2025  2025 Q1  Small boat arrivals       Yemen  Middle East  Female   \n",
       "13402  2025  2025 Q1  Small boat arrivals       Yemen  Middle East    Male   \n",
       "13403  2025  2025 Q1  Small boat arrivals       Yemen  Middle East    Male   \n",
       "13404  2025  2025 Q1  Small boat arrivals       Yemen  Middle East    Male   \n",
       "13405  2025  2025 Q1  Small boat arrivals       Yemen  Middle East    Male   \n",
       "\n",
       "          Age Group Number of detections  Unnamed: 8  Unnamed: 9  \n",
       "13401   40 and over                    3         NaN         NaN  \n",
       "13402  17 and under                    3         NaN         NaN  \n",
       "13403      18 to 24                   59         NaN         NaN  \n",
       "13404      25 to 39                  173         NaN         NaN  \n",
       "13405   40 and over                   28         NaN         NaN  "
      ]
     },
     "execution_count": 16,
     "metadata": {},
     "output_type": "execute_result"
    }
   ],
   "source": [
    "df.tail()"
   ]
  },
  {
   "cell_type": "code",
   "execution_count": 17,
   "id": "4d24bc80",
   "metadata": {},
   "outputs": [],
   "source": [
    "# Drop empty columns\n",
    "df.drop(columns = ['Unnamed: 8','Unnamed: 9'],axis = 1, inplace = True)"
   ]
  },
  {
   "cell_type": "code",
   "execution_count": 18,
   "id": "1d713a96",
   "metadata": {},
   "outputs": [
    {
     "name": "stdout",
     "output_type": "stream",
     "text": [
      "<class 'pandas.core.frame.DataFrame'>\n",
      "RangeIndex: 13406 entries, 0 to 13405\n",
      "Data columns (total 8 columns):\n",
      " #   Column                Non-Null Count  Dtype \n",
      "---  ------                --------------  ----- \n",
      " 0   Year                  13406 non-null  int64 \n",
      " 1   Quarter               13406 non-null  object\n",
      " 2   Method of entry       13406 non-null  object\n",
      " 3   Nationality           13406 non-null  object\n",
      " 4   Region                13406 non-null  object\n",
      " 5   Sex                   13406 non-null  object\n",
      " 6   Age Group             13406 non-null  object\n",
      " 7   Number of detections  13406 non-null  object\n",
      "dtypes: int64(1), object(7)\n",
      "memory usage: 838.0+ KB\n"
     ]
    }
   ],
   "source": [
    "# Check datatypes\n",
    "df.info()"
   ]
  },
  {
   "cell_type": "markdown",
   "id": "ab5de748",
   "metadata": {},
   "source": [
    "There are some features that we need to convert to different datatypes for analysis"
   ]
  },
  {
   "cell_type": "code",
   "execution_count": 19,
   "id": "18afc6a5",
   "metadata": {},
   "outputs": [
    {
     "data": {
      "text/plain": [
       "Year                    0\n",
       "Quarter                 0\n",
       "Method of entry         0\n",
       "Nationality             0\n",
       "Region                  0\n",
       "Sex                     0\n",
       "Age Group               0\n",
       "Number of detections    0\n",
       "dtype: int64"
      ]
     },
     "execution_count": 19,
     "metadata": {},
     "output_type": "execute_result"
    }
   ],
   "source": [
    "# Confirm nulls\n",
    "df.isnull().sum()"
   ]
  },
  {
   "cell_type": "markdown",
   "id": "a12b9f85",
   "metadata": {},
   "source": [
    "There are no null values"
   ]
  },
  {
   "cell_type": "code",
   "execution_count": 20,
   "id": "28f1df2f",
   "metadata": {},
   "outputs": [
    {
     "name": "stdout",
     "output_type": "stream",
     "text": [
      "[2018 2019 2020 2021 2022 2023 2024 2025]\n"
     ]
    }
   ],
   "source": [
    "print(df['Year'].unique())"
   ]
  },
  {
   "cell_type": "markdown",
   "id": "56320fb3",
   "metadata": {},
   "source": [
    "We have data from 2018 to 2025"
   ]
  },
  {
   "cell_type": "code",
   "execution_count": 21,
   "id": "3850d965",
   "metadata": {},
   "outputs": [
    {
     "name": "stdout",
     "output_type": "stream",
     "text": [
      "['2018 Q1' '2018 Q2' '2018 Q3' '2018 Q4' '2019 Q1' '2019 Q2' '2019 Q3'\n",
      " '2019 Q4' '2020 Q1' '2020 Q2' '2020 Q3' '2020 Q4' '2021 Q1' '2021 Q2'\n",
      " '2021 Q3' '2021 Q4' '2022 Q1' '2022 Q2' '2022 Q3' '2022 Q4' '2023 Q1'\n",
      " '2023 Q2' '2023 Q3' '2023 Q4' '2024 Q1' '2024 Q2' '2024 Q3' '2024 Q4'\n",
      " '2025 Q1']\n"
     ]
    }
   ],
   "source": [
    "print(df['Quarter'].unique())"
   ]
  },
  {
   "cell_type": "markdown",
   "id": "8db2a368",
   "metadata": {},
   "source": [
    "The data is from first quarter of 2018 to first quarter of 2025. We will discount the first quarter of 2025 so that we have seven full years of data. "
   ]
  },
  {
   "cell_type": "code",
   "execution_count": 22,
   "id": "afe3fdb3",
   "metadata": {},
   "outputs": [],
   "source": [
    "df = df[df['Year']!=2025]"
   ]
  },
  {
   "cell_type": "code",
   "execution_count": 23,
   "id": "0c2ace18",
   "metadata": {},
   "outputs": [
    {
     "name": "stdout",
     "output_type": "stream",
     "text": [
      "['Inadequately documented air arrivals' 'Recorded detections at UK ports'\n",
      " 'Recorded detections in the UK' 'Small boat arrivals']\n"
     ]
    }
   ],
   "source": [
    "print(df['Method of entry'].unique())"
   ]
  },
  {
   "cell_type": "markdown",
   "id": "b4232d55",
   "metadata": {},
   "source": [
    "There are four categories of irregular arrivals"
   ]
  },
  {
   "cell_type": "code",
   "execution_count": 24,
   "id": "a1e58cb9",
   "metadata": {},
   "outputs": [
    {
     "name": "stdout",
     "output_type": "stream",
     "text": [
      "['Afghanistan' 'Albania' 'Algeria' 'Angola' 'Brazil'\n",
      " 'British overseas citizens' 'Burundi' 'Cameroon' 'Canada' 'Chad' 'Chile'\n",
      " 'China' 'Colombia' 'Congo' 'Congo (Democratic Republic)'\n",
      " 'Dominican Republic' 'Egypt' 'Eritrea' 'Ethiopia' 'Gambia, The' 'Georgia'\n",
      " 'Ghana' 'Greece' 'Guinea-Bissau' 'India' 'Iran' 'Iraq' 'Italy' 'Kuwait'\n",
      " 'Latvia' 'Lebanon' 'Moldova' 'Nepal' 'Netherlands' 'Nigeria'\n",
      " 'North Macedonia' 'Occupied Palestinian Territories' 'Other and unknown'\n",
      " 'Pakistan' 'Poland' 'Russia' 'Sierra Leone' 'Slovenia' 'Somalia'\n",
      " 'South Africa' 'South Korea' 'Sri Lanka' 'Stateless' 'Sudan' 'Syria'\n",
      " 'Taiwan' 'Tanzania' 'Turkey' 'Ukraine' 'United States' 'Vietnam' 'Yemen'\n",
      " 'Libya' 'Morocco' 'Guinea' 'Ivory Coast' 'Kyrgyzstan' 'Liberia'\n",
      " 'South Sudan' 'Spain' 'Uganda' 'Argentina' 'Bangladesh'\n",
      " 'Bosnia and Herzegovina' 'Denmark' 'France' 'Israel' 'Jamaica' 'Kenya'\n",
      " 'Kosovo' 'Lithuania' 'Mali' 'Mexico' 'Portugal' 'Refugee' 'Romania'\n",
      " 'Senegal' 'Thailand' 'Trinidad and Tobago' 'Tunisia' 'Zambia' 'Zimbabwe'\n",
      " 'Western Sahara' 'Comoros' 'Hong Kong' 'Jordan' 'Qatar' 'Saudi Arabia'\n",
      " 'Serbia' 'Niger' 'Germany' 'Kazakhstan' 'Azerbaijan' 'Belgium'\n",
      " 'Central African Republic' 'Costa Rica' 'Cyprus (Northern part of)'\n",
      " 'Mauritania' 'Mauritius' 'Nicaragua' 'Peru' 'Sweden' 'Croatia' 'Hungary'\n",
      " 'Rwanda' 'Singapore' 'Suriname' 'Burkina Faso' 'Equatorial Guinea'\n",
      " 'Grenada' 'Philippines' 'United Arab Emirates' 'Bhutan' 'Malawi'\n",
      " 'Ecuador' 'Djibouti' 'Virgin Islands (British)' 'Tajikistan' 'Belarus'\n",
      " 'Benin' 'Japan' 'Uzbekistan' 'Pitcairn Islands (British)' 'Guatemala'\n",
      " 'Namibia' 'Togo' 'Venezuela' 'Bulgaria' 'Norway' 'Australia' 'St Lucia'\n",
      " 'Czechia' 'Cambodia' 'Malaysia' 'Myanmar (Burma)' 'Armenia' 'Slovakia'\n",
      " 'Not currently recorded' 'St Vincent and the Grenadines' 'Dominica'\n",
      " 'Greenland' 'Haiti' 'Mozambique' 'Andorra' 'Oman' 'Reunion (French)'\n",
      " 'Botswana' 'Fiji' 'Honduras' 'Bahrain' 'Cuba' 'Marshall Islands'\n",
      " 'Ireland' 'Turkmenistan' 'East Timor' 'Finland' 'Laos' 'Bolivia'\n",
      " 'Iceland' 'Guyana' 'Indonesia' 'Montenegro' 'Bahamas, The' 'Eswatini'\n",
      " 'Malta' 'Mongolia' 'French Guiana (French)' 'Papua New Guinea' 'Cyprus'\n",
      " 'Austria' 'Barbados' 'Paraguay' 'El Salvador' 'Saint Barthelemy (French)']\n"
     ]
    }
   ],
   "source": [
    "print(df['Nationality'].unique())"
   ]
  },
  {
   "cell_type": "code",
   "execution_count": 25,
   "id": "4a2e7e4e",
   "metadata": {},
   "outputs": [
    {
     "name": "stdout",
     "output_type": "stream",
     "text": [
      "['Asia Central' 'Europe Other' 'Africa North' 'Africa Sub-Saharan'\n",
      " 'America Central and South' 'Other' 'America North' 'Asia East' 'EU 14'\n",
      " 'Asia South' 'Middle East' 'EU 8' 'Asia South East' 'EU 2' 'EU Other'\n",
      " 'Oceania' 'Not currently recorded']\n"
     ]
    }
   ],
   "source": [
    "print(df['Region'].unique())"
   ]
  },
  {
   "cell_type": "markdown",
   "id": "6e12d824",
   "metadata": {},
   "source": [
    "People are from many countries and regions around the world"
   ]
  },
  {
   "cell_type": "code",
   "execution_count": 26,
   "id": "41918ffb",
   "metadata": {},
   "outputs": [
    {
     "name": "stdout",
     "output_type": "stream",
     "text": [
      "['Female' 'Male' 'Unknown' 'Not currently recorded']\n"
     ]
    }
   ],
   "source": [
    "print(df['Sex'].unique())"
   ]
  },
  {
   "cell_type": "code",
   "execution_count": 27,
   "id": "7bdea66e",
   "metadata": {},
   "outputs": [
    {
     "name": "stdout",
     "output_type": "stream",
     "text": [
      "['17 and under' '18 to 24' '25 to 39' '40 and over' 'Unknown'\n",
      " 'Not currently recorded']\n"
     ]
    }
   ],
   "source": [
    "print(df['Age Group'].unique())"
   ]
  },
  {
   "cell_type": "code",
   "execution_count": 28,
   "id": "99598894",
   "metadata": {},
   "outputs": [
    {
     "data": {
      "text/plain": [
       "0         14\n",
       "1          4\n",
       "2         14\n",
       "3         22\n",
       "4         21\n",
       "        ... \n",
       "12857      5\n",
       "12858     32\n",
       "12859    278\n",
       "12860    473\n",
       "12861     74\n",
       "Name: Number of detections, Length: 12862, dtype: object"
      ]
     },
     "execution_count": 28,
     "metadata": {},
     "output_type": "execute_result"
    }
   ],
   "source": [
    "df['Number of detections']"
   ]
  },
  {
   "cell_type": "code",
   "execution_count": 29,
   "id": "8d3c9fcb",
   "metadata": {},
   "outputs": [
    {
     "data": {
      "text/plain": [
       "array(['14', '4', '22', '21', '8', '20', '18', '3', '12', '5', '25', '37',\n",
       "       '7', '1', '2', '11', '6', '28', '15', '9', '71', '85', '31', '16',\n",
       "       '10', '47', '24', '17', '19', '30', '13', '50', '55', '38', '23',\n",
       "       '57', '91', '112', '162', '60', '59', '96', '27', '35', '58', '29',\n",
       "       '99', '51', '34', '105', '98', '123', '33', '87', '69', '78',\n",
       "       '122', '79', '36', '42', '43', '119', '41', '32', '165', '125',\n",
       "       '116', '107', '54', '92', '120', '146', '188', '113', '75', '110',\n",
       "       '46', '210', '74', '82', '102', '88', '127', '171', '45', '142',\n",
       "       '267', '249', '72', '157', '26', '97', '137', '182', '128', '214',\n",
       "       '233', '64', '66', '40', '63', '70', '73', '106', '160', '205',\n",
       "       '126', '115', '173', '68', '61', '117', '83', '129', '143', '130',\n",
       "       '84', '39', '304', '44', '48', '161', '238', '224', '53', '202',\n",
       "       '198', '80', '52', '89', '49', '136', '100', '144', '338', '62',\n",
       "       '104', '153', '81', '560', '134', '264', '56', '138', '231', '362',\n",
       "       '108', '151', '86', '65', '174', '77', '167', '168', '281', '67',\n",
       "       '178', '95', '164', '278', '118', '226', '402', '163', '145',\n",
       "       '154', '180', '141', '251', '308', '93', '200', '159', '419',\n",
       "       '852', '475', '1,061', '1,182', '256', '548', '628', '76', '204',\n",
       "       '172', '302', '306', '177', '90', '179', '221', '243', '492',\n",
       "       '1,580', '1,493', '187', '149', '193', '363', '1,299', '1,158',\n",
       "       '430', '375', '329', '356', '364', '121', '309', '227', '103',\n",
       "       '284', '313', '396', '892', '894', '150', '109', '170', '213',\n",
       "       '183', '431', '152', '207', '303', '139', '158', '562', '1,206',\n",
       "       '781', '397', '257', '459', '1,025', '3,082', '2,999', '626',\n",
       "       '195', '94', '276', '474', '720', '175', '244', '320', '332',\n",
       "       '245', '450', '374', '232', '169', '114', '833', '1,981', '1,143',\n",
       "       '370', '434', '135', '191', '255', '340', '441', '779', '312',\n",
       "       '394', '101', '335', '272', '323', '229', '268', '310', '212',\n",
       "       '285', '379', '176', '166', '131', '181', '378', '147', '247',\n",
       "       '524', '1,165', '780', '201', '197', '405', '519', '421', '435',\n",
       "       '240', '330', '282', '186', '481', '460', '156', '194', '328',\n",
       "       '341', '321', '208', '499', '349', '185', '222', '429', '345',\n",
       "       '388', '155', '287', '307', '343', '184', '266', '933', '760',\n",
       "       '336', '479', '710', '291', '598', '504', '133', '199', '827',\n",
       "       '665', '520', '578', '326', '440', '275', '674', '708', '111',\n",
       "       '473'], dtype=object)"
      ]
     },
     "execution_count": 29,
     "metadata": {},
     "output_type": "execute_result"
    }
   ],
   "source": [
    "df['Number of detections'].unique()"
   ]
  },
  {
   "cell_type": "markdown",
   "id": "1c98bf50",
   "metadata": {},
   "source": [
    "We have some values with commas for thousands that we need to strip out"
   ]
  },
  {
   "cell_type": "code",
   "execution_count": 30,
   "id": "e69bd18d",
   "metadata": {},
   "outputs": [],
   "source": [
    "# Strip out commas and set to integer\n",
    "df['Number of detections'] = (df['Number of detections'].str.replace(',', '', regex=True).astype(int))"
   ]
  },
  {
   "cell_type": "markdown",
   "id": "00f3f18d",
   "metadata": {},
   "source": [
    "## Arrivals by Year"
   ]
  },
  {
   "cell_type": "code",
   "execution_count": 31,
   "id": "673a2b19",
   "metadata": {},
   "outputs": [],
   "source": [
    "# Get arrivals by year and look at unique values\n",
    "arr_year = df[['Year','Quarter','Number of detections']]"
   ]
  },
  {
   "cell_type": "code",
   "execution_count": 32,
   "id": "788f19e3",
   "metadata": {},
   "outputs": [
    {
     "name": "stdout",
     "output_type": "stream",
     "text": [
      "<class 'pandas.core.frame.DataFrame'>\n",
      "Int64Index: 12862 entries, 0 to 12861\n",
      "Data columns (total 3 columns):\n",
      " #   Column   Non-Null Count  Dtype \n",
      "---  ------   --------------  ----- \n",
      " 0   Year     12862 non-null  int64 \n",
      " 1   Quarter  12862 non-null  object\n",
      " 2   Number   12862 non-null  int32 \n",
      "dtypes: int32(1), int64(1), object(1)\n",
      "memory usage: 351.7+ KB\n"
     ]
    }
   ],
   "source": [
    "# Check the info\n",
    "arr_year.columns = ['Year','Quarter','Number']\n",
    "arr_year.info()"
   ]
  },
  {
   "cell_type": "code",
   "execution_count": 33,
   "id": "ae42590b",
   "metadata": {},
   "outputs": [],
   "source": [
    "# Get arrivals by year\n",
    "sum_arrivals = arr_year.groupby(['Year'],as_index = False).sum()"
   ]
  },
  {
   "cell_type": "code",
   "execution_count": 34,
   "id": "d164480b",
   "metadata": {},
   "outputs": [
    {
     "data": {
      "text/html": [
       "<div>\n",
       "<style scoped>\n",
       "    .dataframe tbody tr th:only-of-type {\n",
       "        vertical-align: middle;\n",
       "    }\n",
       "\n",
       "    .dataframe tbody tr th {\n",
       "        vertical-align: top;\n",
       "    }\n",
       "\n",
       "    .dataframe thead th {\n",
       "        text-align: right;\n",
       "    }\n",
       "</style>\n",
       "<table border=\"1\" class=\"dataframe\">\n",
       "  <thead>\n",
       "    <tr style=\"text-align: right;\">\n",
       "      <th></th>\n",
       "      <th>Year</th>\n",
       "      <th>Number</th>\n",
       "    </tr>\n",
       "  </thead>\n",
       "  <tbody>\n",
       "    <tr>\n",
       "      <th>0</th>\n",
       "      <td>2018</td>\n",
       "      <td>13377</td>\n",
       "    </tr>\n",
       "    <tr>\n",
       "      <th>1</th>\n",
       "      <td>2019</td>\n",
       "      <td>16281</td>\n",
       "    </tr>\n",
       "    <tr>\n",
       "      <th>2</th>\n",
       "      <td>2020</td>\n",
       "      <td>17100</td>\n",
       "    </tr>\n",
       "    <tr>\n",
       "      <th>3</th>\n",
       "      <td>2021</td>\n",
       "      <td>36813</td>\n",
       "    </tr>\n",
       "    <tr>\n",
       "      <th>4</th>\n",
       "      <td>2022</td>\n",
       "      <td>54702</td>\n",
       "    </tr>\n",
       "    <tr>\n",
       "      <th>5</th>\n",
       "      <td>2023</td>\n",
       "      <td>36699</td>\n",
       "    </tr>\n",
       "    <tr>\n",
       "      <th>6</th>\n",
       "      <td>2024</td>\n",
       "      <td>43630</td>\n",
       "    </tr>\n",
       "  </tbody>\n",
       "</table>\n",
       "</div>"
      ],
      "text/plain": [
       "   Year  Number\n",
       "0  2018   13377\n",
       "1  2019   16281\n",
       "2  2020   17100\n",
       "3  2021   36813\n",
       "4  2022   54702\n",
       "5  2023   36699\n",
       "6  2024   43630"
      ]
     },
     "execution_count": 34,
     "metadata": {},
     "output_type": "execute_result"
    }
   ],
   "source": [
    "# Arrivals by year\n",
    "sum_arrivals"
   ]
  },
  {
   "cell_type": "code",
   "execution_count": 35,
   "id": "f0521279",
   "metadata": {},
   "outputs": [
    {
     "data": {
      "text/plain": [
       "218602"
      ]
     },
     "execution_count": 35,
     "metadata": {},
     "output_type": "execute_result"
    }
   ],
   "source": [
    "# Total number of arrivals\n",
    "sum_arrivals['Number'].sum()"
   ]
  },
  {
   "cell_type": "code",
   "execution_count": 36,
   "id": "be7f5991",
   "metadata": {},
   "outputs": [
    {
     "data": {
      "text/plain": [
       "31228.85714285714"
      ]
     },
     "execution_count": 36,
     "metadata": {},
     "output_type": "execute_result"
    }
   ],
   "source": [
    "# Average arrivals\n",
    "sum_arrivals['Number'].mean()"
   ]
  },
  {
   "cell_type": "code",
   "execution_count": 37,
   "id": "596aeabc",
   "metadata": {},
   "outputs": [
    {
     "name": "stdout",
     "output_type": "stream",
     "text": [
      "<class 'pandas.core.frame.DataFrame'>\n",
      "Int64Index: 12862 entries, 0 to 12861\n",
      "Data columns (total 8 columns):\n",
      " #   Column                Non-Null Count  Dtype \n",
      "---  ------                --------------  ----- \n",
      " 0   Year                  12862 non-null  int64 \n",
      " 1   Quarter               12862 non-null  object\n",
      " 2   Method of entry       12862 non-null  object\n",
      " 3   Nationality           12862 non-null  object\n",
      " 4   Region                12862 non-null  object\n",
      " 5   Sex                   12862 non-null  object\n",
      " 6   Age Group             12862 non-null  object\n",
      " 7   Number of detections  12862 non-null  int32 \n",
      "dtypes: int32(1), int64(1), object(6)\n",
      "memory usage: 854.1+ KB\n"
     ]
    }
   ],
   "source": [
    "df.info()"
   ]
  },
  {
   "cell_type": "code",
   "execution_count": 38,
   "id": "cde32c6b",
   "metadata": {},
   "outputs": [
    {
     "data": {
      "image/png": "[encoded data removed]",
      "text/plain": [
       "<Figure size 432x288 with 1 Axes>"
      ]
     },
     "metadata": {
      "needs_background": "light"
     },
     "output_type": "display_data"
    }
   ],
   "source": [
    "# Plot Arrivals by Year\n",
    "fig, ax = plt.subplots(figsize = (6,4))\n",
    "plt.bar(x = sum_arrivals.Year, height = sum_arrivals.Number,color = 'olive')\n",
    "plt.title(\"Number of Irregular Arrivals by Year\",fontsize = 12, pad = 20)\n",
    "plt.text(2019.5,20000,'Lockdown', fontsize = 8)\n",
    "plt.text(2024.9,31900,'Average')\n",
    "plt.ylabel('Number',labelpad = 10)\n",
    "plt.axhline(y=sum_arrivals['Number'].mean(), color='k', linestyle='--')\n",
    "plt.ylim(0,65000)\n",
    "ax.spines['top'].set_visible(False)\n",
    "ax.spines['right'].set_visible(False);"
   ]
  },
  {
   "cell_type": "markdown",
   "id": "8191520d",
   "metadata": {},
   "source": [
    "* The trend is generally upwards over the period\n",
    "* The jump up in 2021 and into 2022 follows a period of lockdown for Covid 19 in 2020\n",
    "* The numbers fall back in 2023 but still higher than prior to covid and above the mean value as the dotted line"
   ]
  },
  {
   "cell_type": "code",
   "execution_count": 39,
   "id": "eae30003",
   "metadata": {},
   "outputs": [
    {
     "data": {
      "image/png": "[encoded data removed]",
      "text/plain": [
       "<Figure size 1296x432 with 1 Axes>"
      ]
     },
     "metadata": {
      "needs_background": "light"
     },
     "output_type": "display_data"
    }
   ],
   "source": [
    "# Plot by quarter over the period\n",
    "quarterly = df.groupby('Quarter')['Number of detections'].sum()\n",
    "ax = quarterly.plot(figsize = (18,6), color = 'olive')\n",
    "\n",
    "# Set x-ticks and labels using the index\n",
    "ax.set_xticks(range(len(quarterly)))\n",
    "ax.set_xticklabels(quarterly.index, rotation=35)\n",
    "\n",
    "# Trend line\n",
    "x = np.arange(len(quarterly))  # numerical x-values\n",
    "y = quarterly.values           # detection counts\n",
    "\n",
    "# Fit a 1st degree polynomial (linear trend)\n",
    "z = np.polyfit(x, y, 1)\n",
    "p = np.poly1d(z)\n",
    "\n",
    "# Plot trend line\n",
    "ax.plot(x, p(x), color='black', linestyle='--', linewidth=1, label='Trend')\n",
    "\n",
    "# Add axis labels and title if desired\n",
    "ax.set_xlabel('')\n",
    "ax.set_ylabel('')\n",
    "ax.set_title('Small Boat Detections 2018 (Q1) to 2024 (Q4)',fontsize = 20, pad = 20)\n",
    "ax.spines['top'].set_visible(False)\n",
    "ax.spines['right'].set_visible(False)"
   ]
  },
  {
   "cell_type": "markdown",
   "id": "d7701b4f",
   "metadata": {},
   "source": [
    "## Arrivals by Method of Entry"
   ]
  },
  {
   "cell_type": "code",
   "execution_count": 40,
   "id": "3ed68002",
   "metadata": {},
   "outputs": [
    {
     "data": {
      "text/html": [
       "<div>\n",
       "<style scoped>\n",
       "    .dataframe tbody tr th:only-of-type {\n",
       "        vertical-align: middle;\n",
       "    }\n",
       "\n",
       "    .dataframe tbody tr th {\n",
       "        vertical-align: top;\n",
       "    }\n",
       "\n",
       "    .dataframe thead th {\n",
       "        text-align: right;\n",
       "    }\n",
       "</style>\n",
       "<table border=\"1\" class=\"dataframe\">\n",
       "  <thead>\n",
       "    <tr style=\"text-align: right;\">\n",
       "      <th></th>\n",
       "      <th>Method</th>\n",
       "      <th>Number</th>\n",
       "      <th>%</th>\n",
       "    </tr>\n",
       "  </thead>\n",
       "  <tbody>\n",
       "    <tr>\n",
       "      <th>0</th>\n",
       "      <td>Inadequately documented air arrivals</td>\n",
       "      <td>27229</td>\n",
       "      <td>12.455970</td>\n",
       "    </tr>\n",
       "    <tr>\n",
       "      <th>1</th>\n",
       "      <td>Recorded detections at UK ports</td>\n",
       "      <td>4483</td>\n",
       "      <td>2.050759</td>\n",
       "    </tr>\n",
       "    <tr>\n",
       "      <th>2</th>\n",
       "      <td>Recorded detections in the UK</td>\n",
       "      <td>35729</td>\n",
       "      <td>16.344315</td>\n",
       "    </tr>\n",
       "    <tr>\n",
       "      <th>3</th>\n",
       "      <td>Small boat arrivals</td>\n",
       "      <td>151161</td>\n",
       "      <td>69.148956</td>\n",
       "    </tr>\n",
       "  </tbody>\n",
       "</table>\n",
       "</div>"
      ],
      "text/plain": [
       "                                 Method  Number          %\n",
       "0  Inadequately documented air arrivals   27229  12.455970\n",
       "1       Recorded detections at UK ports    4483   2.050759\n",
       "2         Recorded detections in the UK   35729  16.344315\n",
       "3                   Small boat arrivals  151161  69.148956"
      ]
     },
     "execution_count": 40,
     "metadata": {},
     "output_type": "execute_result"
    }
   ],
   "source": [
    "# Get arrivals by method\n",
    "sum_method = df.groupby(['Method of entry'],as_index = False)['Number of detections'].sum()\n",
    "sum_method.columns = ['Method','Number']\n",
    "sum_method['%'] = (sum_method['Number']/sum_method['Number'].sum())*100\n",
    "sum_method"
   ]
  },
  {
   "cell_type": "code",
   "execution_count": 282,
   "id": "5cdfbf24",
   "metadata": {},
   "outputs": [
    {
     "data": {
      "text/plain": [
       "(0.0, 160000.0)"
      ]
     },
     "execution_count": 282,
     "metadata": {},
     "output_type": "execute_result"
    },
    {
     "data": {
      "image/png": "[encoded data removed]",
      "text/plain": [
       "<Figure size 720x288 with 1 Axes>"
      ]
     },
     "metadata": {
      "needs_background": "light"
     },
     "output_type": "display_data"
    }
   ],
   "source": [
    "# Plot Arrivals by Year\n",
    "fig, ax = plt.subplots(figsize = (10,4))\n",
    "bars = ax.barh(sum_method.Method, sum_method.Number,color = 'olive')\n",
    "plt.title(\"Number of Irregular Arrivals by Method (2018 - 2024)\",fontsize = 12)\n",
    "plt.ylabel('Number',labelpad = 10)\n",
    "ax.spines['top'].set_visible(False)\n",
    "ax.spines['right'].set_visible(False)\n",
    "plt.xlim(0,160000)\n",
    "#for bar in bars:\n",
    "   # width = bar.get_width()\n",
    "    #ax.text(width + 1000,                        \n",
    "           # bar.get_y() + bar.get_height() / 2,  \n",
    "           # f'{int(width):,}',                   \n",
    "           # va='center');"
   ]
  },
  {
   "cell_type": "markdown",
   "id": "896989f4",
   "metadata": {},
   "source": [
    "Most irregular arrivals are by small boats"
   ]
  },
  {
   "cell_type": "markdown",
   "id": "e2630290",
   "metadata": {},
   "source": [
    "## Arrivals by Method by Year"
   ]
  },
  {
   "cell_type": "code",
   "execution_count": 218,
   "id": "840921e0",
   "metadata": {},
   "outputs": [],
   "source": [
    "# Get arrivals by method and number of detections and convert to pivot table\n",
    "arr_meth_year = df.groupby(['Year','Method of entry'],as_index = False)['Number of detections'].sum()"
   ]
  },
  {
   "cell_type": "code",
   "execution_count": 220,
   "id": "eeda9eb9",
   "metadata": {},
   "outputs": [
    {
     "data": {
      "text/html": [
       "<div>\n",
       "<style scoped>\n",
       "    .dataframe tbody tr th:only-of-type {\n",
       "        vertical-align: middle;\n",
       "    }\n",
       "\n",
       "    .dataframe tbody tr th {\n",
       "        vertical-align: top;\n",
       "    }\n",
       "\n",
       "    .dataframe thead th {\n",
       "        text-align: right;\n",
       "    }\n",
       "</style>\n",
       "<table border=\"1\" class=\"dataframe\">\n",
       "  <thead>\n",
       "    <tr style=\"text-align: right;\">\n",
       "      <th></th>\n",
       "      <th>Year</th>\n",
       "      <th>Method of entry</th>\n",
       "      <th>Number of detections</th>\n",
       "    </tr>\n",
       "  </thead>\n",
       "  <tbody>\n",
       "    <tr>\n",
       "      <th>0</th>\n",
       "      <td>2018</td>\n",
       "      <td>Inadequately documented air arrivals</td>\n",
       "      <td>4769</td>\n",
       "    </tr>\n",
       "    <tr>\n",
       "      <th>1</th>\n",
       "      <td>2018</td>\n",
       "      <td>Recorded detections at UK ports</td>\n",
       "      <td>1052</td>\n",
       "    </tr>\n",
       "    <tr>\n",
       "      <th>2</th>\n",
       "      <td>2018</td>\n",
       "      <td>Recorded detections in the UK</td>\n",
       "      <td>7257</td>\n",
       "    </tr>\n",
       "    <tr>\n",
       "      <th>3</th>\n",
       "      <td>2018</td>\n",
       "      <td>Small boat arrivals</td>\n",
       "      <td>299</td>\n",
       "    </tr>\n",
       "    <tr>\n",
       "      <th>4</th>\n",
       "      <td>2019</td>\n",
       "      <td>Inadequately documented air arrivals</td>\n",
       "      <td>5237</td>\n",
       "    </tr>\n",
       "    <tr>\n",
       "      <th>5</th>\n",
       "      <td>2019</td>\n",
       "      <td>Recorded detections at UK ports</td>\n",
       "      <td>962</td>\n",
       "    </tr>\n",
       "    <tr>\n",
       "      <th>6</th>\n",
       "      <td>2019</td>\n",
       "      <td>Recorded detections in the UK</td>\n",
       "      <td>8239</td>\n",
       "    </tr>\n",
       "    <tr>\n",
       "      <th>7</th>\n",
       "      <td>2019</td>\n",
       "      <td>Small boat arrivals</td>\n",
       "      <td>1843</td>\n",
       "    </tr>\n",
       "    <tr>\n",
       "      <th>8</th>\n",
       "      <td>2020</td>\n",
       "      <td>Inadequately documented air arrivals</td>\n",
       "      <td>2328</td>\n",
       "    </tr>\n",
       "    <tr>\n",
       "      <th>9</th>\n",
       "      <td>2020</td>\n",
       "      <td>Recorded detections at UK ports</td>\n",
       "      <td>841</td>\n",
       "    </tr>\n",
       "    <tr>\n",
       "      <th>10</th>\n",
       "      <td>2020</td>\n",
       "      <td>Recorded detections in the UK</td>\n",
       "      <td>5465</td>\n",
       "    </tr>\n",
       "    <tr>\n",
       "      <th>11</th>\n",
       "      <td>2020</td>\n",
       "      <td>Small boat arrivals</td>\n",
       "      <td>8466</td>\n",
       "    </tr>\n",
       "    <tr>\n",
       "      <th>12</th>\n",
       "      <td>2021</td>\n",
       "      <td>Inadequately documented air arrivals</td>\n",
       "      <td>2561</td>\n",
       "    </tr>\n",
       "    <tr>\n",
       "      <th>13</th>\n",
       "      <td>2021</td>\n",
       "      <td>Recorded detections at UK ports</td>\n",
       "      <td>665</td>\n",
       "    </tr>\n",
       "    <tr>\n",
       "      <th>14</th>\n",
       "      <td>2021</td>\n",
       "      <td>Recorded detections in the UK</td>\n",
       "      <td>5061</td>\n",
       "    </tr>\n",
       "    <tr>\n",
       "      <th>15</th>\n",
       "      <td>2021</td>\n",
       "      <td>Small boat arrivals</td>\n",
       "      <td>28526</td>\n",
       "    </tr>\n",
       "    <tr>\n",
       "      <th>16</th>\n",
       "      <td>2022</td>\n",
       "      <td>Inadequately documented air arrivals</td>\n",
       "      <td>5130</td>\n",
       "    </tr>\n",
       "    <tr>\n",
       "      <th>17</th>\n",
       "      <td>2022</td>\n",
       "      <td>Recorded detections at UK ports</td>\n",
       "      <td>310</td>\n",
       "    </tr>\n",
       "    <tr>\n",
       "      <th>18</th>\n",
       "      <td>2022</td>\n",
       "      <td>Recorded detections in the UK</td>\n",
       "      <td>3488</td>\n",
       "    </tr>\n",
       "    <tr>\n",
       "      <th>19</th>\n",
       "      <td>2022</td>\n",
       "      <td>Small boat arrivals</td>\n",
       "      <td>45774</td>\n",
       "    </tr>\n",
       "    <tr>\n",
       "      <th>20</th>\n",
       "      <td>2023</td>\n",
       "      <td>Inadequately documented air arrivals</td>\n",
       "      <td>3854</td>\n",
       "    </tr>\n",
       "    <tr>\n",
       "      <th>21</th>\n",
       "      <td>2023</td>\n",
       "      <td>Recorded detections at UK ports</td>\n",
       "      <td>327</td>\n",
       "    </tr>\n",
       "    <tr>\n",
       "      <th>22</th>\n",
       "      <td>2023</td>\n",
       "      <td>Recorded detections in the UK</td>\n",
       "      <td>3081</td>\n",
       "    </tr>\n",
       "    <tr>\n",
       "      <th>23</th>\n",
       "      <td>2023</td>\n",
       "      <td>Small boat arrivals</td>\n",
       "      <td>29437</td>\n",
       "    </tr>\n",
       "    <tr>\n",
       "      <th>24</th>\n",
       "      <td>2024</td>\n",
       "      <td>Inadequately documented air arrivals</td>\n",
       "      <td>3350</td>\n",
       "    </tr>\n",
       "    <tr>\n",
       "      <th>25</th>\n",
       "      <td>2024</td>\n",
       "      <td>Recorded detections at UK ports</td>\n",
       "      <td>326</td>\n",
       "    </tr>\n",
       "    <tr>\n",
       "      <th>26</th>\n",
       "      <td>2024</td>\n",
       "      <td>Recorded detections in the UK</td>\n",
       "      <td>3138</td>\n",
       "    </tr>\n",
       "    <tr>\n",
       "      <th>27</th>\n",
       "      <td>2024</td>\n",
       "      <td>Small boat arrivals</td>\n",
       "      <td>36816</td>\n",
       "    </tr>\n",
       "  </tbody>\n",
       "</table>\n",
       "</div>"
      ],
      "text/plain": [
       "    Year                       Method of entry  Number of detections\n",
       "0   2018  Inadequately documented air arrivals                  4769\n",
       "1   2018       Recorded detections at UK ports                  1052\n",
       "2   2018         Recorded detections in the UK                  7257\n",
       "3   2018                   Small boat arrivals                   299\n",
       "4   2019  Inadequately documented air arrivals                  5237\n",
       "5   2019       Recorded detections at UK ports                   962\n",
       "6   2019         Recorded detections in the UK                  8239\n",
       "7   2019                   Small boat arrivals                  1843\n",
       "8   2020  Inadequately documented air arrivals                  2328\n",
       "9   2020       Recorded detections at UK ports                   841\n",
       "10  2020         Recorded detections in the UK                  5465\n",
       "11  2020                   Small boat arrivals                  8466\n",
       "12  2021  Inadequately documented air arrivals                  2561\n",
       "13  2021       Recorded detections at UK ports                   665\n",
       "14  2021         Recorded detections in the UK                  5061\n",
       "15  2021                   Small boat arrivals                 28526\n",
       "16  2022  Inadequately documented air arrivals                  5130\n",
       "17  2022       Recorded detections at UK ports                   310\n",
       "18  2022         Recorded detections in the UK                  3488\n",
       "19  2022                   Small boat arrivals                 45774\n",
       "20  2023  Inadequately documented air arrivals                  3854\n",
       "21  2023       Recorded detections at UK ports                   327\n",
       "22  2023         Recorded detections in the UK                  3081\n",
       "23  2023                   Small boat arrivals                 29437\n",
       "24  2024  Inadequately documented air arrivals                  3350\n",
       "25  2024       Recorded detections at UK ports                   326\n",
       "26  2024         Recorded detections in the UK                  3138\n",
       "27  2024                   Small boat arrivals                 36816"
      ]
     },
     "execution_count": 220,
     "metadata": {},
     "output_type": "execute_result"
    }
   ],
   "source": [
    "arr_meth_year"
   ]
  },
  {
   "cell_type": "code",
   "execution_count": 563,
   "id": "0ab2c159",
   "metadata": {},
   "outputs": [
    {
     "data": {
      "text/plain": [
       "''"
      ]
     },
     "execution_count": 563,
     "metadata": {},
     "output_type": "execute_result"
    },
    {
     "data": {
      "image/png": "[encoded data removed]",
      "text/plain": [
       "<Figure size 864x432 with 1 Axes>"
      ]
     },
     "metadata": {
      "needs_background": "light"
     },
     "output_type": "display_data"
    }
   ],
   "source": [
    "# Plot the arrivals by method and year\n",
    "fig, ax = plt.subplots(figsize = (12,6))\n",
    "g = sns.barplot(data = arr_meth_year ,\n",
    "                x='Year', \n",
    "                y='Number of detections', \n",
    "                hue='Method of entry',\n",
    "                palette = 'dark')\n",
    "plt.title(\"Number of Arrivals by Method of Entry and Year\", pad = 20)\n",
    "ax.spines['top'].set_visible(False)\n",
    "ax.spines['right'].set_visible(False)\n",
    "plt.ylabel(\"Number\")\n",
    "plt.xlabel(\"\")\n",
    ";"
   ]
  },
  {
   "cell_type": "markdown",
   "id": "9bf5ec21",
   "metadata": {},
   "source": [
    "We can see that detections at ports and in the UK have trended downwards, air arrivals have fluctuated over the period but the largest category of small boat arrivals is the largest element and peaked in 2022 "
   ]
  },
  {
   "cell_type": "markdown",
   "id": "b7b23038",
   "metadata": {},
   "source": [
    "## Analysis by Quarter"
   ]
  },
  {
   "cell_type": "code",
   "execution_count": 223,
   "id": "5d19a7e5",
   "metadata": {},
   "outputs": [
    {
     "data": {
      "text/plain": [
       "0    2018 Q1\n",
       "1    2018 Q1\n",
       "2    2018 Q1\n",
       "3    2018 Q1\n",
       "4    2018 Q1\n",
       "Name: Quarter, dtype: object"
      ]
     },
     "execution_count": 223,
     "metadata": {},
     "output_type": "execute_result"
    }
   ],
   "source": [
    "df['Quarter'].head()"
   ]
  },
  {
   "cell_type": "markdown",
   "id": "770bebf8",
   "metadata": {},
   "source": [
    "We would like to split off the quarter from the year and then just groupby quarter"
   ]
  },
  {
   "cell_type": "code",
   "execution_count": 224,
   "id": "892ec996",
   "metadata": {},
   "outputs": [
    {
     "data": {
      "text/html": [
       "<div>\n",
       "<style scoped>\n",
       "    .dataframe tbody tr th:only-of-type {\n",
       "        vertical-align: middle;\n",
       "    }\n",
       "\n",
       "    .dataframe tbody tr th {\n",
       "        vertical-align: top;\n",
       "    }\n",
       "\n",
       "    .dataframe thead th {\n",
       "        text-align: right;\n",
       "    }\n",
       "</style>\n",
       "<table border=\"1\" class=\"dataframe\">\n",
       "  <thead>\n",
       "    <tr style=\"text-align: right;\">\n",
       "      <th></th>\n",
       "      <th>Q</th>\n",
       "      <th>Number of detections</th>\n",
       "    </tr>\n",
       "  </thead>\n",
       "  <tbody>\n",
       "    <tr>\n",
       "      <th>0</th>\n",
       "      <td>Q1</td>\n",
       "      <td>32696</td>\n",
       "    </tr>\n",
       "    <tr>\n",
       "      <th>1</th>\n",
       "      <td>Q2</td>\n",
       "      <td>43762</td>\n",
       "    </tr>\n",
       "    <tr>\n",
       "      <th>2</th>\n",
       "      <td>Q3</td>\n",
       "      <td>78769</td>\n",
       "    </tr>\n",
       "    <tr>\n",
       "      <th>3</th>\n",
       "      <td>Q4</td>\n",
       "      <td>63375</td>\n",
       "    </tr>\n",
       "  </tbody>\n",
       "</table>\n",
       "</div>"
      ],
      "text/plain": [
       "    Q  Number of detections\n",
       "0  Q1                 32696\n",
       "1  Q2                 43762\n",
       "2  Q3                 78769\n",
       "3  Q4                 63375"
      ]
     },
     "execution_count": 224,
     "metadata": {},
     "output_type": "execute_result"
    }
   ],
   "source": [
    "# Select the columns we want, strip off the Q1 etc and groupby this new column\n",
    "quarter = df[['Quarter','Number of detections']]\n",
    "quarter['Q'] = quarter['Quarter'].str[-2:]\n",
    "quarter_grouped = quarter.groupby('Q',as_index =False)['Number of detections'].sum()\n",
    "quarter_grouped"
   ]
  },
  {
   "cell_type": "code",
   "execution_count": 266,
   "id": "ebce216f",
   "metadata": {},
   "outputs": [
    {
     "data": {
      "image/png": "[encoded data removed]",
      "text/plain": [
       "<Figure size 576x288 with 1 Axes>"
      ]
     },
     "metadata": {
      "needs_background": "light"
     },
     "output_type": "display_data"
    }
   ],
   "source": [
    "# Plot Arrivals by Quarter\n",
    "fig, ax = plt.subplots(figsize = (8,4))\n",
    "bars = plt.bar(x = quarter_grouped.Q, height = quarter_grouped['Number of detections'],color = 'olive')\n",
    "plt.title(\"Number of Irregular Arrivals by Quarter 2018 - 2024\",fontsize = 12, pad = 20)\n",
    "plt.ylabel('Number',labelpad = 10)\n",
    "ax.spines['top'].set_visible(False)\n",
    "ax.spines['right'].set_visible(False)\n",
    "plt.ylabel(\"\")\n",
    "plt.ylim(0,85000)\n",
    "\n",
    "#for bar in bars:\n",
    "   # height = bar.get_height()\n",
    "    #ax.text(\n",
    "       # bar.get_x() + bar.get_width() / 2,  # center of the bar\n",
    "        #height + 2000,                      # slightly above the bar\n",
    "       # f'{int(height):,}',                 # formatted label\n",
    "        #ha='center',\n",
    "        #va='bottom',\n",
    "        #fontsize=9\n",
    "   # );\n"
   ]
  },
  {
   "cell_type": "markdown",
   "id": "c338e449",
   "metadata": {},
   "source": [
    "Quarter 3 has almost 2.5 times the amount in Q1. This is July to September, the summer period and the weather is better for the small boats to make the crossing"
   ]
  },
  {
   "cell_type": "markdown",
   "id": "13162e5d",
   "metadata": {},
   "source": [
    "## What age group are they?"
   ]
  },
  {
   "cell_type": "code",
   "execution_count": 267,
   "id": "1c4c2991",
   "metadata": {},
   "outputs": [
    {
     "data": {
      "text/plain": [
       "array(['17 and under', '18 to 24', '25 to 39', '40 and over',\n",
       "       'Not available'], dtype=object)"
      ]
     },
     "execution_count": 267,
     "metadata": {},
     "output_type": "execute_result"
    }
   ],
   "source": [
    "df['Age Group'].unique()"
   ]
  },
  {
   "cell_type": "code",
   "execution_count": 271,
   "id": "6891c195",
   "metadata": {},
   "outputs": [],
   "source": [
    "# Replace these values\n",
    "df['Age Group'].replace({'Not currently recorded':'Not available','Unknown':'Not available'},inplace = True)"
   ]
  },
  {
   "cell_type": "markdown",
   "id": "53f6b082",
   "metadata": {},
   "source": [
    "The age categories are as we might expect but there are also some that are not recorded and some that are unknown. It is not clear what the difference is between these but we will combine these into one category of 'not available'."
   ]
  },
  {
   "cell_type": "code",
   "execution_count": 272,
   "id": "89ac06a0",
   "metadata": {},
   "outputs": [
    {
     "data": {
      "text/html": [
       "<div>\n",
       "<style scoped>\n",
       "    .dataframe tbody tr th:only-of-type {\n",
       "        vertical-align: middle;\n",
       "    }\n",
       "\n",
       "    .dataframe tbody tr th {\n",
       "        vertical-align: top;\n",
       "    }\n",
       "\n",
       "    .dataframe thead th {\n",
       "        text-align: right;\n",
       "    }\n",
       "</style>\n",
       "<table border=\"1\" class=\"dataframe\">\n",
       "  <thead>\n",
       "    <tr style=\"text-align: right;\">\n",
       "      <th></th>\n",
       "      <th>Age Group</th>\n",
       "      <th>Number of detections</th>\n",
       "    </tr>\n",
       "  </thead>\n",
       "  <tbody>\n",
       "    <tr>\n",
       "      <th>0</th>\n",
       "      <td>17 and under</td>\n",
       "      <td>39255</td>\n",
       "    </tr>\n",
       "    <tr>\n",
       "      <th>1</th>\n",
       "      <td>18 to 24</td>\n",
       "      <td>67607</td>\n",
       "    </tr>\n",
       "    <tr>\n",
       "      <th>2</th>\n",
       "      <td>25 to 39</td>\n",
       "      <td>89537</td>\n",
       "    </tr>\n",
       "    <tr>\n",
       "      <th>3</th>\n",
       "      <td>40 and over</td>\n",
       "      <td>18063</td>\n",
       "    </tr>\n",
       "    <tr>\n",
       "      <th>4</th>\n",
       "      <td>Not available</td>\n",
       "      <td>4140</td>\n",
       "    </tr>\n",
       "  </tbody>\n",
       "</table>\n",
       "</div>"
      ],
      "text/plain": [
       "       Age Group  Number of detections\n",
       "0   17 and under                 39255\n",
       "1       18 to 24                 67607\n",
       "2       25 to 39                 89537\n",
       "3    40 and over                 18063\n",
       "4  Not available                  4140"
      ]
     },
     "execution_count": 272,
     "metadata": {},
     "output_type": "execute_result"
    }
   ],
   "source": [
    "# Create dataframe of number of detections by age group\n",
    "age_sum = df.groupby(['Age Group'],as_index = False)['Number of detections'].sum()\n",
    "age_sum"
   ]
  },
  {
   "cell_type": "code",
   "execution_count": 283,
   "id": "739346b7",
   "metadata": {},
   "outputs": [
    {
     "data": {
      "text/plain": [
       "Text(0, 0.5, '')"
      ]
     },
     "execution_count": 283,
     "metadata": {},
     "output_type": "execute_result"
    },
    {
     "data": {
      "image/png": "[encoded data removed]",
      "text/plain": [
       "<Figure size 576x288 with 1 Axes>"
      ]
     },
     "metadata": {
      "needs_background": "light"
     },
     "output_type": "display_data"
    }
   ],
   "source": [
    "# Plot the age data\n",
    "fig, ax = plt.subplots(figsize = (8,4))\n",
    "ax = sns.barplot(data = age_sum, \n",
    "                 x = 'Age Group',\n",
    "                 y = 'Number of detections',\n",
    "                # errorbar = None,\n",
    "                 palette = 'dark')\n",
    "plt.title(\"Age Groups for Irregular Arrivals 2018 - 2024\", pad = 30)\n",
    "ax.spines['top'].set_visible(False)\n",
    "ax.spines['right'].set_visible(False)\n",
    "plt.ylabel(\"Number\", labelpad = 10)\n",
    "plt.ylim(0,90000)\n",
    "plt.xlabel(\"\")\n",
    "plt.ylabel(\"\")\n",
    "#for bar in ax.patches:\n",
    "  #  height = bar.get_height()\n",
    "    #ax.text(\n",
    "      #  bar.get_x() + bar.get_width() / 2,  \n",
    "      # height + 1000,                       \n",
    "       # f'{int(height):,}',                  \n",
    "       # ha='center',\n",
    "       # va='bottom',\n",
    "       # fontsize=9\n",
    "   # )"
   ]
  },
  {
   "cell_type": "markdown",
   "id": "2dca09d7",
   "metadata": {},
   "source": [
    "As commonly noted in the press, the main age group is 25 to 39. We can investigate if this has changed over the six year period by adding in year to the plot."
   ]
  },
  {
   "cell_type": "code",
   "execution_count": 234,
   "id": "40f2dac5",
   "metadata": {},
   "outputs": [
    {
     "data": {
      "text/html": [
       "<div>\n",
       "<style scoped>\n",
       "    .dataframe tbody tr th:only-of-type {\n",
       "        vertical-align: middle;\n",
       "    }\n",
       "\n",
       "    .dataframe tbody tr th {\n",
       "        vertical-align: top;\n",
       "    }\n",
       "\n",
       "    .dataframe thead th {\n",
       "        text-align: right;\n",
       "    }\n",
       "</style>\n",
       "<table border=\"1\" class=\"dataframe\">\n",
       "  <thead>\n",
       "    <tr style=\"text-align: right;\">\n",
       "      <th></th>\n",
       "      <th>Year</th>\n",
       "      <th>Age Group</th>\n",
       "      <th>Number of detections</th>\n",
       "    </tr>\n",
       "  </thead>\n",
       "  <tbody>\n",
       "    <tr>\n",
       "      <th>0</th>\n",
       "      <td>2018</td>\n",
       "      <td>17 and under</td>\n",
       "      <td>2991</td>\n",
       "    </tr>\n",
       "    <tr>\n",
       "      <th>1</th>\n",
       "      <td>2018</td>\n",
       "      <td>18 to 24</td>\n",
       "      <td>3598</td>\n",
       "    </tr>\n",
       "    <tr>\n",
       "      <th>2</th>\n",
       "      <td>2018</td>\n",
       "      <td>25 to 39</td>\n",
       "      <td>5592</td>\n",
       "    </tr>\n",
       "    <tr>\n",
       "      <th>3</th>\n",
       "      <td>2018</td>\n",
       "      <td>40 and over</td>\n",
       "      <td>1193</td>\n",
       "    </tr>\n",
       "    <tr>\n",
       "      <th>4</th>\n",
       "      <td>2018</td>\n",
       "      <td>Not available</td>\n",
       "      <td>3</td>\n",
       "    </tr>\n",
       "  </tbody>\n",
       "</table>\n",
       "</div>"
      ],
      "text/plain": [
       "   Year      Age Group  Number of detections\n",
       "0  2018   17 and under                  2991\n",
       "1  2018       18 to 24                  3598\n",
       "2  2018       25 to 39                  5592\n",
       "3  2018    40 and over                  1193\n",
       "4  2018  Not available                     3"
      ]
     },
     "execution_count": 234,
     "metadata": {},
     "output_type": "execute_result"
    }
   ],
   "source": [
    "# Create dataframe number of detections by year and age groupo\n",
    "age_year = df.groupby(['Year','Age Group'], as_index = False)['Number of detections'].sum()\n",
    "age_year.head()"
   ]
  },
  {
   "cell_type": "code",
   "execution_count": 564,
   "id": "ce03bbfb",
   "metadata": {},
   "outputs": [
    {
     "data": {
      "image/png": "[encoded data removed]",
      "text/plain": [
       "<Figure size 864x288 with 1 Axes>"
      ]
     },
     "metadata": {
      "needs_background": "light"
     },
     "output_type": "display_data"
    }
   ],
   "source": [
    "# Plot the arrivals by age group per year\n",
    "fig, ax = plt.subplots(figsize = (12,4))\n",
    "ax = sns.barplot(data = age_year,\n",
    "                 x ='Year',\n",
    "                 y = 'Number of detections',\n",
    "                 hue = 'Age Group',\n",
    "                 #errorbar = None,\n",
    "                 palette = 'dark')\n",
    "plt.title(\"Age Groups for Irregular Arrivals 2018 - 2024\", pad = 20)\n",
    "ax.spines['top'].set_visible(False)\n",
    "ax.spines['right'].set_visible(False)\n",
    "plt.ylabel(\"Number\", labelpad = 10);"
   ]
  },
  {
   "cell_type": "markdown",
   "id": "1676d136",
   "metadata": {},
   "source": [
    "We can see that the largest age group remains 25 to 39 over the period"
   ]
  },
  {
   "cell_type": "code",
   "execution_count": 236,
   "id": "553ebc80",
   "metadata": {},
   "outputs": [
    {
     "data": {
      "text/html": [
       "<div>\n",
       "<style scoped>\n",
       "    .dataframe tbody tr th:only-of-type {\n",
       "        vertical-align: middle;\n",
       "    }\n",
       "\n",
       "    .dataframe tbody tr th {\n",
       "        vertical-align: top;\n",
       "    }\n",
       "\n",
       "    .dataframe thead th {\n",
       "        text-align: right;\n",
       "    }\n",
       "</style>\n",
       "<table border=\"1\" class=\"dataframe\">\n",
       "  <thead>\n",
       "    <tr style=\"text-align: right;\">\n",
       "      <th>Age Group</th>\n",
       "      <th>Year</th>\n",
       "      <th>17 and under</th>\n",
       "      <th>18 to 24</th>\n",
       "      <th>25 to 39</th>\n",
       "      <th>40 and over</th>\n",
       "      <th>Not available</th>\n",
       "    </tr>\n",
       "  </thead>\n",
       "  <tbody>\n",
       "    <tr>\n",
       "      <th>0</th>\n",
       "      <td>2018</td>\n",
       "      <td>22.359273</td>\n",
       "      <td>26.896913</td>\n",
       "      <td>41.803095</td>\n",
       "      <td>8.918293</td>\n",
       "      <td>0.022427</td>\n",
       "    </tr>\n",
       "    <tr>\n",
       "      <th>1</th>\n",
       "      <td>2019</td>\n",
       "      <td>21.436030</td>\n",
       "      <td>24.967754</td>\n",
       "      <td>43.387998</td>\n",
       "      <td>9.532584</td>\n",
       "      <td>0.675634</td>\n",
       "    </tr>\n",
       "    <tr>\n",
       "      <th>2</th>\n",
       "      <td>2020</td>\n",
       "      <td>18.836257</td>\n",
       "      <td>25.438596</td>\n",
       "      <td>46.836257</td>\n",
       "      <td>8.491228</td>\n",
       "      <td>0.397661</td>\n",
       "    </tr>\n",
       "    <tr>\n",
       "      <th>3</th>\n",
       "      <td>2021</td>\n",
       "      <td>16.483308</td>\n",
       "      <td>33.097004</td>\n",
       "      <td>42.302991</td>\n",
       "      <td>6.367316</td>\n",
       "      <td>1.749382</td>\n",
       "    </tr>\n",
       "    <tr>\n",
       "      <th>4</th>\n",
       "      <td>2022</td>\n",
       "      <td>18.662937</td>\n",
       "      <td>32.402837</td>\n",
       "      <td>39.808417</td>\n",
       "      <td>8.403715</td>\n",
       "      <td>0.722094</td>\n",
       "    </tr>\n",
       "    <tr>\n",
       "      <th>5</th>\n",
       "      <td>2023</td>\n",
       "      <td>18.989618</td>\n",
       "      <td>30.981771</td>\n",
       "      <td>37.415188</td>\n",
       "      <td>8.703234</td>\n",
       "      <td>3.910188</td>\n",
       "    </tr>\n",
       "    <tr>\n",
       "      <th>6</th>\n",
       "      <td>2024</td>\n",
       "      <td>14.455650</td>\n",
       "      <td>32.809993</td>\n",
       "      <td>40.779280</td>\n",
       "      <td>8.551455</td>\n",
       "      <td>3.403621</td>\n",
       "    </tr>\n",
       "  </tbody>\n",
       "</table>\n",
       "</div>"
      ],
      "text/plain": [
       "Age Group  Year  17 and under   18 to 24   25 to 39  40 and over  \\\n",
       "0          2018     22.359273  26.896913  41.803095     8.918293   \n",
       "1          2019     21.436030  24.967754  43.387998     9.532584   \n",
       "2          2020     18.836257  25.438596  46.836257     8.491228   \n",
       "3          2021     16.483308  33.097004  42.302991     6.367316   \n",
       "4          2022     18.662937  32.402837  39.808417     8.403715   \n",
       "5          2023     18.989618  30.981771  37.415188     8.703234   \n",
       "6          2024     14.455650  32.809993  40.779280     8.551455   \n",
       "\n",
       "Age Group  Not available  \n",
       "0               0.022427  \n",
       "1               0.675634  \n",
       "2               0.397661  \n",
       "3               1.749382  \n",
       "4               0.722094  \n",
       "5               3.910188  \n",
       "6               3.403621  "
      ]
     },
     "execution_count": 236,
     "metadata": {},
     "output_type": "execute_result"
    }
   ],
   "source": [
    "# Create a crosstab table for the values we want\n",
    "age_cross = pd.crosstab(index = age_year['Year'], columns = age_year['Age Group'], values = age_year['Number of detections'],aggfunc = 'sum',normalize = 'index')\n",
    "age_cross = (age_cross*100).reset_index()\n",
    "age_cross"
   ]
  },
  {
   "cell_type": "code",
   "execution_count": 565,
   "id": "8f839f5c",
   "metadata": {},
   "outputs": [
    {
     "data": {
      "image/png": "[encoded data removed]",
      "text/plain": [
       "<Figure size 720x432 with 1 Axes>"
      ]
     },
     "metadata": {
      "needs_background": "light"
     },
     "output_type": "display_data"
    }
   ],
   "source": [
    "# Plot the crosstablulated data\n",
    "sns.set_palette(\"dark\")\n",
    "ax = age_cross.plot( \n",
    "    x = 'Year',\n",
    "    kind = 'bar', \n",
    "    stacked = True, \n",
    "    title = 'Irregular Arrivals by Year and Age Group', \n",
    "    mark_right = True,\n",
    "    figsize = (10,6)\n",
    "    ) \n",
    "\n",
    "plt.xticks(rotation=45)\n",
    "plt.xlabel(\"\")\n",
    "plt.ylabel(\"%\")\n",
    "ax.spines['top'].set_visible(False)\n",
    "ax.spines['right'].set_visible(False)\n",
    "ax.legend(bbox_to_anchor=(1.1, 1));"
   ]
  },
  {
   "cell_type": "markdown",
   "id": "8ea7bcd4",
   "metadata": {},
   "source": [
    "* We can see that the category for age unavailable has increased as a proportion over the period\n",
    "* The category for 25 to 39 has decreased as a proportion of the total compared to the 18 to 24 age group."
   ]
  },
  {
   "cell_type": "markdown",
   "id": "169e7b2f",
   "metadata": {},
   "source": [
    "## What sex are the arrivals?"
   ]
  },
  {
   "cell_type": "code",
   "execution_count": 243,
   "id": "8a62abba",
   "metadata": {},
   "outputs": [
    {
     "data": {
      "text/html": [
       "<div>\n",
       "<style scoped>\n",
       "    .dataframe tbody tr th:only-of-type {\n",
       "        vertical-align: middle;\n",
       "    }\n",
       "\n",
       "    .dataframe tbody tr th {\n",
       "        vertical-align: top;\n",
       "    }\n",
       "\n",
       "    .dataframe thead th {\n",
       "        text-align: right;\n",
       "    }\n",
       "</style>\n",
       "<table border=\"1\" class=\"dataframe\">\n",
       "  <thead>\n",
       "    <tr style=\"text-align: right;\">\n",
       "      <th></th>\n",
       "      <th>Sex</th>\n",
       "      <th>Number of detections</th>\n",
       "      <th>%</th>\n",
       "    </tr>\n",
       "  </thead>\n",
       "  <tbody>\n",
       "    <tr>\n",
       "      <th>0</th>\n",
       "      <td>Female</td>\n",
       "      <td>31753</td>\n",
       "      <td>14.53</td>\n",
       "    </tr>\n",
       "    <tr>\n",
       "      <th>1</th>\n",
       "      <td>Male</td>\n",
       "      <td>182932</td>\n",
       "      <td>83.68</td>\n",
       "    </tr>\n",
       "    <tr>\n",
       "      <th>2</th>\n",
       "      <td>Not currently recorded</td>\n",
       "      <td>3275</td>\n",
       "      <td>1.50</td>\n",
       "    </tr>\n",
       "    <tr>\n",
       "      <th>3</th>\n",
       "      <td>Unknown</td>\n",
       "      <td>642</td>\n",
       "      <td>0.29</td>\n",
       "    </tr>\n",
       "  </tbody>\n",
       "</table>\n",
       "</div>"
      ],
      "text/plain": [
       "                      Sex  Number of detections      %\n",
       "0                  Female                 31753  14.53\n",
       "1                    Male                182932  83.68\n",
       "2  Not currently recorded                  3275   1.50\n",
       "3                 Unknown                   642   0.29"
      ]
     },
     "execution_count": 243,
     "metadata": {},
     "output_type": "execute_result"
    }
   ],
   "source": [
    "sex = df.groupby(['Sex'],as_index = False)['Number of detections'].sum()\n",
    "sex['%'] = round(sex['Number of detections']/(sex['Number of detections'].sum())*100,2)\n",
    "sex"
   ]
  },
  {
   "cell_type": "markdown",
   "id": "056879cf",
   "metadata": {},
   "source": [
    "Irregular arrivals are predominantly male"
   ]
  },
  {
   "cell_type": "code",
   "execution_count": 566,
   "id": "cbaf9526",
   "metadata": {},
   "outputs": [
    {
     "data": {
      "text/plain": [
       "''"
      ]
     },
     "execution_count": 566,
     "metadata": {},
     "output_type": "execute_result"
    },
    {
     "data": {
      "image/png": "[encoded data removed]",
      "text/plain": [
       "<Figure size 720x288 with 1 Axes>"
      ]
     },
     "metadata": {
      "needs_background": "light"
     },
     "output_type": "display_data"
    }
   ],
   "source": [
    "fig, ax = plt.subplots(figsize = (10,4))\n",
    "sns.set_palette(\"dark\")\n",
    "ax = sns.barplot(data = sex, x = 'Sex', y = 'Number of detections')\n",
    "plt.title('Sex of Irregular Arrivals 2018 to 2024',pad = 20)\n",
    "ax.spines['top'].set_visible(False)\n",
    "ax.spines['right'].set_visible(False)\n",
    "plt.xlabel(\"\")\n",
    "plt.ylim(0,210000)\n",
    "#for index, row in sex.iterrows():\n",
    "    #plt.text(index, row['Number of detections'] + 3000, f\"{row['%']:.1f}%\", \n",
    "             #color='black', ha=\"center\")\n",
    ";"
   ]
  },
  {
   "cell_type": "code",
   "execution_count": 91,
   "id": "c7c61941",
   "metadata": {},
   "outputs": [
    {
     "data": {
      "text/html": [
       "<div>\n",
       "<style scoped>\n",
       "    .dataframe tbody tr th:only-of-type {\n",
       "        vertical-align: middle;\n",
       "    }\n",
       "\n",
       "    .dataframe tbody tr th {\n",
       "        vertical-align: top;\n",
       "    }\n",
       "\n",
       "    .dataframe thead th {\n",
       "        text-align: right;\n",
       "    }\n",
       "</style>\n",
       "<table border=\"1\" class=\"dataframe\">\n",
       "  <thead>\n",
       "    <tr style=\"text-align: right;\">\n",
       "      <th></th>\n",
       "      <th>Year</th>\n",
       "      <th>Sex</th>\n",
       "      <th>Number of detections</th>\n",
       "    </tr>\n",
       "  </thead>\n",
       "  <tbody>\n",
       "    <tr>\n",
       "      <th>0</th>\n",
       "      <td>2018</td>\n",
       "      <td>Female</td>\n",
       "      <td>2704</td>\n",
       "    </tr>\n",
       "    <tr>\n",
       "      <th>1</th>\n",
       "      <td>2018</td>\n",
       "      <td>Male</td>\n",
       "      <td>10634</td>\n",
       "    </tr>\n",
       "    <tr>\n",
       "      <th>2</th>\n",
       "      <td>2018</td>\n",
       "      <td>Unknown</td>\n",
       "      <td>39</td>\n",
       "    </tr>\n",
       "    <tr>\n",
       "      <th>3</th>\n",
       "      <td>2019</td>\n",
       "      <td>Female</td>\n",
       "      <td>3023</td>\n",
       "    </tr>\n",
       "    <tr>\n",
       "      <th>4</th>\n",
       "      <td>2019</td>\n",
       "      <td>Male</td>\n",
       "      <td>13196</td>\n",
       "    </tr>\n",
       "  </tbody>\n",
       "</table>\n",
       "</div>"
      ],
      "text/plain": [
       "   Year      Sex  Number of detections\n",
       "0  2018   Female                  2704\n",
       "1  2018     Male                 10634\n",
       "2  2018  Unknown                    39\n",
       "3  2019   Female                  3023\n",
       "4  2019     Male                 13196"
      ]
     },
     "execution_count": 91,
     "metadata": {},
     "output_type": "execute_result"
    }
   ],
   "source": [
    "# Create dataframe number of detections by year and age groupo\n",
    "sex_year = df.groupby(['Year','Sex'], as_index = False)['Number of detections'].sum()\n",
    "sex_year.head()"
   ]
  },
  {
   "cell_type": "code",
   "execution_count": 285,
   "id": "dbf50f3f",
   "metadata": {},
   "outputs": [
    {
     "data": {
      "image/png": "[encoded data removed]",
      "text/plain": [
       "<Figure size 720x432 with 1 Axes>"
      ]
     },
     "metadata": {
      "needs_background": "light"
     },
     "output_type": "display_data"
    }
   ],
   "source": [
    "# Plot the arrivals by sex per year\n",
    "plt.figure(figsize=(10, 6))\n",
    "ax = sns.barplot(data = sex_year,\n",
    "                 x ='Year',\n",
    "                 y = 'Number of detections',\n",
    "                 hue = 'Sex',\n",
    "                 #errorbar = None,\n",
    "                 palette = 'dark')\n",
    "plt.title(\"Sex for Irregular Arrivals 2018 - 2023\")\n",
    "ax.spines['top'].set_visible(False)\n",
    "ax.spines['right'].set_visible(False)\n",
    "plt.ylabel(\"Number\", labelpad = 10)\n",
    "ax.legend(loc = 'upper left');"
   ]
  },
  {
   "cell_type": "code",
   "execution_count": 286,
   "id": "3c135836",
   "metadata": {},
   "outputs": [
    {
     "data": {
      "text/html": [
       "<div>\n",
       "<style scoped>\n",
       "    .dataframe tbody tr th:only-of-type {\n",
       "        vertical-align: middle;\n",
       "    }\n",
       "\n",
       "    .dataframe tbody tr th {\n",
       "        vertical-align: top;\n",
       "    }\n",
       "\n",
       "    .dataframe thead th {\n",
       "        text-align: right;\n",
       "    }\n",
       "</style>\n",
       "<table border=\"1\" class=\"dataframe\">\n",
       "  <thead>\n",
       "    <tr style=\"text-align: right;\">\n",
       "      <th>Sex</th>\n",
       "      <th>Year</th>\n",
       "      <th>Female</th>\n",
       "      <th>Male</th>\n",
       "      <th>Not currently recorded</th>\n",
       "      <th>Unknown</th>\n",
       "    </tr>\n",
       "  </thead>\n",
       "  <tbody>\n",
       "    <tr>\n",
       "      <th>0</th>\n",
       "      <td>2018</td>\n",
       "      <td>20.213800</td>\n",
       "      <td>79.494655</td>\n",
       "      <td>0.000000</td>\n",
       "      <td>0.291545</td>\n",
       "    </tr>\n",
       "    <tr>\n",
       "      <th>1</th>\n",
       "      <td>2019</td>\n",
       "      <td>18.567656</td>\n",
       "      <td>81.051532</td>\n",
       "      <td>0.000000</td>\n",
       "      <td>0.380812</td>\n",
       "    </tr>\n",
       "    <tr>\n",
       "      <th>2</th>\n",
       "      <td>2020</td>\n",
       "      <td>13.789474</td>\n",
       "      <td>86.017544</td>\n",
       "      <td>0.000000</td>\n",
       "      <td>0.192982</td>\n",
       "    </tr>\n",
       "    <tr>\n",
       "      <th>3</th>\n",
       "      <td>2021</td>\n",
       "      <td>11.593730</td>\n",
       "      <td>86.472170</td>\n",
       "      <td>1.580963</td>\n",
       "      <td>0.353136</td>\n",
       "    </tr>\n",
       "    <tr>\n",
       "      <th>4</th>\n",
       "      <td>2022</td>\n",
       "      <td>14.025081</td>\n",
       "      <td>85.091953</td>\n",
       "      <td>0.365617</td>\n",
       "      <td>0.517349</td>\n",
       "    </tr>\n",
       "    <tr>\n",
       "      <th>5</th>\n",
       "      <td>2023</td>\n",
       "      <td>14.809668</td>\n",
       "      <td>82.195700</td>\n",
       "      <td>2.822965</td>\n",
       "      <td>0.171667</td>\n",
       "    </tr>\n",
       "    <tr>\n",
       "      <th>6</th>\n",
       "      <td>2024</td>\n",
       "      <td>14.423562</td>\n",
       "      <td>82.163649</td>\n",
       "      <td>3.339445</td>\n",
       "      <td>0.073344</td>\n",
       "    </tr>\n",
       "    <tr>\n",
       "      <th>7</th>\n",
       "      <td>2025</td>\n",
       "      <td>14.690594</td>\n",
       "      <td>82.537129</td>\n",
       "      <td>2.747525</td>\n",
       "      <td>0.024752</td>\n",
       "    </tr>\n",
       "  </tbody>\n",
       "</table>\n",
       "</div>"
      ],
      "text/plain": [
       "Sex  Year     Female       Male  Not currently recorded   Unknown\n",
       "0    2018  20.213800  79.494655                0.000000  0.291545\n",
       "1    2019  18.567656  81.051532                0.000000  0.380812\n",
       "2    2020  13.789474  86.017544                0.000000  0.192982\n",
       "3    2021  11.593730  86.472170                1.580963  0.353136\n",
       "4    2022  14.025081  85.091953                0.365617  0.517349\n",
       "5    2023  14.809668  82.195700                2.822965  0.171667\n",
       "6    2024  14.423562  82.163649                3.339445  0.073344\n",
       "7    2025  14.690594  82.537129                2.747525  0.024752"
      ]
     },
     "execution_count": 286,
     "metadata": {},
     "output_type": "execute_result"
    }
   ],
   "source": [
    "# Create a crosstab table for the values we want\n",
    "sex_cross = pd.crosstab(index = sex_year['Year'], columns = sex_year['Sex'], values = sex_year['Number of detections'],aggfunc = 'sum',normalize = 'index')\n",
    "sex_cross = (sex_cross*100).reset_index()\n",
    "sex_cross"
   ]
  },
  {
   "cell_type": "code",
   "execution_count": 287,
   "id": "94a3e79a",
   "metadata": {},
   "outputs": [
    {
     "data": {
      "image/png": "[encoded data removed]",
      "text/plain": [
       "<Figure size 576x432 with 1 Axes>"
      ]
     },
     "metadata": {
      "needs_background": "light"
     },
     "output_type": "display_data"
    }
   ],
   "source": [
    "# Plot the crosstablulated data\n",
    "sns.set_palette(\"dark\")\n",
    "\n",
    "ax = sex_cross.plot( \n",
    "    x = 'Year',\n",
    "    kind = 'bar', \n",
    "    stacked = True, \n",
    "    title = 'Irregular Arrivals by Year and Sex', \n",
    "    mark_right = True,\n",
    "     figsize=(8, 6)\n",
    "    ) \n",
    "\n",
    "plt.xticks(rotation=45)\n",
    "plt.xlabel(\"\")\n",
    "ax.spines['top'].set_visible(False)\n",
    "ax.spines['right'].set_visible(False)\n",
    "ax.legend(bbox_to_anchor=(1.1, 1));"
   ]
  },
  {
   "cell_type": "markdown",
   "id": "fda0786d",
   "metadata": {},
   "source": [
    "We can see that the proportion of females being recorded initially fell from 2018 but increased again from 2022"
   ]
  },
  {
   "cell_type": "markdown",
   "id": "ba6d695b",
   "metadata": {},
   "source": [
    "## Where do they come from?"
   ]
  },
  {
   "cell_type": "code",
   "execution_count": 288,
   "id": "70ccd8d6",
   "metadata": {},
   "outputs": [
    {
     "data": {
      "text/plain": [
       "array(['Asia Central', 'Europe Other', 'Africa North',\n",
       "       'Africa Sub-Saharan', 'America Central and South', 'Other',\n",
       "       'America North', 'Asia East', 'EU 14', 'Asia South', 'Middle East',\n",
       "       'EU 8', 'Asia South East', 'EU 2', 'EU Other', 'Oceania',\n",
       "       'Not currently recorded'], dtype=object)"
      ]
     },
     "execution_count": 288,
     "metadata": {},
     "output_type": "execute_result"
    }
   ],
   "source": [
    "df['Region'].unique()"
   ]
  },
  {
   "cell_type": "markdown",
   "id": "ab117688",
   "metadata": {},
   "source": [
    "We have a number of regions where the irregular arrivals come from. We can look at the countries contained within these to get more of an idea"
   ]
  },
  {
   "cell_type": "code",
   "execution_count": 289,
   "id": "543c226c",
   "metadata": {},
   "outputs": [],
   "source": [
    "# Function to display each region\n",
    "def nation(reg):\n",
    "    result = df[df['Region']==reg]['Nationality'].value_counts().to_frame()\n",
    "    print('Region: ',i)\n",
    "    display(result)"
   ]
  },
  {
   "cell_type": "code",
   "execution_count": 290,
   "id": "bd5635ad",
   "metadata": {},
   "outputs": [
    {
     "name": "stdout",
     "output_type": "stream",
     "text": [
      "Region:  Asia Central\n"
     ]
    },
    {
     "data": {
      "text/html": [
       "<div>\n",
       "<style scoped>\n",
       "    .dataframe tbody tr th:only-of-type {\n",
       "        vertical-align: middle;\n",
       "    }\n",
       "\n",
       "    .dataframe tbody tr th {\n",
       "        vertical-align: top;\n",
       "    }\n",
       "\n",
       "    .dataframe thead th {\n",
       "        text-align: right;\n",
       "    }\n",
       "</style>\n",
       "<table border=\"1\" class=\"dataframe\">\n",
       "  <thead>\n",
       "    <tr style=\"text-align: right;\">\n",
       "      <th></th>\n",
       "      <th>Nationality</th>\n",
       "    </tr>\n",
       "  </thead>\n",
       "  <tbody>\n",
       "    <tr>\n",
       "      <th>Afghanistan</th>\n",
       "      <td>677</td>\n",
       "    </tr>\n",
       "    <tr>\n",
       "      <th>Tajikistan</th>\n",
       "      <td>27</td>\n",
       "    </tr>\n",
       "    <tr>\n",
       "      <th>Kazakhstan</th>\n",
       "      <td>17</td>\n",
       "    </tr>\n",
       "    <tr>\n",
       "      <th>Kyrgyzstan</th>\n",
       "      <td>13</td>\n",
       "    </tr>\n",
       "    <tr>\n",
       "      <th>Uzbekistan</th>\n",
       "      <td>6</td>\n",
       "    </tr>\n",
       "    <tr>\n",
       "      <th>Turkmenistan</th>\n",
       "      <td>3</td>\n",
       "    </tr>\n",
       "  </tbody>\n",
       "</table>\n",
       "</div>"
      ],
      "text/plain": [
       "              Nationality\n",
       "Afghanistan           677\n",
       "Tajikistan             27\n",
       "Kazakhstan             17\n",
       "Kyrgyzstan             13\n",
       "Uzbekistan              6\n",
       "Turkmenistan            3"
      ]
     },
     "metadata": {},
     "output_type": "display_data"
    },
    {
     "name": "stdout",
     "output_type": "stream",
     "text": [
      "Region:  Europe Other\n"
     ]
    },
    {
     "data": {
      "text/html": [
       "<div>\n",
       "<style scoped>\n",
       "    .dataframe tbody tr th:only-of-type {\n",
       "        vertical-align: middle;\n",
       "    }\n",
       "\n",
       "    .dataframe tbody tr th {\n",
       "        vertical-align: top;\n",
       "    }\n",
       "\n",
       "    .dataframe thead th {\n",
       "        text-align: right;\n",
       "    }\n",
       "</style>\n",
       "<table border=\"1\" class=\"dataframe\">\n",
       "  <thead>\n",
       "    <tr style=\"text-align: right;\">\n",
       "      <th></th>\n",
       "      <th>Nationality</th>\n",
       "    </tr>\n",
       "  </thead>\n",
       "  <tbody>\n",
       "    <tr>\n",
       "      <th>Albania</th>\n",
       "      <td>675</td>\n",
       "    </tr>\n",
       "    <tr>\n",
       "      <th>Turkey</th>\n",
       "      <td>394</td>\n",
       "    </tr>\n",
       "    <tr>\n",
       "      <th>Georgia</th>\n",
       "      <td>266</td>\n",
       "    </tr>\n",
       "    <tr>\n",
       "      <th>Ukraine</th>\n",
       "      <td>113</td>\n",
       "    </tr>\n",
       "    <tr>\n",
       "      <th>Russia</th>\n",
       "      <td>112</td>\n",
       "    </tr>\n",
       "    <tr>\n",
       "      <th>Azerbaijan</th>\n",
       "      <td>51</td>\n",
       "    </tr>\n",
       "    <tr>\n",
       "      <th>Kosovo</th>\n",
       "      <td>31</td>\n",
       "    </tr>\n",
       "    <tr>\n",
       "      <th>Moldova</th>\n",
       "      <td>16</td>\n",
       "    </tr>\n",
       "    <tr>\n",
       "      <th>Cyprus (Northern part of)</th>\n",
       "      <td>13</td>\n",
       "    </tr>\n",
       "    <tr>\n",
       "      <th>Belarus</th>\n",
       "      <td>11</td>\n",
       "    </tr>\n",
       "    <tr>\n",
       "      <th>North Macedonia</th>\n",
       "      <td>8</td>\n",
       "    </tr>\n",
       "    <tr>\n",
       "      <th>Serbia</th>\n",
       "      <td>8</td>\n",
       "    </tr>\n",
       "    <tr>\n",
       "      <th>Norway</th>\n",
       "      <td>5</td>\n",
       "    </tr>\n",
       "    <tr>\n",
       "      <th>Bosnia and Herzegovina</th>\n",
       "      <td>4</td>\n",
       "    </tr>\n",
       "    <tr>\n",
       "      <th>Montenegro</th>\n",
       "      <td>3</td>\n",
       "    </tr>\n",
       "    <tr>\n",
       "      <th>Armenia</th>\n",
       "      <td>3</td>\n",
       "    </tr>\n",
       "    <tr>\n",
       "      <th>Andorra</th>\n",
       "      <td>2</td>\n",
       "    </tr>\n",
       "    <tr>\n",
       "      <th>Iceland</th>\n",
       "      <td>1</td>\n",
       "    </tr>\n",
       "  </tbody>\n",
       "</table>\n",
       "</div>"
      ],
      "text/plain": [
       "                           Nationality\n",
       "Albania                            675\n",
       "Turkey                             394\n",
       "Georgia                            266\n",
       "Ukraine                            113\n",
       "Russia                             112\n",
       "Azerbaijan                          51\n",
       "Kosovo                              31\n",
       "Moldova                             16\n",
       "Cyprus (Northern part of)           13\n",
       "Belarus                             11\n",
       "North Macedonia                      8\n",
       "Serbia                               8\n",
       "Norway                               5\n",
       "Bosnia and Herzegovina               4\n",
       "Montenegro                           3\n",
       "Armenia                              3\n",
       "Andorra                              2\n",
       "Iceland                              1"
      ]
     },
     "metadata": {},
     "output_type": "display_data"
    },
    {
     "name": "stdout",
     "output_type": "stream",
     "text": [
      "Region:  Africa North\n"
     ]
    },
    {
     "data": {
      "text/html": [
       "<div>\n",
       "<style scoped>\n",
       "    .dataframe tbody tr th:only-of-type {\n",
       "        vertical-align: middle;\n",
       "    }\n",
       "\n",
       "    .dataframe tbody tr th {\n",
       "        vertical-align: top;\n",
       "    }\n",
       "\n",
       "    .dataframe thead th {\n",
       "        text-align: right;\n",
       "    }\n",
       "</style>\n",
       "<table border=\"1\" class=\"dataframe\">\n",
       "  <thead>\n",
       "    <tr style=\"text-align: right;\">\n",
       "      <th></th>\n",
       "      <th>Nationality</th>\n",
       "    </tr>\n",
       "  </thead>\n",
       "  <tbody>\n",
       "    <tr>\n",
       "      <th>Sudan</th>\n",
       "      <td>545</td>\n",
       "    </tr>\n",
       "    <tr>\n",
       "      <th>Libya</th>\n",
       "      <td>258</td>\n",
       "    </tr>\n",
       "    <tr>\n",
       "      <th>Algeria</th>\n",
       "      <td>238</td>\n",
       "    </tr>\n",
       "    <tr>\n",
       "      <th>Morocco</th>\n",
       "      <td>234</td>\n",
       "    </tr>\n",
       "    <tr>\n",
       "      <th>Egypt</th>\n",
       "      <td>220</td>\n",
       "    </tr>\n",
       "    <tr>\n",
       "      <th>Tunisia</th>\n",
       "      <td>91</td>\n",
       "    </tr>\n",
       "    <tr>\n",
       "      <th>Mauritania</th>\n",
       "      <td>16</td>\n",
       "    </tr>\n",
       "    <tr>\n",
       "      <th>Western Sahara</th>\n",
       "      <td>11</td>\n",
       "    </tr>\n",
       "  </tbody>\n",
       "</table>\n",
       "</div>"
      ],
      "text/plain": [
       "                Nationality\n",
       "Sudan                   545\n",
       "Libya                   258\n",
       "Algeria                 238\n",
       "Morocco                 234\n",
       "Egypt                   220\n",
       "Tunisia                  91\n",
       "Mauritania               16\n",
       "Western Sahara           11"
      ]
     },
     "metadata": {},
     "output_type": "display_data"
    },
    {
     "name": "stdout",
     "output_type": "stream",
     "text": [
      "Region:  Africa Sub-Saharan\n"
     ]
    },
    {
     "data": {
      "text/html": [
       "<div>\n",
       "<style scoped>\n",
       "    .dataframe tbody tr th:only-of-type {\n",
       "        vertical-align: middle;\n",
       "    }\n",
       "\n",
       "    .dataframe tbody tr th {\n",
       "        vertical-align: top;\n",
       "    }\n",
       "\n",
       "    .dataframe thead th {\n",
       "        text-align: right;\n",
       "    }\n",
       "</style>\n",
       "<table border=\"1\" class=\"dataframe\">\n",
       "  <thead>\n",
       "    <tr style=\"text-align: right;\">\n",
       "      <th></th>\n",
       "      <th>Nationality</th>\n",
       "    </tr>\n",
       "  </thead>\n",
       "  <tbody>\n",
       "    <tr>\n",
       "      <th>Eritrea</th>\n",
       "      <td>620</td>\n",
       "    </tr>\n",
       "    <tr>\n",
       "      <th>Ethiopia</th>\n",
       "      <td>376</td>\n",
       "    </tr>\n",
       "    <tr>\n",
       "      <th>Somalia</th>\n",
       "      <td>324</td>\n",
       "    </tr>\n",
       "    <tr>\n",
       "      <th>Chad</th>\n",
       "      <td>197</td>\n",
       "    </tr>\n",
       "    <tr>\n",
       "      <th>Nigeria</th>\n",
       "      <td>185</td>\n",
       "    </tr>\n",
       "    <tr>\n",
       "      <th>Guinea</th>\n",
       "      <td>124</td>\n",
       "    </tr>\n",
       "    <tr>\n",
       "      <th>Gambia, The</th>\n",
       "      <td>105</td>\n",
       "    </tr>\n",
       "    <tr>\n",
       "      <th>South Sudan</th>\n",
       "      <td>103</td>\n",
       "    </tr>\n",
       "    <tr>\n",
       "      <th>Ghana</th>\n",
       "      <td>98</td>\n",
       "    </tr>\n",
       "    <tr>\n",
       "      <th>Congo (Democratic Republic)</th>\n",
       "      <td>74</td>\n",
       "    </tr>\n",
       "    <tr>\n",
       "      <th>Tanzania</th>\n",
       "      <td>70</td>\n",
       "    </tr>\n",
       "    <tr>\n",
       "      <th>Cameroon</th>\n",
       "      <td>64</td>\n",
       "    </tr>\n",
       "    <tr>\n",
       "      <th>Senegal</th>\n",
       "      <td>59</td>\n",
       "    </tr>\n",
       "    <tr>\n",
       "      <th>Sierra Leone</th>\n",
       "      <td>58</td>\n",
       "    </tr>\n",
       "    <tr>\n",
       "      <th>Mali</th>\n",
       "      <td>48</td>\n",
       "    </tr>\n",
       "    <tr>\n",
       "      <th>Ivory Coast</th>\n",
       "      <td>42</td>\n",
       "    </tr>\n",
       "    <tr>\n",
       "      <th>South Africa</th>\n",
       "      <td>38</td>\n",
       "    </tr>\n",
       "    <tr>\n",
       "      <th>Angola</th>\n",
       "      <td>34</td>\n",
       "    </tr>\n",
       "    <tr>\n",
       "      <th>Zimbabwe</th>\n",
       "      <td>34</td>\n",
       "    </tr>\n",
       "    <tr>\n",
       "      <th>Niger</th>\n",
       "      <td>30</td>\n",
       "    </tr>\n",
       "    <tr>\n",
       "      <th>Congo</th>\n",
       "      <td>25</td>\n",
       "    </tr>\n",
       "    <tr>\n",
       "      <th>Kenya</th>\n",
       "      <td>17</td>\n",
       "    </tr>\n",
       "    <tr>\n",
       "      <th>Burkina Faso</th>\n",
       "      <td>16</td>\n",
       "    </tr>\n",
       "    <tr>\n",
       "      <th>Central African Republic</th>\n",
       "      <td>15</td>\n",
       "    </tr>\n",
       "    <tr>\n",
       "      <th>Guinea-Bissau</th>\n",
       "      <td>15</td>\n",
       "    </tr>\n",
       "    <tr>\n",
       "      <th>Liberia</th>\n",
       "      <td>15</td>\n",
       "    </tr>\n",
       "    <tr>\n",
       "      <th>Benin</th>\n",
       "      <td>11</td>\n",
       "    </tr>\n",
       "    <tr>\n",
       "      <th>Burundi</th>\n",
       "      <td>10</td>\n",
       "    </tr>\n",
       "    <tr>\n",
       "      <th>Namibia</th>\n",
       "      <td>10</td>\n",
       "    </tr>\n",
       "    <tr>\n",
       "      <th>Uganda</th>\n",
       "      <td>9</td>\n",
       "    </tr>\n",
       "    <tr>\n",
       "      <th>Togo</th>\n",
       "      <td>7</td>\n",
       "    </tr>\n",
       "    <tr>\n",
       "      <th>Mauritius</th>\n",
       "      <td>7</td>\n",
       "    </tr>\n",
       "    <tr>\n",
       "      <th>Botswana</th>\n",
       "      <td>6</td>\n",
       "    </tr>\n",
       "    <tr>\n",
       "      <th>Djibouti</th>\n",
       "      <td>5</td>\n",
       "    </tr>\n",
       "    <tr>\n",
       "      <th>Equatorial Guinea</th>\n",
       "      <td>4</td>\n",
       "    </tr>\n",
       "    <tr>\n",
       "      <th>Rwanda</th>\n",
       "      <td>3</td>\n",
       "    </tr>\n",
       "    <tr>\n",
       "      <th>Mozambique</th>\n",
       "      <td>2</td>\n",
       "    </tr>\n",
       "    <tr>\n",
       "      <th>Malawi</th>\n",
       "      <td>2</td>\n",
       "    </tr>\n",
       "    <tr>\n",
       "      <th>Zambia</th>\n",
       "      <td>2</td>\n",
       "    </tr>\n",
       "    <tr>\n",
       "      <th>Eswatini</th>\n",
       "      <td>1</td>\n",
       "    </tr>\n",
       "    <tr>\n",
       "      <th>Reunion (French)</th>\n",
       "      <td>1</td>\n",
       "    </tr>\n",
       "    <tr>\n",
       "      <th>Comoros</th>\n",
       "      <td>1</td>\n",
       "    </tr>\n",
       "  </tbody>\n",
       "</table>\n",
       "</div>"
      ],
      "text/plain": [
       "                             Nationality\n",
       "Eritrea                              620\n",
       "Ethiopia                             376\n",
       "Somalia                              324\n",
       "Chad                                 197\n",
       "Nigeria                              185\n",
       "Guinea                               124\n",
       "Gambia, The                          105\n",
       "South Sudan                          103\n",
       "Ghana                                 98\n",
       "Congo (Democratic Republic)           74\n",
       "Tanzania                              70\n",
       "Cameroon                              64\n",
       "Senegal                               59\n",
       "Sierra Leone                          58\n",
       "Mali                                  48\n",
       "Ivory Coast                           42\n",
       "South Africa                          38\n",
       "Angola                                34\n",
       "Zimbabwe                              34\n",
       "Niger                                 30\n",
       "Congo                                 25\n",
       "Kenya                                 17\n",
       "Burkina Faso                          16\n",
       "Central African Republic              15\n",
       "Guinea-Bissau                         15\n",
       "Liberia                               15\n",
       "Benin                                 11\n",
       "Burundi                               10\n",
       "Namibia                               10\n",
       "Uganda                                 9\n",
       "Togo                                   7\n",
       "Mauritius                              7\n",
       "Botswana                               6\n",
       "Djibouti                               5\n",
       "Equatorial Guinea                      4\n",
       "Rwanda                                 3\n",
       "Mozambique                             2\n",
       "Malawi                                 2\n",
       "Zambia                                 2\n",
       "Eswatini                               1\n",
       "Reunion (French)                       1\n",
       "Comoros                                1"
      ]
     },
     "metadata": {},
     "output_type": "display_data"
    },
    {
     "name": "stdout",
     "output_type": "stream",
     "text": [
      "Region:  America Central and South\n"
     ]
    },
    {
     "data": {
      "text/html": [
       "<div>\n",
       "<style scoped>\n",
       "    .dataframe tbody tr th:only-of-type {\n",
       "        vertical-align: middle;\n",
       "    }\n",
       "\n",
       "    .dataframe tbody tr th {\n",
       "        vertical-align: top;\n",
       "    }\n",
       "\n",
       "    .dataframe thead th {\n",
       "        text-align: right;\n",
       "    }\n",
       "</style>\n",
       "<table border=\"1\" class=\"dataframe\">\n",
       "  <thead>\n",
       "    <tr style=\"text-align: right;\">\n",
       "      <th></th>\n",
       "      <th>Nationality</th>\n",
       "    </tr>\n",
       "  </thead>\n",
       "  <tbody>\n",
       "    <tr>\n",
       "      <th>Brazil</th>\n",
       "      <td>77</td>\n",
       "    </tr>\n",
       "    <tr>\n",
       "      <th>Mexico</th>\n",
       "      <td>14</td>\n",
       "    </tr>\n",
       "    <tr>\n",
       "      <th>Colombia</th>\n",
       "      <td>13</td>\n",
       "    </tr>\n",
       "    <tr>\n",
       "      <th>Dominica</th>\n",
       "      <td>12</td>\n",
       "    </tr>\n",
       "    <tr>\n",
       "      <th>Dominican Republic</th>\n",
       "      <td>10</td>\n",
       "    </tr>\n",
       "    <tr>\n",
       "      <th>Peru</th>\n",
       "      <td>10</td>\n",
       "    </tr>\n",
       "    <tr>\n",
       "      <th>Jamaica</th>\n",
       "      <td>7</td>\n",
       "    </tr>\n",
       "    <tr>\n",
       "      <th>Argentina</th>\n",
       "      <td>6</td>\n",
       "    </tr>\n",
       "    <tr>\n",
       "      <th>Bolivia</th>\n",
       "      <td>6</td>\n",
       "    </tr>\n",
       "    <tr>\n",
       "      <th>Venezuela</th>\n",
       "      <td>5</td>\n",
       "    </tr>\n",
       "    <tr>\n",
       "      <th>Cuba</th>\n",
       "      <td>4</td>\n",
       "    </tr>\n",
       "    <tr>\n",
       "      <th>Chile</th>\n",
       "      <td>4</td>\n",
       "    </tr>\n",
       "    <tr>\n",
       "      <th>Costa Rica</th>\n",
       "      <td>4</td>\n",
       "    </tr>\n",
       "    <tr>\n",
       "      <th>Ecuador</th>\n",
       "      <td>3</td>\n",
       "    </tr>\n",
       "    <tr>\n",
       "      <th>Trinidad and Tobago</th>\n",
       "      <td>3</td>\n",
       "    </tr>\n",
       "    <tr>\n",
       "      <th>French Guiana (French)</th>\n",
       "      <td>2</td>\n",
       "    </tr>\n",
       "    <tr>\n",
       "      <th>Nicaragua</th>\n",
       "      <td>2</td>\n",
       "    </tr>\n",
       "    <tr>\n",
       "      <th>Guatemala</th>\n",
       "      <td>2</td>\n",
       "    </tr>\n",
       "    <tr>\n",
       "      <th>Grenada</th>\n",
       "      <td>2</td>\n",
       "    </tr>\n",
       "    <tr>\n",
       "      <th>Guyana</th>\n",
       "      <td>1</td>\n",
       "    </tr>\n",
       "    <tr>\n",
       "      <th>El Salvador</th>\n",
       "      <td>1</td>\n",
       "    </tr>\n",
       "    <tr>\n",
       "      <th>Bahamas, The</th>\n",
       "      <td>1</td>\n",
       "    </tr>\n",
       "    <tr>\n",
       "      <th>St Vincent and the Grenadines</th>\n",
       "      <td>1</td>\n",
       "    </tr>\n",
       "    <tr>\n",
       "      <th>Honduras</th>\n",
       "      <td>1</td>\n",
       "    </tr>\n",
       "    <tr>\n",
       "      <th>Virgin Islands (British)</th>\n",
       "      <td>1</td>\n",
       "    </tr>\n",
       "    <tr>\n",
       "      <th>Haiti</th>\n",
       "      <td>1</td>\n",
       "    </tr>\n",
       "    <tr>\n",
       "      <th>Paraguay</th>\n",
       "      <td>1</td>\n",
       "    </tr>\n",
       "    <tr>\n",
       "      <th>Barbados</th>\n",
       "      <td>1</td>\n",
       "    </tr>\n",
       "    <tr>\n",
       "      <th>Suriname</th>\n",
       "      <td>1</td>\n",
       "    </tr>\n",
       "    <tr>\n",
       "      <th>St Lucia</th>\n",
       "      <td>1</td>\n",
       "    </tr>\n",
       "    <tr>\n",
       "      <th>Saint Barthelemy (French)</th>\n",
       "      <td>1</td>\n",
       "    </tr>\n",
       "  </tbody>\n",
       "</table>\n",
       "</div>"
      ],
      "text/plain": [
       "                               Nationality\n",
       "Brazil                                  77\n",
       "Mexico                                  14\n",
       "Colombia                                13\n",
       "Dominica                                12\n",
       "Dominican Republic                      10\n",
       "Peru                                    10\n",
       "Jamaica                                  7\n",
       "Argentina                                6\n",
       "Bolivia                                  6\n",
       "Venezuela                                5\n",
       "Cuba                                     4\n",
       "Chile                                    4\n",
       "Costa Rica                               4\n",
       "Ecuador                                  3\n",
       "Trinidad and Tobago                      3\n",
       "French Guiana (French)                   2\n",
       "Nicaragua                                2\n",
       "Guatemala                                2\n",
       "Grenada                                  2\n",
       "Guyana                                   1\n",
       "El Salvador                              1\n",
       "Bahamas, The                             1\n",
       "St Vincent and the Grenadines            1\n",
       "Honduras                                 1\n",
       "Virgin Islands (British)                 1\n",
       "Haiti                                    1\n",
       "Paraguay                                 1\n",
       "Barbados                                 1\n",
       "Suriname                                 1\n",
       "St Lucia                                 1\n",
       "Saint Barthelemy (French)                1"
      ]
     },
     "metadata": {},
     "output_type": "display_data"
    },
    {
     "name": "stdout",
     "output_type": "stream",
     "text": [
      "Region:  Other\n"
     ]
    },
    {
     "data": {
      "text/html": [
       "<div>\n",
       "<style scoped>\n",
       "    .dataframe tbody tr th:only-of-type {\n",
       "        vertical-align: middle;\n",
       "    }\n",
       "\n",
       "    .dataframe tbody tr th {\n",
       "        vertical-align: top;\n",
       "    }\n",
       "\n",
       "    .dataframe thead th {\n",
       "        text-align: right;\n",
       "    }\n",
       "</style>\n",
       "<table border=\"1\" class=\"dataframe\">\n",
       "  <thead>\n",
       "    <tr style=\"text-align: right;\">\n",
       "      <th></th>\n",
       "      <th>Nationality</th>\n",
       "    </tr>\n",
       "  </thead>\n",
       "  <tbody>\n",
       "    <tr>\n",
       "      <th>Stateless</th>\n",
       "      <td>381</td>\n",
       "    </tr>\n",
       "    <tr>\n",
       "      <th>Other and unknown</th>\n",
       "      <td>221</td>\n",
       "    </tr>\n",
       "    <tr>\n",
       "      <th>Refugee</th>\n",
       "      <td>105</td>\n",
       "    </tr>\n",
       "    <tr>\n",
       "      <th>British overseas citizens</th>\n",
       "      <td>20</td>\n",
       "    </tr>\n",
       "    <tr>\n",
       "      <th>Pitcairn Islands (British)</th>\n",
       "      <td>1</td>\n",
       "    </tr>\n",
       "  </tbody>\n",
       "</table>\n",
       "</div>"
      ],
      "text/plain": [
       "                            Nationality\n",
       "Stateless                           381\n",
       "Other and unknown                   221\n",
       "Refugee                             105\n",
       "British overseas citizens            20\n",
       "Pitcairn Islands (British)            1"
      ]
     },
     "metadata": {},
     "output_type": "display_data"
    },
    {
     "name": "stdout",
     "output_type": "stream",
     "text": [
      "Region:  America North\n"
     ]
    },
    {
     "data": {
      "text/html": [
       "<div>\n",
       "<style scoped>\n",
       "    .dataframe tbody tr th:only-of-type {\n",
       "        vertical-align: middle;\n",
       "    }\n",
       "\n",
       "    .dataframe tbody tr th {\n",
       "        vertical-align: top;\n",
       "    }\n",
       "\n",
       "    .dataframe thead th {\n",
       "        text-align: right;\n",
       "    }\n",
       "</style>\n",
       "<table border=\"1\" class=\"dataframe\">\n",
       "  <thead>\n",
       "    <tr style=\"text-align: right;\">\n",
       "      <th></th>\n",
       "      <th>Nationality</th>\n",
       "    </tr>\n",
       "  </thead>\n",
       "  <tbody>\n",
       "    <tr>\n",
       "      <th>United States</th>\n",
       "      <td>29</td>\n",
       "    </tr>\n",
       "    <tr>\n",
       "      <th>Canada</th>\n",
       "      <td>3</td>\n",
       "    </tr>\n",
       "    <tr>\n",
       "      <th>Greenland</th>\n",
       "      <td>2</td>\n",
       "    </tr>\n",
       "  </tbody>\n",
       "</table>\n",
       "</div>"
      ],
      "text/plain": [
       "               Nationality\n",
       "United States           29\n",
       "Canada                   3\n",
       "Greenland                2"
      ]
     },
     "metadata": {},
     "output_type": "display_data"
    },
    {
     "name": "stdout",
     "output_type": "stream",
     "text": [
      "Region:  Asia East\n"
     ]
    },
    {
     "data": {
      "text/html": [
       "<div>\n",
       "<style scoped>\n",
       "    .dataframe tbody tr th:only-of-type {\n",
       "        vertical-align: middle;\n",
       "    }\n",
       "\n",
       "    .dataframe tbody tr th {\n",
       "        vertical-align: top;\n",
       "    }\n",
       "\n",
       "    .dataframe thead th {\n",
       "        text-align: right;\n",
       "    }\n",
       "</style>\n",
       "<table border=\"1\" class=\"dataframe\">\n",
       "  <thead>\n",
       "    <tr style=\"text-align: right;\">\n",
       "      <th></th>\n",
       "      <th>Nationality</th>\n",
       "    </tr>\n",
       "  </thead>\n",
       "  <tbody>\n",
       "    <tr>\n",
       "      <th>China</th>\n",
       "      <td>157</td>\n",
       "    </tr>\n",
       "    <tr>\n",
       "      <th>Hong Kong</th>\n",
       "      <td>5</td>\n",
       "    </tr>\n",
       "    <tr>\n",
       "      <th>Taiwan</th>\n",
       "      <td>4</td>\n",
       "    </tr>\n",
       "    <tr>\n",
       "      <th>Japan</th>\n",
       "      <td>3</td>\n",
       "    </tr>\n",
       "    <tr>\n",
       "      <th>South Korea</th>\n",
       "      <td>2</td>\n",
       "    </tr>\n",
       "    <tr>\n",
       "      <th>Mongolia</th>\n",
       "      <td>1</td>\n",
       "    </tr>\n",
       "  </tbody>\n",
       "</table>\n",
       "</div>"
      ],
      "text/plain": [
       "             Nationality\n",
       "China                157\n",
       "Hong Kong              5\n",
       "Taiwan                 4\n",
       "Japan                  3\n",
       "South Korea            2\n",
       "Mongolia               1"
      ]
     },
     "metadata": {},
     "output_type": "display_data"
    },
    {
     "name": "stdout",
     "output_type": "stream",
     "text": [
      "Region:  EU 14\n"
     ]
    },
    {
     "data": {
      "text/html": [
       "<div>\n",
       "<style scoped>\n",
       "    .dataframe tbody tr th:only-of-type {\n",
       "        vertical-align: middle;\n",
       "    }\n",
       "\n",
       "    .dataframe tbody tr th {\n",
       "        vertical-align: top;\n",
       "    }\n",
       "\n",
       "    .dataframe thead th {\n",
       "        text-align: right;\n",
       "    }\n",
       "</style>\n",
       "<table border=\"1\" class=\"dataframe\">\n",
       "  <thead>\n",
       "    <tr style=\"text-align: right;\">\n",
       "      <th></th>\n",
       "      <th>Nationality</th>\n",
       "    </tr>\n",
       "  </thead>\n",
       "  <tbody>\n",
       "    <tr>\n",
       "      <th>Italy</th>\n",
       "      <td>39</td>\n",
       "    </tr>\n",
       "    <tr>\n",
       "      <th>Spain</th>\n",
       "      <td>27</td>\n",
       "    </tr>\n",
       "    <tr>\n",
       "      <th>France</th>\n",
       "      <td>26</td>\n",
       "    </tr>\n",
       "    <tr>\n",
       "      <th>Portugal</th>\n",
       "      <td>22</td>\n",
       "    </tr>\n",
       "    <tr>\n",
       "      <th>Germany</th>\n",
       "      <td>15</td>\n",
       "    </tr>\n",
       "    <tr>\n",
       "      <th>Denmark</th>\n",
       "      <td>10</td>\n",
       "    </tr>\n",
       "    <tr>\n",
       "      <th>Greece</th>\n",
       "      <td>9</td>\n",
       "    </tr>\n",
       "    <tr>\n",
       "      <th>Netherlands</th>\n",
       "      <td>7</td>\n",
       "    </tr>\n",
       "    <tr>\n",
       "      <th>Sweden</th>\n",
       "      <td>5</td>\n",
       "    </tr>\n",
       "    <tr>\n",
       "      <th>Belgium</th>\n",
       "      <td>5</td>\n",
       "    </tr>\n",
       "    <tr>\n",
       "      <th>Ireland</th>\n",
       "      <td>4</td>\n",
       "    </tr>\n",
       "    <tr>\n",
       "      <th>Finland</th>\n",
       "      <td>2</td>\n",
       "    </tr>\n",
       "    <tr>\n",
       "      <th>Austria</th>\n",
       "      <td>2</td>\n",
       "    </tr>\n",
       "  </tbody>\n",
       "</table>\n",
       "</div>"
      ],
      "text/plain": [
       "             Nationality\n",
       "Italy                 39\n",
       "Spain                 27\n",
       "France                26\n",
       "Portugal              22\n",
       "Germany               15\n",
       "Denmark               10\n",
       "Greece                 9\n",
       "Netherlands            7\n",
       "Sweden                 5\n",
       "Belgium                5\n",
       "Ireland                4\n",
       "Finland                2\n",
       "Austria                2"
      ]
     },
     "metadata": {},
     "output_type": "display_data"
    },
    {
     "name": "stdout",
     "output_type": "stream",
     "text": [
      "Region:  Asia South\n"
     ]
    },
    {
     "data": {
      "text/html": [
       "<div>\n",
       "<style scoped>\n",
       "    .dataframe tbody tr th:only-of-type {\n",
       "        vertical-align: middle;\n",
       "    }\n",
       "\n",
       "    .dataframe tbody tr th {\n",
       "        vertical-align: top;\n",
       "    }\n",
       "\n",
       "    .dataframe thead th {\n",
       "        text-align: right;\n",
       "    }\n",
       "</style>\n",
       "<table border=\"1\" class=\"dataframe\">\n",
       "  <thead>\n",
       "    <tr style=\"text-align: right;\">\n",
       "      <th></th>\n",
       "      <th>Nationality</th>\n",
       "    </tr>\n",
       "  </thead>\n",
       "  <tbody>\n",
       "    <tr>\n",
       "      <th>India</th>\n",
       "      <td>353</td>\n",
       "    </tr>\n",
       "    <tr>\n",
       "      <th>Pakistan</th>\n",
       "      <td>267</td>\n",
       "    </tr>\n",
       "    <tr>\n",
       "      <th>Sri Lanka</th>\n",
       "      <td>256</td>\n",
       "    </tr>\n",
       "    <tr>\n",
       "      <th>Bangladesh</th>\n",
       "      <td>103</td>\n",
       "    </tr>\n",
       "    <tr>\n",
       "      <th>Nepal</th>\n",
       "      <td>32</td>\n",
       "    </tr>\n",
       "    <tr>\n",
       "      <th>Bhutan</th>\n",
       "      <td>1</td>\n",
       "    </tr>\n",
       "  </tbody>\n",
       "</table>\n",
       "</div>"
      ],
      "text/plain": [
       "            Nationality\n",
       "India               353\n",
       "Pakistan            267\n",
       "Sri Lanka           256\n",
       "Bangladesh          103\n",
       "Nepal                32\n",
       "Bhutan                1"
      ]
     },
     "metadata": {},
     "output_type": "display_data"
    },
    {
     "name": "stdout",
     "output_type": "stream",
     "text": [
      "Region:  Middle East\n"
     ]
    },
    {
     "data": {
      "text/html": [
       "<div>\n",
       "<style scoped>\n",
       "    .dataframe tbody tr th:only-of-type {\n",
       "        vertical-align: middle;\n",
       "    }\n",
       "\n",
       "    .dataframe tbody tr th {\n",
       "        vertical-align: top;\n",
       "    }\n",
       "\n",
       "    .dataframe thead th {\n",
       "        text-align: right;\n",
       "    }\n",
       "</style>\n",
       "<table border=\"1\" class=\"dataframe\">\n",
       "  <thead>\n",
       "    <tr style=\"text-align: right;\">\n",
       "      <th></th>\n",
       "      <th>Nationality</th>\n",
       "    </tr>\n",
       "  </thead>\n",
       "  <tbody>\n",
       "    <tr>\n",
       "      <th>Iran</th>\n",
       "      <td>777</td>\n",
       "    </tr>\n",
       "    <tr>\n",
       "      <th>Iraq</th>\n",
       "      <td>720</td>\n",
       "    </tr>\n",
       "    <tr>\n",
       "      <th>Syria</th>\n",
       "      <td>582</td>\n",
       "    </tr>\n",
       "    <tr>\n",
       "      <th>Kuwait</th>\n",
       "      <td>365</td>\n",
       "    </tr>\n",
       "    <tr>\n",
       "      <th>Yemen</th>\n",
       "      <td>230</td>\n",
       "    </tr>\n",
       "    <tr>\n",
       "      <th>Occupied Palestinian Territories</th>\n",
       "      <td>215</td>\n",
       "    </tr>\n",
       "    <tr>\n",
       "      <th>Lebanon</th>\n",
       "      <td>78</td>\n",
       "    </tr>\n",
       "    <tr>\n",
       "      <th>Jordan</th>\n",
       "      <td>42</td>\n",
       "    </tr>\n",
       "    <tr>\n",
       "      <th>Saudi Arabia</th>\n",
       "      <td>20</td>\n",
       "    </tr>\n",
       "    <tr>\n",
       "      <th>Israel</th>\n",
       "      <td>13</td>\n",
       "    </tr>\n",
       "    <tr>\n",
       "      <th>United Arab Emirates</th>\n",
       "      <td>9</td>\n",
       "    </tr>\n",
       "    <tr>\n",
       "      <th>Qatar</th>\n",
       "      <td>3</td>\n",
       "    </tr>\n",
       "    <tr>\n",
       "      <th>Bahrain</th>\n",
       "      <td>1</td>\n",
       "    </tr>\n",
       "    <tr>\n",
       "      <th>Oman</th>\n",
       "      <td>1</td>\n",
       "    </tr>\n",
       "  </tbody>\n",
       "</table>\n",
       "</div>"
      ],
      "text/plain": [
       "                                  Nationality\n",
       "Iran                                      777\n",
       "Iraq                                      720\n",
       "Syria                                     582\n",
       "Kuwait                                    365\n",
       "Yemen                                     230\n",
       "Occupied Palestinian Territories          215\n",
       "Lebanon                                    78\n",
       "Jordan                                     42\n",
       "Saudi Arabia                               20\n",
       "Israel                                     13\n",
       "United Arab Emirates                        9\n",
       "Qatar                                       3\n",
       "Bahrain                                     1\n",
       "Oman                                        1"
      ]
     },
     "metadata": {},
     "output_type": "display_data"
    },
    {
     "name": "stdout",
     "output_type": "stream",
     "text": [
      "Region:  EU 8\n"
     ]
    },
    {
     "data": {
      "text/html": [
       "<div>\n",
       "<style scoped>\n",
       "    .dataframe tbody tr th:only-of-type {\n",
       "        vertical-align: middle;\n",
       "    }\n",
       "\n",
       "    .dataframe tbody tr th {\n",
       "        vertical-align: top;\n",
       "    }\n",
       "\n",
       "    .dataframe thead th {\n",
       "        text-align: right;\n",
       "    }\n",
       "</style>\n",
       "<table border=\"1\" class=\"dataframe\">\n",
       "  <thead>\n",
       "    <tr style=\"text-align: right;\">\n",
       "      <th></th>\n",
       "      <th>Nationality</th>\n",
       "    </tr>\n",
       "  </thead>\n",
       "  <tbody>\n",
       "    <tr>\n",
       "      <th>Poland</th>\n",
       "      <td>23</td>\n",
       "    </tr>\n",
       "    <tr>\n",
       "      <th>Lithuania</th>\n",
       "      <td>11</td>\n",
       "    </tr>\n",
       "    <tr>\n",
       "      <th>Hungary</th>\n",
       "      <td>10</td>\n",
       "    </tr>\n",
       "    <tr>\n",
       "      <th>Czechia</th>\n",
       "      <td>6</td>\n",
       "    </tr>\n",
       "    <tr>\n",
       "      <th>Slovakia</th>\n",
       "      <td>6</td>\n",
       "    </tr>\n",
       "    <tr>\n",
       "      <th>Latvia</th>\n",
       "      <td>6</td>\n",
       "    </tr>\n",
       "    <tr>\n",
       "      <th>Slovenia</th>\n",
       "      <td>2</td>\n",
       "    </tr>\n",
       "  </tbody>\n",
       "</table>\n",
       "</div>"
      ],
      "text/plain": [
       "           Nationality\n",
       "Poland              23\n",
       "Lithuania           11\n",
       "Hungary             10\n",
       "Czechia              6\n",
       "Slovakia             6\n",
       "Latvia               6\n",
       "Slovenia             2"
      ]
     },
     "metadata": {},
     "output_type": "display_data"
    },
    {
     "name": "stdout",
     "output_type": "stream",
     "text": [
      "Region:  Asia South East\n"
     ]
    },
    {
     "data": {
      "text/html": [
       "<div>\n",
       "<style scoped>\n",
       "    .dataframe tbody tr th:only-of-type {\n",
       "        vertical-align: middle;\n",
       "    }\n",
       "\n",
       "    .dataframe tbody tr th {\n",
       "        vertical-align: top;\n",
       "    }\n",
       "\n",
       "    .dataframe thead th {\n",
       "        text-align: right;\n",
       "    }\n",
       "</style>\n",
       "<table border=\"1\" class=\"dataframe\">\n",
       "  <thead>\n",
       "    <tr style=\"text-align: right;\">\n",
       "      <th></th>\n",
       "      <th>Nationality</th>\n",
       "    </tr>\n",
       "  </thead>\n",
       "  <tbody>\n",
       "    <tr>\n",
       "      <th>Vietnam</th>\n",
       "      <td>365</td>\n",
       "    </tr>\n",
       "    <tr>\n",
       "      <th>Philippines</th>\n",
       "      <td>11</td>\n",
       "    </tr>\n",
       "    <tr>\n",
       "      <th>Myanmar (Burma)</th>\n",
       "      <td>9</td>\n",
       "    </tr>\n",
       "    <tr>\n",
       "      <th>Thailand</th>\n",
       "      <td>6</td>\n",
       "    </tr>\n",
       "    <tr>\n",
       "      <th>Indonesia</th>\n",
       "      <td>5</td>\n",
       "    </tr>\n",
       "    <tr>\n",
       "      <th>Malaysia</th>\n",
       "      <td>2</td>\n",
       "    </tr>\n",
       "    <tr>\n",
       "      <th>Singapore</th>\n",
       "      <td>2</td>\n",
       "    </tr>\n",
       "    <tr>\n",
       "      <th>Laos</th>\n",
       "      <td>1</td>\n",
       "    </tr>\n",
       "    <tr>\n",
       "      <th>Cambodia</th>\n",
       "      <td>1</td>\n",
       "    </tr>\n",
       "    <tr>\n",
       "      <th>East Timor</th>\n",
       "      <td>1</td>\n",
       "    </tr>\n",
       "  </tbody>\n",
       "</table>\n",
       "</div>"
      ],
      "text/plain": [
       "                 Nationality\n",
       "Vietnam                  365\n",
       "Philippines               11\n",
       "Myanmar (Burma)            9\n",
       "Thailand                   6\n",
       "Indonesia                  5\n",
       "Malaysia                   2\n",
       "Singapore                  2\n",
       "Laos                       1\n",
       "Cambodia                   1\n",
       "East Timor                 1"
      ]
     },
     "metadata": {},
     "output_type": "display_data"
    },
    {
     "name": "stdout",
     "output_type": "stream",
     "text": [
      "Region:  EU 2\n"
     ]
    },
    {
     "data": {
      "text/html": [
       "<div>\n",
       "<style scoped>\n",
       "    .dataframe tbody tr th:only-of-type {\n",
       "        vertical-align: middle;\n",
       "    }\n",
       "\n",
       "    .dataframe tbody tr th {\n",
       "        vertical-align: top;\n",
       "    }\n",
       "\n",
       "    .dataframe thead th {\n",
       "        text-align: right;\n",
       "    }\n",
       "</style>\n",
       "<table border=\"1\" class=\"dataframe\">\n",
       "  <thead>\n",
       "    <tr style=\"text-align: right;\">\n",
       "      <th></th>\n",
       "      <th>Nationality</th>\n",
       "    </tr>\n",
       "  </thead>\n",
       "  <tbody>\n",
       "    <tr>\n",
       "      <th>Romania</th>\n",
       "      <td>48</td>\n",
       "    </tr>\n",
       "    <tr>\n",
       "      <th>Bulgaria</th>\n",
       "      <td>13</td>\n",
       "    </tr>\n",
       "  </tbody>\n",
       "</table>\n",
       "</div>"
      ],
      "text/plain": [
       "          Nationality\n",
       "Romania            48\n",
       "Bulgaria           13"
      ]
     },
     "metadata": {},
     "output_type": "display_data"
    },
    {
     "name": "stdout",
     "output_type": "stream",
     "text": [
      "Region:  EU Other\n"
     ]
    },
    {
     "data": {
      "text/html": [
       "<div>\n",
       "<style scoped>\n",
       "    .dataframe tbody tr th:only-of-type {\n",
       "        vertical-align: middle;\n",
       "    }\n",
       "\n",
       "    .dataframe tbody tr th {\n",
       "        vertical-align: top;\n",
       "    }\n",
       "\n",
       "    .dataframe thead th {\n",
       "        text-align: right;\n",
       "    }\n",
       "</style>\n",
       "<table border=\"1\" class=\"dataframe\">\n",
       "  <thead>\n",
       "    <tr style=\"text-align: right;\">\n",
       "      <th></th>\n",
       "      <th>Nationality</th>\n",
       "    </tr>\n",
       "  </thead>\n",
       "  <tbody>\n",
       "    <tr>\n",
       "      <th>Cyprus</th>\n",
       "      <td>1</td>\n",
       "    </tr>\n",
       "    <tr>\n",
       "      <th>Malta</th>\n",
       "      <td>1</td>\n",
       "    </tr>\n",
       "    <tr>\n",
       "      <th>Croatia</th>\n",
       "      <td>1</td>\n",
       "    </tr>\n",
       "  </tbody>\n",
       "</table>\n",
       "</div>"
      ],
      "text/plain": [
       "         Nationality\n",
       "Cyprus             1\n",
       "Malta              1\n",
       "Croatia            1"
      ]
     },
     "metadata": {},
     "output_type": "display_data"
    },
    {
     "name": "stdout",
     "output_type": "stream",
     "text": [
      "Region:  Oceania\n"
     ]
    },
    {
     "data": {
      "text/html": [
       "<div>\n",
       "<style scoped>\n",
       "    .dataframe tbody tr th:only-of-type {\n",
       "        vertical-align: middle;\n",
       "    }\n",
       "\n",
       "    .dataframe tbody tr th {\n",
       "        vertical-align: top;\n",
       "    }\n",
       "\n",
       "    .dataframe thead th {\n",
       "        text-align: right;\n",
       "    }\n",
       "</style>\n",
       "<table border=\"1\" class=\"dataframe\">\n",
       "  <thead>\n",
       "    <tr style=\"text-align: right;\">\n",
       "      <th></th>\n",
       "      <th>Nationality</th>\n",
       "    </tr>\n",
       "  </thead>\n",
       "  <tbody>\n",
       "    <tr>\n",
       "      <th>Fiji</th>\n",
       "      <td>1</td>\n",
       "    </tr>\n",
       "    <tr>\n",
       "      <th>Australia</th>\n",
       "      <td>1</td>\n",
       "    </tr>\n",
       "    <tr>\n",
       "      <th>Marshall Islands</th>\n",
       "      <td>1</td>\n",
       "    </tr>\n",
       "    <tr>\n",
       "      <th>Papua New Guinea</th>\n",
       "      <td>1</td>\n",
       "    </tr>\n",
       "  </tbody>\n",
       "</table>\n",
       "</div>"
      ],
      "text/plain": [
       "                  Nationality\n",
       "Fiji                        1\n",
       "Australia                   1\n",
       "Marshall Islands            1\n",
       "Papua New Guinea            1"
      ]
     },
     "metadata": {},
     "output_type": "display_data"
    },
    {
     "name": "stdout",
     "output_type": "stream",
     "text": [
      "Region:  Not currently recorded\n"
     ]
    },
    {
     "data": {
      "text/html": [
       "<div>\n",
       "<style scoped>\n",
       "    .dataframe tbody tr th:only-of-type {\n",
       "        vertical-align: middle;\n",
       "    }\n",
       "\n",
       "    .dataframe tbody tr th {\n",
       "        vertical-align: top;\n",
       "    }\n",
       "\n",
       "    .dataframe thead th {\n",
       "        text-align: right;\n",
       "    }\n",
       "</style>\n",
       "<table border=\"1\" class=\"dataframe\">\n",
       "  <thead>\n",
       "    <tr style=\"text-align: right;\">\n",
       "      <th></th>\n",
       "      <th>Nationality</th>\n",
       "    </tr>\n",
       "  </thead>\n",
       "  <tbody>\n",
       "    <tr>\n",
       "      <th>Not currently recorded</th>\n",
       "      <td>15</td>\n",
       "    </tr>\n",
       "  </tbody>\n",
       "</table>\n",
       "</div>"
      ],
      "text/plain": [
       "                        Nationality\n",
       "Not currently recorded           15"
      ]
     },
     "metadata": {},
     "output_type": "display_data"
    }
   ],
   "source": [
    "# run the function for each region in the unique list\n",
    "for i in list(df['Region'].unique()):\n",
    "    nation(i)"
   ]
  },
  {
   "cell_type": "markdown",
   "id": "10d4e600",
   "metadata": {},
   "source": [
    "#### Category Analysis\n",
    "\n",
    "* EU2 - Romania and Bulgaria\n",
    "* EU14 - Italy, Spain, France, Portugal, Germany, Denmark, Greece, Netherlands, Belgium, Sweden, Ireland, Finland, Austria\n",
    "* EU8 - Poland, Lithuania, Hungary, Latvia, Czechia, Slovakia, Slovenia\n",
    "* Europe Other - Albania, Turkey, Georgia, Ukraine, Russia, Azerbaijan, Kosovo, Cyprus(North), Moldova, Belarus, North Macedonia, Norway, Servia, Bosnia and Herzegovina, Andorra, Montenegro, Armenia, Iceland\n",
    "* Other - Stateless, Other and Unknown, Refugee, British Overseas Citizens, Pitcairn Islands, South Georgia and South Sandwich Islands"
   ]
  },
  {
   "cell_type": "code",
   "execution_count": 291,
   "id": "1f427985",
   "metadata": {},
   "outputs": [
    {
     "data": {
      "text/html": [
       "<div>\n",
       "<style scoped>\n",
       "    .dataframe tbody tr th:only-of-type {\n",
       "        vertical-align: middle;\n",
       "    }\n",
       "\n",
       "    .dataframe tbody tr th {\n",
       "        vertical-align: top;\n",
       "    }\n",
       "\n",
       "    .dataframe thead th {\n",
       "        text-align: right;\n",
       "    }\n",
       "</style>\n",
       "<table border=\"1\" class=\"dataframe\">\n",
       "  <thead>\n",
       "    <tr style=\"text-align: right;\">\n",
       "      <th></th>\n",
       "      <th>Region</th>\n",
       "      <th>Number of detections</th>\n",
       "    </tr>\n",
       "  </thead>\n",
       "  <tbody>\n",
       "    <tr>\n",
       "      <th>13</th>\n",
       "      <td>Middle East</td>\n",
       "      <td>87661</td>\n",
       "    </tr>\n",
       "    <tr>\n",
       "      <th>12</th>\n",
       "      <td>Europe Other</td>\n",
       "      <td>32816</td>\n",
       "    </tr>\n",
       "    <tr>\n",
       "      <th>1</th>\n",
       "      <td>Africa Sub-Saharan</td>\n",
       "      <td>27152</td>\n",
       "    </tr>\n",
       "    <tr>\n",
       "      <th>4</th>\n",
       "      <td>Asia Central</td>\n",
       "      <td>26454</td>\n",
       "    </tr>\n",
       "    <tr>\n",
       "      <th>0</th>\n",
       "      <td>Africa North</td>\n",
       "      <td>20568</td>\n",
       "    </tr>\n",
       "    <tr>\n",
       "      <th>7</th>\n",
       "      <td>Asia South East</td>\n",
       "      <td>7945</td>\n",
       "    </tr>\n",
       "    <tr>\n",
       "      <th>6</th>\n",
       "      <td>Asia South</td>\n",
       "      <td>7653</td>\n",
       "    </tr>\n",
       "    <tr>\n",
       "      <th>16</th>\n",
       "      <td>Other</td>\n",
       "      <td>3365</td>\n",
       "    </tr>\n",
       "    <tr>\n",
       "      <th>14</th>\n",
       "      <td>Not currently recorded</td>\n",
       "      <td>3275</td>\n",
       "    </tr>\n",
       "    <tr>\n",
       "      <th>5</th>\n",
       "      <td>Asia East</td>\n",
       "      <td>1086</td>\n",
       "    </tr>\n",
       "    <tr>\n",
       "      <th>2</th>\n",
       "      <td>America Central and South</td>\n",
       "      <td>248</td>\n",
       "    </tr>\n",
       "    <tr>\n",
       "      <th>8</th>\n",
       "      <td>EU 14</td>\n",
       "      <td>190</td>\n",
       "    </tr>\n",
       "    <tr>\n",
       "      <th>9</th>\n",
       "      <td>EU 2</td>\n",
       "      <td>77</td>\n",
       "    </tr>\n",
       "    <tr>\n",
       "      <th>10</th>\n",
       "      <td>EU 8</td>\n",
       "      <td>67</td>\n",
       "    </tr>\n",
       "    <tr>\n",
       "      <th>3</th>\n",
       "      <td>America North</td>\n",
       "      <td>38</td>\n",
       "    </tr>\n",
       "    <tr>\n",
       "      <th>15</th>\n",
       "      <td>Oceania</td>\n",
       "      <td>4</td>\n",
       "    </tr>\n",
       "    <tr>\n",
       "      <th>11</th>\n",
       "      <td>EU Other</td>\n",
       "      <td>3</td>\n",
       "    </tr>\n",
       "  </tbody>\n",
       "</table>\n",
       "</div>"
      ],
      "text/plain": [
       "                       Region  Number of detections\n",
       "13                Middle East                 87661\n",
       "12               Europe Other                 32816\n",
       "1          Africa Sub-Saharan                 27152\n",
       "4                Asia Central                 26454\n",
       "0                Africa North                 20568\n",
       "7             Asia South East                  7945\n",
       "6                  Asia South                  7653\n",
       "16                      Other                  3365\n",
       "14     Not currently recorded                  3275\n",
       "5                   Asia East                  1086\n",
       "2   America Central and South                   248\n",
       "8                       EU 14                   190\n",
       "9                        EU 2                    77\n",
       "10                       EU 8                    67\n",
       "3               America North                    38\n",
       "15                    Oceania                     4\n",
       "11                   EU Other                     3"
      ]
     },
     "execution_count": 291,
     "metadata": {},
     "output_type": "execute_result"
    }
   ],
   "source": [
    "# Groupby region and sort in descending order\n",
    "df.groupby('Region',as_index = False)['Number of detections'].sum().sort_values(by = 'Number of detections', ascending = False)"
   ]
  },
  {
   "cell_type": "markdown",
   "id": "390d232d",
   "metadata": {},
   "source": [
    "* We can see that most come from the Middle East\n",
    "* We can probably clean up the data a little so we can visualise it better\n",
    "* EU14, EU2, EU8 and EU Other into one category"
   ]
  },
  {
   "cell_type": "code",
   "execution_count": 292,
   "id": "c328710e",
   "metadata": {},
   "outputs": [],
   "source": [
    "df_copy = df.copy()\n",
    "\n",
    "df_copy['Region'].replace({'EU 14':'EU','EU 2':'EU','EU 8':'EU','EU Other':'EU'}, inplace = True)"
   ]
  },
  {
   "cell_type": "code",
   "execution_count": 293,
   "id": "5f4de4aa",
   "metadata": {},
   "outputs": [
    {
     "data": {
      "text/html": [
       "<div>\n",
       "<style scoped>\n",
       "    .dataframe tbody tr th:only-of-type {\n",
       "        vertical-align: middle;\n",
       "    }\n",
       "\n",
       "    .dataframe tbody tr th {\n",
       "        vertical-align: top;\n",
       "    }\n",
       "\n",
       "    .dataframe thead th {\n",
       "        text-align: right;\n",
       "    }\n",
       "</style>\n",
       "<table border=\"1\" class=\"dataframe\">\n",
       "  <thead>\n",
       "    <tr style=\"text-align: right;\">\n",
       "      <th></th>\n",
       "      <th>Region</th>\n",
       "      <th>Number of detections</th>\n",
       "    </tr>\n",
       "  </thead>\n",
       "  <tbody>\n",
       "    <tr>\n",
       "      <th>10</th>\n",
       "      <td>Middle East</td>\n",
       "      <td>87661</td>\n",
       "    </tr>\n",
       "    <tr>\n",
       "      <th>9</th>\n",
       "      <td>Europe Other</td>\n",
       "      <td>32816</td>\n",
       "    </tr>\n",
       "    <tr>\n",
       "      <th>1</th>\n",
       "      <td>Africa Sub-Saharan</td>\n",
       "      <td>27152</td>\n",
       "    </tr>\n",
       "    <tr>\n",
       "      <th>4</th>\n",
       "      <td>Asia Central</td>\n",
       "      <td>26454</td>\n",
       "    </tr>\n",
       "    <tr>\n",
       "      <th>0</th>\n",
       "      <td>Africa North</td>\n",
       "      <td>20568</td>\n",
       "    </tr>\n",
       "    <tr>\n",
       "      <th>7</th>\n",
       "      <td>Asia South East</td>\n",
       "      <td>7945</td>\n",
       "    </tr>\n",
       "    <tr>\n",
       "      <th>6</th>\n",
       "      <td>Asia South</td>\n",
       "      <td>7653</td>\n",
       "    </tr>\n",
       "    <tr>\n",
       "      <th>13</th>\n",
       "      <td>Other</td>\n",
       "      <td>3365</td>\n",
       "    </tr>\n",
       "    <tr>\n",
       "      <th>11</th>\n",
       "      <td>Not currently recorded</td>\n",
       "      <td>3275</td>\n",
       "    </tr>\n",
       "    <tr>\n",
       "      <th>5</th>\n",
       "      <td>Asia East</td>\n",
       "      <td>1086</td>\n",
       "    </tr>\n",
       "    <tr>\n",
       "      <th>8</th>\n",
       "      <td>EU</td>\n",
       "      <td>337</td>\n",
       "    </tr>\n",
       "    <tr>\n",
       "      <th>2</th>\n",
       "      <td>America Central and South</td>\n",
       "      <td>248</td>\n",
       "    </tr>\n",
       "    <tr>\n",
       "      <th>3</th>\n",
       "      <td>America North</td>\n",
       "      <td>38</td>\n",
       "    </tr>\n",
       "    <tr>\n",
       "      <th>12</th>\n",
       "      <td>Oceania</td>\n",
       "      <td>4</td>\n",
       "    </tr>\n",
       "  </tbody>\n",
       "</table>\n",
       "</div>"
      ],
      "text/plain": [
       "                       Region  Number of detections\n",
       "10                Middle East                 87661\n",
       "9                Europe Other                 32816\n",
       "1          Africa Sub-Saharan                 27152\n",
       "4                Asia Central                 26454\n",
       "0                Africa North                 20568\n",
       "7             Asia South East                  7945\n",
       "6                  Asia South                  7653\n",
       "13                      Other                  3365\n",
       "11     Not currently recorded                  3275\n",
       "5                   Asia East                  1086\n",
       "8                          EU                   337\n",
       "2   America Central and South                   248\n",
       "3               America North                    38\n",
       "12                    Oceania                     4"
      ]
     },
     "execution_count": 293,
     "metadata": {},
     "output_type": "execute_result"
    }
   ],
   "source": [
    "df_copy.groupby('Region',as_index = False)['Number of detections'].sum().sort_values(by = 'Number of detections', ascending = False)"
   ]
  },
  {
   "cell_type": "code",
   "execution_count": 294,
   "id": "2224a5a8",
   "metadata": {},
   "outputs": [],
   "source": [
    "# Drop those not currently recorded\n",
    "df_copy = df_copy[df_copy['Region']!='Not currently recorded']"
   ]
  },
  {
   "cell_type": "code",
   "execution_count": 295,
   "id": "eb818f04",
   "metadata": {},
   "outputs": [
    {
     "data": {
      "text/html": [
       "<div>\n",
       "<style scoped>\n",
       "    .dataframe tbody tr th:only-of-type {\n",
       "        vertical-align: middle;\n",
       "    }\n",
       "\n",
       "    .dataframe tbody tr th {\n",
       "        vertical-align: top;\n",
       "    }\n",
       "\n",
       "    .dataframe thead th {\n",
       "        text-align: right;\n",
       "    }\n",
       "</style>\n",
       "<table border=\"1\" class=\"dataframe\">\n",
       "  <thead>\n",
       "    <tr style=\"text-align: right;\">\n",
       "      <th></th>\n",
       "      <th>Region</th>\n",
       "      <th>Number of detections</th>\n",
       "    </tr>\n",
       "  </thead>\n",
       "  <tbody>\n",
       "    <tr>\n",
       "      <th>10</th>\n",
       "      <td>Middle East</td>\n",
       "      <td>87661</td>\n",
       "    </tr>\n",
       "    <tr>\n",
       "      <th>9</th>\n",
       "      <td>Europe Other</td>\n",
       "      <td>32816</td>\n",
       "    </tr>\n",
       "    <tr>\n",
       "      <th>1</th>\n",
       "      <td>Africa Sub-Saharan</td>\n",
       "      <td>27152</td>\n",
       "    </tr>\n",
       "    <tr>\n",
       "      <th>4</th>\n",
       "      <td>Asia Central</td>\n",
       "      <td>26454</td>\n",
       "    </tr>\n",
       "    <tr>\n",
       "      <th>0</th>\n",
       "      <td>Africa North</td>\n",
       "      <td>20568</td>\n",
       "    </tr>\n",
       "  </tbody>\n",
       "</table>\n",
       "</div>"
      ],
      "text/plain": [
       "                Region  Number of detections\n",
       "10         Middle East                 87661\n",
       "9         Europe Other                 32816\n",
       "1   Africa Sub-Saharan                 27152\n",
       "4         Asia Central                 26454\n",
       "0         Africa North                 20568"
      ]
     },
     "execution_count": 295,
     "metadata": {},
     "output_type": "execute_result"
    }
   ],
   "source": [
    "df_region = df_copy.groupby(['Region'], as_index = False)['Number of detections'].sum().sort_values(by = 'Number of detections',ascending = False)\n",
    "df_region.head()"
   ]
  },
  {
   "cell_type": "code",
   "execution_count": 299,
   "id": "7b834271",
   "metadata": {},
   "outputs": [
    {
     "data": {
      "image/png": "[encoded data removed]",
      "text/plain": [
       "<Figure size 720x432 with 1 Axes>"
      ]
     },
     "metadata": {
      "needs_background": "light"
     },
     "output_type": "display_data"
    }
   ],
   "source": [
    "# Plot the age data\n",
    "plt.figure(figsize=(10, 6))\n",
    "ax = sns.barplot(data = df_region, \n",
    "                 y = 'Region',\n",
    "                 x = 'Number of detections',\n",
    "                 #errorbar = None,\n",
    "                 palette = 'dark',\n",
    "                )\n",
    "plt.title(\"Regions of Origin for Irregular Arrivals 2018 - 2024\")\n",
    "ax.spines['top'].set_visible(False)\n",
    "ax.spines['right'].set_visible(False)\n",
    "plt.xlim(0,90000)\n",
    "plt.ylabel(\"\")\n",
    "plt.xlabel(\"Number\", labelpad = 10);"
   ]
  },
  {
   "cell_type": "markdown",
   "id": "82f622a7",
   "metadata": {},
   "source": [
    "The Middle East is by far and away the source of the largest number of irregular arrivals. We can see if this has changed in pattern over the years or if this has been the main source for the whole six year period."
   ]
  },
  {
   "cell_type": "code",
   "execution_count": 300,
   "id": "be910d70",
   "metadata": {},
   "outputs": [
    {
     "data": {
      "text/html": [
       "<div>\n",
       "<style scoped>\n",
       "    .dataframe tbody tr th:only-of-type {\n",
       "        vertical-align: middle;\n",
       "    }\n",
       "\n",
       "    .dataframe tbody tr th {\n",
       "        vertical-align: top;\n",
       "    }\n",
       "\n",
       "    .dataframe thead th {\n",
       "        text-align: right;\n",
       "    }\n",
       "</style>\n",
       "<table border=\"1\" class=\"dataframe\">\n",
       "  <thead>\n",
       "    <tr style=\"text-align: right;\">\n",
       "      <th></th>\n",
       "      <th>Year</th>\n",
       "      <th>Region</th>\n",
       "      <th>Number of detections</th>\n",
       "    </tr>\n",
       "  </thead>\n",
       "  <tbody>\n",
       "    <tr>\n",
       "      <th>0</th>\n",
       "      <td>2018</td>\n",
       "      <td>Africa North</td>\n",
       "      <td>1484</td>\n",
       "    </tr>\n",
       "    <tr>\n",
       "      <th>1</th>\n",
       "      <td>2018</td>\n",
       "      <td>Africa Sub-Saharan</td>\n",
       "      <td>2290</td>\n",
       "    </tr>\n",
       "    <tr>\n",
       "      <th>2</th>\n",
       "      <td>2018</td>\n",
       "      <td>America Central and South</td>\n",
       "      <td>31</td>\n",
       "    </tr>\n",
       "    <tr>\n",
       "      <th>3</th>\n",
       "      <td>2018</td>\n",
       "      <td>America North</td>\n",
       "      <td>15</td>\n",
       "    </tr>\n",
       "    <tr>\n",
       "      <th>4</th>\n",
       "      <td>2018</td>\n",
       "      <td>Asia Central</td>\n",
       "      <td>741</td>\n",
       "    </tr>\n",
       "    <tr>\n",
       "      <th>...</th>\n",
       "      <td>...</td>\n",
       "      <td>...</td>\n",
       "      <td>...</td>\n",
       "    </tr>\n",
       "    <tr>\n",
       "      <th>81</th>\n",
       "      <td>2024</td>\n",
       "      <td>Asia South East</td>\n",
       "      <td>3803</td>\n",
       "    </tr>\n",
       "    <tr>\n",
       "      <th>82</th>\n",
       "      <td>2024</td>\n",
       "      <td>EU</td>\n",
       "      <td>57</td>\n",
       "    </tr>\n",
       "    <tr>\n",
       "      <th>83</th>\n",
       "      <td>2024</td>\n",
       "      <td>Europe Other</td>\n",
       "      <td>3711</td>\n",
       "    </tr>\n",
       "    <tr>\n",
       "      <th>84</th>\n",
       "      <td>2024</td>\n",
       "      <td>Middle East</td>\n",
       "      <td>15318</td>\n",
       "    </tr>\n",
       "    <tr>\n",
       "      <th>85</th>\n",
       "      <td>2024</td>\n",
       "      <td>Other</td>\n",
       "      <td>607</td>\n",
       "    </tr>\n",
       "  </tbody>\n",
       "</table>\n",
       "<p>86 rows × 3 columns</p>\n",
       "</div>"
      ],
      "text/plain": [
       "    Year                     Region  Number of detections\n",
       "0   2018               Africa North                  1484\n",
       "1   2018         Africa Sub-Saharan                  2290\n",
       "2   2018  America Central and South                    31\n",
       "3   2018              America North                    15\n",
       "4   2018               Asia Central                   741\n",
       "..   ...                        ...                   ...\n",
       "81  2024            Asia South East                  3803\n",
       "82  2024                         EU                    57\n",
       "83  2024               Europe Other                  3711\n",
       "84  2024                Middle East                 15318\n",
       "85  2024                      Other                   607\n",
       "\n",
       "[86 rows x 3 columns]"
      ]
     },
     "execution_count": 300,
     "metadata": {},
     "output_type": "execute_result"
    }
   ],
   "source": [
    "# Groupby region and year\n",
    "region_year = df_copy.groupby(['Year','Region'], as_index = False)['Number of detections'].sum()\n",
    "region_year"
   ]
  },
  {
   "cell_type": "code",
   "execution_count": 306,
   "id": "ce899a82",
   "metadata": {},
   "outputs": [
    {
     "data": {
      "text/html": [
       "<div>\n",
       "<style scoped>\n",
       "    .dataframe tbody tr th:only-of-type {\n",
       "        vertical-align: middle;\n",
       "    }\n",
       "\n",
       "    .dataframe tbody tr th {\n",
       "        vertical-align: top;\n",
       "    }\n",
       "\n",
       "    .dataframe thead th {\n",
       "        text-align: right;\n",
       "    }\n",
       "</style>\n",
       "<table border=\"1\" class=\"dataframe\">\n",
       "  <thead>\n",
       "    <tr style=\"text-align: right;\">\n",
       "      <th></th>\n",
       "      <th>Year</th>\n",
       "      <th>Region</th>\n",
       "      <th>Number of detections</th>\n",
       "    </tr>\n",
       "  </thead>\n",
       "  <tbody>\n",
       "    <tr>\n",
       "      <th>84</th>\n",
       "      <td>2024</td>\n",
       "      <td>Middle East</td>\n",
       "      <td>15318</td>\n",
       "    </tr>\n",
       "    <tr>\n",
       "      <th>78</th>\n",
       "      <td>2024</td>\n",
       "      <td>Asia Central</td>\n",
       "      <td>6360</td>\n",
       "    </tr>\n",
       "    <tr>\n",
       "      <th>75</th>\n",
       "      <td>2024</td>\n",
       "      <td>Africa Sub-Saharan</td>\n",
       "      <td>6142</td>\n",
       "    </tr>\n",
       "    <tr>\n",
       "      <th>74</th>\n",
       "      <td>2024</td>\n",
       "      <td>Africa North</td>\n",
       "      <td>4477</td>\n",
       "    </tr>\n",
       "    <tr>\n",
       "      <th>81</th>\n",
       "      <td>2024</td>\n",
       "      <td>Asia South East</td>\n",
       "      <td>3803</td>\n",
       "    </tr>\n",
       "    <tr>\n",
       "      <th>...</th>\n",
       "      <td>...</td>\n",
       "      <td>...</td>\n",
       "      <td>...</td>\n",
       "    </tr>\n",
       "    <tr>\n",
       "      <th>11</th>\n",
       "      <td>2018</td>\n",
       "      <td>Other</td>\n",
       "      <td>205</td>\n",
       "    </tr>\n",
       "    <tr>\n",
       "      <th>7</th>\n",
       "      <td>2018</td>\n",
       "      <td>Asia South East</td>\n",
       "      <td>196</td>\n",
       "    </tr>\n",
       "    <tr>\n",
       "      <th>8</th>\n",
       "      <td>2018</td>\n",
       "      <td>EU</td>\n",
       "      <td>45</td>\n",
       "    </tr>\n",
       "    <tr>\n",
       "      <th>2</th>\n",
       "      <td>2018</td>\n",
       "      <td>America Central and South</td>\n",
       "      <td>31</td>\n",
       "    </tr>\n",
       "    <tr>\n",
       "      <th>3</th>\n",
       "      <td>2018</td>\n",
       "      <td>America North</td>\n",
       "      <td>15</td>\n",
       "    </tr>\n",
       "  </tbody>\n",
       "</table>\n",
       "<p>86 rows × 3 columns</p>\n",
       "</div>"
      ],
      "text/plain": [
       "    Year                     Region  Number of detections\n",
       "84  2024                Middle East                 15318\n",
       "78  2024               Asia Central                  6360\n",
       "75  2024         Africa Sub-Saharan                  6142\n",
       "74  2024               Africa North                  4477\n",
       "81  2024            Asia South East                  3803\n",
       "..   ...                        ...                   ...\n",
       "11  2018                      Other                   205\n",
       "7   2018            Asia South East                   196\n",
       "8   2018                         EU                    45\n",
       "2   2018  America Central and South                    31\n",
       "3   2018              America North                    15\n",
       "\n",
       "[86 rows x 3 columns]"
      ]
     },
     "execution_count": 306,
     "metadata": {},
     "output_type": "execute_result"
    }
   ],
   "source": [
    "region_year.sort_values(by = [\"Year\",\"Number of detections\"],ascending = False)"
   ]
  },
  {
   "cell_type": "code",
   "execution_count": 301,
   "id": "38fc3452",
   "metadata": {},
   "outputs": [
    {
     "data": {
      "text/html": [
       "<div>\n",
       "<style scoped>\n",
       "    .dataframe tbody tr th:only-of-type {\n",
       "        vertical-align: middle;\n",
       "    }\n",
       "\n",
       "    .dataframe tbody tr th {\n",
       "        vertical-align: top;\n",
       "    }\n",
       "\n",
       "    .dataframe thead th {\n",
       "        text-align: right;\n",
       "    }\n",
       "</style>\n",
       "<table border=\"1\" class=\"dataframe\">\n",
       "  <thead>\n",
       "    <tr style=\"text-align: right;\">\n",
       "      <th>Region</th>\n",
       "      <th>Year</th>\n",
       "      <th>Africa North</th>\n",
       "      <th>Africa Sub-Saharan</th>\n",
       "      <th>America Central and South</th>\n",
       "      <th>America North</th>\n",
       "      <th>Asia Central</th>\n",
       "      <th>Asia East</th>\n",
       "      <th>Asia South</th>\n",
       "      <th>Asia South East</th>\n",
       "      <th>EU</th>\n",
       "      <th>Europe Other</th>\n",
       "      <th>Middle East</th>\n",
       "      <th>Oceania</th>\n",
       "      <th>Other</th>\n",
       "    </tr>\n",
       "  </thead>\n",
       "  <tbody>\n",
       "    <tr>\n",
       "      <th>0</th>\n",
       "      <td>2018</td>\n",
       "      <td>1484.0</td>\n",
       "      <td>2290.0</td>\n",
       "      <td>31.0</td>\n",
       "      <td>15.0</td>\n",
       "      <td>741.0</td>\n",
       "      <td>388.0</td>\n",
       "      <td>342.0</td>\n",
       "      <td>196.0</td>\n",
       "      <td>45.0</td>\n",
       "      <td>1402.0</td>\n",
       "      <td>6238.0</td>\n",
       "      <td>NaN</td>\n",
       "      <td>205.0</td>\n",
       "    </tr>\n",
       "    <tr>\n",
       "      <th>1</th>\n",
       "      <td>2019</td>\n",
       "      <td>1376.0</td>\n",
       "      <td>2014.0</td>\n",
       "      <td>45.0</td>\n",
       "      <td>5.0</td>\n",
       "      <td>845.0</td>\n",
       "      <td>283.0</td>\n",
       "      <td>503.0</td>\n",
       "      <td>274.0</td>\n",
       "      <td>48.0</td>\n",
       "      <td>1603.0</td>\n",
       "      <td>8813.0</td>\n",
       "      <td>NaN</td>\n",
       "      <td>472.0</td>\n",
       "    </tr>\n",
       "    <tr>\n",
       "      <th>2</th>\n",
       "      <td>2020</td>\n",
       "      <td>2240.0</td>\n",
       "      <td>2814.0</td>\n",
       "      <td>43.0</td>\n",
       "      <td>NaN</td>\n",
       "      <td>910.0</td>\n",
       "      <td>14.0</td>\n",
       "      <td>472.0</td>\n",
       "      <td>199.0</td>\n",
       "      <td>24.0</td>\n",
       "      <td>1421.0</td>\n",
       "      <td>8201.0</td>\n",
       "      <td>1.0</td>\n",
       "      <td>761.0</td>\n",
       "    </tr>\n",
       "    <tr>\n",
       "      <th>3</th>\n",
       "      <td>2021</td>\n",
       "      <td>2953.0</td>\n",
       "      <td>5599.0</td>\n",
       "      <td>23.0</td>\n",
       "      <td>4.0</td>\n",
       "      <td>1950.0</td>\n",
       "      <td>12.0</td>\n",
       "      <td>696.0</td>\n",
       "      <td>1445.0</td>\n",
       "      <td>47.0</td>\n",
       "      <td>2717.0</td>\n",
       "      <td>20093.0</td>\n",
       "      <td>NaN</td>\n",
       "      <td>692.0</td>\n",
       "    </tr>\n",
       "    <tr>\n",
       "      <th>4</th>\n",
       "      <td>2022</td>\n",
       "      <td>4303.0</td>\n",
       "      <td>3960.0</td>\n",
       "      <td>34.0</td>\n",
       "      <td>5.0</td>\n",
       "      <td>9508.0</td>\n",
       "      <td>20.0</td>\n",
       "      <td>1858.0</td>\n",
       "      <td>566.0</td>\n",
       "      <td>57.0</td>\n",
       "      <td>16243.0</td>\n",
       "      <td>17561.0</td>\n",
       "      <td>2.0</td>\n",
       "      <td>385.0</td>\n",
       "    </tr>\n",
       "    <tr>\n",
       "      <th>5</th>\n",
       "      <td>2023</td>\n",
       "      <td>3735.0</td>\n",
       "      <td>4333.0</td>\n",
       "      <td>33.0</td>\n",
       "      <td>4.0</td>\n",
       "      <td>6140.0</td>\n",
       "      <td>201.0</td>\n",
       "      <td>2296.0</td>\n",
       "      <td>1462.0</td>\n",
       "      <td>59.0</td>\n",
       "      <td>5719.0</td>\n",
       "      <td>11437.0</td>\n",
       "      <td>1.0</td>\n",
       "      <td>243.0</td>\n",
       "    </tr>\n",
       "    <tr>\n",
       "      <th>6</th>\n",
       "      <td>2024</td>\n",
       "      <td>4477.0</td>\n",
       "      <td>6142.0</td>\n",
       "      <td>39.0</td>\n",
       "      <td>5.0</td>\n",
       "      <td>6360.0</td>\n",
       "      <td>168.0</td>\n",
       "      <td>1486.0</td>\n",
       "      <td>3803.0</td>\n",
       "      <td>57.0</td>\n",
       "      <td>3711.0</td>\n",
       "      <td>15318.0</td>\n",
       "      <td>NaN</td>\n",
       "      <td>607.0</td>\n",
       "    </tr>\n",
       "  </tbody>\n",
       "</table>\n",
       "</div>"
      ],
      "text/plain": [
       "Region  Year  Africa North  Africa Sub-Saharan  America Central and South  \\\n",
       "0       2018        1484.0              2290.0                       31.0   \n",
       "1       2019        1376.0              2014.0                       45.0   \n",
       "2       2020        2240.0              2814.0                       43.0   \n",
       "3       2021        2953.0              5599.0                       23.0   \n",
       "4       2022        4303.0              3960.0                       34.0   \n",
       "5       2023        3735.0              4333.0                       33.0   \n",
       "6       2024        4477.0              6142.0                       39.0   \n",
       "\n",
       "Region  America North  Asia Central  Asia East  Asia South  Asia South East  \\\n",
       "0                15.0         741.0      388.0       342.0            196.0   \n",
       "1                 5.0         845.0      283.0       503.0            274.0   \n",
       "2                 NaN         910.0       14.0       472.0            199.0   \n",
       "3                 4.0        1950.0       12.0       696.0           1445.0   \n",
       "4                 5.0        9508.0       20.0      1858.0            566.0   \n",
       "5                 4.0        6140.0      201.0      2296.0           1462.0   \n",
       "6                 5.0        6360.0      168.0      1486.0           3803.0   \n",
       "\n",
       "Region    EU  Europe Other  Middle East  Oceania  Other  \n",
       "0       45.0        1402.0       6238.0      NaN  205.0  \n",
       "1       48.0        1603.0       8813.0      NaN  472.0  \n",
       "2       24.0        1421.0       8201.0      1.0  761.0  \n",
       "3       47.0        2717.0      20093.0      NaN  692.0  \n",
       "4       57.0       16243.0      17561.0      2.0  385.0  \n",
       "5       59.0        5719.0      11437.0      1.0  243.0  \n",
       "6       57.0        3711.0      15318.0      NaN  607.0  "
      ]
     },
     "execution_count": 301,
     "metadata": {},
     "output_type": "execute_result"
    }
   ],
   "source": [
    "# Create a crosstab table for the values we want\n",
    "region_cross = pd.crosstab(index = region_year['Year'], columns = region_year['Region'], values = region_year['Number of detections'],aggfunc = 'sum')\n",
    "region_cross = region_cross.reset_index()\n",
    "region_cross"
   ]
  },
  {
   "cell_type": "code",
   "execution_count": 567,
   "id": "a784fda5",
   "metadata": {},
   "outputs": [
    {
     "data": {
      "text/plain": [
       "''"
      ]
     },
     "execution_count": 567,
     "metadata": {},
     "output_type": "execute_result"
    },
    {
     "data": {
      "image/png": "[encoded data removed]",
      "text/plain": [
       "<Figure size 864x432 with 1 Axes>"
      ]
     },
     "metadata": {
      "needs_background": "light"
     },
     "output_type": "display_data"
    }
   ],
   "source": [
    "# Plot a line chart\n",
    "sns.set_palette(\"dark\")\n",
    "fig, ax = plt.subplots(figsize = (12,6))\n",
    "region_cross.set_index('Year').plot(ax = ax)\n",
    "ax.legend(bbox_to_anchor=(1.1, 1))\n",
    "plt.title('Irregular Arrivals by Region 2018 to 2024', fontsize = 15)\n",
    "plt.text(2024,16000,'Middle East', fontsize = 8)\n",
    "plt.text(2022.75,9500,'Europe Other', fontsize = 8)\n",
    "plt.text(2023.5,7000,'Asia Central', fontsize = 8)\n",
    "plt.text(2024.1,6000,'Sub-Saharan Africa', fontsize = 8)\n",
    "plt.text(2024.1,6000,'Sub-Saharan Africa', fontsize = 8)\n",
    "plt.text(2024.1,4600,'North Africa', fontsize = 8)\n",
    "plt.xlabel(\"\")\n",
    "ax.spines['top'].set_visible(False)\n",
    "ax.spines['right'].set_visible(False)\n",
    ";"
   ]
  },
  {
   "cell_type": "markdown",
   "id": "6fb909c1",
   "metadata": {},
   "source": [
    "* The chart clearly shows the peaks in 2022 amongst the biggest source regions\n",
    "* The Middle East peaks in 2021\n",
    "* Europe Other region includes Ukraine, where we might expect larger numbers of people to originate from due to the war but we need to investigate this a bit further\n",
    "* Asia Central peaks in 2022\n",
    "* Since then the numbers have been falling but remain higher than the period prior to the Covid lockdown\n",
    "* We can look at the proportions of the top five regions over the period"
   ]
  },
  {
   "cell_type": "code",
   "execution_count": 320,
   "id": "58d0c410",
   "metadata": {},
   "outputs": [
    {
     "data": {
      "text/plain": [
       "array(['Asia Central', 'Europe Other', 'Africa North',\n",
       "       'Africa Sub-Saharan', 'America Central and South', 'Other',\n",
       "       'America North', 'Asia East', 'EU', 'Asia South', 'Middle East',\n",
       "       'Asia South East', 'Oceania'], dtype=object)"
      ]
     },
     "execution_count": 320,
     "metadata": {},
     "output_type": "execute_result"
    }
   ],
   "source": [
    "df_copy['Region'].unique()"
   ]
  },
  {
   "cell_type": "code",
   "execution_count": 321,
   "id": "31652c14",
   "metadata": {},
   "outputs": [
    {
     "data": {
      "text/html": [
       "<div>\n",
       "<style scoped>\n",
       "    .dataframe tbody tr th:only-of-type {\n",
       "        vertical-align: middle;\n",
       "    }\n",
       "\n",
       "    .dataframe tbody tr th {\n",
       "        vertical-align: top;\n",
       "    }\n",
       "\n",
       "    .dataframe thead th {\n",
       "        text-align: right;\n",
       "    }\n",
       "</style>\n",
       "<table border=\"1\" class=\"dataframe\">\n",
       "  <thead>\n",
       "    <tr style=\"text-align: right;\">\n",
       "      <th>Region</th>\n",
       "      <th>Africa North</th>\n",
       "      <th>Africa Sub-Saharan</th>\n",
       "      <th>Asia Central</th>\n",
       "      <th>Europe Other</th>\n",
       "      <th>Middle East</th>\n",
       "    </tr>\n",
       "    <tr>\n",
       "      <th>Year</th>\n",
       "      <th></th>\n",
       "      <th></th>\n",
       "      <th></th>\n",
       "      <th></th>\n",
       "      <th></th>\n",
       "    </tr>\n",
       "  </thead>\n",
       "  <tbody>\n",
       "    <tr>\n",
       "      <th>2018</th>\n",
       "      <td>1484</td>\n",
       "      <td>2290</td>\n",
       "      <td>741</td>\n",
       "      <td>1402</td>\n",
       "      <td>6238</td>\n",
       "    </tr>\n",
       "    <tr>\n",
       "      <th>2019</th>\n",
       "      <td>1376</td>\n",
       "      <td>2014</td>\n",
       "      <td>845</td>\n",
       "      <td>1603</td>\n",
       "      <td>8813</td>\n",
       "    </tr>\n",
       "    <tr>\n",
       "      <th>2020</th>\n",
       "      <td>2240</td>\n",
       "      <td>2814</td>\n",
       "      <td>910</td>\n",
       "      <td>1421</td>\n",
       "      <td>8201</td>\n",
       "    </tr>\n",
       "    <tr>\n",
       "      <th>2021</th>\n",
       "      <td>2953</td>\n",
       "      <td>5599</td>\n",
       "      <td>1950</td>\n",
       "      <td>2717</td>\n",
       "      <td>20093</td>\n",
       "    </tr>\n",
       "    <tr>\n",
       "      <th>2022</th>\n",
       "      <td>4303</td>\n",
       "      <td>3960</td>\n",
       "      <td>9508</td>\n",
       "      <td>16243</td>\n",
       "      <td>17561</td>\n",
       "    </tr>\n",
       "    <tr>\n",
       "      <th>2023</th>\n",
       "      <td>3735</td>\n",
       "      <td>4333</td>\n",
       "      <td>6140</td>\n",
       "      <td>5719</td>\n",
       "      <td>11437</td>\n",
       "    </tr>\n",
       "    <tr>\n",
       "      <th>2024</th>\n",
       "      <td>4477</td>\n",
       "      <td>6142</td>\n",
       "      <td>6360</td>\n",
       "      <td>3711</td>\n",
       "      <td>15318</td>\n",
       "    </tr>\n",
       "  </tbody>\n",
       "</table>\n",
       "</div>"
      ],
      "text/plain": [
       "Region  Africa North  Africa Sub-Saharan  Asia Central  Europe Other  \\\n",
       "Year                                                                   \n",
       "2018            1484                2290           741          1402   \n",
       "2019            1376                2014           845          1603   \n",
       "2020            2240                2814           910          1421   \n",
       "2021            2953                5599          1950          2717   \n",
       "2022            4303                3960          9508         16243   \n",
       "2023            3735                4333          6140          5719   \n",
       "2024            4477                6142          6360          3711   \n",
       "\n",
       "Region  Middle East  \n",
       "Year                 \n",
       "2018           6238  \n",
       "2019           8813  \n",
       "2020           8201  \n",
       "2021          20093  \n",
       "2022          17561  \n",
       "2023          11437  \n",
       "2024          15318  "
      ]
     },
     "execution_count": 321,
     "metadata": {},
     "output_type": "execute_result"
    }
   ],
   "source": [
    "# Filter for top 5 regions\n",
    "regions = ['Middle East','Europe Other', 'Asia Central', 'Africa Sub-Saharan', 'Africa North']\n",
    "top5 = df_copy[df_copy['Region'].isin(regions)]\n",
    "\n",
    "# Groupby year\n",
    "top5_year = top5.groupby(['Year','Region'], as_index = False)['Number of detections'].sum()\n",
    "\n",
    "# Create a crosstab table for the values we want\n",
    "top5_cross = pd.crosstab(index = top5_year['Year'], \n",
    "                         columns = top5_year['Region'], \n",
    "                         values = top5_year['Number of detections'],\n",
    "                         aggfunc = 'sum',\n",
    "                         )\n",
    "top5_cross"
   ]
  },
  {
   "cell_type": "markdown",
   "id": "63ded80b",
   "metadata": {},
   "source": [
    "### Analysis of some of the peaks on the chart"
   ]
  },
  {
   "cell_type": "code",
   "execution_count": 610,
   "id": "5beec742",
   "metadata": {},
   "outputs": [
    {
     "data": {
      "text/plain": [
       "Nationality\n",
       "Albania                      13602\n",
       "Azerbaijan                      18\n",
       "Belarus                          1\n",
       "Bosnia and Herzegovina           1\n",
       "Cyprus (Northern part of)        7\n",
       "Georgia                       1214\n",
       "Iceland                          1\n",
       "Kosovo                          19\n",
       "Moldova                          4\n",
       "Montenegro                       2\n",
       "North Macedonia                  4\n",
       "Russia                          16\n",
       "Turkey                        1341\n",
       "Ukraine                         13\n",
       "Name: Number of detections, dtype: int32"
      ]
     },
     "execution_count": 610,
     "metadata": {},
     "output_type": "execute_result"
    }
   ],
   "source": [
    "# 2022 analysis of Europe Other\n",
    "df[(df['Region']=='Europe Other') & (df['Year']==2022)].groupby('Nationality')['Number of detections'].sum()"
   ]
  },
  {
   "cell_type": "code",
   "execution_count": 614,
   "id": "a3483c5e",
   "metadata": {},
   "outputs": [
    {
     "data": {
      "text/plain": [
       "Nationality\n",
       "Iran                                9455\n",
       "Iraq                                7029\n",
       "Jordan                                 7\n",
       "Kuwait                               573\n",
       "Lebanon                               15\n",
       "Occupied Palestinian Territories     124\n",
       "Oman                                   1\n",
       "Qatar                                  1\n",
       "Saudi Arabia                           2\n",
       "Syria                               2729\n",
       "United Arab Emirates                   2\n",
       "Yemen                                155\n",
       "Name: Number of detections, dtype: int32"
      ]
     },
     "execution_count": 614,
     "metadata": {},
     "output_type": "execute_result"
    }
   ],
   "source": [
    "# 2021 analysis of the Middle East\n",
    "df[(df['Region']=='Middle East') & (df['Year']==2021)].groupby('Nationality')['Number of detections'].sum()"
   ]
  },
  {
   "cell_type": "code",
   "execution_count": 615,
   "id": "de55b73f",
   "metadata": {},
   "outputs": [
    {
     "data": {
      "text/plain": [
       "Nationality\n",
       "Afghanistan     9495\n",
       "Kazakhstan         4\n",
       "Tajikistan         8\n",
       "Turkmenistan       1\n",
       "Name: Number of detections, dtype: int32"
      ]
     },
     "execution_count": 615,
     "metadata": {},
     "output_type": "execute_result"
    }
   ],
   "source": [
    "# 2022 analysis of Asia Central\n",
    "df[(df['Region']=='Asia Central') & (df['Year']==2022)].groupby('Nationality')['Number of detections'].sum()"
   ]
  },
  {
   "cell_type": "code",
   "execution_count": 322,
   "id": "81fe3ce8",
   "metadata": {},
   "outputs": [
    {
     "data": {
      "image/png": "[encoded data removed]",
      "text/plain": [
       "<Figure size 864x432 with 1 Axes>"
      ]
     },
     "metadata": {
      "needs_background": "light"
     },
     "output_type": "display_data"
    }
   ],
   "source": [
    "# Plot an area chart\n",
    "sns.set_palette(\"dark\")\n",
    "fig, ax = plt.subplots(figsize = (12,6))\n",
    "top5_cross.plot.area(ax = ax, alpha = 0.8)\n",
    "plt.title(\"Top 5 Regions Irregular Arrivals by Year\");"
   ]
  },
  {
   "cell_type": "code",
   "execution_count": 323,
   "id": "17680055",
   "metadata": {},
   "outputs": [
    {
     "data": {
      "text/html": [
       "<div>\n",
       "<style scoped>\n",
       "    .dataframe tbody tr th:only-of-type {\n",
       "        vertical-align: middle;\n",
       "    }\n",
       "\n",
       "    .dataframe tbody tr th {\n",
       "        vertical-align: top;\n",
       "    }\n",
       "\n",
       "    .dataframe thead th {\n",
       "        text-align: right;\n",
       "    }\n",
       "</style>\n",
       "<table border=\"1\" class=\"dataframe\">\n",
       "  <thead>\n",
       "    <tr style=\"text-align: right;\">\n",
       "      <th>Region</th>\n",
       "      <th>Year</th>\n",
       "      <th>Africa North</th>\n",
       "      <th>Africa Sub-Saharan</th>\n",
       "      <th>Asia Central</th>\n",
       "      <th>Europe Other</th>\n",
       "      <th>Middle East</th>\n",
       "    </tr>\n",
       "  </thead>\n",
       "  <tbody>\n",
       "    <tr>\n",
       "      <th>0</th>\n",
       "      <td>2018</td>\n",
       "      <td>12.208968</td>\n",
       "      <td>18.839984</td>\n",
       "      <td>6.096257</td>\n",
       "      <td>11.534348</td>\n",
       "      <td>51.320444</td>\n",
       "    </tr>\n",
       "    <tr>\n",
       "      <th>1</th>\n",
       "      <td>2019</td>\n",
       "      <td>9.391850</td>\n",
       "      <td>13.746502</td>\n",
       "      <td>5.767524</td>\n",
       "      <td>10.941233</td>\n",
       "      <td>60.152891</td>\n",
       "    </tr>\n",
       "    <tr>\n",
       "      <th>2</th>\n",
       "      <td>2020</td>\n",
       "      <td>14.371872</td>\n",
       "      <td>18.054664</td>\n",
       "      <td>5.838573</td>\n",
       "      <td>9.117156</td>\n",
       "      <td>52.617734</td>\n",
       "    </tr>\n",
       "    <tr>\n",
       "      <th>3</th>\n",
       "      <td>2021</td>\n",
       "      <td>8.864673</td>\n",
       "      <td>16.807757</td>\n",
       "      <td>5.853746</td>\n",
       "      <td>8.156220</td>\n",
       "      <td>60.317603</td>\n",
       "    </tr>\n",
       "    <tr>\n",
       "      <th>4</th>\n",
       "      <td>2022</td>\n",
       "      <td>8.343190</td>\n",
       "      <td>7.678139</td>\n",
       "      <td>18.435288</td>\n",
       "      <td>31.493941</td>\n",
       "      <td>34.049443</td>\n",
       "    </tr>\n",
       "    <tr>\n",
       "      <th>5</th>\n",
       "      <td>2023</td>\n",
       "      <td>11.908558</td>\n",
       "      <td>13.815202</td>\n",
       "      <td>19.576585</td>\n",
       "      <td>18.234281</td>\n",
       "      <td>36.465374</td>\n",
       "    </tr>\n",
       "    <tr>\n",
       "      <th>6</th>\n",
       "      <td>2024</td>\n",
       "      <td>12.433348</td>\n",
       "      <td>17.057321</td>\n",
       "      <td>17.662742</td>\n",
       "      <td>10.306043</td>\n",
       "      <td>42.540547</td>\n",
       "    </tr>\n",
       "  </tbody>\n",
       "</table>\n",
       "</div>"
      ],
      "text/plain": [
       "Region  Year  Africa North  Africa Sub-Saharan  Asia Central  Europe Other  \\\n",
       "0       2018     12.208968           18.839984      6.096257     11.534348   \n",
       "1       2019      9.391850           13.746502      5.767524     10.941233   \n",
       "2       2020     14.371872           18.054664      5.838573      9.117156   \n",
       "3       2021      8.864673           16.807757      5.853746      8.156220   \n",
       "4       2022      8.343190            7.678139     18.435288     31.493941   \n",
       "5       2023     11.908558           13.815202     19.576585     18.234281   \n",
       "6       2024     12.433348           17.057321     17.662742     10.306043   \n",
       "\n",
       "Region  Middle East  \n",
       "0         51.320444  \n",
       "1         60.152891  \n",
       "2         52.617734  \n",
       "3         60.317603  \n",
       "4         34.049443  \n",
       "5         36.465374  \n",
       "6         42.540547  "
      ]
     },
     "execution_count": 323,
     "metadata": {},
     "output_type": "execute_result"
    }
   ],
   "source": [
    "# Create a percent crosstab table for the values we want\n",
    "top5_cross_percent = pd.crosstab(index = top5_year['Year'], \n",
    "                         columns = top5_year['Region'], \n",
    "                         values = top5_year['Number of detections'],\n",
    "                         normalize = 'index',\n",
    "                         aggfunc = 'sum'\n",
    "                         )\n",
    "top5_cross_percent = (top5_cross_percent*100).reset_index()\n",
    "top5_cross_percent"
   ]
  },
  {
   "cell_type": "code",
   "execution_count": 327,
   "id": "941bf2e2",
   "metadata": {},
   "outputs": [
    {
     "data": {
      "image/png": "[encoded data removed]",
      "text/plain": [
       "<Figure size 576x432 with 1 Axes>"
      ]
     },
     "metadata": {
      "needs_background": "light"
     },
     "output_type": "display_data"
    }
   ],
   "source": [
    "# Plot the crosstablulated data as percentage stacked bar\n",
    "sns.set_palette(\"dark\")\n",
    "ax = top5_cross_percent.plot( \n",
    "    x = 'Year',\n",
    "    kind = 'bar', \n",
    "    stacked = True, \n",
    "    title = 'Top Five Regions Irregular Arrivals by Year', \n",
    "    mark_right = True,\n",
    "    figsize = (8,6)\n",
    "    ) \n",
    "\n",
    "plt.xticks(rotation=45)\n",
    "plt.xlabel(\"\")\n",
    "ax.spines['top'].set_visible(False)\n",
    "ax.spines['right'].set_visible(False)\n",
    "ax.legend(bbox_to_anchor=(1.1, 1));"
   ]
  },
  {
   "cell_type": "markdown",
   "id": "95a9b7df",
   "metadata": {},
   "source": [
    "The area chart and stacked bar show the proportions by each of the top 5 regions over the period. The stacked chart is a bit more clear and shows how the proportion from the Middle East increased in 2021 relative to the other regions and then dropped back in 2022 and 2023, with Europe Other increasing significantly in 2022, with increases also from Asia Central the 'stans'."
   ]
  },
  {
   "cell_type": "markdown",
   "id": "ec2970b9",
   "metadata": {},
   "source": [
    "## Analysis by Country"
   ]
  },
  {
   "cell_type": "markdown",
   "id": "7a4bd828",
   "metadata": {},
   "source": [
    "We will continue to look at the top 5 regions in the rest of this analysis"
   ]
  },
  {
   "cell_type": "code",
   "execution_count": 328,
   "id": "9c8fd16b",
   "metadata": {},
   "outputs": [
    {
     "data": {
      "text/plain": [
       "['Middle East',\n",
       " 'Europe Other',\n",
       " 'Asia Central',\n",
       " 'Africa Sub-Saharan',\n",
       " 'Africa North']"
      ]
     },
     "execution_count": 328,
     "metadata": {},
     "output_type": "execute_result"
    }
   ],
   "source": [
    "regions"
   ]
  },
  {
   "cell_type": "code",
   "execution_count": 329,
   "id": "90b71d9b",
   "metadata": {},
   "outputs": [],
   "source": [
    "# Create separate dataframes\n",
    "\n",
    "middle = df_copy[df_copy['Region']=='Middle East'].groupby('Nationality',as_index = False)['Number of detections'].sum().sort_values(by = 'Number of detections',ascending = False).head()\n",
    "europe_other = df_copy[df_copy['Region']=='Europe Other'].groupby('Nationality',as_index = False)['Number of detections'].sum().sort_values(by = 'Number of detections',ascending = False).head()\n",
    "asia_cent = df_copy[df_copy['Region']=='Asia Central'].groupby('Nationality',as_index = False)['Number of detections'].sum().sort_values(by = 'Number of detections',ascending = False).head()\n",
    "africa_sub = df_copy[df_copy['Region']=='Africa Sub-Saharan'].groupby('Nationality',as_index = False)['Number of detections'].sum().sort_values(by = 'Number of detections',ascending = False).head()\n",
    "africa_north = df_copy[df_copy['Region']=='Africa North'].groupby('Nationality',as_index = False)['Number of detections'].sum().sort_values(by = 'Number of detections',ascending = False).head()\n"
   ]
  },
  {
   "cell_type": "code",
   "execution_count": 330,
   "id": "57567307",
   "metadata": {},
   "outputs": [
    {
     "data": {
      "text/html": [
       "<div>\n",
       "<style scoped>\n",
       "    .dataframe tbody tr th:only-of-type {\n",
       "        vertical-align: middle;\n",
       "    }\n",
       "\n",
       "    .dataframe tbody tr th {\n",
       "        vertical-align: top;\n",
       "    }\n",
       "\n",
       "    .dataframe thead th {\n",
       "        text-align: right;\n",
       "    }\n",
       "</style>\n",
       "<table border=\"1\" class=\"dataframe\">\n",
       "  <thead>\n",
       "    <tr style=\"text-align: right;\">\n",
       "      <th></th>\n",
       "      <th>Nationality</th>\n",
       "      <th>Number of detections</th>\n",
       "    </tr>\n",
       "  </thead>\n",
       "  <tbody>\n",
       "    <tr>\n",
       "      <th>5</th>\n",
       "      <td>Sudan</td>\n",
       "      <td>14703</td>\n",
       "    </tr>\n",
       "    <tr>\n",
       "      <th>1</th>\n",
       "      <td>Egypt</td>\n",
       "      <td>3032</td>\n",
       "    </tr>\n",
       "    <tr>\n",
       "      <th>2</th>\n",
       "      <td>Libya</td>\n",
       "      <td>1269</td>\n",
       "    </tr>\n",
       "    <tr>\n",
       "      <th>0</th>\n",
       "      <td>Algeria</td>\n",
       "      <td>808</td>\n",
       "    </tr>\n",
       "    <tr>\n",
       "      <th>4</th>\n",
       "      <td>Morocco</td>\n",
       "      <td>532</td>\n",
       "    </tr>\n",
       "  </tbody>\n",
       "</table>\n",
       "</div>"
      ],
      "text/plain": [
       "  Nationality  Number of detections\n",
       "5       Sudan                 14703\n",
       "1       Egypt                  3032\n",
       "2       Libya                  1269\n",
       "0     Algeria                   808\n",
       "4     Morocco                   532"
      ]
     },
     "execution_count": 330,
     "metadata": {},
     "output_type": "execute_result"
    }
   ],
   "source": [
    "africa_north"
   ]
  },
  {
   "cell_type": "code",
   "execution_count": 332,
   "id": "1db8de26",
   "metadata": {},
   "outputs": [
    {
     "data": {
      "image/png": "[encoded data removed]",
      "text/plain": [
       "<Figure size 864x1080 with 5 Axes>"
      ]
     },
     "metadata": {
      "needs_background": "light"
     },
     "output_type": "display_data"
    }
   ],
   "source": [
    "# Plot the countries and regions\n",
    "fig, axs = plt.subplots(3,2, figsize = (12,15))\n",
    "fig.delaxes(axs[2,1]) \n",
    "\n",
    "fig.suptitle(\"Top Five Countries Irregular Arrivals by Region\", fontsize=18)\n",
    "plt.subplots_adjust(wspace=0.4,hspace = 0.4)\n",
    "\n",
    "x = 'Number of detections'\n",
    "\n",
    "# Plot barplots\n",
    "a = sns.barplot(y=middle.Nationality, x=x, data=middle, ax = axs[0,0],palette = 'dark')\n",
    "b = sns.barplot(y=europe_other.Nationality, x=x, data=europe_other, ax = axs[0,1],palette = 'dark')\n",
    "c = sns.barplot(y=asia_cent.Nationality, x=x, data=asia_cent, ax = axs[1,0],palette = 'dark')\n",
    "d = sns.barplot(y=africa_sub.Nationality, x=x, data=africa_sub, ax = axs[1,1],palette = 'dark')\n",
    "e = sns.barplot(y=africa_north.Nationality, x=x, data=africa_north, ax = axs[2,0],palette = 'dark')\n",
    "\n",
    "plots = [a,b,c,d,e]\n",
    "\n",
    "# Cycle over the plots and remove axis labels and set facecolour\n",
    "for p in plots:\n",
    "    p.set(xlabel = None)\n",
    "    p.set(ylabel = None)\n",
    "    p.set_facecolor('white')\n",
    "            \n",
    "# Add titles to the plots\n",
    "axs[0,0].set_title(\"Middle East\", fontsize = 12) \n",
    "axs[0,1].set_title(\"Europe Other\", fontsize = 12) \n",
    "axs[1,0].set_title(\"Asia Central\", fontsize = 12) \n",
    "axs[1,1].set_title(\"Africa - Sub Saharan\", fontsize = 12) \n",
    "axs[2,0].set_title(\"Africa North\", fontsize = 12)\n",
    "\n",
    "# Remove frames\n",
    "list_frames = [axs[0,0],axs[0,1],axs[1,0],axs[1,1],axs[2,0]]\n",
    "for l in list_frames:\n",
    "    l.spines['top'].set_visible(False)\n",
    "    l.spines['right'].set_visible(False)\n",
    "    l.spines['left'].set_visible(False)\n",
    "        \n",
    "   "
   ]
  },
  {
   "cell_type": "code",
   "execution_count": 333,
   "id": "1500b7fb",
   "metadata": {},
   "outputs": [
    {
     "data": {
      "text/html": [
       "<div>\n",
       "<style scoped>\n",
       "    .dataframe tbody tr th:only-of-type {\n",
       "        vertical-align: middle;\n",
       "    }\n",
       "\n",
       "    .dataframe tbody tr th {\n",
       "        vertical-align: top;\n",
       "    }\n",
       "\n",
       "    .dataframe thead th {\n",
       "        text-align: right;\n",
       "    }\n",
       "</style>\n",
       "<table border=\"1\" class=\"dataframe\">\n",
       "  <thead>\n",
       "    <tr style=\"text-align: right;\">\n",
       "      <th></th>\n",
       "      <th>Nationality</th>\n",
       "      <th>Number of detections</th>\n",
       "      <th>Average</th>\n",
       "    </tr>\n",
       "  </thead>\n",
       "  <tbody>\n",
       "    <tr>\n",
       "      <th>77</th>\n",
       "      <td>Iran</td>\n",
       "      <td>39598</td>\n",
       "      <td>6600.0</td>\n",
       "    </tr>\n",
       "    <tr>\n",
       "      <th>78</th>\n",
       "      <td>Iraq</td>\n",
       "      <td>26823</td>\n",
       "      <td>4470.0</td>\n",
       "    </tr>\n",
       "    <tr>\n",
       "      <th>0</th>\n",
       "      <td>Afghanistan</td>\n",
       "      <td>26365</td>\n",
       "      <td>4394.0</td>\n",
       "    </tr>\n",
       "    <tr>\n",
       "      <th>1</th>\n",
       "      <td>Albania</td>\n",
       "      <td>21017</td>\n",
       "      <td>3503.0</td>\n",
       "    </tr>\n",
       "    <tr>\n",
       "      <th>52</th>\n",
       "      <td>Eritrea</td>\n",
       "      <td>18577</td>\n",
       "      <td>3096.0</td>\n",
       "    </tr>\n",
       "    <tr>\n",
       "      <th>...</th>\n",
       "      <td>...</td>\n",
       "      <td>...</td>\n",
       "      <td>...</td>\n",
       "    </tr>\n",
       "    <tr>\n",
       "      <th>136</th>\n",
       "      <td>Saint Barthelemy (French)</td>\n",
       "      <td>1</td>\n",
       "      <td>0.0</td>\n",
       "    </tr>\n",
       "    <tr>\n",
       "      <th>40</th>\n",
       "      <td>Cyprus</td>\n",
       "      <td>1</td>\n",
       "      <td>0.0</td>\n",
       "    </tr>\n",
       "    <tr>\n",
       "      <th>38</th>\n",
       "      <td>Croatia</td>\n",
       "      <td>1</td>\n",
       "      <td>0.0</td>\n",
       "    </tr>\n",
       "    <tr>\n",
       "      <th>34</th>\n",
       "      <td>Comoros</td>\n",
       "      <td>1</td>\n",
       "      <td>0.0</td>\n",
       "    </tr>\n",
       "    <tr>\n",
       "      <th>124</th>\n",
       "      <td>Paraguay</td>\n",
       "      <td>1</td>\n",
       "      <td>0.0</td>\n",
       "    </tr>\n",
       "  </tbody>\n",
       "</table>\n",
       "<p>178 rows × 3 columns</p>\n",
       "</div>"
      ],
      "text/plain": [
       "                   Nationality  Number of detections  Average\n",
       "77                        Iran                 39598   6600.0\n",
       "78                        Iraq                 26823   4470.0\n",
       "0                  Afghanistan                 26365   4394.0\n",
       "1                      Albania                 21017   3503.0\n",
       "52                     Eritrea                 18577   3096.0\n",
       "..                         ...                   ...      ...\n",
       "136  Saint Barthelemy (French)                     1      0.0\n",
       "40                      Cyprus                     1      0.0\n",
       "38                     Croatia                     1      0.0\n",
       "34                     Comoros                     1      0.0\n",
       "124                   Paraguay                     1      0.0\n",
       "\n",
       "[178 rows x 3 columns]"
      ]
     },
     "execution_count": 333,
     "metadata": {},
     "output_type": "execute_result"
    }
   ],
   "source": [
    "# Get the top countries by number of arrivals\n",
    "all_countries = df_copy.groupby('Nationality',as_index = False)['Number of detections'].sum()\n",
    "all_countries['Average'] = all_countries['Number of detections']/6\n",
    "all_countries.sort_values(by = 'Average',ascending = False).round(0)"
   ]
  },
  {
   "cell_type": "code",
   "execution_count": 572,
   "id": "c04e454f",
   "metadata": {},
   "outputs": [
    {
     "data": {
      "application/vnd.plotly.v1+json": {
       "config": {
        "plotlyServerURL": "https://plot.ly"
       },
       "data": [
        {
         "coloraxis": "coloraxis",
         "geo": "geo",
         "hovertemplate": "locations=%{location}<br>color=%{z}<extra></extra>",
         "locationmode": "country names",
         "locations": [
          "Afghanistan",
          "Albania",
          "Algeria",
          "Andorra",
          "Angola",
          "Argentina",
          "Armenia",
          "Australia",
          "Austria",
          "Azerbaijan",
          "Bahamas, The",
          "Bahrain",
          "Bangladesh",
          "Barbados",
          "Belarus",
          "Belgium",
          "Benin",
          "Bhutan",
          "Bolivia",
          "Bosnia and Herzegovina",
          "Botswana",
          "Brazil",
          "British overseas citizens",
          "Bulgaria",
          "Burkina Faso",
          "Burundi",
          "Cambodia",
          "Cameroon",
          "Canada",
          "Central African Republic",
          "Chad",
          "Chile",
          "China",
          "Colombia",
          "Comoros",
          "Congo",
          "Congo (Democratic Republic)",
          "Costa Rica",
          "Croatia",
          "Cuba",
          "Cyprus",
          "Cyprus (Northern part of)",
          "Czechia",
          "Denmark",
          "Djibouti",
          "Dominica",
          "Dominican Republic",
          "East Timor",
          "Ecuador",
          "Egypt",
          "El Salvador",
          "Equatorial Guinea",
          "Eritrea",
          "Eswatini",
          "Ethiopia",
          "Fiji",
          "Finland",
          "France",
          "French Guiana (French)",
          "Gambia, The",
          "Georgia",
          "Germany",
          "Ghana",
          "Greece",
          "Greenland",
          "Grenada",
          "Guatemala",
          "Guinea",
          "Guinea-Bissau",
          "Guyana",
          "Haiti",
          "Honduras",
          "Hong Kong",
          "Hungary",
          "Iceland",
          "India",
          "Indonesia",
          "Iran",
          "Iraq",
          "Ireland",
          "Israel",
          "Italy",
          "Ivory Coast",
          "Jamaica",
          "Japan",
          "Jordan",
          "Kazakhstan",
          "Kenya",
          "Kosovo",
          "Kuwait",
          "Kyrgyzstan",
          "Laos",
          "Latvia",
          "Lebanon",
          "Liberia",
          "Libya",
          "Lithuania",
          "Malawi",
          "Malaysia",
          "Mali",
          "Malta",
          "Marshall Islands",
          "Mauritania",
          "Mauritius",
          "Mexico",
          "Moldova",
          "Mongolia",
          "Montenegro",
          "Morocco",
          "Mozambique",
          "Myanmar (Burma)",
          "Namibia",
          "Nepal",
          "Netherlands",
          "Nicaragua",
          "Niger",
          "Nigeria",
          "North Macedonia",
          "Norway",
          "Occupied Palestinian Territories",
          "Oman",
          "Other and unknown",
          "Pakistan",
          "Papua New Guinea",
          "Paraguay",
          "Peru",
          "Philippines",
          "Pitcairn Islands (British)",
          "Poland",
          "Portugal",
          "Qatar",
          "Refugee",
          "Reunion (French)",
          "Romania",
          "Russia",
          "Rwanda",
          "Saint Barthelemy (French)",
          "Saudi Arabia",
          "Senegal",
          "Serbia",
          "Sierra Leone",
          "Singapore",
          "Slovakia",
          "Slovenia",
          "Somalia",
          "South Africa",
          "South Korea",
          "South Sudan",
          "Spain",
          "Sri Lanka",
          "St Lucia",
          "St Vincent and the Grenadines",
          "Stateless",
          "Sudan",
          "Suriname",
          "Sweden",
          "Syria",
          "Taiwan",
          "Tajikistan",
          "Tanzania",
          "Thailand",
          "Togo",
          "Trinidad and Tobago",
          "Tunisia",
          "Turkey",
          "Turkmenistan",
          "Uganda",
          "Ukraine",
          "United Arab Emirates",
          "United States",
          "Uzbekistan",
          "Venezuela",
          "Vietnam",
          "Virgin Islands (British)",
          "Western Sahara",
          "Yemen",
          "Zambia",
          "Zimbabwe"
         ],
         "name": "",
         "type": "choropleth",
         "z": [
          26365,
          21017,
          808,
          2,
          44,
          6,
          4,
          1,
          2,
          73,
          1,
          1,
          168,
          1,
          18,
          5,
          12,
          1,
          6,
          4,
          9,
          117,
          21,
          14,
          22,
          11,
          1,
          90,
          3,
          16,
          585,
          4,
          1071,
          15,
          1,
          26,
          112,
          5,
          1,
          4,
          1,
          13,
          6,
          11,
          5,
          16,
          10,
          1,
          3,
          3032,
          1,
          4,
          18577,
          1,
          3031,
          1,
          2,
          32,
          2,
          181,
          3594,
          17,
          181,
          9,
          2,
          2,
          2,
          258,
          16,
          1,
          1,
          1,
          5,
          12,
          1,
          4126,
          5,
          39598,
          26823,
          4,
          15,
          45,
          53,
          7,
          3,
          51,
          22,
          19,
          46,
          2822,
          18,
          2,
          6,
          108,
          15,
          1269,
          11,
          2,
          2,
          88,
          1,
          1,
          20,
          8,
          15,
          19,
          1,
          3,
          532,
          2,
          10,
          10,
          59,
          7,
          2,
          39,
          460,
          8,
          5,
          687,
          1,
          555,
          1109,
          1,
          1,
          12,
          15,
          1,
          24,
          22,
          3,
          295,
          1,
          63,
          206,
          3,
          1,
          22,
          84,
          9,
          116,
          2,
          6,
          2,
          1996,
          41,
          2,
          829,
          29,
          2190,
          1,
          1,
          2493,
          14703,
          1,
          5,
          15322,
          4,
          39,
          139,
          6,
          9,
          3,
          193,
          7590,
          3,
          17,
          204,
          9,
          33,
          7,
          5,
          7901,
          1,
          11,
          2199,
          2,
          37
         ]
        }
       ],
       "layout": {
        "coloraxis": {
         "colorbar": {
          "title": {
           "text": ""
          }
         },
         "colorscale": [
          [
           0,
           "rgb(234, 252, 253)"
          ],
          [
           0.09090909090909091,
           "rgb(192, 229, 232)"
          ],
          [
           0.18181818181818182,
           "rgb(149, 207, 216)"
          ],
          [
           0.2727272727272727,
           "rgb(114, 184, 205)"
          ],
          [
           0.36363636363636365,
           "rgb(89, 159, 196)"
          ],
          [
           0.45454545454545453,
           "rgb(72, 134, 187)"
          ],
          [
           0.5454545454545454,
           "rgb(62, 109, 178)"
          ],
          [
           0.6363636363636364,
           "rgb(62, 83, 160)"
          ],
          [
           0.7272727272727273,
           "rgb(58, 60, 125)"
          ],
          [
           0.8181818181818182,
           "rgb(44, 42, 87)"
          ],
          [
           0.9090909090909091,
           "rgb(25, 25, 51)"
          ],
          [
           1,
           "rgb(3, 5, 18)"
          ]
         ]
        },
        "geo": {
         "center": {},
         "domain": {
          "x": [
           0,
           1
          ],
          "y": [
           0,
           1
          ]
         }
        },
        "legend": {
         "tracegroupgap": 0
        },
        "template": {
         "data": {
          "bar": [
           {
            "error_x": {
             "color": "#2a3f5f"
            },
            "error_y": {
             "color": "#2a3f5f"
            },
            "marker": {
             "line": {
              "color": "#E5ECF6",
              "width": 0.5
             },
             "pattern": {
              "fillmode": "overlay",
              "size": 10,
              "solidity": 0.2
             }
            },
            "type": "bar"
           }
          ],
          "barpolar": [
           {
            "marker": {
             "line": {
              "color": "#E5ECF6",
              "width": 0.5
             },
             "pattern": {
              "fillmode": "overlay",
              "size": 10,
              "solidity": 0.2
             }
            },
            "type": "barpolar"
           }
          ],
          "carpet": [
           {
            "aaxis": {
             "endlinecolor": "#2a3f5f",
             "gridcolor": "white",
             "linecolor": "white",
             "minorgridcolor": "white",
             "startlinecolor": "#2a3f5f"
            },
            "baxis": {
             "endlinecolor": "#2a3f5f",
             "gridcolor": "white",
             "linecolor": "white",
             "minorgridcolor": "white",
             "startlinecolor": "#2a3f5f"
            },
            "type": "carpet"
           }
          ],
          "choropleth": [
           {
            "colorbar": {
             "outlinewidth": 0,
             "ticks": ""
            },
            "type": "choropleth"
           }
          ],
          "contour": [
           {
            "colorbar": {
             "outlinewidth": 0,
             "ticks": ""
            },
            "colorscale": [
             [
              0,
              "#0d0887"
             ],
             [
              0.1111111111111111,
              "#46039f"
             ],
             [
              0.2222222222222222,
              "#7201a8"
             ],
             [
              0.3333333333333333,
              "#9c179e"
             ],
             [
              0.4444444444444444,
              "#bd3786"
             ],
             [
              0.5555555555555556,
              "#d8576b"
             ],
             [
              0.6666666666666666,
              "#ed7953"
             ],
             [
              0.7777777777777778,
              "#fb9f3a"
             ],
             [
              0.8888888888888888,
              "#fdca26"
             ],
             [
              1,
              "#f0f921"
             ]
            ],
            "type": "contour"
           }
          ],
          "contourcarpet": [
           {
            "colorbar": {
             "outlinewidth": 0,
             "ticks": ""
            },
            "type": "contourcarpet"
           }
          ],
          "heatmap": [
           {
            "colorbar": {
             "outlinewidth": 0,
             "ticks": ""
            },
            "colorscale": [
             [
              0,
              "#0d0887"
             ],
             [
              0.1111111111111111,
              "#46039f"
             ],
             [
              0.2222222222222222,
              "#7201a8"
             ],
             [
              0.3333333333333333,
              "#9c179e"
             ],
             [
              0.4444444444444444,
              "#bd3786"
             ],
             [
              0.5555555555555556,
              "#d8576b"
             ],
             [
              0.6666666666666666,
              "#ed7953"
             ],
             [
              0.7777777777777778,
              "#fb9f3a"
             ],
             [
              0.8888888888888888,
              "#fdca26"
             ],
             [
              1,
              "#f0f921"
             ]
            ],
            "type": "heatmap"
           }
          ],
          "heatmapgl": [
           {
            "colorbar": {
             "outlinewidth": 0,
             "ticks": ""
            },
            "colorscale": [
             [
              0,
              "#0d0887"
             ],
             [
              0.1111111111111111,
              "#46039f"
             ],
             [
              0.2222222222222222,
              "#7201a8"
             ],
             [
              0.3333333333333333,
              "#9c179e"
             ],
             [
              0.4444444444444444,
              "#bd3786"
             ],
             [
              0.5555555555555556,
              "#d8576b"
             ],
             [
              0.6666666666666666,
              "#ed7953"
             ],
             [
              0.7777777777777778,
              "#fb9f3a"
             ],
             [
              0.8888888888888888,
              "#fdca26"
             ],
             [
              1,
              "#f0f921"
             ]
            ],
            "type": "heatmapgl"
           }
          ],
          "histogram": [
           {
            "marker": {
             "pattern": {
              "fillmode": "overlay",
              "size": 10,
              "solidity": 0.2
             }
            },
            "type": "histogram"
           }
          ],
          "histogram2d": [
           {
            "colorbar": {
             "outlinewidth": 0,
             "ticks": ""
            },
            "colorscale": [
             [
              0,
              "#0d0887"
             ],
             [
              0.1111111111111111,
              "#46039f"
             ],
             [
              0.2222222222222222,
              "#7201a8"
             ],
             [
              0.3333333333333333,
              "#9c179e"
             ],
             [
              0.4444444444444444,
              "#bd3786"
             ],
             [
              0.5555555555555556,
              "#d8576b"
             ],
             [
              0.6666666666666666,
              "#ed7953"
             ],
             [
              0.7777777777777778,
              "#fb9f3a"
             ],
             [
              0.8888888888888888,
              "#fdca26"
             ],
             [
              1,
              "#f0f921"
             ]
            ],
            "type": "histogram2d"
           }
          ],
          "histogram2dcontour": [
           {
            "colorbar": {
             "outlinewidth": 0,
             "ticks": ""
            },
            "colorscale": [
             [
              0,
              "#0d0887"
             ],
             [
              0.1111111111111111,
              "#46039f"
             ],
             [
              0.2222222222222222,
              "#7201a8"
             ],
             [
              0.3333333333333333,
              "#9c179e"
             ],
             [
              0.4444444444444444,
              "#bd3786"
             ],
             [
              0.5555555555555556,
              "#d8576b"
             ],
             [
              0.6666666666666666,
              "#ed7953"
             ],
             [
              0.7777777777777778,
              "#fb9f3a"
             ],
             [
              0.8888888888888888,
              "#fdca26"
             ],
             [
              1,
              "#f0f921"
             ]
            ],
            "type": "histogram2dcontour"
           }
          ],
          "mesh3d": [
           {
            "colorbar": {
             "outlinewidth": 0,
             "ticks": ""
            },
            "type": "mesh3d"
           }
          ],
          "parcoords": [
           {
            "line": {
             "colorbar": {
              "outlinewidth": 0,
              "ticks": ""
             }
            },
            "type": "parcoords"
           }
          ],
          "pie": [
           {
            "automargin": true,
            "type": "pie"
           }
          ],
          "scatter": [
           {
            "marker": {
             "colorbar": {
              "outlinewidth": 0,
              "ticks": ""
             }
            },
            "type": "scatter"
           }
          ],
          "scatter3d": [
           {
            "line": {
             "colorbar": {
              "outlinewidth": 0,
              "ticks": ""
             }
            },
            "marker": {
             "colorbar": {
              "outlinewidth": 0,
              "ticks": ""
             }
            },
            "type": "scatter3d"
           }
          ],
          "scattercarpet": [
           {
            "marker": {
             "colorbar": {
              "outlinewidth": 0,
              "ticks": ""
             }
            },
            "type": "scattercarpet"
           }
          ],
          "scattergeo": [
           {
            "marker": {
             "colorbar": {
              "outlinewidth": 0,
              "ticks": ""
             }
            },
            "type": "scattergeo"
           }
          ],
          "scattergl": [
           {
            "marker": {
             "colorbar": {
              "outlinewidth": 0,
              "ticks": ""
             }
            },
            "type": "scattergl"
           }
          ],
          "scattermapbox": [
           {
            "marker": {
             "colorbar": {
              "outlinewidth": 0,
              "ticks": ""
             }
            },
            "type": "scattermapbox"
           }
          ],
          "scatterpolar": [
           {
            "marker": {
             "colorbar": {
              "outlinewidth": 0,
              "ticks": ""
             }
            },
            "type": "scatterpolar"
           }
          ],
          "scatterpolargl": [
           {
            "marker": {
             "colorbar": {
              "outlinewidth": 0,
              "ticks": ""
             }
            },
            "type": "scatterpolargl"
           }
          ],
          "scatterternary": [
           {
            "marker": {
             "colorbar": {
              "outlinewidth": 0,
              "ticks": ""
             }
            },
            "type": "scatterternary"
           }
          ],
          "surface": [
           {
            "colorbar": {
             "outlinewidth": 0,
             "ticks": ""
            },
            "colorscale": [
             [
              0,
              "#0d0887"
             ],
             [
              0.1111111111111111,
              "#46039f"
             ],
             [
              0.2222222222222222,
              "#7201a8"
             ],
             [
              0.3333333333333333,
              "#9c179e"
             ],
             [
              0.4444444444444444,
              "#bd3786"
             ],
             [
              0.5555555555555556,
              "#d8576b"
             ],
             [
              0.6666666666666666,
              "#ed7953"
             ],
             [
              0.7777777777777778,
              "#fb9f3a"
             ],
             [
              0.8888888888888888,
              "#fdca26"
             ],
             [
              1,
              "#f0f921"
             ]
            ],
            "type": "surface"
           }
          ],
          "table": [
           {
            "cells": {
             "fill": {
              "color": "#EBF0F8"
             },
             "line": {
              "color": "white"
             }
            },
            "header": {
             "fill": {
              "color": "#C8D4E3"
             },
             "line": {
              "color": "white"
             }
            },
            "type": "table"
           }
          ]
         },
         "layout": {
          "annotationdefaults": {
           "arrowcolor": "#2a3f5f",
           "arrowhead": 0,
           "arrowwidth": 1
          },
          "autotypenumbers": "strict",
          "coloraxis": {
           "colorbar": {
            "outlinewidth": 0,
            "ticks": ""
           }
          },
          "colorscale": {
           "diverging": [
            [
             0,
             "#8e0152"
            ],
            [
             0.1,
             "#c51b7d"
            ],
            [
             0.2,
             "#de77ae"
            ],
            [
             0.3,
             "#f1b6da"
            ],
            [
             0.4,
             "#fde0ef"
            ],
            [
             0.5,
             "#f7f7f7"
            ],
            [
             0.6,
             "#e6f5d0"
            ],
            [
             0.7,
             "#b8e186"
            ],
            [
             0.8,
             "#7fbc41"
            ],
            [
             0.9,
             "#4d9221"
            ],
            [
             1,
             "#276419"
            ]
           ],
           "sequential": [
            [
             0,
             "#0d0887"
            ],
            [
             0.1111111111111111,
             "#46039f"
            ],
            [
             0.2222222222222222,
             "#7201a8"
            ],
            [
             0.3333333333333333,
             "#9c179e"
            ],
            [
             0.4444444444444444,
             "#bd3786"
            ],
            [
             0.5555555555555556,
             "#d8576b"
            ],
            [
             0.6666666666666666,
             "#ed7953"
            ],
            [
             0.7777777777777778,
             "#fb9f3a"
            ],
            [
             0.8888888888888888,
             "#fdca26"
            ],
            [
             1,
             "#f0f921"
            ]
           ],
           "sequentialminus": [
            [
             0,
             "#0d0887"
            ],
            [
             0.1111111111111111,
             "#46039f"
            ],
            [
             0.2222222222222222,
             "#7201a8"
            ],
            [
             0.3333333333333333,
             "#9c179e"
            ],
            [
             0.4444444444444444,
             "#bd3786"
            ],
            [
             0.5555555555555556,
             "#d8576b"
            ],
            [
             0.6666666666666666,
             "#ed7953"
            ],
            [
             0.7777777777777778,
             "#fb9f3a"
            ],
            [
             0.8888888888888888,
             "#fdca26"
            ],
            [
             1,
             "#f0f921"
            ]
           ]
          },
          "colorway": [
           "#636efa",
           "#EF553B",
           "#00cc96",
           "#ab63fa",
           "#FFA15A",
           "#19d3f3",
           "#FF6692",
           "#B6E880",
           "#FF97FF",
           "#FECB52"
          ],
          "font": {
           "color": "#2a3f5f"
          },
          "geo": {
           "bgcolor": "white",
           "lakecolor": "white",
           "landcolor": "#E5ECF6",
           "showlakes": true,
           "showland": true,
           "subunitcolor": "white"
          },
          "hoverlabel": {
           "align": "left"
          },
          "hovermode": "closest",
          "mapbox": {
           "style": "light"
          },
          "paper_bgcolor": "white",
          "plot_bgcolor": "#E5ECF6",
          "polar": {
           "angularaxis": {
            "gridcolor": "white",
            "linecolor": "white",
            "ticks": ""
           },
           "bgcolor": "#E5ECF6",
           "radialaxis": {
            "gridcolor": "white",
            "linecolor": "white",
            "ticks": ""
           }
          },
          "scene": {
           "xaxis": {
            "backgroundcolor": "#E5ECF6",
            "gridcolor": "white",
            "gridwidth": 2,
            "linecolor": "white",
            "showbackground": true,
            "ticks": "",
            "zerolinecolor": "white"
           },
           "yaxis": {
            "backgroundcolor": "#E5ECF6",
            "gridcolor": "white",
            "gridwidth": 2,
            "linecolor": "white",
            "showbackground": true,
            "ticks": "",
            "zerolinecolor": "white"
           },
           "zaxis": {
            "backgroundcolor": "#E5ECF6",
            "gridcolor": "white",
            "gridwidth": 2,
            "linecolor": "white",
            "showbackground": true,
            "ticks": "",
            "zerolinecolor": "white"
           }
          },
          "shapedefaults": {
           "line": {
            "color": "#2a3f5f"
           }
          },
          "ternary": {
           "aaxis": {
            "gridcolor": "white",
            "linecolor": "white",
            "ticks": ""
           },
           "baxis": {
            "gridcolor": "white",
            "linecolor": "white",
            "ticks": ""
           },
           "bgcolor": "#E5ECF6",
           "caxis": {
            "gridcolor": "white",
            "linecolor": "white",
            "ticks": ""
           }
          },
          "title": {
           "x": 0.05
          },
          "xaxis": {
           "automargin": true,
           "gridcolor": "white",
           "linecolor": "white",
           "ticks": "",
           "title": {
            "standoff": 15
           },
           "zerolinecolor": "white",
           "zerolinewidth": 2
          },
          "yaxis": {
           "automargin": true,
           "gridcolor": "white",
           "linecolor": "white",
           "ticks": "",
           "title": {
            "standoff": 15
           },
           "zerolinecolor": "white",
           "zerolinewidth": 2
          }
         }
        },
        "title": {
         "text": "UK Irregular Arrivals Average 2018 to 2024",
         "x": 0.5,
         "y": 0.85
        }
       }
      },
      "text/html": [
       "<div>                            <div id=\"692a9fb2-4e29-4edd-8bd6-a802f487e352\" class=\"plotly-graph-div\" style=\"height:525px; width:100%;\"></div>            <script type=\"text/javascript\">                require([\"plotly\"], function(Plotly) {                    window.PLOTLYENV=window.PLOTLYENV || {};                                    if (document.getElementById(\"692a9fb2-4e29-4edd-8bd6-a802f487e352\")) {                    Plotly.newPlot(                        \"692a9fb2-4e29-4edd-8bd6-a802f487e352\",                        [{\"coloraxis\":\"coloraxis\",\"geo\":\"geo\",\"hovertemplate\":\"locations=%{location}<br>color=%{z}<extra></extra>\",\"locationmode\":\"country names\",\"locations\":[\"Afghanistan\",\"Albania\",\"Algeria\",\"Andorra\",\"Angola\",\"Argentina\",\"Armenia\",\"Australia\",\"Austria\",\"Azerbaijan\",\"Bahamas, The\",\"Bahrain\",\"Bangladesh\",\"Barbados\",\"Belarus\",\"Belgium\",\"Benin\",\"Bhutan\",\"Bolivia\",\"Bosnia and Herzegovina\",\"Botswana\",\"Brazil\",\"British overseas citizens\",\"Bulgaria\",\"Burkina Faso\",\"Burundi\",\"Cambodia\",\"Cameroon\",\"Canada\",\"Central African Republic\",\"Chad\",\"Chile\",\"China\",\"Colombia\",\"Comoros\",\"Congo\",\"Congo (Democratic Republic)\",\"Costa Rica\",\"Croatia\",\"Cuba\",\"Cyprus\",\"Cyprus (Northern part of)\",\"Czechia\",\"Denmark\",\"Djibouti\",\"Dominica\",\"Dominican Republic\",\"East Timor\",\"Ecuador\",\"Egypt\",\"El Salvador\",\"Equatorial Guinea\",\"Eritrea\",\"Eswatini\",\"Ethiopia\",\"Fiji\",\"Finland\",\"France\",\"French Guiana (French)\",\"Gambia, The\",\"Georgia\",\"Germany\",\"Ghana\",\"Greece\",\"Greenland\",\"Grenada\",\"Guatemala\",\"Guinea\",\"Guinea-Bissau\",\"Guyana\",\"Haiti\",\"Honduras\",\"Hong Kong\",\"Hungary\",\"Iceland\",\"India\",\"Indonesia\",\"Iran\",\"Iraq\",\"Ireland\",\"Israel\",\"Italy\",\"Ivory Coast\",\"Jamaica\",\"Japan\",\"Jordan\",\"Kazakhstan\",\"Kenya\",\"Kosovo\",\"Kuwait\",\"Kyrgyzstan\",\"Laos\",\"Latvia\",\"Lebanon\",\"Liberia\",\"Libya\",\"Lithuania\",\"Malawi\",\"Malaysia\",\"Mali\",\"Malta\",\"Marshall Islands\",\"Mauritania\",\"Mauritius\",\"Mexico\",\"Moldova\",\"Mongolia\",\"Montenegro\",\"Morocco\",\"Mozambique\",\"Myanmar (Burma)\",\"Namibia\",\"Nepal\",\"Netherlands\",\"Nicaragua\",\"Niger\",\"Nigeria\",\"North Macedonia\",\"Norway\",\"Occupied Palestinian Territories\",\"Oman\",\"Other and unknown\",\"Pakistan\",\"Papua New Guinea\",\"Paraguay\",\"Peru\",\"Philippines\",\"Pitcairn Islands (British)\",\"Poland\",\"Portugal\",\"Qatar\",\"Refugee\",\"Reunion (French)\",\"Romania\",\"Russia\",\"Rwanda\",\"Saint Barthelemy (French)\",\"Saudi Arabia\",\"Senegal\",\"Serbia\",\"Sierra Leone\",\"Singapore\",\"Slovakia\",\"Slovenia\",\"Somalia\",\"South Africa\",\"South Korea\",\"South Sudan\",\"Spain\",\"Sri Lanka\",\"St Lucia\",\"St Vincent and the Grenadines\",\"Stateless\",\"Sudan\",\"Suriname\",\"Sweden\",\"Syria\",\"Taiwan\",\"Tajikistan\",\"Tanzania\",\"Thailand\",\"Togo\",\"Trinidad and Tobago\",\"Tunisia\",\"Turkey\",\"Turkmenistan\",\"Uganda\",\"Ukraine\",\"United Arab Emirates\",\"United States\",\"Uzbekistan\",\"Venezuela\",\"Vietnam\",\"Virgin Islands (British)\",\"Western Sahara\",\"Yemen\",\"Zambia\",\"Zimbabwe\"],\"name\":\"\",\"type\":\"choropleth\",\"z\":[26365,21017,808,2,44,6,4,1,2,73,1,1,168,1,18,5,12,1,6,4,9,117,21,14,22,11,1,90,3,16,585,4,1071,15,1,26,112,5,1,4,1,13,6,11,5,16,10,1,3,3032,1,4,18577,1,3031,1,2,32,2,181,3594,17,181,9,2,2,2,258,16,1,1,1,5,12,1,4126,5,39598,26823,4,15,45,53,7,3,51,22,19,46,2822,18,2,6,108,15,1269,11,2,2,88,1,1,20,8,15,19,1,3,532,2,10,10,59,7,2,39,460,8,5,687,1,555,1109,1,1,12,15,1,24,22,3,295,1,63,206,3,1,22,84,9,116,2,6,2,1996,41,2,829,29,2190,1,1,2493,14703,1,5,15322,4,39,139,6,9,3,193,7590,3,17,204,9,33,7,5,7901,1,11,2199,2,37]}],                        {\"coloraxis\":{\"colorbar\":{\"title\":{\"text\":\"\"}},\"colorscale\":[[0.0,\"rgb(234, 252, 253)\"],[0.09090909090909091,\"rgb(192, 229, 232)\"],[0.18181818181818182,\"rgb(149, 207, 216)\"],[0.2727272727272727,\"rgb(114, 184, 205)\"],[0.36363636363636365,\"rgb(89, 159, 196)\"],[0.45454545454545453,\"rgb(72, 134, 187)\"],[0.5454545454545454,\"rgb(62, 109, 178)\"],[0.6363636363636364,\"rgb(62, 83, 160)\"],[0.7272727272727273,\"rgb(58, 60, 125)\"],[0.8181818181818182,\"rgb(44, 42, 87)\"],[0.9090909090909091,\"rgb(25, 25, 51)\"],[1.0,\"rgb(3, 5, 18)\"]]},\"geo\":{\"center\":{},\"domain\":{\"x\":[0.0,1.0],\"y\":[0.0,1.0]}},\"legend\":{\"tracegroupgap\":0},\"template\":{\"data\":{\"bar\":[{\"error_x\":{\"color\":\"#2a3f5f\"},\"error_y\":{\"color\":\"#2a3f5f\"},\"marker\":{\"line\":{\"color\":\"#E5ECF6\",\"width\":0.5},\"pattern\":{\"fillmode\":\"overlay\",\"size\":10,\"solidity\":0.2}},\"type\":\"bar\"}],\"barpolar\":[{\"marker\":{\"line\":{\"color\":\"#E5ECF6\",\"width\":0.5},\"pattern\":{\"fillmode\":\"overlay\",\"size\":10,\"solidity\":0.2}},\"type\":\"barpolar\"}],\"carpet\":[{\"aaxis\":{\"endlinecolor\":\"#2a3f5f\",\"gridcolor\":\"white\",\"linecolor\":\"white\",\"minorgridcolor\":\"white\",\"startlinecolor\":\"#2a3f5f\"},\"baxis\":{\"endlinecolor\":\"#2a3f5f\",\"gridcolor\":\"white\",\"linecolor\":\"white\",\"minorgridcolor\":\"white\",\"startlinecolor\":\"#2a3f5f\"},\"type\":\"carpet\"}],\"choropleth\":[{\"colorbar\":{\"outlinewidth\":0,\"ticks\":\"\"},\"type\":\"choropleth\"}],\"contour\":[{\"colorbar\":{\"outlinewidth\":0,\"ticks\":\"\"},\"colorscale\":[[0.0,\"#0d0887\"],[0.1111111111111111,\"#46039f\"],[0.2222222222222222,\"#7201a8\"],[0.3333333333333333,\"#9c179e\"],[0.4444444444444444,\"#bd3786\"],[0.5555555555555556,\"#d8576b\"],[0.6666666666666666,\"#ed7953\"],[0.7777777777777778,\"#fb9f3a\"],[0.8888888888888888,\"#fdca26\"],[1.0,\"#f0f921\"]],\"type\":\"contour\"}],\"contourcarpet\":[{\"colorbar\":{\"outlinewidth\":0,\"ticks\":\"\"},\"type\":\"contourcarpet\"}],\"heatmap\":[{\"colorbar\":{\"outlinewidth\":0,\"ticks\":\"\"},\"colorscale\":[[0.0,\"#0d0887\"],[0.1111111111111111,\"#46039f\"],[0.2222222222222222,\"#7201a8\"],[0.3333333333333333,\"#9c179e\"],[0.4444444444444444,\"#bd3786\"],[0.5555555555555556,\"#d8576b\"],[0.6666666666666666,\"#ed7953\"],[0.7777777777777778,\"#fb9f3a\"],[0.8888888888888888,\"#fdca26\"],[1.0,\"#f0f921\"]],\"type\":\"heatmap\"}],\"heatmapgl\":[{\"colorbar\":{\"outlinewidth\":0,\"ticks\":\"\"},\"colorscale\":[[0.0,\"#0d0887\"],[0.1111111111111111,\"#46039f\"],[0.2222222222222222,\"#7201a8\"],[0.3333333333333333,\"#9c179e\"],[0.4444444444444444,\"#bd3786\"],[0.5555555555555556,\"#d8576b\"],[0.6666666666666666,\"#ed7953\"],[0.7777777777777778,\"#fb9f3a\"],[0.8888888888888888,\"#fdca26\"],[1.0,\"#f0f921\"]],\"type\":\"heatmapgl\"}],\"histogram\":[{\"marker\":{\"pattern\":{\"fillmode\":\"overlay\",\"size\":10,\"solidity\":0.2}},\"type\":\"histogram\"}],\"histogram2d\":[{\"colorbar\":{\"outlinewidth\":0,\"ticks\":\"\"},\"colorscale\":[[0.0,\"#0d0887\"],[0.1111111111111111,\"#46039f\"],[0.2222222222222222,\"#7201a8\"],[0.3333333333333333,\"#9c179e\"],[0.4444444444444444,\"#bd3786\"],[0.5555555555555556,\"#d8576b\"],[0.6666666666666666,\"#ed7953\"],[0.7777777777777778,\"#fb9f3a\"],[0.8888888888888888,\"#fdca26\"],[1.0,\"#f0f921\"]],\"type\":\"histogram2d\"}],\"histogram2dcontour\":[{\"colorbar\":{\"outlinewidth\":0,\"ticks\":\"\"},\"colorscale\":[[0.0,\"#0d0887\"],[0.1111111111111111,\"#46039f\"],[0.2222222222222222,\"#7201a8\"],[0.3333333333333333,\"#9c179e\"],[0.4444444444444444,\"#bd3786\"],[0.5555555555555556,\"#d8576b\"],[0.6666666666666666,\"#ed7953\"],[0.7777777777777778,\"#fb9f3a\"],[0.8888888888888888,\"#fdca26\"],[1.0,\"#f0f921\"]],\"type\":\"histogram2dcontour\"}],\"mesh3d\":[{\"colorbar\":{\"outlinewidth\":0,\"ticks\":\"\"},\"type\":\"mesh3d\"}],\"parcoords\":[{\"line\":{\"colorbar\":{\"outlinewidth\":0,\"ticks\":\"\"}},\"type\":\"parcoords\"}],\"pie\":[{\"automargin\":true,\"type\":\"pie\"}],\"scatter\":[{\"marker\":{\"colorbar\":{\"outlinewidth\":0,\"ticks\":\"\"}},\"type\":\"scatter\"}],\"scatter3d\":[{\"line\":{\"colorbar\":{\"outlinewidth\":0,\"ticks\":\"\"}},\"marker\":{\"colorbar\":{\"outlinewidth\":0,\"ticks\":\"\"}},\"type\":\"scatter3d\"}],\"scattercarpet\":[{\"marker\":{\"colorbar\":{\"outlinewidth\":0,\"ticks\":\"\"}},\"type\":\"scattercarpet\"}],\"scattergeo\":[{\"marker\":{\"colorbar\":{\"outlinewidth\":0,\"ticks\":\"\"}},\"type\":\"scattergeo\"}],\"scattergl\":[{\"marker\":{\"colorbar\":{\"outlinewidth\":0,\"ticks\":\"\"}},\"type\":\"scattergl\"}],\"scattermapbox\":[{\"marker\":{\"colorbar\":{\"outlinewidth\":0,\"ticks\":\"\"}},\"type\":\"scattermapbox\"}],\"scatterpolar\":[{\"marker\":{\"colorbar\":{\"outlinewidth\":0,\"ticks\":\"\"}},\"type\":\"scatterpolar\"}],\"scatterpolargl\":[{\"marker\":{\"colorbar\":{\"outlinewidth\":0,\"ticks\":\"\"}},\"type\":\"scatterpolargl\"}],\"scatterternary\":[{\"marker\":{\"colorbar\":{\"outlinewidth\":0,\"ticks\":\"\"}},\"type\":\"scatterternary\"}],\"surface\":[{\"colorbar\":{\"outlinewidth\":0,\"ticks\":\"\"},\"colorscale\":[[0.0,\"#0d0887\"],[0.1111111111111111,\"#46039f\"],[0.2222222222222222,\"#7201a8\"],[0.3333333333333333,\"#9c179e\"],[0.4444444444444444,\"#bd3786\"],[0.5555555555555556,\"#d8576b\"],[0.6666666666666666,\"#ed7953\"],[0.7777777777777778,\"#fb9f3a\"],[0.8888888888888888,\"#fdca26\"],[1.0,\"#f0f921\"]],\"type\":\"surface\"}],\"table\":[{\"cells\":{\"fill\":{\"color\":\"#EBF0F8\"},\"line\":{\"color\":\"white\"}},\"header\":{\"fill\":{\"color\":\"#C8D4E3\"},\"line\":{\"color\":\"white\"}},\"type\":\"table\"}]},\"layout\":{\"annotationdefaults\":{\"arrowcolor\":\"#2a3f5f\",\"arrowhead\":0,\"arrowwidth\":1},\"autotypenumbers\":\"strict\",\"coloraxis\":{\"colorbar\":{\"outlinewidth\":0,\"ticks\":\"\"}},\"colorscale\":{\"diverging\":[[0,\"#8e0152\"],[0.1,\"#c51b7d\"],[0.2,\"#de77ae\"],[0.3,\"#f1b6da\"],[0.4,\"#fde0ef\"],[0.5,\"#f7f7f7\"],[0.6,\"#e6f5d0\"],[0.7,\"#b8e186\"],[0.8,\"#7fbc41\"],[0.9,\"#4d9221\"],[1,\"#276419\"]],\"sequential\":[[0.0,\"#0d0887\"],[0.1111111111111111,\"#46039f\"],[0.2222222222222222,\"#7201a8\"],[0.3333333333333333,\"#9c179e\"],[0.4444444444444444,\"#bd3786\"],[0.5555555555555556,\"#d8576b\"],[0.6666666666666666,\"#ed7953\"],[0.7777777777777778,\"#fb9f3a\"],[0.8888888888888888,\"#fdca26\"],[1.0,\"#f0f921\"]],\"sequentialminus\":[[0.0,\"#0d0887\"],[0.1111111111111111,\"#46039f\"],[0.2222222222222222,\"#7201a8\"],[0.3333333333333333,\"#9c179e\"],[0.4444444444444444,\"#bd3786\"],[0.5555555555555556,\"#d8576b\"],[0.6666666666666666,\"#ed7953\"],[0.7777777777777778,\"#fb9f3a\"],[0.8888888888888888,\"#fdca26\"],[1.0,\"#f0f921\"]]},\"colorway\":[\"#636efa\",\"#EF553B\",\"#00cc96\",\"#ab63fa\",\"#FFA15A\",\"#19d3f3\",\"#FF6692\",\"#B6E880\",\"#FF97FF\",\"#FECB52\"],\"font\":{\"color\":\"#2a3f5f\"},\"geo\":{\"bgcolor\":\"white\",\"lakecolor\":\"white\",\"landcolor\":\"#E5ECF6\",\"showlakes\":true,\"showland\":true,\"subunitcolor\":\"white\"},\"hoverlabel\":{\"align\":\"left\"},\"hovermode\":\"closest\",\"mapbox\":{\"style\":\"light\"},\"paper_bgcolor\":\"white\",\"plot_bgcolor\":\"#E5ECF6\",\"polar\":{\"angularaxis\":{\"gridcolor\":\"white\",\"linecolor\":\"white\",\"ticks\":\"\"},\"bgcolor\":\"#E5ECF6\",\"radialaxis\":{\"gridcolor\":\"white\",\"linecolor\":\"white\",\"ticks\":\"\"}},\"scene\":{\"xaxis\":{\"backgroundcolor\":\"#E5ECF6\",\"gridcolor\":\"white\",\"gridwidth\":2,\"linecolor\":\"white\",\"showbackground\":true,\"ticks\":\"\",\"zerolinecolor\":\"white\"},\"yaxis\":{\"backgroundcolor\":\"#E5ECF6\",\"gridcolor\":\"white\",\"gridwidth\":2,\"linecolor\":\"white\",\"showbackground\":true,\"ticks\":\"\",\"zerolinecolor\":\"white\"},\"zaxis\":{\"backgroundcolor\":\"#E5ECF6\",\"gridcolor\":\"white\",\"gridwidth\":2,\"linecolor\":\"white\",\"showbackground\":true,\"ticks\":\"\",\"zerolinecolor\":\"white\"}},\"shapedefaults\":{\"line\":{\"color\":\"#2a3f5f\"}},\"ternary\":{\"aaxis\":{\"gridcolor\":\"white\",\"linecolor\":\"white\",\"ticks\":\"\"},\"baxis\":{\"gridcolor\":\"white\",\"linecolor\":\"white\",\"ticks\":\"\"},\"bgcolor\":\"#E5ECF6\",\"caxis\":{\"gridcolor\":\"white\",\"linecolor\":\"white\",\"ticks\":\"\"}},\"title\":{\"x\":0.05},\"xaxis\":{\"automargin\":true,\"gridcolor\":\"white\",\"linecolor\":\"white\",\"ticks\":\"\",\"title\":{\"standoff\":15},\"zerolinecolor\":\"white\",\"zerolinewidth\":2},\"yaxis\":{\"automargin\":true,\"gridcolor\":\"white\",\"linecolor\":\"white\",\"ticks\":\"\",\"title\":{\"standoff\":15},\"zerolinecolor\":\"white\",\"zerolinewidth\":2}}},\"title\":{\"text\":\"UK Irregular Arrivals Average 2018 to 2024\",\"x\":0.5,\"y\":0.85}},                        {\"responsive\": true}                    ).then(function(){\n",
       "                            \n",
       "var gd = document.getElementById('692a9fb2-4e29-4edd-8bd6-a802f487e352');\n",
       "var x = new MutationObserver(function (mutations, observer) {{\n",
       "        var display = window.getComputedStyle(gd).display;\n",
       "        if (!display || display === 'none') {{\n",
       "            console.log([gd, 'removed!']);\n",
       "            Plotly.purge(gd);\n",
       "            observer.disconnect();\n",
       "        }}\n",
       "}});\n",
       "\n",
       "// Listen for the removal of the full notebook cells\n",
       "var notebookContainer = gd.closest('#notebook-container');\n",
       "if (notebookContainer) {{\n",
       "    x.observe(notebookContainer, {childList: true});\n",
       "}}\n",
       "\n",
       "// Listen for the clearing of the current output cell\n",
       "var outputEl = gd.closest('.output');\n",
       "if (outputEl) {{\n",
       "    x.observe(outputEl, {childList: true});\n",
       "}}\n",
       "\n",
       "                        })                };                });            </script>        </div>"
      ]
     },
     "metadata": {},
     "output_type": "display_data"
    }
   ],
   "source": [
    "# Create interactive map of average migration\n",
    "fig = px.choropleth(locationmode=\"country names\", \n",
    "                    locations = all_countries.Nationality,\n",
    "                    title = 'UK Irregular Arrivals Average 2018 to 2024',\n",
    "                    color = all_countries['Number of detections'],\n",
    "                    color_continuous_scale='Ice_r',\n",
    "                    \n",
    "                    )\n",
    "fig.update_layout(\n",
    "    title_x=0.5,\n",
    "    title_y=0.85)\n",
    "\n",
    "fig.update_layout(coloraxis_colorbar_title_text = '')\n",
    "fig.show()"
   ]
  },
  {
   "cell_type": "markdown",
   "id": "c4eea299",
   "metadata": {},
   "source": [
    "## Boat Arrivals Claiming Refugee Status"
   ]
  },
  {
   "cell_type": "markdown",
   "id": "218bc999",
   "metadata": {},
   "source": [
    "Asylum Claims and Initial Decisions Data\n",
    "\n",
    "[Data](https://assets.publishing.service.gov.uk/media/681c51dd43d6699b3c1d29fd/irregular-migration-to-the-uk-dataset-mar-2025.xlsx)"
   ]
  },
  {
   "cell_type": "code",
   "execution_count": 489,
   "id": "7d4c22d5",
   "metadata": {},
   "outputs": [],
   "source": [
    "ref = pd.read_csv(r'C:\\Users\\imoge\\AllMLProjects\\Data\\AsylumClaimsUpdated.csv')"
   ]
  },
  {
   "cell_type": "code",
   "execution_count": 490,
   "id": "070f18cb",
   "metadata": {},
   "outputs": [
    {
     "data": {
      "text/plain": [
       "(5980, 10)"
      ]
     },
     "execution_count": 490,
     "metadata": {},
     "output_type": "execute_result"
    }
   ],
   "source": [
    "ref.shape"
   ]
  },
  {
   "cell_type": "code",
   "execution_count": 491,
   "id": "8ac4538c",
   "metadata": {},
   "outputs": [
    {
     "name": "stdout",
     "output_type": "stream",
     "text": [
      "<class 'pandas.core.frame.DataFrame'>\n",
      "RangeIndex: 5980 entries, 0 to 5979\n",
      "Data columns (total 10 columns):\n",
      " #   Column          Non-Null Count  Dtype \n",
      "---  ------          --------------  ----- \n",
      " 0   Year            5980 non-null   int64 \n",
      " 1   Quarter         5980 non-null   object\n",
      " 2   Asylum claim    5980 non-null   object\n",
      " 3   Nationality     5980 non-null   object\n",
      " 4   Region          5980 non-null   object\n",
      " 5   Applicant type  5980 non-null   object\n",
      " 6   UASC            5980 non-null   object\n",
      " 7   Sex             5980 non-null   object\n",
      " 8   Age Group       5980 non-null   object\n",
      " 9   Arrivals        5980 non-null   int64 \n",
      "dtypes: int64(2), object(8)\n",
      "memory usage: 467.3+ KB\n"
     ]
    }
   ],
   "source": [
    "ref.info()"
   ]
  },
  {
   "cell_type": "code",
   "execution_count": 492,
   "id": "d3966e07",
   "metadata": {},
   "outputs": [
    {
     "data": {
      "text/html": [
       "<div>\n",
       "<style scoped>\n",
       "    .dataframe tbody tr th:only-of-type {\n",
       "        vertical-align: middle;\n",
       "    }\n",
       "\n",
       "    .dataframe tbody tr th {\n",
       "        vertical-align: top;\n",
       "    }\n",
       "\n",
       "    .dataframe thead th {\n",
       "        text-align: right;\n",
       "    }\n",
       "</style>\n",
       "<table border=\"1\" class=\"dataframe\">\n",
       "  <thead>\n",
       "    <tr style=\"text-align: right;\">\n",
       "      <th></th>\n",
       "      <th>Year</th>\n",
       "      <th>Quarter</th>\n",
       "      <th>Asylum claim</th>\n",
       "      <th>Nationality</th>\n",
       "      <th>Region</th>\n",
       "      <th>Applicant type</th>\n",
       "      <th>UASC</th>\n",
       "      <th>Sex</th>\n",
       "      <th>Age Group</th>\n",
       "      <th>Arrivals</th>\n",
       "    </tr>\n",
       "  </thead>\n",
       "  <tbody>\n",
       "    <tr>\n",
       "      <th>0</th>\n",
       "      <td>2018</td>\n",
       "      <td>2018 Q2</td>\n",
       "      <td>Asylum claim raised</td>\n",
       "      <td>Ukraine</td>\n",
       "      <td>Europe Other</td>\n",
       "      <td>Dependant</td>\n",
       "      <td>Non-UASC</td>\n",
       "      <td>Female</td>\n",
       "      <td>17 and under</td>\n",
       "      <td>2</td>\n",
       "    </tr>\n",
       "    <tr>\n",
       "      <th>1</th>\n",
       "      <td>2018</td>\n",
       "      <td>2018 Q2</td>\n",
       "      <td>Asylum claim raised</td>\n",
       "      <td>Ukraine</td>\n",
       "      <td>Europe Other</td>\n",
       "      <td>Dependant</td>\n",
       "      <td>Non-UASC</td>\n",
       "      <td>Female</td>\n",
       "      <td>25 to 39</td>\n",
       "      <td>1</td>\n",
       "    </tr>\n",
       "    <tr>\n",
       "      <th>2</th>\n",
       "      <td>2018</td>\n",
       "      <td>2018 Q2</td>\n",
       "      <td>Asylum claim raised</td>\n",
       "      <td>Ukraine</td>\n",
       "      <td>Europe Other</td>\n",
       "      <td>Main applicant</td>\n",
       "      <td>Non-UASC</td>\n",
       "      <td>Male</td>\n",
       "      <td>40 and over</td>\n",
       "      <td>1</td>\n",
       "    </tr>\n",
       "    <tr>\n",
       "      <th>3</th>\n",
       "      <td>2018</td>\n",
       "      <td>2018 Q3</td>\n",
       "      <td>Asylum claim raised</td>\n",
       "      <td>Afghanistan</td>\n",
       "      <td>Asia Central</td>\n",
       "      <td>Main applicant</td>\n",
       "      <td>Non-UASC</td>\n",
       "      <td>Male</td>\n",
       "      <td>18 to 24</td>\n",
       "      <td>1</td>\n",
       "    </tr>\n",
       "    <tr>\n",
       "      <th>4</th>\n",
       "      <td>2018</td>\n",
       "      <td>2018 Q3</td>\n",
       "      <td>Asylum claim raised</td>\n",
       "      <td>Afghanistan</td>\n",
       "      <td>Asia Central</td>\n",
       "      <td>Main applicant</td>\n",
       "      <td>Non-UASC</td>\n",
       "      <td>Male</td>\n",
       "      <td>25 to 39</td>\n",
       "      <td>1</td>\n",
       "    </tr>\n",
       "  </tbody>\n",
       "</table>\n",
       "</div>"
      ],
      "text/plain": [
       "   Year  Quarter         Asylum claim  Nationality        Region  \\\n",
       "0  2018  2018 Q2  Asylum claim raised      Ukraine  Europe Other   \n",
       "1  2018  2018 Q2  Asylum claim raised      Ukraine  Europe Other   \n",
       "2  2018  2018 Q2  Asylum claim raised      Ukraine  Europe Other   \n",
       "3  2018  2018 Q3  Asylum claim raised  Afghanistan  Asia Central   \n",
       "4  2018  2018 Q3  Asylum claim raised  Afghanistan  Asia Central   \n",
       "\n",
       "   Applicant type      UASC     Sex     Age Group  Arrivals  \n",
       "0       Dependant  Non-UASC  Female  17 and under         2  \n",
       "1       Dependant  Non-UASC  Female      25 to 39         1  \n",
       "2  Main applicant  Non-UASC    Male   40 and over         1  \n",
       "3  Main applicant  Non-UASC    Male      18 to 24         1  \n",
       "4  Main applicant  Non-UASC    Male      25 to 39         1  "
      ]
     },
     "execution_count": 492,
     "metadata": {},
     "output_type": "execute_result"
    }
   ],
   "source": [
    "ref.head()"
   ]
  },
  {
   "cell_type": "code",
   "execution_count": 493,
   "id": "7e877f38",
   "metadata": {},
   "outputs": [
    {
     "data": {
      "text/html": [
       "<div>\n",
       "<style scoped>\n",
       "    .dataframe tbody tr th:only-of-type {\n",
       "        vertical-align: middle;\n",
       "    }\n",
       "\n",
       "    .dataframe tbody tr th {\n",
       "        vertical-align: top;\n",
       "    }\n",
       "\n",
       "    .dataframe thead th {\n",
       "        text-align: right;\n",
       "    }\n",
       "</style>\n",
       "<table border=\"1\" class=\"dataframe\">\n",
       "  <thead>\n",
       "    <tr style=\"text-align: right;\">\n",
       "      <th></th>\n",
       "      <th>Year</th>\n",
       "      <th>Quarter</th>\n",
       "      <th>Asylum claim</th>\n",
       "      <th>Nationality</th>\n",
       "      <th>Region</th>\n",
       "      <th>Applicant type</th>\n",
       "      <th>UASC</th>\n",
       "      <th>Sex</th>\n",
       "      <th>Age Group</th>\n",
       "      <th>Arrivals</th>\n",
       "    </tr>\n",
       "  </thead>\n",
       "  <tbody>\n",
       "    <tr>\n",
       "      <th>5975</th>\n",
       "      <td>2024</td>\n",
       "      <td>2024 Q4</td>\n",
       "      <td>No asylum claim raised</td>\n",
       "      <td>Turkey</td>\n",
       "      <td>Europe Other</td>\n",
       "      <td>N/A - No asylum claim</td>\n",
       "      <td>Non-UASC</td>\n",
       "      <td>Male</td>\n",
       "      <td>18 to 24</td>\n",
       "      <td>3</td>\n",
       "    </tr>\n",
       "    <tr>\n",
       "      <th>5976</th>\n",
       "      <td>2024</td>\n",
       "      <td>2024 Q4</td>\n",
       "      <td>No asylum claim raised</td>\n",
       "      <td>Turkey</td>\n",
       "      <td>Europe Other</td>\n",
       "      <td>N/A - No asylum claim</td>\n",
       "      <td>Non-UASC</td>\n",
       "      <td>Male</td>\n",
       "      <td>25 to 39</td>\n",
       "      <td>3</td>\n",
       "    </tr>\n",
       "    <tr>\n",
       "      <th>5977</th>\n",
       "      <td>2024</td>\n",
       "      <td>2024 Q4</td>\n",
       "      <td>No asylum claim raised</td>\n",
       "      <td>Turkey</td>\n",
       "      <td>Europe Other</td>\n",
       "      <td>N/A - No asylum claim</td>\n",
       "      <td>Non-UASC</td>\n",
       "      <td>Male</td>\n",
       "      <td>40 and over</td>\n",
       "      <td>3</td>\n",
       "    </tr>\n",
       "    <tr>\n",
       "      <th>5978</th>\n",
       "      <td>2024</td>\n",
       "      <td>2024 Q4</td>\n",
       "      <td>No asylum claim raised</td>\n",
       "      <td>Vietnam</td>\n",
       "      <td>Asia South East</td>\n",
       "      <td>N/A - No asylum claim</td>\n",
       "      <td>Non-UASC</td>\n",
       "      <td>Male</td>\n",
       "      <td>25 to 39</td>\n",
       "      <td>2</td>\n",
       "    </tr>\n",
       "    <tr>\n",
       "      <th>5979</th>\n",
       "      <td>2024</td>\n",
       "      <td>2024 Q4</td>\n",
       "      <td>No asylum claim raised</td>\n",
       "      <td>Yemen</td>\n",
       "      <td>Middle East</td>\n",
       "      <td>N/A - No asylum claim</td>\n",
       "      <td>Non-UASC</td>\n",
       "      <td>Male</td>\n",
       "      <td>25 to 39</td>\n",
       "      <td>1</td>\n",
       "    </tr>\n",
       "  </tbody>\n",
       "</table>\n",
       "</div>"
      ],
      "text/plain": [
       "      Year  Quarter            Asylum claim Nationality           Region  \\\n",
       "5975  2024  2024 Q4  No asylum claim raised      Turkey     Europe Other   \n",
       "5976  2024  2024 Q4  No asylum claim raised      Turkey     Europe Other   \n",
       "5977  2024  2024 Q4  No asylum claim raised      Turkey     Europe Other   \n",
       "5978  2024  2024 Q4  No asylum claim raised     Vietnam  Asia South East   \n",
       "5979  2024  2024 Q4  No asylum claim raised       Yemen      Middle East   \n",
       "\n",
       "             Applicant type      UASC   Sex    Age Group  Arrivals  \n",
       "5975  N/A - No asylum claim  Non-UASC  Male     18 to 24         3  \n",
       "5976  N/A - No asylum claim  Non-UASC  Male     25 to 39         3  \n",
       "5977  N/A - No asylum claim  Non-UASC  Male  40 and over         3  \n",
       "5978  N/A - No asylum claim  Non-UASC  Male     25 to 39         2  \n",
       "5979  N/A - No asylum claim  Non-UASC  Male     25 to 39         1  "
      ]
     },
     "execution_count": 493,
     "metadata": {},
     "output_type": "execute_result"
    }
   ],
   "source": [
    "ref.tail()"
   ]
  },
  {
   "cell_type": "code",
   "execution_count": 494,
   "id": "4e6020d9",
   "metadata": {},
   "outputs": [
    {
     "data": {
      "text/plain": [
       "array([2018, 2019, 2020, 2021, 2022, 2023, 2024], dtype=int64)"
      ]
     },
     "execution_count": 494,
     "metadata": {},
     "output_type": "execute_result"
    }
   ],
   "source": [
    "ref['Year'].unique()"
   ]
  },
  {
   "cell_type": "code",
   "execution_count": 495,
   "id": "5a55dcc9",
   "metadata": {},
   "outputs": [
    {
     "data": {
      "text/plain": [
       "array(['2018 Q2', '2018 Q3', '2018 Q4', '2019 Q1', '2019 Q2', '2019 Q3',\n",
       "       '2019 Q4', '2020 Q1', '2020 Q2', '2020 Q3', '2020 Q4', '2021 Q1',\n",
       "       '2021 Q2', '2021 Q3', '2021 Q4', '2022 Q1', '2022 Q2', '2022 Q3',\n",
       "       '2022 Q4', '2023 Q1', '2023 Q2', '2023 Q3', '2023 Q4', '2024 Q1',\n",
       "       '2024 Q2', '2024 Q3', '2024 Q4'], dtype=object)"
      ]
     },
     "execution_count": 495,
     "metadata": {},
     "output_type": "execute_result"
    }
   ],
   "source": [
    "ref['Quarter'].unique()"
   ]
  },
  {
   "cell_type": "markdown",
   "id": "61df2a2d",
   "metadata": {},
   "source": [
    "We do not have any entries for Q1 of 2018"
   ]
  },
  {
   "cell_type": "code",
   "execution_count": 498,
   "id": "ea390db8",
   "metadata": {},
   "outputs": [
    {
     "data": {
      "text/plain": [
       "array(['Asylum claim raised', 'No asylum claim raised'], dtype=object)"
      ]
     },
     "execution_count": 498,
     "metadata": {},
     "output_type": "execute_result"
    }
   ],
   "source": [
    "ref['Asylum claim'].unique()"
   ]
  },
  {
   "cell_type": "code",
   "execution_count": 496,
   "id": "7096505b",
   "metadata": {},
   "outputs": [
    {
     "data": {
      "text/plain": [
       "array(['Non-UASC', 'UASC'], dtype=object)"
      ]
     },
     "execution_count": 496,
     "metadata": {},
     "output_type": "execute_result"
    }
   ],
   "source": [
    "ref['UASC'].unique()"
   ]
  },
  {
   "cell_type": "markdown",
   "id": "1862f33b",
   "metadata": {},
   "source": [
    "USAC - Whether the asylum applicant was an unaccompanied asylum seeking child (UASC)."
   ]
  },
  {
   "cell_type": "code",
   "execution_count": 921,
   "id": "80e4eb42",
   "metadata": {},
   "outputs": [],
   "source": [
    "# Strip out commas and set to integer for the applications\n",
    "#ref['Applications'] = (ref['Applications'].str.replace(',', '', regex=True).astype(int))"
   ]
  },
  {
   "cell_type": "markdown",
   "id": "3dc879b7",
   "metadata": {},
   "source": [
    "## What Proportion of Small Boat Arrivals Raise a Refugee Application?"
   ]
  },
  {
   "cell_type": "code",
   "execution_count": 500,
   "id": "0d499607",
   "metadata": {},
   "outputs": [
    {
     "data": {
      "text/html": [
       "<div>\n",
       "<style scoped>\n",
       "    .dataframe tbody tr th:only-of-type {\n",
       "        vertical-align: middle;\n",
       "    }\n",
       "\n",
       "    .dataframe tbody tr th {\n",
       "        vertical-align: top;\n",
       "    }\n",
       "\n",
       "    .dataframe thead th {\n",
       "        text-align: right;\n",
       "    }\n",
       "</style>\n",
       "<table border=\"1\" class=\"dataframe\">\n",
       "  <thead>\n",
       "    <tr style=\"text-align: right;\">\n",
       "      <th></th>\n",
       "      <th>Asylum claim</th>\n",
       "      <th>Arrivals</th>\n",
       "    </tr>\n",
       "  </thead>\n",
       "  <tbody>\n",
       "    <tr>\n",
       "      <th>0</th>\n",
       "      <td>Asylum claim raised</td>\n",
       "      <td>139465</td>\n",
       "    </tr>\n",
       "    <tr>\n",
       "      <th>1</th>\n",
       "      <td>No asylum claim raised</td>\n",
       "      <td>8469</td>\n",
       "    </tr>\n",
       "  </tbody>\n",
       "</table>\n",
       "</div>"
      ],
      "text/plain": [
       "             Asylum claim  Arrivals\n",
       "0     Asylum claim raised    139465\n",
       "1  No asylum claim raised      8469"
      ]
     },
     "execution_count": 500,
     "metadata": {},
     "output_type": "execute_result"
    }
   ],
   "source": [
    "apps = ref.groupby(['Asylum claim'], as_index = False)['Arrivals'].sum()\n",
    "apps"
   ]
  },
  {
   "cell_type": "code",
   "execution_count": 505,
   "id": "6f990803",
   "metadata": {},
   "outputs": [
    {
     "data": {
      "image/png": "[encoded data removed]",
      "text/plain": [
       "<Figure size 432x432 with 1 Axes>"
      ]
     },
     "metadata": {},
     "output_type": "display_data"
    }
   ],
   "source": [
    "# Draw pie\n",
    "plt.figure(figsize=(6, 6))\n",
    "\n",
    "plt.pie(x = apps['Arrivals'], autopct='%.0f%%')\n",
    "\n",
    "#draw circle\n",
    "centre_circle = plt.Circle((0,0),0.70,fc='white')\n",
    "fig = plt.gcf()\n",
    "fig.gca().add_artist(centre_circle)\n",
    "\n",
    "# Add title and legend\n",
    "plt.title(\"Asylum Applications 2018 Q1 to 2024 Q1\")\n",
    "labels = ['Asylum','No Asylum']\n",
    "plt.legend(labels = labels, bbox_to_anchor=[0.5, 0.5], loc='center')\n",
    "\n",
    "# Show\n",
    "plt.tight_layout()\n",
    "plt.show()"
   ]
  },
  {
   "cell_type": "markdown",
   "id": "7ec0ae46",
   "metadata": {},
   "source": [
    "The vast majority of those arriving by small boat from 2018 Q1 to 2024 Q1 claimed asylum"
   ]
  },
  {
   "cell_type": "markdown",
   "id": "9c8acdee",
   "metadata": {},
   "source": [
    "### How has this changed over time?"
   ]
  },
  {
   "cell_type": "code",
   "execution_count": 507,
   "id": "70b88495",
   "metadata": {},
   "outputs": [],
   "source": [
    "# Group by year and applications\n",
    "asy_year = ref.groupby(['Year','Asylum claim'], as_index = False)['Arrivals'].sum()"
   ]
  },
  {
   "cell_type": "code",
   "execution_count": 568,
   "id": "3ac79beb",
   "metadata": {},
   "outputs": [
    {
     "data": {
      "image/png": "[encoded data removed]",
      "text/plain": [
       "<Figure size 720x432 with 1 Axes>"
      ]
     },
     "metadata": {
      "needs_background": "light"
     },
     "output_type": "display_data"
    }
   ],
   "source": [
    "# Plot the claims by year\n",
    "plt.figure(figsize=(10, 6))\n",
    "\n",
    "ax = sns.barplot(data = asy_year,\n",
    "                 x ='Year',\n",
    "                 y = 'Arrivals',\n",
    "                 hue = 'Asylum claim',\n",
    "                 #errorbar = None,\n",
    "                 palette = 'dark')\n",
    "plt.title(\"Asylum Applications for Small Boat Arrivals (2018 Q1 - 2024 Q4)\", pad = 20)\n",
    "ax.spines['top'].set_visible(False)\n",
    "ax.spines['right'].set_visible(False)\n",
    "plt.ylabel(\"Number\", labelpad = 10)\n",
    "plt.xlabel(\"\")\n",
    "plt.ylabel(\"\")\n",
    "plt.ylim(0,50000)\n",
    "ax.legend(title=None) ;"
   ]
  },
  {
   "cell_type": "code",
   "execution_count": 571,
   "id": "de4c32ea",
   "metadata": {},
   "outputs": [
    {
     "data": {
      "text/html": [
       "<div>\n",
       "<style scoped>\n",
       "    .dataframe tbody tr th:only-of-type {\n",
       "        vertical-align: middle;\n",
       "    }\n",
       "\n",
       "    .dataframe tbody tr th {\n",
       "        vertical-align: top;\n",
       "    }\n",
       "\n",
       "    .dataframe thead th {\n",
       "        text-align: right;\n",
       "    }\n",
       "</style>\n",
       "<table border=\"1\" class=\"dataframe\">\n",
       "  <thead>\n",
       "    <tr style=\"text-align: right;\">\n",
       "      <th>Asylum claim</th>\n",
       "      <th>Asylum claim raised</th>\n",
       "      <th>No asylum claim raised</th>\n",
       "      <th>Total</th>\n",
       "      <th>% raised</th>\n",
       "    </tr>\n",
       "    <tr>\n",
       "      <th>Year</th>\n",
       "      <th></th>\n",
       "      <th></th>\n",
       "      <th></th>\n",
       "      <th></th>\n",
       "    </tr>\n",
       "  </thead>\n",
       "  <tbody>\n",
       "    <tr>\n",
       "      <th>2018</th>\n",
       "      <td>280</td>\n",
       "      <td>5</td>\n",
       "      <td>285</td>\n",
       "      <td>98.2</td>\n",
       "    </tr>\n",
       "    <tr>\n",
       "      <th>2019</th>\n",
       "      <td>1813</td>\n",
       "      <td>20</td>\n",
       "      <td>1833</td>\n",
       "      <td>98.9</td>\n",
       "    </tr>\n",
       "    <tr>\n",
       "      <th>2020</th>\n",
       "      <td>8276</td>\n",
       "      <td>130</td>\n",
       "      <td>8406</td>\n",
       "      <td>98.5</td>\n",
       "    </tr>\n",
       "    <tr>\n",
       "      <th>2021</th>\n",
       "      <td>25276</td>\n",
       "      <td>2747</td>\n",
       "      <td>28023</td>\n",
       "      <td>90.2</td>\n",
       "    </tr>\n",
       "    <tr>\n",
       "      <th>2022</th>\n",
       "      <td>41188</td>\n",
       "      <td>4290</td>\n",
       "      <td>45478</td>\n",
       "      <td>90.6</td>\n",
       "    </tr>\n",
       "    <tr>\n",
       "      <th>2023</th>\n",
       "      <td>27819</td>\n",
       "      <td>607</td>\n",
       "      <td>28426</td>\n",
       "      <td>97.9</td>\n",
       "    </tr>\n",
       "    <tr>\n",
       "      <th>2024</th>\n",
       "      <td>34813</td>\n",
       "      <td>670</td>\n",
       "      <td>35483</td>\n",
       "      <td>98.1</td>\n",
       "    </tr>\n",
       "  </tbody>\n",
       "</table>\n",
       "</div>"
      ],
      "text/plain": [
       "Asylum claim  Asylum claim raised  No asylum claim raised  Total  % raised\n",
       "Year                                                                      \n",
       "2018                          280                       5    285      98.2\n",
       "2019                         1813                      20   1833      98.9\n",
       "2020                         8276                     130   8406      98.5\n",
       "2021                        25276                    2747  28023      90.2\n",
       "2022                        41188                    4290  45478      90.6\n",
       "2023                        27819                     607  28426      97.9\n",
       "2024                        34813                     670  35483      98.1"
      ]
     },
     "execution_count": 571,
     "metadata": {},
     "output_type": "execute_result"
    }
   ],
   "source": [
    "asy_pivot = asy_year.pivot_table(index='Year', columns='Asylum claim', values='Arrivals')\n",
    "asy_pivot['Total'] = asy_pivot['Asylum claim raised'] + asy_pivot['No asylum claim raised']\n",
    "asy_pivot['% raised'] = round(asy_pivot['Asylum claim raised']/asy_pivot['Total']*100,1)\n",
    "asy_pivot"
   ]
  },
  {
   "cell_type": "markdown",
   "id": "9db60e48",
   "metadata": {},
   "source": [
    "Seems to have been fairly consistent over the period with the exception of 2021 and 2022 where the proportion of those arriving by small boat not claiming asylum increased relative to those that did. It is not clear why. \n",
    "\n",
    "[Albanian Returns Agreement](https://www.gov.uk/government/news/milestone-reached-in-uk-albania-agreement-on-illegal-migration):\n",
    "The agreement between the UK and Albania in late 2022 facilitated the return of many Albanian nationals whose asylum claims were refused or withdrawn. This agreement significantly impacted the overall composition of asylum claims from small boat arrivals. "
   ]
  },
  {
   "cell_type": "markdown",
   "id": "c8d9030f",
   "metadata": {},
   "source": [
    "We don't need to go through all the other features such as age, sex, nationality etc as we know that the vast majority of arrivals were from small boats and the vast majority of those claim asylum and we have already looked at the other features in relation to method of entry."
   ]
  }
 ],
 "metadata": {
  "kernelspec": {
   "display_name": "Python 3",
   "language": "python",
   "name": "python3"
  },
  "language_info": {
   "codemirror_mode": {
    "name": "ipython",
    "version": 3
   },
   "file_extension": ".py",
   "mimetype": "text/x-python",
   "name": "python",
   "nbconvert_exporter": "python",
   "pygments_lexer": "ipython3",
   "version": "3.7.10"
  }
 },
 "nbformat": 4,
 "nbformat_minor": 5
}
