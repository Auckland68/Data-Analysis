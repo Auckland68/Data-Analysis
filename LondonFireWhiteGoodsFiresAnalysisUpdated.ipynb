{
 "cells": [
  {
   "cell_type": "markdown",
   "id": "36105996",
   "metadata": {},
   "source": [
    "# Spin Cycle to Inferno\n",
    "## How your washing machine could be a firestarter!\n",
    "### London Fire Brigade - White Goods Analysis"
   ]
  },
  {
   "cell_type": "markdown",
   "id": "bf536041",
   "metadata": {},
   "source": [
    "#### This notebook analyses data relating to fires caused by white goods in London.\n",
    "\n",
    "\"The London Fire Brigade attend a number of fires each year where the ignition source of the fire is recorded as 'white goods' (e.g. washing machine, dishwasher, refrigerator). This data sets provides details of such fires by London borough and ward location, and the type of white goods concerned as well as the property type where the fire happened. Where known, the brand and model of the white goods item is included, although this is added as free text so there may be errors it spelling, etc. The data is from January 2009 and is updated annually for each calendar year.\" (London Datastore)\n",
    "\n",
    "[Dataset](https://data.london.gov.uk/dataset/fires-in-london---cause-of-ignition-is-white-goods)\n",
    "\n",
    "[Population figures](https://www.data.gov.uk/dataset/a76f46f9-c10b-4fe7-82f6-aa928471fcd1/land-area-and-population-density-ward-and-borough/datafile/d509bc74-8451-4017-bc28-df5d177f8a3c/preview)"
   ]
  },
  {
   "cell_type": "markdown",
   "id": "1e66b814",
   "metadata": {},
   "source": [
    "## Import and clean data"
   ]
  },
  {
   "cell_type": "code",
   "execution_count": 1,
   "id": "e66ca497",
   "metadata": {},
   "outputs": [],
   "source": [
    "import pandas as pd\n",
    "import numpy as np\n",
    "import matplotlib.pyplot as plt\n",
    "\n",
    "import warnings\n",
    "warnings.filterwarnings(\"ignore\")"
   ]
  },
  {
   "cell_type": "code",
   "execution_count": 2,
   "id": "ec27c1d7",
   "metadata": {},
   "outputs": [],
   "source": [
    "# Load data\n",
    "data = pd.read_excel(r'C:\\Users\\imoge\\AllMLProjects\\Data\\White goods fires from 2009.xlsx')"
   ]
  },
  {
   "cell_type": "code",
   "execution_count": 3,
   "id": "c4e552cd",
   "metadata": {},
   "outputs": [
    {
     "data": {
      "text/plain": [
       "(5035, 17)"
      ]
     },
     "execution_count": 3,
     "metadata": {},
     "output_type": "execute_result"
    }
   ],
   "source": [
    "# Check shape\n",
    "data.shape"
   ]
  },
  {
   "cell_type": "code",
   "execution_count": 4,
   "id": "502a49e3",
   "metadata": {},
   "outputs": [
    {
     "data": {
      "text/html": [
       "<div>\n",
       "<style scoped>\n",
       "    .dataframe tbody tr th:only-of-type {\n",
       "        vertical-align: middle;\n",
       "    }\n",
       "\n",
       "    .dataframe tbody tr th {\n",
       "        vertical-align: top;\n",
       "    }\n",
       "\n",
       "    .dataframe thead th {\n",
       "        text-align: right;\n",
       "    }\n",
       "</style>\n",
       "<table border=\"1\" class=\"dataframe\">\n",
       "  <thead>\n",
       "    <tr style=\"text-align: right;\">\n",
       "      <th></th>\n",
       "      <th>Year</th>\n",
       "      <th>Month</th>\n",
       "      <th>IncType</th>\n",
       "      <th>ParentPropertyType</th>\n",
       "      <th>NumFireDeaths</th>\n",
       "      <th>NumAllFireInjuries</th>\n",
       "      <th>IncGeo_BoroughCode</th>\n",
       "      <th>IncGeo_BoroughName</th>\n",
       "      <th>IncGeo_WardCode</th>\n",
       "      <th>IncGeo_WardName</th>\n",
       "      <th>IgnitionSourcePower</th>\n",
       "      <th>IgnitionSource</th>\n",
       "      <th>ItemFirstIgnited</th>\n",
       "      <th>LocationFireStarted</th>\n",
       "      <th>ApplianceManufacturer</th>\n",
       "      <th>ApplianceManufacturerOther</th>\n",
       "      <th>MainCauseModel</th>\n",
       "    </tr>\n",
       "  </thead>\n",
       "  <tbody>\n",
       "    <tr>\n",
       "      <th>0</th>\n",
       "      <td>2009</td>\n",
       "      <td>December</td>\n",
       "      <td>Primary Fire</td>\n",
       "      <td>Offices and call centres</td>\n",
       "      <td>0</td>\n",
       "      <td>0</td>\n",
       "      <td>E09000033</td>\n",
       "      <td>Westminster</td>\n",
       "      <td>E05013808</td>\n",
       "      <td>West End</td>\n",
       "      <td>Electricity</td>\n",
       "      <td>Dishwasher</td>\n",
       "      <td>Wiring insulation</td>\n",
       "      <td>Kitchen</td>\n",
       "      <td>Other</td>\n",
       "      <td>Unknown</td>\n",
       "      <td>unknown</td>\n",
       "    </tr>\n",
       "    <tr>\n",
       "      <th>1</th>\n",
       "      <td>2009</td>\n",
       "      <td>July</td>\n",
       "      <td>Primary Fire</td>\n",
       "      <td>Food and Drink</td>\n",
       "      <td>0</td>\n",
       "      <td>0</td>\n",
       "      <td>E09000030</td>\n",
       "      <td>Tower Hamlets</td>\n",
       "      <td>E05009326</td>\n",
       "      <td>Limehouse</td>\n",
       "      <td>Electricity</td>\n",
       "      <td>Fridge/Freezer</td>\n",
       "      <td>Other item</td>\n",
       "      <td>Store room</td>\n",
       "      <td>NaN</td>\n",
       "      <td>NaN</td>\n",
       "      <td>NaN</td>\n",
       "    </tr>\n",
       "    <tr>\n",
       "      <th>2</th>\n",
       "      <td>2009</td>\n",
       "      <td>December</td>\n",
       "      <td>Primary Fire</td>\n",
       "      <td>House in Multiple Occupation</td>\n",
       "      <td>0</td>\n",
       "      <td>0</td>\n",
       "      <td>E09000031</td>\n",
       "      <td>Waltham Forest</td>\n",
       "      <td>E05013891</td>\n",
       "      <td>High Street</td>\n",
       "      <td>Electricity</td>\n",
       "      <td>Fridge/Freezer</td>\n",
       "      <td>Plastic - raw material only</td>\n",
       "      <td>Kitchen</td>\n",
       "      <td>AEG</td>\n",
       "      <td>NaN</td>\n",
       "      <td>Not known</td>\n",
       "    </tr>\n",
       "    <tr>\n",
       "      <th>3</th>\n",
       "      <td>2009</td>\n",
       "      <td>April</td>\n",
       "      <td>Primary Fire</td>\n",
       "      <td>Purpose Built Flats/Maisonettes</td>\n",
       "      <td>0</td>\n",
       "      <td>0</td>\n",
       "      <td>E09000023</td>\n",
       "      <td>Lewisham</td>\n",
       "      <td>E05013732</td>\n",
       "      <td>Telegraph Hill</td>\n",
       "      <td>Electricity</td>\n",
       "      <td>Washer/Dryer combined</td>\n",
       "      <td>Wiring insulation</td>\n",
       "      <td>Kitchen</td>\n",
       "      <td>CANDY</td>\n",
       "      <td>NaN</td>\n",
       "      <td>Aquarius 1300</td>\n",
       "    </tr>\n",
       "    <tr>\n",
       "      <th>4</th>\n",
       "      <td>2009</td>\n",
       "      <td>May</td>\n",
       "      <td>Primary Fire</td>\n",
       "      <td>Food and Drink</td>\n",
       "      <td>0</td>\n",
       "      <td>0</td>\n",
       "      <td>E09000001</td>\n",
       "      <td>City of London</td>\n",
       "      <td>E05009305</td>\n",
       "      <td>Farringdon Without</td>\n",
       "      <td>Electricity</td>\n",
       "      <td>Fridge/Freezer</td>\n",
       "      <td>Plastic - raw material only</td>\n",
       "      <td>Other</td>\n",
       "      <td>QUEST</td>\n",
       "      <td>NaN</td>\n",
       "      <td>SNR92</td>\n",
       "    </tr>\n",
       "  </tbody>\n",
       "</table>\n",
       "</div>"
      ],
      "text/plain": [
       "   Year     Month       IncType               ParentPropertyType  \\\n",
       "0  2009  December  Primary Fire         Offices and call centres   \n",
       "1  2009      July  Primary Fire                   Food and Drink   \n",
       "2  2009  December  Primary Fire     House in Multiple Occupation   \n",
       "3  2009     April  Primary Fire  Purpose Built Flats/Maisonettes   \n",
       "4  2009       May  Primary Fire                   Food and Drink   \n",
       "\n",
       "   NumFireDeaths  NumAllFireInjuries IncGeo_BoroughCode IncGeo_BoroughName  \\\n",
       "0              0                   0          E09000033        Westminster   \n",
       "1              0                   0          E09000030      Tower Hamlets   \n",
       "2              0                   0          E09000031     Waltham Forest   \n",
       "3              0                   0          E09000023           Lewisham   \n",
       "4              0                   0          E09000001     City of London   \n",
       "\n",
       "  IncGeo_WardCode     IncGeo_WardName IgnitionSourcePower  \\\n",
       "0       E05013808            West End         Electricity   \n",
       "1       E05009326           Limehouse         Electricity   \n",
       "2       E05013891         High Street         Electricity   \n",
       "3       E05013732      Telegraph Hill         Electricity   \n",
       "4       E05009305  Farringdon Without         Electricity   \n",
       "\n",
       "          IgnitionSource             ItemFirstIgnited LocationFireStarted  \\\n",
       "0             Dishwasher            Wiring insulation             Kitchen   \n",
       "1         Fridge/Freezer                   Other item          Store room   \n",
       "2         Fridge/Freezer  Plastic - raw material only             Kitchen   \n",
       "3  Washer/Dryer combined            Wiring insulation             Kitchen   \n",
       "4         Fridge/Freezer  Plastic - raw material only               Other   \n",
       "\n",
       "  ApplianceManufacturer ApplianceManufacturerOther MainCauseModel  \n",
       "0                 Other                    Unknown        unknown  \n",
       "1                   NaN                        NaN            NaN  \n",
       "2                   AEG                        NaN      Not known  \n",
       "3                 CANDY                        NaN  Aquarius 1300  \n",
       "4                 QUEST                        NaN          SNR92  "
      ]
     },
     "execution_count": 4,
     "metadata": {},
     "output_type": "execute_result"
    }
   ],
   "source": [
    "# Check head\n",
    "data.head()"
   ]
  },
  {
   "cell_type": "code",
   "execution_count": 5,
   "id": "9d9d26cf",
   "metadata": {},
   "outputs": [
    {
     "name": "stdout",
     "output_type": "stream",
     "text": [
      "<class 'pandas.core.frame.DataFrame'>\n",
      "RangeIndex: 5035 entries, 0 to 5034\n",
      "Data columns (total 17 columns):\n",
      " #   Column                      Non-Null Count  Dtype \n",
      "---  ------                      --------------  ----- \n",
      " 0   Year                        5035 non-null   int64 \n",
      " 1   Month                       5035 non-null   object\n",
      " 2   IncType                     5035 non-null   object\n",
      " 3   ParentPropertyType          5035 non-null   object\n",
      " 4   NumFireDeaths               5035 non-null   int64 \n",
      " 5   NumAllFireInjuries          5035 non-null   int64 \n",
      " 6   IncGeo_BoroughCode          5035 non-null   object\n",
      " 7   IncGeo_BoroughName          5035 non-null   object\n",
      " 8   IncGeo_WardCode             5033 non-null   object\n",
      " 9   IncGeo_WardName             5033 non-null   object\n",
      " 10  IgnitionSourcePower         5035 non-null   object\n",
      " 11  IgnitionSource              5035 non-null   object\n",
      " 12  ItemFirstIgnited            5035 non-null   object\n",
      " 13  LocationFireStarted         5035 non-null   object\n",
      " 14  ApplianceManufacturer       4462 non-null   object\n",
      " 15  ApplianceManufacturerOther  590 non-null    object\n",
      " 16  MainCauseModel              4384 non-null   object\n",
      "dtypes: int64(3), object(14)\n",
      "memory usage: 668.8+ KB\n"
     ]
    }
   ],
   "source": [
    "# Check datatypes and null values\n",
    "data.info()"
   ]
  },
  {
   "cell_type": "markdown",
   "id": "1f0be156",
   "metadata": {},
   "source": [
    "## Assessment of the data and cleaning\n",
    "We have a lot of missing values in the main cause model columns as well as a few in the appliance manufacturer colums."
   ]
  },
  {
   "cell_type": "code",
   "execution_count": 6,
   "id": "c7c04487",
   "metadata": {},
   "outputs": [],
   "source": [
    "df = data.copy()"
   ]
  },
  {
   "cell_type": "code",
   "execution_count": 7,
   "id": "048f201c",
   "metadata": {},
   "outputs": [
    {
     "data": {
      "text/plain": [
       "573"
      ]
     },
     "execution_count": 7,
     "metadata": {},
     "output_type": "execute_result"
    }
   ],
   "source": [
    "# Number of nulls for applicance manufacturer\n",
    "df['ApplianceManufacturer'].isnull().sum()"
   ]
  },
  {
   "cell_type": "code",
   "execution_count": 8,
   "id": "5bb20366",
   "metadata": {},
   "outputs": [
    {
     "data": {
      "text/plain": [
       "4445"
      ]
     },
     "execution_count": 8,
     "metadata": {},
     "output_type": "execute_result"
    }
   ],
   "source": [
    "# Number of nulls for appliance manufacturer other\n",
    "df['ApplianceManufacturerOther'].isnull().sum()"
   ]
  },
  {
   "cell_type": "code",
   "execution_count": 9,
   "id": "890df1da",
   "metadata": {},
   "outputs": [
    {
     "data": {
      "text/plain": [
       "HOTPOINT       842\n",
       "Other          594\n",
       "INDESIT        509\n",
       "BEKO           375\n",
       "BOSCH          350\n",
       "              ... \n",
       "WARWICK          1\n",
       "ARRON            1\n",
       "SPEED QUEEN      1\n",
       "DICON            1\n",
       "AKAI             1\n",
       "Name: ApplianceManufacturer, Length: 190, dtype: int64"
      ]
     },
     "execution_count": 9,
     "metadata": {},
     "output_type": "execute_result"
    }
   ],
   "source": [
    "# Value counts\n",
    "df['ApplianceManufacturer'].value_counts()"
   ]
  },
  {
   "cell_type": "code",
   "execution_count": 10,
   "id": "02b18de0",
   "metadata": {},
   "outputs": [
    {
     "data": {
      "text/plain": [
       "651"
      ]
     },
     "execution_count": 10,
     "metadata": {},
     "output_type": "execute_result"
    }
   ],
   "source": [
    "# Number of nulls for main cause model\n",
    "df['MainCauseModel'].isnull().sum()"
   ]
  },
  {
   "cell_type": "code",
   "execution_count": 11,
   "id": "97880da7",
   "metadata": {},
   "outputs": [
    {
     "data": {
      "text/plain": [
       "unknown                257\n",
       "Unknown                149\n",
       "not known              146\n",
       "Not known               68\n",
       "Not Known               59\n",
       "                      ... \n",
       "Aquarius extra wd64      1\n",
       "A146CDW                  1\n",
       "spin                     1\n",
       "A Class Frostfree        1\n",
       "GO482/2-80               1\n",
       "Name: MainCauseModel, Length: 2984, dtype: int64"
      ]
     },
     "execution_count": 11,
     "metadata": {},
     "output_type": "execute_result"
    }
   ],
   "source": [
    "# Value counts for this column\n",
    "df['MainCauseModel'].value_counts()"
   ]
  },
  {
   "cell_type": "markdown",
   "id": "6fc351ad",
   "metadata": {},
   "source": [
    "We will drop the appliance manufacturer other column as there are so many blanks. We will also drop the main cause model as many of the entries although not blank, have 'unknown' as entries."
   ]
  },
  {
   "cell_type": "code",
   "execution_count": 12,
   "id": "378a0698",
   "metadata": {},
   "outputs": [],
   "source": [
    "# Drop columns with a lot of missing values\n",
    "df.drop(columns = ['ApplianceManufacturerOther','MainCauseModel'],axis = 1, inplace = True)"
   ]
  },
  {
   "cell_type": "code",
   "execution_count": 13,
   "id": "9e83a082",
   "metadata": {},
   "outputs": [
    {
     "data": {
      "text/html": [
       "<div>\n",
       "<style scoped>\n",
       "    .dataframe tbody tr th:only-of-type {\n",
       "        vertical-align: middle;\n",
       "    }\n",
       "\n",
       "    .dataframe tbody tr th {\n",
       "        vertical-align: top;\n",
       "    }\n",
       "\n",
       "    .dataframe thead th {\n",
       "        text-align: right;\n",
       "    }\n",
       "</style>\n",
       "<table border=\"1\" class=\"dataframe\">\n",
       "  <thead>\n",
       "    <tr style=\"text-align: right;\">\n",
       "      <th></th>\n",
       "      <th>Year</th>\n",
       "      <th>Month</th>\n",
       "      <th>IncType</th>\n",
       "      <th>ParentPropertyType</th>\n",
       "      <th>NumFireDeaths</th>\n",
       "      <th>NumAllFireInjuries</th>\n",
       "      <th>IncGeo_BoroughCode</th>\n",
       "      <th>IncGeo_BoroughName</th>\n",
       "      <th>IncGeo_WardCode</th>\n",
       "      <th>IncGeo_WardName</th>\n",
       "      <th>IgnitionSourcePower</th>\n",
       "      <th>IgnitionSource</th>\n",
       "      <th>ItemFirstIgnited</th>\n",
       "      <th>LocationFireStarted</th>\n",
       "      <th>ApplianceManufacturer</th>\n",
       "    </tr>\n",
       "  </thead>\n",
       "  <tbody>\n",
       "    <tr>\n",
       "      <th>0</th>\n",
       "      <td>2009</td>\n",
       "      <td>December</td>\n",
       "      <td>Primary Fire</td>\n",
       "      <td>Offices and call centres</td>\n",
       "      <td>0</td>\n",
       "      <td>0</td>\n",
       "      <td>E09000033</td>\n",
       "      <td>Westminster</td>\n",
       "      <td>E05013808</td>\n",
       "      <td>West End</td>\n",
       "      <td>Electricity</td>\n",
       "      <td>Dishwasher</td>\n",
       "      <td>Wiring insulation</td>\n",
       "      <td>Kitchen</td>\n",
       "      <td>Other</td>\n",
       "    </tr>\n",
       "    <tr>\n",
       "      <th>1</th>\n",
       "      <td>2009</td>\n",
       "      <td>July</td>\n",
       "      <td>Primary Fire</td>\n",
       "      <td>Food and Drink</td>\n",
       "      <td>0</td>\n",
       "      <td>0</td>\n",
       "      <td>E09000030</td>\n",
       "      <td>Tower Hamlets</td>\n",
       "      <td>E05009326</td>\n",
       "      <td>Limehouse</td>\n",
       "      <td>Electricity</td>\n",
       "      <td>Fridge/Freezer</td>\n",
       "      <td>Other item</td>\n",
       "      <td>Store room</td>\n",
       "      <td>NaN</td>\n",
       "    </tr>\n",
       "    <tr>\n",
       "      <th>2</th>\n",
       "      <td>2009</td>\n",
       "      <td>December</td>\n",
       "      <td>Primary Fire</td>\n",
       "      <td>House in Multiple Occupation</td>\n",
       "      <td>0</td>\n",
       "      <td>0</td>\n",
       "      <td>E09000031</td>\n",
       "      <td>Waltham Forest</td>\n",
       "      <td>E05013891</td>\n",
       "      <td>High Street</td>\n",
       "      <td>Electricity</td>\n",
       "      <td>Fridge/Freezer</td>\n",
       "      <td>Plastic - raw material only</td>\n",
       "      <td>Kitchen</td>\n",
       "      <td>AEG</td>\n",
       "    </tr>\n",
       "    <tr>\n",
       "      <th>3</th>\n",
       "      <td>2009</td>\n",
       "      <td>April</td>\n",
       "      <td>Primary Fire</td>\n",
       "      <td>Purpose Built Flats/Maisonettes</td>\n",
       "      <td>0</td>\n",
       "      <td>0</td>\n",
       "      <td>E09000023</td>\n",
       "      <td>Lewisham</td>\n",
       "      <td>E05013732</td>\n",
       "      <td>Telegraph Hill</td>\n",
       "      <td>Electricity</td>\n",
       "      <td>Washer/Dryer combined</td>\n",
       "      <td>Wiring insulation</td>\n",
       "      <td>Kitchen</td>\n",
       "      <td>CANDY</td>\n",
       "    </tr>\n",
       "    <tr>\n",
       "      <th>4</th>\n",
       "      <td>2009</td>\n",
       "      <td>May</td>\n",
       "      <td>Primary Fire</td>\n",
       "      <td>Food and Drink</td>\n",
       "      <td>0</td>\n",
       "      <td>0</td>\n",
       "      <td>E09000001</td>\n",
       "      <td>City of London</td>\n",
       "      <td>E05009305</td>\n",
       "      <td>Farringdon Without</td>\n",
       "      <td>Electricity</td>\n",
       "      <td>Fridge/Freezer</td>\n",
       "      <td>Plastic - raw material only</td>\n",
       "      <td>Other</td>\n",
       "      <td>QUEST</td>\n",
       "    </tr>\n",
       "  </tbody>\n",
       "</table>\n",
       "</div>"
      ],
      "text/plain": [
       "   Year     Month       IncType               ParentPropertyType  \\\n",
       "0  2009  December  Primary Fire         Offices and call centres   \n",
       "1  2009      July  Primary Fire                   Food and Drink   \n",
       "2  2009  December  Primary Fire     House in Multiple Occupation   \n",
       "3  2009     April  Primary Fire  Purpose Built Flats/Maisonettes   \n",
       "4  2009       May  Primary Fire                   Food and Drink   \n",
       "\n",
       "   NumFireDeaths  NumAllFireInjuries IncGeo_BoroughCode IncGeo_BoroughName  \\\n",
       "0              0                   0          E09000033        Westminster   \n",
       "1              0                   0          E09000030      Tower Hamlets   \n",
       "2              0                   0          E09000031     Waltham Forest   \n",
       "3              0                   0          E09000023           Lewisham   \n",
       "4              0                   0          E09000001     City of London   \n",
       "\n",
       "  IncGeo_WardCode     IncGeo_WardName IgnitionSourcePower  \\\n",
       "0       E05013808            West End         Electricity   \n",
       "1       E05009326           Limehouse         Electricity   \n",
       "2       E05013891         High Street         Electricity   \n",
       "3       E05013732      Telegraph Hill         Electricity   \n",
       "4       E05009305  Farringdon Without         Electricity   \n",
       "\n",
       "          IgnitionSource             ItemFirstIgnited LocationFireStarted  \\\n",
       "0             Dishwasher            Wiring insulation             Kitchen   \n",
       "1         Fridge/Freezer                   Other item          Store room   \n",
       "2         Fridge/Freezer  Plastic - raw material only             Kitchen   \n",
       "3  Washer/Dryer combined            Wiring insulation             Kitchen   \n",
       "4         Fridge/Freezer  Plastic - raw material only               Other   \n",
       "\n",
       "  ApplianceManufacturer  \n",
       "0                 Other  \n",
       "1                   NaN  \n",
       "2                   AEG  \n",
       "3                 CANDY  \n",
       "4                 QUEST  "
      ]
     },
     "execution_count": 13,
     "metadata": {},
     "output_type": "execute_result"
    }
   ],
   "source": [
    "df.head()"
   ]
  },
  {
   "cell_type": "markdown",
   "id": "ed12a97e",
   "metadata": {},
   "source": [
    "We also have a couple of missing values in the Geo Ward Code and Geo Ward Name columns"
   ]
  },
  {
   "cell_type": "code",
   "execution_count": 14,
   "id": "80aef677",
   "metadata": {},
   "outputs": [
    {
     "data": {
      "text/html": [
       "<div>\n",
       "<style scoped>\n",
       "    .dataframe tbody tr th:only-of-type {\n",
       "        vertical-align: middle;\n",
       "    }\n",
       "\n",
       "    .dataframe tbody tr th {\n",
       "        vertical-align: top;\n",
       "    }\n",
       "\n",
       "    .dataframe thead th {\n",
       "        text-align: right;\n",
       "    }\n",
       "</style>\n",
       "<table border=\"1\" class=\"dataframe\">\n",
       "  <thead>\n",
       "    <tr style=\"text-align: right;\">\n",
       "      <th></th>\n",
       "      <th>Year</th>\n",
       "      <th>Month</th>\n",
       "      <th>IncType</th>\n",
       "      <th>ParentPropertyType</th>\n",
       "      <th>NumFireDeaths</th>\n",
       "      <th>NumAllFireInjuries</th>\n",
       "      <th>IncGeo_BoroughCode</th>\n",
       "      <th>IncGeo_BoroughName</th>\n",
       "      <th>IncGeo_WardCode</th>\n",
       "      <th>IncGeo_WardName</th>\n",
       "      <th>IgnitionSourcePower</th>\n",
       "      <th>IgnitionSource</th>\n",
       "      <th>ItemFirstIgnited</th>\n",
       "      <th>LocationFireStarted</th>\n",
       "      <th>ApplianceManufacturer</th>\n",
       "    </tr>\n",
       "  </thead>\n",
       "  <tbody>\n",
       "    <tr>\n",
       "      <th>4663</th>\n",
       "      <td>2023</td>\n",
       "      <td>June</td>\n",
       "      <td>Primary Fire</td>\n",
       "      <td>Food and Drink</td>\n",
       "      <td>0</td>\n",
       "      <td>0</td>\n",
       "      <td>E09000025</td>\n",
       "      <td>NEWHAM</td>\n",
       "      <td>NaN</td>\n",
       "      <td>NaN</td>\n",
       "      <td>Electricity</td>\n",
       "      <td>Fridge - Freestanding</td>\n",
       "      <td>Printed circuit board</td>\n",
       "      <td>Kitchen</td>\n",
       "      <td>Other</td>\n",
       "    </tr>\n",
       "    <tr>\n",
       "      <th>4939</th>\n",
       "      <td>2024</td>\n",
       "      <td>July</td>\n",
       "      <td>Primary Fire</td>\n",
       "      <td>Road Vehicle</td>\n",
       "      <td>0</td>\n",
       "      <td>0</td>\n",
       "      <td>E09000025</td>\n",
       "      <td>NEWHAM</td>\n",
       "      <td>NaN</td>\n",
       "      <td>NaN</td>\n",
       "      <td>Electricity</td>\n",
       "      <td>Fridge - Freestanding</td>\n",
       "      <td>Internal Fittings</td>\n",
       "      <td>Other inside/Cargo area</td>\n",
       "      <td>NaN</td>\n",
       "    </tr>\n",
       "  </tbody>\n",
       "</table>\n",
       "</div>"
      ],
      "text/plain": [
       "      Year Month       IncType ParentPropertyType  NumFireDeaths  \\\n",
       "4663  2023  June  Primary Fire     Food and Drink              0   \n",
       "4939  2024  July  Primary Fire       Road Vehicle              0   \n",
       "\n",
       "      NumAllFireInjuries IncGeo_BoroughCode IncGeo_BoroughName  \\\n",
       "4663                   0          E09000025             NEWHAM   \n",
       "4939                   0          E09000025             NEWHAM   \n",
       "\n",
       "     IncGeo_WardCode IncGeo_WardName IgnitionSourcePower  \\\n",
       "4663             NaN             NaN         Electricity   \n",
       "4939             NaN             NaN         Electricity   \n",
       "\n",
       "             IgnitionSource       ItemFirstIgnited      LocationFireStarted  \\\n",
       "4663  Fridge - Freestanding  Printed circuit board                  Kitchen   \n",
       "4939  Fridge - Freestanding      Internal Fittings  Other inside/Cargo area   \n",
       "\n",
       "     ApplianceManufacturer  \n",
       "4663                 Other  \n",
       "4939                   NaN  "
      ]
     },
     "execution_count": 14,
     "metadata": {},
     "output_type": "execute_result"
    }
   ],
   "source": [
    "df[df['IncGeo_WardCode'].isnull()]"
   ]
  },
  {
   "cell_type": "markdown",
   "id": "c57fca3e",
   "metadata": {},
   "source": [
    "We could drop these but there is some useful information there about the fire type, so we will leave them for now"
   ]
  },
  {
   "cell_type": "code",
   "execution_count": 15,
   "id": "47839f78",
   "metadata": {},
   "outputs": [
    {
     "data": {
      "text/plain": [
       "2018    360\n",
       "2012    341\n",
       "2017    334\n",
       "2019    331\n",
       "2010    329\n",
       "2011    329\n",
       "2015    323\n",
       "2013    322\n",
       "2014    319\n",
       "2009    305\n",
       "2021    302\n",
       "2016    302\n",
       "2022    286\n",
       "2020    263\n",
       "2023    257\n",
       "2024    237\n",
       "2025     95\n",
       "Name: Year, dtype: int64"
      ]
     },
     "execution_count": 15,
     "metadata": {},
     "output_type": "execute_result"
    }
   ],
   "source": [
    "# Check value counts of years\n",
    "df['Year'].value_counts()"
   ]
  },
  {
   "cell_type": "markdown",
   "id": "b3a15007",
   "metadata": {},
   "source": [
    "We will drop  those relating to 2025 as we only have a few observations so far"
   ]
  },
  {
   "cell_type": "code",
   "execution_count": 16,
   "id": "f8de64c8",
   "metadata": {},
   "outputs": [
    {
     "data": {
      "text/plain": [
       "(4940, 15)"
      ]
     },
     "execution_count": 16,
     "metadata": {},
     "output_type": "execute_result"
    }
   ],
   "source": [
    "df = df[df['Year']!=2025]\n",
    "df.shape"
   ]
  },
  {
   "cell_type": "markdown",
   "id": "469961c5",
   "metadata": {},
   "source": [
    "## Data Analysis"
   ]
  },
  {
   "cell_type": "markdown",
   "id": "009e97bf",
   "metadata": {},
   "source": [
    "#### Number of Fires by Month over the Period"
   ]
  },
  {
   "cell_type": "code",
   "execution_count": 17,
   "id": "860de757",
   "metadata": {},
   "outputs": [
    {
     "data": {
      "image/png": "[encoded data removed]",
      "text/plain": [
       "<Figure size 1296x432 with 1 Axes>"
      ]
     },
     "metadata": {
      "needs_background": "light"
     },
     "output_type": "display_data"
    }
   ],
   "source": [
    "# Create a new column of months \n",
    "df['MonthsNum'] = df['Month']\n",
    "\n",
    "# Replace the month names with numbers\n",
    "df['MonthsNum'].replace({'January':1,'February':2,'March':3,'April':4,'May':5,'June':6,'July':7,'August':8,'September':9,\n",
    "                     'October':10,'November':11,'December':12},inplace = True)\n",
    "\n",
    "# Create a date column\n",
    "df['Date'] = pd.to_datetime(df['Year'].astype(str) + '-' + df['MonthsNum'].astype(str))\n",
    "\n",
    "# Create dataframe of date and number of fires\n",
    "fires = df.groupby(['Date'],as_index = False)['IncType'].count().set_index('Date')\n",
    "\n",
    "# Plot the data\n",
    "fig, ax = plt.subplots(figsize = (18,6))\n",
    "plt.plot(fires, color = 'darkred')\n",
    "plt.title(\"London White Goods Fires 2019 to 2024\",fontsize = 20)\n",
    "plt.ylabel(\"Number\")\n",
    "ax.spines[['right', 'top']].set_visible(False);\n",
    "\n",
    "# Add a trendline\n",
    "import matplotlib.dates as mdates\n",
    "x = mdates.date2num(fires.index)\n",
    "y= fires['IncType']\n",
    "z = np.polyfit(x, y, 1)\n",
    "p = np.poly1d(z)\n",
    "#then the plot\n",
    "plt.plot(x, p(x), \"b--\");"
   ]
  },
  {
   "cell_type": "markdown",
   "id": "e59fdb6b",
   "metadata": {},
   "source": [
    "Looking at the plot of fires over time, there is some downward trend, there might be some seasonality also"
   ]
  },
  {
   "cell_type": "code",
   "execution_count": 18,
   "id": "787c3d5d",
   "metadata": {},
   "outputs": [
    {
     "data": {
      "image/png": "[encoded data removed]",
      "text/plain": [
       "<Figure size 864x576 with 3 Axes>"
      ]
     },
     "metadata": {
      "needs_background": "light"
     },
     "output_type": "display_data"
    }
   ],
   "source": [
    "# Decomposition to split out the components\n",
    "from statsmodels.tsa.seasonal import seasonal_decompose\n",
    "series = fires['IncType']\n",
    "decomposition = seasonal_decompose(series, model='additive', period=12)\n",
    "\n",
    "# Plot the decomposed components\n",
    "plt.figure(figsize=(12, 8))\n",
    "\n",
    "plt.subplot(4, 1, 1)\n",
    "plt.plot(decomposition.trend, label='Trend Component', color='orange')\n",
    "plt.legend()\n",
    "\n",
    "plt.subplot(4, 1, 2)\n",
    "plt.plot(decomposition.seasonal, label='Seasonal Component', color='green')\n",
    "plt.legend()\n",
    "\n",
    "plt.subplot(4, 1, 3)\n",
    "plt.plot(decomposition.resid, label='Residual Component', color='red')\n",
    "plt.legend()\n",
    "\n",
    "plt.tight_layout()\n",
    "plt.show()\n"
   ]
  },
  {
   "cell_type": "markdown",
   "id": "f4dfe196",
   "metadata": {},
   "source": [
    "Seems that the fires are more common in the autumn and lowest at the start of the year. We will look at this a bit more in following sections"
   ]
  },
  {
   "cell_type": "markdown",
   "id": "bf85ef8b",
   "metadata": {},
   "source": [
    "#### Number of Fires by Year"
   ]
  },
  {
   "cell_type": "markdown",
   "id": "1f60b322",
   "metadata": {},
   "source": [
    "Which years have the most and least number of reported fires?"
   ]
  },
  {
   "cell_type": "code",
   "execution_count": 19,
   "id": "0c9758ae",
   "metadata": {},
   "outputs": [
    {
     "data": {
      "text/plain": [
       "308.75"
      ]
     },
     "execution_count": 19,
     "metadata": {},
     "output_type": "execute_result"
    }
   ],
   "source": [
    "# Mean number of fires across the period\n",
    "df.groupby('Year')['Year'].count().mean()"
   ]
  },
  {
   "cell_type": "code",
   "execution_count": 20,
   "id": "e3ca0a85",
   "metadata": {},
   "outputs": [],
   "source": [
    "# Create function for plotting\n",
    "\n",
    "def plot_func(df,X,Y,kind,t,xlab,ylab):\n",
    "    fig,ax = plt.subplots(figsize = (8,6))\n",
    "    df.groupby(X)[Y].count().plot(kind = kind, \n",
    "                                        title = t,\n",
    "                                        color = 'darkred')\n",
    "    ax.spines[['right', 'top']].set_visible(False)\n",
    "    plt.xlabel(xlab, labelpad = 12)\n",
    "    plt.ylabel(ylab, labelpad = 12)\n",
    "    plt.xticks(rotation = 45);\n",
    "    "
   ]
  },
  {
   "cell_type": "code",
   "execution_count": 21,
   "id": "36dc02e5",
   "metadata": {},
   "outputs": [
    {
     "data": {
      "image/png": "[encoded data removed]",
      "text/plain": [
       "<Figure size 576x432 with 1 Axes>"
      ]
     },
     "metadata": {
      "needs_background": "light"
     },
     "output_type": "display_data"
    }
   ],
   "source": [
    "# Plot fires by year\n",
    "plot_func(df,'Year',\"Year\",\"bar\",'London White Goods Fires by Year (2009 to 2024)', \"Year\",\"Number of Fires\")"
   ]
  },
  {
   "cell_type": "markdown",
   "id": "5635a11e",
   "metadata": {},
   "source": [
    "We can see that 2018 had the most white goods fires, with the least in 2024. There appears to be a trend downwards of incidents from 2018 overall. Does this reflect greater public awareness through information after the high number occurring in 2018? What particular issues were relevant to the higher amount of fires in 2018, this could be weather related or other factors at play."
   ]
  },
  {
   "cell_type": "markdown",
   "id": "9860f9a6",
   "metadata": {},
   "source": [
    "#### Number of Fires by Month"
   ]
  },
  {
   "cell_type": "markdown",
   "id": "844f2c14",
   "metadata": {},
   "source": [
    "Which months have the most and least reported fires?"
   ]
  },
  {
   "cell_type": "code",
   "execution_count": 22,
   "id": "c528dcf2",
   "metadata": {},
   "outputs": [
    {
     "data": {
      "text/plain": [
       "MonthName\n",
       "January      386\n",
       "February     350\n",
       "March        405\n",
       "April        422\n",
       "May          420\n",
       "June         412\n",
       "July         440\n",
       "August       385\n",
       "September    391\n",
       "October      468\n",
       "November     429\n",
       "December     432\n",
       "Name: MonthName, dtype: int64"
      ]
     },
     "execution_count": 22,
     "metadata": {},
     "output_type": "execute_result"
    }
   ],
   "source": [
    "# Set the months using ordered categoricals to be able to sort them\n",
    "months = ['January','February','March','April','May','June','July','August','September','October','November','December']\n",
    "df['MonthName'] = pd.CategoricalIndex(df['Month'], ordered = True, categories = months)\n",
    "df.groupby('MonthName')['MonthName'].count()"
   ]
  },
  {
   "cell_type": "code",
   "execution_count": 23,
   "id": "6918bd49",
   "metadata": {},
   "outputs": [
    {
     "data": {
      "image/png": "[encoded data removed]",
      "text/plain": [
       "<Figure size 576x432 with 1 Axes>"
      ]
     },
     "metadata": {
      "needs_background": "light"
     },
     "output_type": "display_data"
    }
   ],
   "source": [
    "# Plot fires by month\n",
    "plot_func(df,\"MonthName\",\"MonthName\",\"bar\",'London White Goods Fires by Month (2009 to 2024)',\"Year\",\"Number of Fires\")"
   ]
  },
  {
   "cell_type": "markdown",
   "id": "bd6b4b2e",
   "metadata": {},
   "source": [
    "We can see that the month of October has the highest number of incidents at 468, with the least in February at 348. The previous time series analysis suggested seasonality in the data with more incidents over the autumn. Depending on the type of white good involved, this might reflect increasing use of the equipment into the autumn period as the weather changes, so we will consider this when we analyse the type of white good in a later section. There is also a drop in the early part months of the year. This could be due to the purchase of newer equipment in the sales but also February is a short month. "
   ]
  },
  {
   "cell_type": "markdown",
   "id": "21bb8fc7",
   "metadata": {},
   "source": [
    "#### Number of Fires by Incident Type"
   ]
  },
  {
   "cell_type": "code",
   "execution_count": 24,
   "id": "0a540653",
   "metadata": {},
   "outputs": [
    {
     "data": {
      "text/plain": [
       "Primary Fire    0.998178\n",
       "Late Call       0.001822\n",
       "Name: IncType, dtype: float64"
      ]
     },
     "execution_count": 24,
     "metadata": {},
     "output_type": "execute_result"
    }
   ],
   "source": [
    "# Types of fire\n",
    "df['IncType'].value_counts(normalize = True)"
   ]
  },
  {
   "cell_type": "markdown",
   "id": "a113958e",
   "metadata": {},
   "source": [
    "Almost % of the incidents are categorised as a primary fire rather than a late call. Primary fires are more dangerous, late calls are those that are extinguished by the time the event is attended"
   ]
  },
  {
   "cell_type": "markdown",
   "id": "80d065c2",
   "metadata": {},
   "source": [
    "#### Number of Fires by Property Type"
   ]
  },
  {
   "cell_type": "code",
   "execution_count": 25,
   "id": "aec4d7df",
   "metadata": {},
   "outputs": [
    {
     "data": {
      "text/plain": [
       "Dwelling                                       44.473684\n",
       "Purpose Built Flats/Maisonettes                29.251012\n",
       "Converted Flats/Maisonettes                    11.174089\n",
       "Non Residential                                 2.955466\n",
       "Retail                                          2.894737\n",
       "Food and Drink                                  2.064777\n",
       "House in Multiple Occupation                    1.639676\n",
       "Residential Home                                1.052632\n",
       "Offices and call centres                        0.910931\n",
       "Other Residential                               0.829960\n",
       "Education                                       0.809717\n",
       "Hospitals and medical care                      0.506073\n",
       "Outdoor structures                              0.384615\n",
       "Entertainment and culture                       0.283401\n",
       "Industrial Manufacturing                        0.141700\n",
       "Sporting venues                                 0.121457\n",
       "Road Vehicle                                    0.121457\n",
       "Warehouses and bulk storage                     0.080972\n",
       "Transport buildings                             0.080972\n",
       "Public admin, security and safety               0.080972\n",
       "Religious                                       0.040486\n",
       "Public Utilities                                0.040486\n",
       "Animal boarding/breeding/kennels (not farm)     0.020243\n",
       "Industrial Processing                           0.020243\n",
       "Outdoor equipment and machinery                 0.020243\n",
       "Name: ParentPropertyType, dtype: float64"
      ]
     },
     "execution_count": 25,
     "metadata": {},
     "output_type": "execute_result"
    }
   ],
   "source": [
    "# Fires by property type\n",
    "df['ParentPropertyType'].value_counts(normalize = True)*100"
   ]
  },
  {
   "cell_type": "markdown",
   "id": "99a84bf3",
   "metadata": {},
   "source": [
    "We can see that the majority of fires are in dwellings, flats and maisonettes. To visualise this a little better we can just take the top five locations"
   ]
  },
  {
   "cell_type": "code",
   "execution_count": 26,
   "id": "a12740d2",
   "metadata": {},
   "outputs": [
    {
     "data": {
      "text/plain": [
       "90.74898785425101"
      ]
     },
     "execution_count": 26,
     "metadata": {},
     "output_type": "execute_result"
    }
   ],
   "source": [
    "# Percentage accounted for by top five\n",
    "df['ParentPropertyType'].value_counts(normalize = True).head(5).sum()*100"
   ]
  },
  {
   "cell_type": "code",
   "execution_count": 27,
   "id": "94c14c00",
   "metadata": {},
   "outputs": [],
   "source": [
    "# Create function for plotting dataframe with top 5\n",
    "\n",
    "def plot_func2(df,X,Y,kind,t,xlab,ylab):\n",
    "    fig,ax = plt.subplots(figsize = (10,6))\n",
    "    df.groupby(X)[Y].count().sort_values(ascending = False).head(5).plot(kind = kind, \n",
    "                                        title = t,\n",
    "                                        color = 'darkred')\n",
    "    ax.spines[['right', 'top']].set_visible(False)\n",
    "    plt.xlabel(xlab, labelpad = 12)\n",
    "    plt.ylabel(ylab, labelpad = 12)\n",
    "    plt.xticks(rotation = 45)\n",
    "    ax.invert_yaxis();\n",
    "    "
   ]
  },
  {
   "cell_type": "code",
   "execution_count": 28,
   "id": "a7fd9d7f",
   "metadata": {},
   "outputs": [
    {
     "data": {
      "image/png": "[encoded data removed]",
      "text/plain": [
       "<Figure size 720x432 with 1 Axes>"
      ]
     },
     "metadata": {
      "needs_background": "light"
     },
     "output_type": "display_data"
    }
   ],
   "source": [
    "# Plot by property type\n",
    "plot_func2(df,\"ParentPropertyType\",\"ParentPropertyType\",\"barh\",'London White Goods Fires by Property Type (Top Five 2009 to 2024)',\n",
    "         \"Number of Fires\",None)"
   ]
  },
  {
   "cell_type": "markdown",
   "id": "7f8ed08d",
   "metadata": {},
   "source": [
    "#### Number of deaths and injuries from Fires"
   ]
  },
  {
   "cell_type": "code",
   "execution_count": 29,
   "id": "ef2d227e",
   "metadata": {},
   "outputs": [
    {
     "name": "stdout",
     "output_type": "stream",
     "text": [
      "Deaths: 85\n",
      "Injuries 709\n",
      "Mean Deaths per Year: 5.666666666666667\n",
      "Mean Injuries per Year 47.266666666666666\n"
     ]
    }
   ],
   "source": [
    "# How many deaths and injuries?\n",
    "print(\"Deaths:\",df['NumFireDeaths'].sum())\n",
    "print(\"Injuries\",df['NumAllFireInjuries'].sum())\n",
    "print(\"Mean Deaths per Year:\",df['NumFireDeaths'].sum()/15)\n",
    "print(\"Mean Injuries per Year\",df['NumAllFireInjuries'].sum()/15)"
   ]
  },
  {
   "cell_type": "code",
   "execution_count": 30,
   "id": "ebad5a75",
   "metadata": {},
   "outputs": [
    {
     "data": {
      "text/plain": [
       "0     4931\n",
       "1        6\n",
       "2        1\n",
       "6        1\n",
       "71       1\n",
       "Name: NumFireDeaths, dtype: int64"
      ]
     },
     "execution_count": 30,
     "metadata": {},
     "output_type": "execute_result"
    }
   ],
   "source": [
    "# Number of incidents by number of deaths\n",
    "df['NumFireDeaths'].value_counts()"
   ]
  },
  {
   "cell_type": "markdown",
   "id": "7432ff2b",
   "metadata": {},
   "source": [
    "The one incident of 71 deaths relates to Grenfell Tower which was in Kensington and Chelsea"
   ]
  },
  {
   "cell_type": "code",
   "execution_count": 31,
   "id": "b59e8cbe",
   "metadata": {},
   "outputs": [
    {
     "data": {
      "text/plain": [
       "0      4604\n",
       "1       215\n",
       "2        55\n",
       "3        29\n",
       "4        19\n",
       "5         9\n",
       "6         4\n",
       "7         2\n",
       "109       1\n",
       "10        1\n",
       "19        1\n",
       "Name: NumAllFireInjuries, dtype: int64"
      ]
     },
     "execution_count": 31,
     "metadata": {},
     "output_type": "execute_result"
    }
   ],
   "source": [
    "# Number of incidents by number of injuries\n",
    "df['NumAllFireInjuries'].value_counts()"
   ]
  },
  {
   "cell_type": "code",
   "execution_count": 32,
   "id": "325b89bf",
   "metadata": {},
   "outputs": [],
   "source": [
    "# Create function for plotting deaths and injuries\n",
    "\n",
    "def plot_func3(df,X,Y,kind,t,xlab,ylab):\n",
    "    fig,ax = plt.subplots(figsize = (8,6))\n",
    "    df.groupby(X)[Y].sum().plot(kind = kind, \n",
    "                                        title = t,\n",
    "                                        color = 'darkred')\n",
    "    ax.spines[['right', 'top']].set_visible(False)\n",
    "    plt.xlabel(xlab, labelpad = 12)\n",
    "    plt.ylabel(ylab, labelpad = 12)\n",
    "    plt.xticks(rotation = 45)\n",
    "    ax.text(0.58, 0.9, 'Grenfell Tower', \n",
    "        fontsize=14,transform=ax.transAxes,\n",
    "        verticalalignment='top');\n",
    "    "
   ]
  },
  {
   "cell_type": "code",
   "execution_count": 33,
   "id": "1917fda1",
   "metadata": {},
   "outputs": [
    {
     "data": {
      "image/png": "[encoded data removed]",
      "text/plain": [
       "<Figure size 576x432 with 1 Axes>"
      ]
     },
     "metadata": {
      "needs_background": "light"
     },
     "output_type": "display_data"
    }
   ],
   "source": [
    "# Plot deaths by year\n",
    "plot_func3(df,\"Year\",\"NumFireDeaths\",'bar','London White Goods Fires Deaths (2009 to 2024)', \"Year\",\"Number of Deaths\")"
   ]
  },
  {
   "cell_type": "code",
   "execution_count": 34,
   "id": "b029ba9f",
   "metadata": {},
   "outputs": [
    {
     "data": {
      "image/png": "[encoded data removed]",
      "text/plain": [
       "<Figure size 576x432 with 1 Axes>"
      ]
     },
     "metadata": {
      "needs_background": "light"
     },
     "output_type": "display_data"
    }
   ],
   "source": [
    "# Plot injuries by year\n",
    "plot_func3(df,\"Year\",'NumAllFireInjuries','bar','London White Goods Fires Injuries (2009 to 2024)', \"Year\",\"Number of Injuries\")"
   ]
  },
  {
   "cell_type": "code",
   "execution_count": 35,
   "id": "03bb3795",
   "metadata": {},
   "outputs": [
    {
     "data": {
      "text/html": [
       "<div>\n",
       "<style scoped>\n",
       "    .dataframe tbody tr th:only-of-type {\n",
       "        vertical-align: middle;\n",
       "    }\n",
       "\n",
       "    .dataframe tbody tr th {\n",
       "        vertical-align: top;\n",
       "    }\n",
       "\n",
       "    .dataframe thead th {\n",
       "        text-align: right;\n",
       "    }\n",
       "</style>\n",
       "<table border=\"1\" class=\"dataframe\">\n",
       "  <thead>\n",
       "    <tr style=\"text-align: right;\">\n",
       "      <th></th>\n",
       "      <th>Year</th>\n",
       "      <th>Month</th>\n",
       "      <th>IncType</th>\n",
       "      <th>ParentPropertyType</th>\n",
       "      <th>NumFireDeaths</th>\n",
       "      <th>NumAllFireInjuries</th>\n",
       "      <th>IncGeo_BoroughCode</th>\n",
       "      <th>IncGeo_BoroughName</th>\n",
       "      <th>IncGeo_WardCode</th>\n",
       "      <th>IncGeo_WardName</th>\n",
       "      <th>IgnitionSourcePower</th>\n",
       "      <th>IgnitionSource</th>\n",
       "      <th>ItemFirstIgnited</th>\n",
       "      <th>LocationFireStarted</th>\n",
       "      <th>ApplianceManufacturer</th>\n",
       "      <th>MonthsNum</th>\n",
       "      <th>Date</th>\n",
       "      <th>MonthName</th>\n",
       "    </tr>\n",
       "  </thead>\n",
       "  <tbody>\n",
       "    <tr>\n",
       "      <th>0</th>\n",
       "      <td>2009</td>\n",
       "      <td>December</td>\n",
       "      <td>Primary Fire</td>\n",
       "      <td>Offices and call centres</td>\n",
       "      <td>0</td>\n",
       "      <td>0</td>\n",
       "      <td>E09000033</td>\n",
       "      <td>Westminster</td>\n",
       "      <td>E05013808</td>\n",
       "      <td>West End</td>\n",
       "      <td>Electricity</td>\n",
       "      <td>Dishwasher</td>\n",
       "      <td>Wiring insulation</td>\n",
       "      <td>Kitchen</td>\n",
       "      <td>Other</td>\n",
       "      <td>12</td>\n",
       "      <td>2009-12-01</td>\n",
       "      <td>December</td>\n",
       "    </tr>\n",
       "    <tr>\n",
       "      <th>1</th>\n",
       "      <td>2009</td>\n",
       "      <td>July</td>\n",
       "      <td>Primary Fire</td>\n",
       "      <td>Food and Drink</td>\n",
       "      <td>0</td>\n",
       "      <td>0</td>\n",
       "      <td>E09000030</td>\n",
       "      <td>Tower Hamlets</td>\n",
       "      <td>E05009326</td>\n",
       "      <td>Limehouse</td>\n",
       "      <td>Electricity</td>\n",
       "      <td>Fridge/Freezer</td>\n",
       "      <td>Other item</td>\n",
       "      <td>Store room</td>\n",
       "      <td>NaN</td>\n",
       "      <td>7</td>\n",
       "      <td>2009-07-01</td>\n",
       "      <td>July</td>\n",
       "    </tr>\n",
       "    <tr>\n",
       "      <th>2</th>\n",
       "      <td>2009</td>\n",
       "      <td>December</td>\n",
       "      <td>Primary Fire</td>\n",
       "      <td>House in Multiple Occupation</td>\n",
       "      <td>0</td>\n",
       "      <td>0</td>\n",
       "      <td>E09000031</td>\n",
       "      <td>Waltham Forest</td>\n",
       "      <td>E05013891</td>\n",
       "      <td>High Street</td>\n",
       "      <td>Electricity</td>\n",
       "      <td>Fridge/Freezer</td>\n",
       "      <td>Plastic - raw material only</td>\n",
       "      <td>Kitchen</td>\n",
       "      <td>AEG</td>\n",
       "      <td>12</td>\n",
       "      <td>2009-12-01</td>\n",
       "      <td>December</td>\n",
       "    </tr>\n",
       "    <tr>\n",
       "      <th>3</th>\n",
       "      <td>2009</td>\n",
       "      <td>April</td>\n",
       "      <td>Primary Fire</td>\n",
       "      <td>Purpose Built Flats/Maisonettes</td>\n",
       "      <td>0</td>\n",
       "      <td>0</td>\n",
       "      <td>E09000023</td>\n",
       "      <td>Lewisham</td>\n",
       "      <td>E05013732</td>\n",
       "      <td>Telegraph Hill</td>\n",
       "      <td>Electricity</td>\n",
       "      <td>Washer/Dryer combined</td>\n",
       "      <td>Wiring insulation</td>\n",
       "      <td>Kitchen</td>\n",
       "      <td>CANDY</td>\n",
       "      <td>4</td>\n",
       "      <td>2009-04-01</td>\n",
       "      <td>April</td>\n",
       "    </tr>\n",
       "    <tr>\n",
       "      <th>4</th>\n",
       "      <td>2009</td>\n",
       "      <td>May</td>\n",
       "      <td>Primary Fire</td>\n",
       "      <td>Food and Drink</td>\n",
       "      <td>0</td>\n",
       "      <td>0</td>\n",
       "      <td>E09000001</td>\n",
       "      <td>City of London</td>\n",
       "      <td>E05009305</td>\n",
       "      <td>Farringdon Without</td>\n",
       "      <td>Electricity</td>\n",
       "      <td>Fridge/Freezer</td>\n",
       "      <td>Plastic - raw material only</td>\n",
       "      <td>Other</td>\n",
       "      <td>QUEST</td>\n",
       "      <td>5</td>\n",
       "      <td>2009-05-01</td>\n",
       "      <td>May</td>\n",
       "    </tr>\n",
       "    <tr>\n",
       "      <th>...</th>\n",
       "      <td>...</td>\n",
       "      <td>...</td>\n",
       "      <td>...</td>\n",
       "      <td>...</td>\n",
       "      <td>...</td>\n",
       "      <td>...</td>\n",
       "      <td>...</td>\n",
       "      <td>...</td>\n",
       "      <td>...</td>\n",
       "      <td>...</td>\n",
       "      <td>...</td>\n",
       "      <td>...</td>\n",
       "      <td>...</td>\n",
       "      <td>...</td>\n",
       "      <td>...</td>\n",
       "      <td>...</td>\n",
       "      <td>...</td>\n",
       "      <td>...</td>\n",
       "    </tr>\n",
       "    <tr>\n",
       "      <th>4935</th>\n",
       "      <td>2024</td>\n",
       "      <td>July</td>\n",
       "      <td>Primary Fire</td>\n",
       "      <td>Purpose Built Flats/Maisonettes</td>\n",
       "      <td>0</td>\n",
       "      <td>0</td>\n",
       "      <td>E09000033</td>\n",
       "      <td>WESTMINSTER</td>\n",
       "      <td>E05013799</td>\n",
       "      <td>LITTLE VENICE</td>\n",
       "      <td>Electricity</td>\n",
       "      <td>Washer/Dryer combined</td>\n",
       "      <td>Rubber - raw material only</td>\n",
       "      <td>Kitchen</td>\n",
       "      <td>INDESIT</td>\n",
       "      <td>7</td>\n",
       "      <td>2024-07-01</td>\n",
       "      <td>July</td>\n",
       "    </tr>\n",
       "    <tr>\n",
       "      <th>4936</th>\n",
       "      <td>2024</td>\n",
       "      <td>October</td>\n",
       "      <td>Primary Fire</td>\n",
       "      <td>Purpose Built Flats/Maisonettes</td>\n",
       "      <td>0</td>\n",
       "      <td>0</td>\n",
       "      <td>E09000012</td>\n",
       "      <td>HACKNEY</td>\n",
       "      <td>E05009372</td>\n",
       "      <td>HACKNEY CENTRAL</td>\n",
       "      <td>Electricity</td>\n",
       "      <td>Washer/Dryer combined</td>\n",
       "      <td>Clothing</td>\n",
       "      <td>Utility room</td>\n",
       "      <td>NaN</td>\n",
       "      <td>10</td>\n",
       "      <td>2024-10-01</td>\n",
       "      <td>October</td>\n",
       "    </tr>\n",
       "    <tr>\n",
       "      <th>4937</th>\n",
       "      <td>2024</td>\n",
       "      <td>July</td>\n",
       "      <td>Primary Fire</td>\n",
       "      <td>Dwelling</td>\n",
       "      <td>0</td>\n",
       "      <td>0</td>\n",
       "      <td>E09000021</td>\n",
       "      <td>KINGSTON UPON THAMES</td>\n",
       "      <td>E05013945</td>\n",
       "      <td>TOLWORTH</td>\n",
       "      <td>Electricity</td>\n",
       "      <td>Freezer - Freestanding</td>\n",
       "      <td>Paper, cardboard</td>\n",
       "      <td>Garage</td>\n",
       "      <td>Other</td>\n",
       "      <td>7</td>\n",
       "      <td>2024-07-01</td>\n",
       "      <td>July</td>\n",
       "    </tr>\n",
       "    <tr>\n",
       "      <th>4938</th>\n",
       "      <td>2024</td>\n",
       "      <td>August</td>\n",
       "      <td>Primary Fire</td>\n",
       "      <td>Retail</td>\n",
       "      <td>0</td>\n",
       "      <td>0</td>\n",
       "      <td>E09000010</td>\n",
       "      <td>ENFIELD</td>\n",
       "      <td>E05013679</td>\n",
       "      <td>EDMONTON GREEN</td>\n",
       "      <td>Electricity</td>\n",
       "      <td>Fridge - Freestanding</td>\n",
       "      <td>Capacitor</td>\n",
       "      <td>Shop floor/Showroom/Display hall</td>\n",
       "      <td>NaN</td>\n",
       "      <td>8</td>\n",
       "      <td>2024-08-01</td>\n",
       "      <td>August</td>\n",
       "    </tr>\n",
       "    <tr>\n",
       "      <th>4939</th>\n",
       "      <td>2024</td>\n",
       "      <td>July</td>\n",
       "      <td>Primary Fire</td>\n",
       "      <td>Road Vehicle</td>\n",
       "      <td>0</td>\n",
       "      <td>0</td>\n",
       "      <td>E09000025</td>\n",
       "      <td>NEWHAM</td>\n",
       "      <td>NaN</td>\n",
       "      <td>NaN</td>\n",
       "      <td>Electricity</td>\n",
       "      <td>Fridge - Freestanding</td>\n",
       "      <td>Internal Fittings</td>\n",
       "      <td>Other inside/Cargo area</td>\n",
       "      <td>NaN</td>\n",
       "      <td>7</td>\n",
       "      <td>2024-07-01</td>\n",
       "      <td>July</td>\n",
       "    </tr>\n",
       "  </tbody>\n",
       "</table>\n",
       "<p>4940 rows × 18 columns</p>\n",
       "</div>"
      ],
      "text/plain": [
       "      Year     Month       IncType               ParentPropertyType  \\\n",
       "0     2009  December  Primary Fire         Offices and call centres   \n",
       "1     2009      July  Primary Fire                   Food and Drink   \n",
       "2     2009  December  Primary Fire     House in Multiple Occupation   \n",
       "3     2009     April  Primary Fire  Purpose Built Flats/Maisonettes   \n",
       "4     2009       May  Primary Fire                   Food and Drink   \n",
       "...    ...       ...           ...                              ...   \n",
       "4935  2024      July  Primary Fire  Purpose Built Flats/Maisonettes   \n",
       "4936  2024   October  Primary Fire  Purpose Built Flats/Maisonettes   \n",
       "4937  2024      July  Primary Fire                         Dwelling   \n",
       "4938  2024    August  Primary Fire                           Retail   \n",
       "4939  2024      July  Primary Fire                     Road Vehicle   \n",
       "\n",
       "      NumFireDeaths  NumAllFireInjuries IncGeo_BoroughCode  \\\n",
       "0                 0                   0          E09000033   \n",
       "1                 0                   0          E09000030   \n",
       "2                 0                   0          E09000031   \n",
       "3                 0                   0          E09000023   \n",
       "4                 0                   0          E09000001   \n",
       "...             ...                 ...                ...   \n",
       "4935              0                   0          E09000033   \n",
       "4936              0                   0          E09000012   \n",
       "4937              0                   0          E09000021   \n",
       "4938              0                   0          E09000010   \n",
       "4939              0                   0          E09000025   \n",
       "\n",
       "        IncGeo_BoroughName IncGeo_WardCode     IncGeo_WardName  \\\n",
       "0              Westminster       E05013808            West End   \n",
       "1            Tower Hamlets       E05009326           Limehouse   \n",
       "2           Waltham Forest       E05013891         High Street   \n",
       "3                 Lewisham       E05013732      Telegraph Hill   \n",
       "4           City of London       E05009305  Farringdon Without   \n",
       "...                    ...             ...                 ...   \n",
       "4935           WESTMINSTER       E05013799       LITTLE VENICE   \n",
       "4936               HACKNEY       E05009372     HACKNEY CENTRAL   \n",
       "4937  KINGSTON UPON THAMES       E05013945            TOLWORTH   \n",
       "4938               ENFIELD       E05013679      EDMONTON GREEN   \n",
       "4939                NEWHAM             NaN                 NaN   \n",
       "\n",
       "     IgnitionSourcePower          IgnitionSource             ItemFirstIgnited  \\\n",
       "0            Electricity              Dishwasher            Wiring insulation   \n",
       "1            Electricity          Fridge/Freezer                   Other item   \n",
       "2            Electricity          Fridge/Freezer  Plastic - raw material only   \n",
       "3            Electricity   Washer/Dryer combined            Wiring insulation   \n",
       "4            Electricity          Fridge/Freezer  Plastic - raw material only   \n",
       "...                  ...                     ...                          ...   \n",
       "4935         Electricity   Washer/Dryer combined   Rubber - raw material only   \n",
       "4936         Electricity   Washer/Dryer combined                     Clothing   \n",
       "4937         Electricity  Freezer - Freestanding             Paper, cardboard   \n",
       "4938         Electricity   Fridge - Freestanding                    Capacitor   \n",
       "4939         Electricity   Fridge - Freestanding            Internal Fittings   \n",
       "\n",
       "                   LocationFireStarted ApplianceManufacturer  MonthsNum  \\\n",
       "0                              Kitchen                 Other         12   \n",
       "1                           Store room                   NaN          7   \n",
       "2                              Kitchen                   AEG         12   \n",
       "3                              Kitchen                 CANDY          4   \n",
       "4                                Other                 QUEST          5   \n",
       "...                                ...                   ...        ...   \n",
       "4935                           Kitchen               INDESIT          7   \n",
       "4936                      Utility room                   NaN         10   \n",
       "4937                            Garage                 Other          7   \n",
       "4938  Shop floor/Showroom/Display hall                   NaN          8   \n",
       "4939           Other inside/Cargo area                   NaN          7   \n",
       "\n",
       "           Date MonthName  \n",
       "0    2009-12-01  December  \n",
       "1    2009-07-01      July  \n",
       "2    2009-12-01  December  \n",
       "3    2009-04-01     April  \n",
       "4    2009-05-01       May  \n",
       "...         ...       ...  \n",
       "4935 2024-07-01      July  \n",
       "4936 2024-10-01   October  \n",
       "4937 2024-07-01      July  \n",
       "4938 2024-08-01    August  \n",
       "4939 2024-07-01      July  \n",
       "\n",
       "[4940 rows x 18 columns]"
      ]
     },
     "execution_count": 35,
     "metadata": {},
     "output_type": "execute_result"
    }
   ],
   "source": [
    "df"
   ]
  },
  {
   "cell_type": "markdown",
   "id": "4764e2ec",
   "metadata": {},
   "source": [
    "Total of 85 deaths and 707 injuries over the 16 year period which equates to 5 and 47 per year on average  \n",
    "The Grenfell Tower incident stands out as an outlier on the chart, where 71 lives were lost and 109 injuries occurred in June 2017  \n",
    "An electrical fire expert says the blaze probably started from a Hotpoint fridge-freezer in Flat 16 of the tower block. A photo of the small wire connector which is thought to have overheated and started the fire was shown to the inquiry. It was recovered from a small relay compressor compartment at the bottom rear of the fridge-freezer unit.\n",
    "\n",
    "[Source](https://news.sky.com/story/grenfell-tower-inquiry-faulty-wiring-in-fridge-freezer-started-fire-says-expert-11565956)"
   ]
  },
  {
   "cell_type": "markdown",
   "id": "23f6bbb0",
   "metadata": {},
   "source": [
    "#### Fires by IncGeo_BoroughCode"
   ]
  },
  {
   "cell_type": "code",
   "execution_count": 36,
   "id": "d4eafd8d",
   "metadata": {},
   "outputs": [
    {
     "data": {
      "text/plain": [
       "IncGeo_BoroughCode\n",
       "E09000008    260\n",
       "E09000003    251\n",
       "E09000028    204\n",
       "E09000022    200\n",
       "E09000023    195\n",
       "E09000009    189\n",
       "E09000033    188\n",
       "E09000032    182\n",
       "E09000006    182\n",
       "E09000017    170\n",
       "Name: IncGeo_BoroughCode, dtype: int64"
      ]
     },
     "execution_count": 36,
     "metadata": {},
     "output_type": "execute_result"
    }
   ],
   "source": [
    "# Top Five locations\n",
    "df.groupby('IncGeo_BoroughCode')['IncGeo_BoroughCode'].count().sort_values(ascending = False).head(10)"
   ]
  },
  {
   "cell_type": "code",
   "execution_count": 37,
   "id": "a7143367",
   "metadata": {},
   "outputs": [
    {
     "data": {
      "text/plain": [
       "IncGeo_BoroughName\n",
       "BARNET        145\n",
       "CROYDON       144\n",
       "LAMBETH       128\n",
       "SOUTHWARK     125\n",
       "Croydon       116\n",
       "WANDSWORTH    112\n",
       "LEWISHAM      112\n",
       "BROMLEY       110\n",
       "EALING        108\n",
       "Barnet        106\n",
       "Name: IncGeo_BoroughName, dtype: int64"
      ]
     },
     "execution_count": 37,
     "metadata": {},
     "output_type": "execute_result"
    }
   ],
   "source": [
    "# Top Five locations\n",
    "df.groupby('IncGeo_BoroughName')['IncGeo_BoroughName'].count().sort_values(ascending = False).head(10)"
   ]
  },
  {
   "cell_type": "markdown",
   "id": "2cf50d64",
   "metadata": {},
   "source": [
    "We have some data cleaning to do with the borough names that are not consistently entered in terms of the free text. For example in the top ten by count of incidents we can see that Barnet and Croydon are shown twice, in upper case and proper case. We could use a reference table but first we will try just setting the case to a consistent case."
   ]
  },
  {
   "cell_type": "code",
   "execution_count": 38,
   "id": "302c1cc2",
   "metadata": {},
   "outputs": [],
   "source": [
    "# Set to title case\n",
    "df['BoroughName'] = df['IncGeo_BoroughName'].str.title()"
   ]
  },
  {
   "cell_type": "code",
   "execution_count": 39,
   "id": "6bc93960",
   "metadata": {},
   "outputs": [
    {
     "data": {
      "text/plain": [
       "Croydon                   260\n",
       "Barnet                    251\n",
       "Southwark                 204\n",
       "Lambeth                   200\n",
       "Lewisham                  195\n",
       "Ealing                    189\n",
       "Westminster               188\n",
       "Bromley                   182\n",
       "Wandsworth                182\n",
       "Hillingdon                170\n",
       "Enfield                   164\n",
       "Hackney                   162\n",
       "Brent                     158\n",
       "Greenwich                 152\n",
       "Tower Hamlets             148\n",
       "Waltham Forest            148\n",
       "Haringey                  144\n",
       "Hounslow                  142\n",
       "Bexley                    140\n",
       "Islington                 139\n",
       "Newham                    138\n",
       "Redbridge                 137\n",
       "Havering                  136\n",
       "Hammersmith And Fulham    127\n",
       "Camden                    124\n",
       "Harrow                    120\n",
       "Sutton                    118\n",
       "Kensington And Chelsea    113\n",
       "Barking And Dagenham      112\n",
       "Merton                    104\n",
       "Kingston Upon Thames       89\n",
       "Richmond Upon Thames       84\n",
       "City Of London             20\n",
       "Name: BoroughName, dtype: int64"
      ]
     },
     "execution_count": 39,
     "metadata": {},
     "output_type": "execute_result"
    }
   ],
   "source": [
    "# Check the value counts by borough\n",
    "df['BoroughName'].value_counts()"
   ]
  },
  {
   "cell_type": "markdown",
   "id": "808659f2",
   "metadata": {},
   "source": [
    "We can see the number of fires by borough and that Croydon, Barnet, Southwark and Lambeth are the top of the table. However, this is a little meaningless without using a base like population to be able to compare properly. We will find some population figures and bring these in to make this comparison"
   ]
  },
  {
   "cell_type": "code",
   "execution_count": 58,
   "id": "caad48a4",
   "metadata": {},
   "outputs": [],
   "source": [
    "pop = pd.read_csv(r'C:\\Users\\imoge\\AllMLProjects\\Data\\housing-density-borough.csv')"
   ]
  },
  {
   "cell_type": "code",
   "execution_count": 59,
   "id": "3fd2fdb6",
   "metadata": {},
   "outputs": [
    {
     "data": {
      "text/html": [
       "<div>\n",
       "<style scoped>\n",
       "    .dataframe tbody tr th:only-of-type {\n",
       "        vertical-align: middle;\n",
       "    }\n",
       "\n",
       "    .dataframe tbody tr th {\n",
       "        vertical-align: top;\n",
       "    }\n",
       "\n",
       "    .dataframe thead th {\n",
       "        text-align: right;\n",
       "    }\n",
       "</style>\n",
       "<table border=\"1\" class=\"dataframe\">\n",
       "  <thead>\n",
       "    <tr style=\"text-align: right;\">\n",
       "      <th></th>\n",
       "      <th>Code</th>\n",
       "      <th>Name</th>\n",
       "      <th>Year</th>\n",
       "      <th>Source</th>\n",
       "      <th>Population</th>\n",
       "      <th>Inland_Area _Hectares</th>\n",
       "      <th>Total_Area_Hectares</th>\n",
       "      <th>Population_per_hectare</th>\n",
       "      <th>Square_Kilometres</th>\n",
       "      <th>Population_per_square_kilometre</th>\n",
       "    </tr>\n",
       "  </thead>\n",
       "  <tbody>\n",
       "    <tr>\n",
       "      <th>0</th>\n",
       "      <td>E09000001</td>\n",
       "      <td>City of London</td>\n",
       "      <td>1999</td>\n",
       "      <td>ONS MYE</td>\n",
       "      <td>6581</td>\n",
       "      <td>290.4</td>\n",
       "      <td>314.9</td>\n",
       "      <td>22.7</td>\n",
       "      <td>2.9</td>\n",
       "      <td>2266.2</td>\n",
       "    </tr>\n",
       "    <tr>\n",
       "      <th>1</th>\n",
       "      <td>E09000001</td>\n",
       "      <td>City of London</td>\n",
       "      <td>2000</td>\n",
       "      <td>ONS MYE</td>\n",
       "      <td>7014</td>\n",
       "      <td>290.4</td>\n",
       "      <td>314.9</td>\n",
       "      <td>24.2</td>\n",
       "      <td>2.9</td>\n",
       "      <td>2415.3</td>\n",
       "    </tr>\n",
       "    <tr>\n",
       "      <th>2</th>\n",
       "      <td>E09000001</td>\n",
       "      <td>City of London</td>\n",
       "      <td>2001</td>\n",
       "      <td>ONS MYE</td>\n",
       "      <td>7359</td>\n",
       "      <td>290.4</td>\n",
       "      <td>314.9</td>\n",
       "      <td>25.3</td>\n",
       "      <td>2.9</td>\n",
       "      <td>2534.1</td>\n",
       "    </tr>\n",
       "    <tr>\n",
       "      <th>3</th>\n",
       "      <td>E09000001</td>\n",
       "      <td>City of London</td>\n",
       "      <td>2002</td>\n",
       "      <td>ONS MYE</td>\n",
       "      <td>7280</td>\n",
       "      <td>290.4</td>\n",
       "      <td>314.9</td>\n",
       "      <td>25.1</td>\n",
       "      <td>2.9</td>\n",
       "      <td>2506.9</td>\n",
       "    </tr>\n",
       "    <tr>\n",
       "      <th>4</th>\n",
       "      <td>E09000001</td>\n",
       "      <td>City of London</td>\n",
       "      <td>2003</td>\n",
       "      <td>ONS MYE</td>\n",
       "      <td>7115</td>\n",
       "      <td>290.4</td>\n",
       "      <td>314.9</td>\n",
       "      <td>24.5</td>\n",
       "      <td>2.9</td>\n",
       "      <td>2450.1</td>\n",
       "    </tr>\n",
       "  </tbody>\n",
       "</table>\n",
       "</div>"
      ],
      "text/plain": [
       "        Code            Name  Year   Source  Population  \\\n",
       "0  E09000001  City of London  1999  ONS MYE        6581   \n",
       "1  E09000001  City of London  2000  ONS MYE        7014   \n",
       "2  E09000001  City of London  2001  ONS MYE        7359   \n",
       "3  E09000001  City of London  2002  ONS MYE        7280   \n",
       "4  E09000001  City of London  2003  ONS MYE        7115   \n",
       "\n",
       "   Inland_Area _Hectares  Total_Area_Hectares  Population_per_hectare  \\\n",
       "0                  290.4                314.9                    22.7   \n",
       "1                  290.4                314.9                    24.2   \n",
       "2                  290.4                314.9                    25.3   \n",
       "3                  290.4                314.9                    25.1   \n",
       "4                  290.4                314.9                    24.5   \n",
       "\n",
       "   Square_Kilometres  Population_per_square_kilometre  \n",
       "0                2.9                           2266.2  \n",
       "1                2.9                           2415.3  \n",
       "2                2.9                           2534.1  \n",
       "3                2.9                           2506.9  \n",
       "4                2.9                           2450.1  "
      ]
     },
     "execution_count": 59,
     "metadata": {},
     "output_type": "execute_result"
    }
   ],
   "source": [
    "pop.head()"
   ]
  },
  {
   "cell_type": "code",
   "execution_count": 60,
   "id": "df699abd",
   "metadata": {},
   "outputs": [
    {
     "data": {
      "text/html": [
       "<div>\n",
       "<style scoped>\n",
       "    .dataframe tbody tr th:only-of-type {\n",
       "        vertical-align: middle;\n",
       "    }\n",
       "\n",
       "    .dataframe tbody tr th {\n",
       "        vertical-align: top;\n",
       "    }\n",
       "\n",
       "    .dataframe thead th {\n",
       "        text-align: right;\n",
       "    }\n",
       "</style>\n",
       "<table border=\"1\" class=\"dataframe\">\n",
       "  <thead>\n",
       "    <tr style=\"text-align: right;\">\n",
       "      <th></th>\n",
       "      <th>Code</th>\n",
       "      <th>Population</th>\n",
       "    </tr>\n",
       "  </thead>\n",
       "  <tbody>\n",
       "    <tr>\n",
       "      <th>22</th>\n",
       "      <td>E09000001</td>\n",
       "      <td>8164</td>\n",
       "    </tr>\n",
       "    <tr>\n",
       "      <th>74</th>\n",
       "      <td>E09000002</td>\n",
       "      <td>221495</td>\n",
       "    </tr>\n",
       "    <tr>\n",
       "      <th>126</th>\n",
       "      <td>E09000003</td>\n",
       "      <td>411275</td>\n",
       "    </tr>\n",
       "    <tr>\n",
       "      <th>178</th>\n",
       "      <td>E09000004</td>\n",
       "      <td>256845</td>\n",
       "    </tr>\n",
       "    <tr>\n",
       "      <th>230</th>\n",
       "      <td>E09000005</td>\n",
       "      <td>346437</td>\n",
       "    </tr>\n",
       "  </tbody>\n",
       "</table>\n",
       "</div>"
      ],
      "text/plain": [
       "          Code  Population\n",
       "22   E09000001        8164\n",
       "74   E09000002      221495\n",
       "126  E09000003      411275\n",
       "178  E09000004      256845\n",
       "230  E09000005      346437"
      ]
     },
     "execution_count": 60,
     "metadata": {},
     "output_type": "execute_result"
    }
   ],
   "source": [
    "# Select data for the year 2021 (last census) and just the columns we want\n",
    "pop2021 = pop[pop['Year']==2021]\n",
    "pop2021 = pop2021[['Code','Population']]\n",
    "pop2021.head()"
   ]
  },
  {
   "cell_type": "code",
   "execution_count": 62,
   "id": "149e5baf",
   "metadata": {},
   "outputs": [
    {
     "data": {
      "text/plain": [
       "27894072"
      ]
     },
     "execution_count": 62,
     "metadata": {},
     "output_type": "execute_result"
    }
   ],
   "source": [
    "sum(pop2021['Population'])"
   ]
  },
  {
   "cell_type": "markdown",
   "id": "2505879c",
   "metadata": {},
   "source": [
    "Now we need to merge the data with our fire table based on the Borough Code"
   ]
  },
  {
   "cell_type": "code",
   "execution_count": 43,
   "id": "d004a17c",
   "metadata": {},
   "outputs": [
    {
     "data": {
      "text/html": [
       "<div>\n",
       "<style scoped>\n",
       "    .dataframe tbody tr th:only-of-type {\n",
       "        vertical-align: middle;\n",
       "    }\n",
       "\n",
       "    .dataframe tbody tr th {\n",
       "        vertical-align: top;\n",
       "    }\n",
       "\n",
       "    .dataframe thead th {\n",
       "        text-align: right;\n",
       "    }\n",
       "</style>\n",
       "<table border=\"1\" class=\"dataframe\">\n",
       "  <thead>\n",
       "    <tr style=\"text-align: right;\">\n",
       "      <th></th>\n",
       "      <th>Code</th>\n",
       "      <th>BoroughName</th>\n",
       "      <th>Fires</th>\n",
       "      <th>Population</th>\n",
       "      <th>FiresPer000Pop</th>\n",
       "    </tr>\n",
       "  </thead>\n",
       "  <tbody>\n",
       "    <tr>\n",
       "      <th>0</th>\n",
       "      <td>E09000001</td>\n",
       "      <td>City Of London</td>\n",
       "      <td>20</td>\n",
       "      <td>8164</td>\n",
       "      <td>2.449780</td>\n",
       "    </tr>\n",
       "    <tr>\n",
       "      <th>32</th>\n",
       "      <td>E09000033</td>\n",
       "      <td>Westminster</td>\n",
       "      <td>188</td>\n",
       "      <td>262317</td>\n",
       "      <td>0.716690</td>\n",
       "    </tr>\n",
       "    <tr>\n",
       "      <th>19</th>\n",
       "      <td>E09000020</td>\n",
       "      <td>Kensington And Chelsea</td>\n",
       "      <td>113</td>\n",
       "      <td>161552</td>\n",
       "      <td>0.699465</td>\n",
       "    </tr>\n",
       "    <tr>\n",
       "      <th>12</th>\n",
       "      <td>E09000013</td>\n",
       "      <td>Hammersmith And Fulham</td>\n",
       "      <td>127</td>\n",
       "      <td>195981</td>\n",
       "      <td>0.648022</td>\n",
       "    </tr>\n",
       "    <tr>\n",
       "      <th>7</th>\n",
       "      <td>E09000008</td>\n",
       "      <td>Croydon</td>\n",
       "      <td>260</td>\n",
       "      <td>403461</td>\n",
       "      <td>0.644424</td>\n",
       "    </tr>\n",
       "    <tr>\n",
       "      <th>27</th>\n",
       "      <td>E09000028</td>\n",
       "      <td>Southwark</td>\n",
       "      <td>204</td>\n",
       "      <td>332679</td>\n",
       "      <td>0.613204</td>\n",
       "    </tr>\n",
       "    <tr>\n",
       "      <th>2</th>\n",
       "      <td>E09000003</td>\n",
       "      <td>Barnet</td>\n",
       "      <td>251</td>\n",
       "      <td>411275</td>\n",
       "      <td>0.610297</td>\n",
       "    </tr>\n",
       "    <tr>\n",
       "      <th>22</th>\n",
       "      <td>E09000023</td>\n",
       "      <td>Lewisham</td>\n",
       "      <td>195</td>\n",
       "      <td>320574</td>\n",
       "      <td>0.608284</td>\n",
       "    </tr>\n",
       "    <tr>\n",
       "      <th>21</th>\n",
       "      <td>E09000022</td>\n",
       "      <td>Lambeth</td>\n",
       "      <td>200</td>\n",
       "      <td>342250</td>\n",
       "      <td>0.584368</td>\n",
       "    </tr>\n",
       "    <tr>\n",
       "      <th>18</th>\n",
       "      <td>E09000019</td>\n",
       "      <td>Islington</td>\n",
       "      <td>139</td>\n",
       "      <td>244372</td>\n",
       "      <td>0.568805</td>\n",
       "    </tr>\n",
       "    <tr>\n",
       "      <th>11</th>\n",
       "      <td>E09000012</td>\n",
       "      <td>Hackney</td>\n",
       "      <td>162</td>\n",
       "      <td>292023</td>\n",
       "      <td>0.554751</td>\n",
       "    </tr>\n",
       "    <tr>\n",
       "      <th>28</th>\n",
       "      <td>E09000029</td>\n",
       "      <td>Sutton</td>\n",
       "      <td>118</td>\n",
       "      <td>213340</td>\n",
       "      <td>0.553108</td>\n",
       "    </tr>\n",
       "    <tr>\n",
       "      <th>3</th>\n",
       "      <td>E09000004</td>\n",
       "      <td>Bexley</td>\n",
       "      <td>140</td>\n",
       "      <td>256845</td>\n",
       "      <td>0.545076</td>\n",
       "    </tr>\n",
       "    <tr>\n",
       "      <th>31</th>\n",
       "      <td>E09000032</td>\n",
       "      <td>Wandsworth</td>\n",
       "      <td>182</td>\n",
       "      <td>337783</td>\n",
       "      <td>0.538807</td>\n",
       "    </tr>\n",
       "    <tr>\n",
       "      <th>5</th>\n",
       "      <td>E09000006</td>\n",
       "      <td>Bromley</td>\n",
       "      <td>182</td>\n",
       "      <td>339466</td>\n",
       "      <td>0.536136</td>\n",
       "    </tr>\n",
       "    <tr>\n",
       "      <th>16</th>\n",
       "      <td>E09000017</td>\n",
       "      <td>Hillingdon</td>\n",
       "      <td>170</td>\n",
       "      <td>319467</td>\n",
       "      <td>0.532136</td>\n",
       "    </tr>\n",
       "    <tr>\n",
       "      <th>10</th>\n",
       "      <td>E09000011</td>\n",
       "      <td>Greenwich</td>\n",
       "      <td>152</td>\n",
       "      <td>294837</td>\n",
       "      <td>0.515539</td>\n",
       "    </tr>\n",
       "    <tr>\n",
       "      <th>15</th>\n",
       "      <td>E09000016</td>\n",
       "      <td>Havering</td>\n",
       "      <td>136</td>\n",
       "      <td>265930</td>\n",
       "      <td>0.511413</td>\n",
       "    </tr>\n",
       "    <tr>\n",
       "      <th>8</th>\n",
       "      <td>E09000009</td>\n",
       "      <td>Ealing</td>\n",
       "      <td>189</td>\n",
       "      <td>369685</td>\n",
       "      <td>0.511246</td>\n",
       "    </tr>\n",
       "    <tr>\n",
       "      <th>1</th>\n",
       "      <td>E09000002</td>\n",
       "      <td>Barking And Dagenham</td>\n",
       "      <td>112</td>\n",
       "      <td>221495</td>\n",
       "      <td>0.505655</td>\n",
       "    </tr>\n",
       "    <tr>\n",
       "      <th>30</th>\n",
       "      <td>E09000031</td>\n",
       "      <td>Waltham Forest</td>\n",
       "      <td>148</td>\n",
       "      <td>292788</td>\n",
       "      <td>0.505485</td>\n",
       "    </tr>\n",
       "    <tr>\n",
       "      <th>17</th>\n",
       "      <td>E09000018</td>\n",
       "      <td>Hounslow</td>\n",
       "      <td>142</td>\n",
       "      <td>286947</td>\n",
       "      <td>0.494865</td>\n",
       "    </tr>\n",
       "    <tr>\n",
       "      <th>13</th>\n",
       "      <td>E09000014</td>\n",
       "      <td>Haringey</td>\n",
       "      <td>144</td>\n",
       "      <td>291330</td>\n",
       "      <td>0.494285</td>\n",
       "    </tr>\n",
       "    <tr>\n",
       "      <th>23</th>\n",
       "      <td>E09000024</td>\n",
       "      <td>Merton</td>\n",
       "      <td>104</td>\n",
       "      <td>214740</td>\n",
       "      <td>0.484307</td>\n",
       "    </tr>\n",
       "    <tr>\n",
       "      <th>20</th>\n",
       "      <td>E09000021</td>\n",
       "      <td>Kingston Upon Thames</td>\n",
       "      <td>89</td>\n",
       "      <td>184660</td>\n",
       "      <td>0.481967</td>\n",
       "    </tr>\n",
       "    <tr>\n",
       "      <th>6</th>\n",
       "      <td>E09000007</td>\n",
       "      <td>Camden</td>\n",
       "      <td>124</td>\n",
       "      <td>259344</td>\n",
       "      <td>0.478129</td>\n",
       "    </tr>\n",
       "    <tr>\n",
       "      <th>9</th>\n",
       "      <td>E09000010</td>\n",
       "      <td>Enfield</td>\n",
       "      <td>164</td>\n",
       "      <td>346635</td>\n",
       "      <td>0.473120</td>\n",
       "    </tr>\n",
       "    <tr>\n",
       "      <th>4</th>\n",
       "      <td>E09000005</td>\n",
       "      <td>Brent</td>\n",
       "      <td>158</td>\n",
       "      <td>346437</td>\n",
       "      <td>0.456071</td>\n",
       "    </tr>\n",
       "    <tr>\n",
       "      <th>14</th>\n",
       "      <td>E09000015</td>\n",
       "      <td>Harrow</td>\n",
       "      <td>120</td>\n",
       "      <td>263484</td>\n",
       "      <td>0.455436</td>\n",
       "    </tr>\n",
       "    <tr>\n",
       "      <th>29</th>\n",
       "      <td>E09000030</td>\n",
       "      <td>Tower Hamlets</td>\n",
       "      <td>148</td>\n",
       "      <td>331620</td>\n",
       "      <td>0.446294</td>\n",
       "    </tr>\n",
       "    <tr>\n",
       "      <th>25</th>\n",
       "      <td>E09000026</td>\n",
       "      <td>Redbridge</td>\n",
       "      <td>137</td>\n",
       "      <td>316288</td>\n",
       "      <td>0.433150</td>\n",
       "    </tr>\n",
       "    <tr>\n",
       "      <th>26</th>\n",
       "      <td>E09000027</td>\n",
       "      <td>Richmond Upon Thames</td>\n",
       "      <td>84</td>\n",
       "      <td>203312</td>\n",
       "      <td>0.413158</td>\n",
       "    </tr>\n",
       "    <tr>\n",
       "      <th>24</th>\n",
       "      <td>E09000025</td>\n",
       "      <td>Newham</td>\n",
       "      <td>138</td>\n",
       "      <td>366943</td>\n",
       "      <td>0.376080</td>\n",
       "    </tr>\n",
       "  </tbody>\n",
       "</table>\n",
       "</div>"
      ],
      "text/plain": [
       "         Code             BoroughName  Fires  Population  FiresPer000Pop\n",
       "0   E09000001          City Of London     20        8164        2.449780\n",
       "32  E09000033             Westminster    188      262317        0.716690\n",
       "19  E09000020  Kensington And Chelsea    113      161552        0.699465\n",
       "12  E09000013  Hammersmith And Fulham    127      195981        0.648022\n",
       "7   E09000008                 Croydon    260      403461        0.644424\n",
       "27  E09000028               Southwark    204      332679        0.613204\n",
       "2   E09000003                  Barnet    251      411275        0.610297\n",
       "22  E09000023                Lewisham    195      320574        0.608284\n",
       "21  E09000022                 Lambeth    200      342250        0.584368\n",
       "18  E09000019               Islington    139      244372        0.568805\n",
       "11  E09000012                 Hackney    162      292023        0.554751\n",
       "28  E09000029                  Sutton    118      213340        0.553108\n",
       "3   E09000004                  Bexley    140      256845        0.545076\n",
       "31  E09000032              Wandsworth    182      337783        0.538807\n",
       "5   E09000006                 Bromley    182      339466        0.536136\n",
       "16  E09000017              Hillingdon    170      319467        0.532136\n",
       "10  E09000011               Greenwich    152      294837        0.515539\n",
       "15  E09000016                Havering    136      265930        0.511413\n",
       "8   E09000009                  Ealing    189      369685        0.511246\n",
       "1   E09000002    Barking And Dagenham    112      221495        0.505655\n",
       "30  E09000031          Waltham Forest    148      292788        0.505485\n",
       "17  E09000018                Hounslow    142      286947        0.494865\n",
       "13  E09000014                Haringey    144      291330        0.494285\n",
       "23  E09000024                  Merton    104      214740        0.484307\n",
       "20  E09000021    Kingston Upon Thames     89      184660        0.481967\n",
       "6   E09000007                  Camden    124      259344        0.478129\n",
       "9   E09000010                 Enfield    164      346635        0.473120\n",
       "4   E09000005                   Brent    158      346437        0.456071\n",
       "14  E09000015                  Harrow    120      263484        0.455436\n",
       "29  E09000030           Tower Hamlets    148      331620        0.446294\n",
       "25  E09000026               Redbridge    137      316288        0.433150\n",
       "26  E09000027    Richmond Upon Thames     84      203312        0.413158\n",
       "24  E09000025                  Newham    138      366943        0.376080"
      ]
     },
     "execution_count": 43,
     "metadata": {},
     "output_type": "execute_result"
    }
   ],
   "source": [
    "borough_fires = df.groupby(['IncGeo_BoroughCode','BoroughName'],as_index = False)['Year'].count()\n",
    "borough_fires = borough_fires.merge(pop2021, left_on = 'IncGeo_BoroughCode', right_on = 'Code')\n",
    "borough_fires.drop(columns = 'Code',axis = 1, inplace = True)\n",
    "borough_fires.columns = ['Code','BoroughName','Fires','Population']\n",
    "borough_fires['FiresPer000Pop'] = borough_fires['Fires']/borough_fires['Population']*1000\n",
    "borough_fires.sort_values(by = 'FiresPer000Pop',ascending = False)"
   ]
  },
  {
   "cell_type": "code",
   "execution_count": 66,
   "id": "0420160f",
   "metadata": {},
   "outputs": [
    {
     "data": {
      "text/html": [
       "<div>\n",
       "<style scoped>\n",
       "    .dataframe tbody tr th:only-of-type {\n",
       "        vertical-align: middle;\n",
       "    }\n",
       "\n",
       "    .dataframe tbody tr th {\n",
       "        vertical-align: top;\n",
       "    }\n",
       "\n",
       "    .dataframe thead th {\n",
       "        text-align: right;\n",
       "    }\n",
       "</style>\n",
       "<table border=\"1\" class=\"dataframe\">\n",
       "  <thead>\n",
       "    <tr style=\"text-align: right;\">\n",
       "      <th></th>\n",
       "      <th>Code</th>\n",
       "      <th>BoroughName</th>\n",
       "      <th>Fires</th>\n",
       "      <th>Population</th>\n",
       "      <th>FiresPer000Pop</th>\n",
       "      <th>Fires100000Pop</th>\n",
       "    </tr>\n",
       "  </thead>\n",
       "  <tbody>\n",
       "    <tr>\n",
       "      <th>0</th>\n",
       "      <td>E09000001</td>\n",
       "      <td>City Of London</td>\n",
       "      <td>20</td>\n",
       "      <td>8164</td>\n",
       "      <td>2.449780</td>\n",
       "      <td>244.977952</td>\n",
       "    </tr>\n",
       "    <tr>\n",
       "      <th>1</th>\n",
       "      <td>E09000002</td>\n",
       "      <td>Barking And Dagenham</td>\n",
       "      <td>112</td>\n",
       "      <td>221495</td>\n",
       "      <td>0.505655</td>\n",
       "      <td>50.565476</td>\n",
       "    </tr>\n",
       "    <tr>\n",
       "      <th>2</th>\n",
       "      <td>E09000003</td>\n",
       "      <td>Barnet</td>\n",
       "      <td>251</td>\n",
       "      <td>411275</td>\n",
       "      <td>0.610297</td>\n",
       "      <td>61.029725</td>\n",
       "    </tr>\n",
       "    <tr>\n",
       "      <th>3</th>\n",
       "      <td>E09000004</td>\n",
       "      <td>Bexley</td>\n",
       "      <td>140</td>\n",
       "      <td>256845</td>\n",
       "      <td>0.545076</td>\n",
       "      <td>54.507582</td>\n",
       "    </tr>\n",
       "    <tr>\n",
       "      <th>4</th>\n",
       "      <td>E09000005</td>\n",
       "      <td>Brent</td>\n",
       "      <td>158</td>\n",
       "      <td>346437</td>\n",
       "      <td>0.456071</td>\n",
       "      <td>45.607138</td>\n",
       "    </tr>\n",
       "    <tr>\n",
       "      <th>5</th>\n",
       "      <td>E09000006</td>\n",
       "      <td>Bromley</td>\n",
       "      <td>182</td>\n",
       "      <td>339466</td>\n",
       "      <td>0.536136</td>\n",
       "      <td>53.613617</td>\n",
       "    </tr>\n",
       "    <tr>\n",
       "      <th>6</th>\n",
       "      <td>E09000007</td>\n",
       "      <td>Camden</td>\n",
       "      <td>124</td>\n",
       "      <td>259344</td>\n",
       "      <td>0.478129</td>\n",
       "      <td>47.812943</td>\n",
       "    </tr>\n",
       "    <tr>\n",
       "      <th>7</th>\n",
       "      <td>E09000008</td>\n",
       "      <td>Croydon</td>\n",
       "      <td>260</td>\n",
       "      <td>403461</td>\n",
       "      <td>0.644424</td>\n",
       "      <td>64.442412</td>\n",
       "    </tr>\n",
       "    <tr>\n",
       "      <th>8</th>\n",
       "      <td>E09000009</td>\n",
       "      <td>Ealing</td>\n",
       "      <td>189</td>\n",
       "      <td>369685</td>\n",
       "      <td>0.511246</td>\n",
       "      <td>51.124606</td>\n",
       "    </tr>\n",
       "    <tr>\n",
       "      <th>9</th>\n",
       "      <td>E09000010</td>\n",
       "      <td>Enfield</td>\n",
       "      <td>164</td>\n",
       "      <td>346635</td>\n",
       "      <td>0.473120</td>\n",
       "      <td>47.312014</td>\n",
       "    </tr>\n",
       "    <tr>\n",
       "      <th>10</th>\n",
       "      <td>E09000011</td>\n",
       "      <td>Greenwich</td>\n",
       "      <td>152</td>\n",
       "      <td>294837</td>\n",
       "      <td>0.515539</td>\n",
       "      <td>51.553909</td>\n",
       "    </tr>\n",
       "    <tr>\n",
       "      <th>11</th>\n",
       "      <td>E09000012</td>\n",
       "      <td>Hackney</td>\n",
       "      <td>162</td>\n",
       "      <td>292023</td>\n",
       "      <td>0.554751</td>\n",
       "      <td>55.475082</td>\n",
       "    </tr>\n",
       "    <tr>\n",
       "      <th>12</th>\n",
       "      <td>E09000013</td>\n",
       "      <td>Hammersmith And Fulham</td>\n",
       "      <td>127</td>\n",
       "      <td>195981</td>\n",
       "      <td>0.648022</td>\n",
       "      <td>64.802200</td>\n",
       "    </tr>\n",
       "    <tr>\n",
       "      <th>13</th>\n",
       "      <td>E09000014</td>\n",
       "      <td>Haringey</td>\n",
       "      <td>144</td>\n",
       "      <td>291330</td>\n",
       "      <td>0.494285</td>\n",
       "      <td>49.428483</td>\n",
       "    </tr>\n",
       "    <tr>\n",
       "      <th>14</th>\n",
       "      <td>E09000015</td>\n",
       "      <td>Harrow</td>\n",
       "      <td>120</td>\n",
       "      <td>263484</td>\n",
       "      <td>0.455436</td>\n",
       "      <td>45.543562</td>\n",
       "    </tr>\n",
       "    <tr>\n",
       "      <th>15</th>\n",
       "      <td>E09000016</td>\n",
       "      <td>Havering</td>\n",
       "      <td>136</td>\n",
       "      <td>265930</td>\n",
       "      <td>0.511413</td>\n",
       "      <td>51.141278</td>\n",
       "    </tr>\n",
       "    <tr>\n",
       "      <th>16</th>\n",
       "      <td>E09000017</td>\n",
       "      <td>Hillingdon</td>\n",
       "      <td>170</td>\n",
       "      <td>319467</td>\n",
       "      <td>0.532136</td>\n",
       "      <td>53.213634</td>\n",
       "    </tr>\n",
       "    <tr>\n",
       "      <th>17</th>\n",
       "      <td>E09000018</td>\n",
       "      <td>Hounslow</td>\n",
       "      <td>142</td>\n",
       "      <td>286947</td>\n",
       "      <td>0.494865</td>\n",
       "      <td>49.486491</td>\n",
       "    </tr>\n",
       "    <tr>\n",
       "      <th>18</th>\n",
       "      <td>E09000019</td>\n",
       "      <td>Islington</td>\n",
       "      <td>139</td>\n",
       "      <td>244372</td>\n",
       "      <td>0.568805</td>\n",
       "      <td>56.880494</td>\n",
       "    </tr>\n",
       "    <tr>\n",
       "      <th>19</th>\n",
       "      <td>E09000020</td>\n",
       "      <td>Kensington And Chelsea</td>\n",
       "      <td>113</td>\n",
       "      <td>161552</td>\n",
       "      <td>0.699465</td>\n",
       "      <td>69.946519</td>\n",
       "    </tr>\n",
       "    <tr>\n",
       "      <th>20</th>\n",
       "      <td>E09000021</td>\n",
       "      <td>Kingston Upon Thames</td>\n",
       "      <td>89</td>\n",
       "      <td>184660</td>\n",
       "      <td>0.481967</td>\n",
       "      <td>48.196686</td>\n",
       "    </tr>\n",
       "    <tr>\n",
       "      <th>21</th>\n",
       "      <td>E09000022</td>\n",
       "      <td>Lambeth</td>\n",
       "      <td>200</td>\n",
       "      <td>342250</td>\n",
       "      <td>0.584368</td>\n",
       "      <td>58.436815</td>\n",
       "    </tr>\n",
       "    <tr>\n",
       "      <th>22</th>\n",
       "      <td>E09000023</td>\n",
       "      <td>Lewisham</td>\n",
       "      <td>195</td>\n",
       "      <td>320574</td>\n",
       "      <td>0.608284</td>\n",
       "      <td>60.828389</td>\n",
       "    </tr>\n",
       "    <tr>\n",
       "      <th>23</th>\n",
       "      <td>E09000024</td>\n",
       "      <td>Merton</td>\n",
       "      <td>104</td>\n",
       "      <td>214740</td>\n",
       "      <td>0.484307</td>\n",
       "      <td>48.430660</td>\n",
       "    </tr>\n",
       "    <tr>\n",
       "      <th>24</th>\n",
       "      <td>E09000025</td>\n",
       "      <td>Newham</td>\n",
       "      <td>138</td>\n",
       "      <td>366943</td>\n",
       "      <td>0.376080</td>\n",
       "      <td>37.608021</td>\n",
       "    </tr>\n",
       "    <tr>\n",
       "      <th>25</th>\n",
       "      <td>E09000026</td>\n",
       "      <td>Redbridge</td>\n",
       "      <td>137</td>\n",
       "      <td>316288</td>\n",
       "      <td>0.433150</td>\n",
       "      <td>43.314953</td>\n",
       "    </tr>\n",
       "    <tr>\n",
       "      <th>26</th>\n",
       "      <td>E09000027</td>\n",
       "      <td>Richmond Upon Thames</td>\n",
       "      <td>84</td>\n",
       "      <td>203312</td>\n",
       "      <td>0.413158</td>\n",
       "      <td>41.315810</td>\n",
       "    </tr>\n",
       "    <tr>\n",
       "      <th>27</th>\n",
       "      <td>E09000028</td>\n",
       "      <td>Southwark</td>\n",
       "      <td>204</td>\n",
       "      <td>332679</td>\n",
       "      <td>0.613204</td>\n",
       "      <td>61.320372</td>\n",
       "    </tr>\n",
       "    <tr>\n",
       "      <th>28</th>\n",
       "      <td>E09000029</td>\n",
       "      <td>Sutton</td>\n",
       "      <td>118</td>\n",
       "      <td>213340</td>\n",
       "      <td>0.553108</td>\n",
       "      <td>55.310772</td>\n",
       "    </tr>\n",
       "    <tr>\n",
       "      <th>29</th>\n",
       "      <td>E09000030</td>\n",
       "      <td>Tower Hamlets</td>\n",
       "      <td>148</td>\n",
       "      <td>331620</td>\n",
       "      <td>0.446294</td>\n",
       "      <td>44.629395</td>\n",
       "    </tr>\n",
       "    <tr>\n",
       "      <th>30</th>\n",
       "      <td>E09000031</td>\n",
       "      <td>Waltham Forest</td>\n",
       "      <td>148</td>\n",
       "      <td>292788</td>\n",
       "      <td>0.505485</td>\n",
       "      <td>50.548520</td>\n",
       "    </tr>\n",
       "    <tr>\n",
       "      <th>31</th>\n",
       "      <td>E09000032</td>\n",
       "      <td>Wandsworth</td>\n",
       "      <td>182</td>\n",
       "      <td>337783</td>\n",
       "      <td>0.538807</td>\n",
       "      <td>53.880746</td>\n",
       "    </tr>\n",
       "    <tr>\n",
       "      <th>32</th>\n",
       "      <td>E09000033</td>\n",
       "      <td>Westminster</td>\n",
       "      <td>188</td>\n",
       "      <td>262317</td>\n",
       "      <td>0.716690</td>\n",
       "      <td>71.669011</td>\n",
       "    </tr>\n",
       "  </tbody>\n",
       "</table>\n",
       "</div>"
      ],
      "text/plain": [
       "         Code             BoroughName  Fires  Population  FiresPer000Pop  \\\n",
       "0   E09000001          City Of London     20        8164        2.449780   \n",
       "1   E09000002    Barking And Dagenham    112      221495        0.505655   \n",
       "2   E09000003                  Barnet    251      411275        0.610297   \n",
       "3   E09000004                  Bexley    140      256845        0.545076   \n",
       "4   E09000005                   Brent    158      346437        0.456071   \n",
       "5   E09000006                 Bromley    182      339466        0.536136   \n",
       "6   E09000007                  Camden    124      259344        0.478129   \n",
       "7   E09000008                 Croydon    260      403461        0.644424   \n",
       "8   E09000009                  Ealing    189      369685        0.511246   \n",
       "9   E09000010                 Enfield    164      346635        0.473120   \n",
       "10  E09000011               Greenwich    152      294837        0.515539   \n",
       "11  E09000012                 Hackney    162      292023        0.554751   \n",
       "12  E09000013  Hammersmith And Fulham    127      195981        0.648022   \n",
       "13  E09000014                Haringey    144      291330        0.494285   \n",
       "14  E09000015                  Harrow    120      263484        0.455436   \n",
       "15  E09000016                Havering    136      265930        0.511413   \n",
       "16  E09000017              Hillingdon    170      319467        0.532136   \n",
       "17  E09000018                Hounslow    142      286947        0.494865   \n",
       "18  E09000019               Islington    139      244372        0.568805   \n",
       "19  E09000020  Kensington And Chelsea    113      161552        0.699465   \n",
       "20  E09000021    Kingston Upon Thames     89      184660        0.481967   \n",
       "21  E09000022                 Lambeth    200      342250        0.584368   \n",
       "22  E09000023                Lewisham    195      320574        0.608284   \n",
       "23  E09000024                  Merton    104      214740        0.484307   \n",
       "24  E09000025                  Newham    138      366943        0.376080   \n",
       "25  E09000026               Redbridge    137      316288        0.433150   \n",
       "26  E09000027    Richmond Upon Thames     84      203312        0.413158   \n",
       "27  E09000028               Southwark    204      332679        0.613204   \n",
       "28  E09000029                  Sutton    118      213340        0.553108   \n",
       "29  E09000030           Tower Hamlets    148      331620        0.446294   \n",
       "30  E09000031          Waltham Forest    148      292788        0.505485   \n",
       "31  E09000032              Wandsworth    182      337783        0.538807   \n",
       "32  E09000033             Westminster    188      262317        0.716690   \n",
       "\n",
       "    Fires100000Pop  \n",
       "0       244.977952  \n",
       "1        50.565476  \n",
       "2        61.029725  \n",
       "3        54.507582  \n",
       "4        45.607138  \n",
       "5        53.613617  \n",
       "6        47.812943  \n",
       "7        64.442412  \n",
       "8        51.124606  \n",
       "9        47.312014  \n",
       "10       51.553909  \n",
       "11       55.475082  \n",
       "12       64.802200  \n",
       "13       49.428483  \n",
       "14       45.543562  \n",
       "15       51.141278  \n",
       "16       53.213634  \n",
       "17       49.486491  \n",
       "18       56.880494  \n",
       "19       69.946519  \n",
       "20       48.196686  \n",
       "21       58.436815  \n",
       "22       60.828389  \n",
       "23       48.430660  \n",
       "24       37.608021  \n",
       "25       43.314953  \n",
       "26       41.315810  \n",
       "27       61.320372  \n",
       "28       55.310772  \n",
       "29       44.629395  \n",
       "30       50.548520  \n",
       "31       53.880746  \n",
       "32       71.669011  "
      ]
     },
     "execution_count": 66,
     "metadata": {},
     "output_type": "execute_result"
    }
   ],
   "source": [
    "borough_fires['Fires100000Pop'] = borough_fires['FiresPer000Pop']*100\n",
    "borough_fires"
   ]
  },
  {
   "cell_type": "code",
   "execution_count": 68,
   "id": "33bd1d35",
   "metadata": {},
   "outputs": [],
   "source": [
    "# Save out for use in power bi\n",
    "borough_fires.to_csv('C:/Users/imoge/AllMLProjects/Data/LondonPopFires.csv')"
   ]
  },
  {
   "cell_type": "markdown",
   "id": "d480a673",
   "metadata": {},
   "source": [
    "When we bring in population data, we can see that the highest number of white goods fires by borough is in the City of London, which has a relatively small population (and large number of commuters for work).  \n",
    "We could look a bit more at this borough to see what types of fires and types of property etc are involved if we wished"
   ]
  },
  {
   "cell_type": "markdown",
   "id": "f3f3bccf",
   "metadata": {},
   "source": [
    "#### Fires by Ignition Source Power and Ignition Source"
   ]
  },
  {
   "cell_type": "code",
   "execution_count": 44,
   "id": "8c1d8aa6",
   "metadata": {},
   "outputs": [
    {
     "data": {
      "text/plain": [
       "Electricity       99.716599\n",
       "Not applicable     0.101215\n",
       "Gas - cylinder     0.060729\n",
       "Other              0.060729\n",
       "Unknown            0.060729\n",
       "Name: IgnitionSourcePower, dtype: float64"
      ]
     },
     "execution_count": 44,
     "metadata": {},
     "output_type": "execute_result"
    }
   ],
   "source": [
    "# Source of ignition\n",
    "df['IgnitionSourcePower'].value_counts(normalize = True)*100"
   ]
  },
  {
   "cell_type": "markdown",
   "id": "8035e099",
   "metadata": {},
   "source": [
    "Unsurprisingly, most fires have an electrical source"
   ]
  },
  {
   "cell_type": "code",
   "execution_count": 45,
   "id": "fd81f2d2",
   "metadata": {},
   "outputs": [
    {
     "data": {
      "text/plain": [
       "Washing machine                  32.975709\n",
       "Tumble dryer - Standard          16.396761\n",
       "Dishwasher                       13.036437\n",
       "Tumble dryer - Condensing         8.906883\n",
       "Washer/Dryer combined             6.740891\n",
       "Fridge/Freezer - Freestanding     5.951417\n",
       "Fridge/Freezer                    5.202429\n",
       "Fridge - Freestanding             3.319838\n",
       "Freezer - Freestanding            3.137652\n",
       "Spin dryer                        1.801619\n",
       "Fridge/Freezer - Integrated       0.890688\n",
       "Fridge - Integrated               0.829960\n",
       "Freezer - Integrated              0.607287\n",
       "Tumble dryer - Heat pump          0.202429\n",
       "Name: IgnitionSource, dtype: float64"
      ]
     },
     "execution_count": 45,
     "metadata": {},
     "output_type": "execute_result"
    }
   ],
   "source": [
    "# Source of fire\n",
    "df['IgnitionSource'].value_counts(normalize = True)*100"
   ]
  },
  {
   "cell_type": "code",
   "execution_count": 46,
   "id": "b092f662",
   "metadata": {},
   "outputs": [
    {
     "data": {
      "image/png": "[encoded data removed]",
      "text/plain": [
       "<Figure size 720x432 with 1 Axes>"
      ]
     },
     "metadata": {
      "needs_background": "light"
     },
     "output_type": "display_data"
    }
   ],
   "source": [
    "# Plot by fire source\n",
    "plot_func2(df,\"IgnitionSource\",\"IgnitionSource\",\"barh\",'London White Goods Fires Source (Top 5 2009 to 2024)',\n",
    "         \"Number\",None)"
   ]
  },
  {
   "cell_type": "markdown",
   "id": "e6e4ebdc",
   "metadata": {},
   "source": [
    "The top appliances involved are washing machines, tumble driers and dishwashers.Reflecting on our earlier findings of an increased number of fires towards the winter, the increased use of tumble driers in wetter weather might lead to increased number of fires. We could look at the type of white good fires by time of year that might provide more insight on this."
   ]
  },
  {
   "cell_type": "code",
   "execution_count": 47,
   "id": "282a9fd9",
   "metadata": {},
   "outputs": [],
   "source": [
    "# Create list of months and sort in order of months\n",
    "from calendar import month_name\n",
    "month_lookup = list(month_name)\n",
    "months = df['Month'].unique().tolist()\n",
    "months = sorted(months, key=month_lookup.index)"
   ]
  },
  {
   "cell_type": "code",
   "execution_count": 48,
   "id": "ea729d22",
   "metadata": {},
   "outputs": [
    {
     "data": {
      "image/png": "[encoded data removed]",
      "text/plain": [
       "<Figure size 720x432 with 1 Axes>"
      ]
     },
     "metadata": {
      "needs_background": "light"
     },
     "output_type": "display_data"
    },
    {
     "data": {
      "image/png": "[encoded data removed]",
      "text/plain": [
       "<Figure size 720x432 with 1 Axes>"
      ]
     },
     "metadata": {
      "needs_background": "light"
     },
     "output_type": "display_data"
    },
    {
     "data": {
      "image/png": "[encoded data removed]",
      "text/plain": [
       "<Figure size 720x432 with 1 Axes>"
      ]
     },
     "metadata": {
      "needs_background": "light"
     },
     "output_type": "display_data"
    },
    {
     "data": {
      "image/png": "[encoded data removed]",
      "text/plain": [
       "<Figure size 720x432 with 1 Axes>"
      ]
     },
     "metadata": {
      "needs_background": "light"
     },
     "output_type": "display_data"
    },
    {
     "data": {
      "image/png": "[encoded data removed]",
      "text/plain": [
       "<Figure size 720x432 with 1 Axes>"
      ]
     },
     "metadata": {
      "needs_background": "light"
     },
     "output_type": "display_data"
    },
    {
     "data": {
      "image/png": "[encoded data removed]",
      "text/plain": [
       "<Figure size 720x432 with 1 Axes>"
      ]
     },
     "metadata": {
      "needs_background": "light"
     },
     "output_type": "display_data"
    },
    {
     "data": {
      "image/png": "[encoded data removed]",
      "text/plain": [
       "<Figure size 720x432 with 1 Axes>"
      ]
     },
     "metadata": {
      "needs_background": "light"
     },
     "output_type": "display_data"
    },
    {
     "data": {
      "image/png": "[encoded data removed]",
      "text/plain": [
       "<Figure size 720x432 with 1 Axes>"
      ]
     },
     "metadata": {
      "needs_background": "light"
     },
     "output_type": "display_data"
    },
    {
     "data": {
      "image/png": "[encoded data removed]",
      "text/plain": [
       "<Figure size 720x432 with 1 Axes>"
      ]
     },
     "metadata": {
      "needs_background": "light"
     },
     "output_type": "display_data"
    },
    {
     "data": {
      "image/png": "[encoded data removed]",
      "text/plain": [
       "<Figure size 720x432 with 1 Axes>"
      ]
     },
     "metadata": {
      "needs_background": "light"
     },
     "output_type": "display_data"
    },
    {
     "data": {
      "image/png": "[encoded data removed]",
      "text/plain": [
       "<Figure size 720x432 with 1 Axes>"
      ]
     },
     "metadata": {
      "needs_background": "light"
     },
     "output_type": "display_data"
    },
    {
     "data": {
      "image/png": "[encoded data removed]",
      "text/plain": [
       "<Figure size 720x432 with 1 Axes>"
      ]
     },
     "metadata": {
      "needs_background": "light"
     },
     "output_type": "display_data"
    }
   ],
   "source": [
    "# Plot by fire source\n",
    "for month in months:\n",
    "    r = df[df['Month'] == month]\n",
    "    plot_func2(r,\"IgnitionSource\",\"IgnitionSource\",\"barh\",month,\n",
    "         None,None)"
   ]
  },
  {
   "cell_type": "markdown",
   "id": "07e2f63b",
   "metadata": {},
   "source": [
    "We can see that washing machines consistently account for the greatest number of fires followed by tumble driers,with the two categories being similar in the amount of fires for December and January. The exception is June and July where dishwashers take up the number two spot. This likely just reflects the reduced use of tumbledriers over the summer."
   ]
  },
  {
   "cell_type": "markdown",
   "id": "acd799f2",
   "metadata": {},
   "source": [
    "#### Fires by Item First Ignited"
   ]
  },
  {
   "cell_type": "code",
   "execution_count": 49,
   "id": "7b7473ac",
   "metadata": {},
   "outputs": [
    {
     "data": {
      "text/plain": [
       "Wiring insulation                                 29.554656\n",
       "Plastic - raw material only                       18.785425\n",
       "Internal Fittings                                 10.991903\n",
       "Other item                                         9.939271\n",
       "Clothing                                           5.384615\n",
       "Not known                                          3.582996\n",
       "Rubber - raw material only                         3.522267\n",
       "None                                               3.340081\n",
       "Printed circuit board                              3.198381\n",
       "Other textiles                                     2.874494\n",
       "Capacitor                                          2.834008\n",
       "Unspecified internal fitting/part of structure     2.044534\n",
       "Foam - raw material only                           0.931174\n",
       "Other furniture                                    0.587045\n",
       "Bedding                                            0.526316\n",
       "Gases                                              0.323887\n",
       "Other/Unspecified furnishings                      0.242915\n",
       "Garden shed                                        0.202429\n",
       "External fittings                                  0.182186\n",
       "Other wooden item                                  0.161943\n",
       "Rubbish/Waste material                             0.141700\n",
       "Household paper/Cardboard                          0.101215\n",
       "Floor coverings                                    0.101215\n",
       "Incontinence Products                              0.080972\n",
       "Unspecified external fitting/part of structure     0.080972\n",
       "Petrol/Oil products                                0.060729\n",
       "Roof                                               0.040486\n",
       "Upholstered furniture                              0.040486\n",
       "Other paper product                                0.040486\n",
       "Paper, cardboard                                   0.020243\n",
       "Cooking oil or fat                                 0.020243\n",
       "Paint, varnish, resins, creosote                   0.020243\n",
       "Other food (not oil or fat)                        0.020243\n",
       "Bed/mattress                                       0.020243\n",
       "Name: ItemFirstIgnited, dtype: float64"
      ]
     },
     "execution_count": 49,
     "metadata": {},
     "output_type": "execute_result"
    }
   ],
   "source": [
    "# Source of fire\n",
    "df['ItemFirstIgnited'].value_counts(normalize = True)*100"
   ]
  },
  {
   "cell_type": "code",
   "execution_count": 50,
   "id": "ea5ff8d4",
   "metadata": {},
   "outputs": [
    {
     "data": {
      "image/png": "[encoded data removed]",
      "text/plain": [
       "<Figure size 720x432 with 1 Axes>"
      ]
     },
     "metadata": {
      "needs_background": "light"
     },
     "output_type": "display_data"
    }
   ],
   "source": [
    "# Plot by items\n",
    "plot_func2(df,\"ItemFirstIgnited\",\"ItemFirstIgnited\",\"barh\", 'London White Goods Fires Items First Ignited (Top 5 2009 to 2024)',\n",
    "         \"Number\",None)"
   ]
  },
  {
   "cell_type": "markdown",
   "id": "54ee56bb",
   "metadata": {},
   "source": [
    "#### Fires by Location"
   ]
  },
  {
   "cell_type": "code",
   "execution_count": 51,
   "id": "95bdd8ea",
   "metadata": {},
   "outputs": [
    {
     "data": {
      "text/plain": [
       "Kitchen                                  72.348178\n",
       "Utility room                              8.967611\n",
       "Garage                                    2.591093\n",
       "Other                                     2.226721\n",
       "External structures                       1.619433\n",
       "Shop floor/Showroom/Display hall          1.619433\n",
       "Corridor/Hall                             1.153846\n",
       "Store room                                1.032389\n",
       "Laundry room                              1.012146\n",
       "Living room                               0.971660\n",
       "Airing/Drying cupboard                    0.910931\n",
       "Under stairs (enclosed, storage area)     0.890688\n",
       "Bedroom                                   0.870445\n",
       "Conservatory                              0.829960\n",
       "Bathroom/Toilet                           0.809717\n",
       "Canteen/Restaurant                        0.384615\n",
       "Dining room                               0.303644\n",
       "Process/Production room                   0.222672\n",
       "Bedsitting room                           0.202429\n",
       "Meeting room                              0.161943\n",
       "Office                                    0.141700\n",
       "Private balcony                           0.141700\n",
       "Other inside/Cargo area                   0.101215\n",
       "Open plan area                            0.101215\n",
       "Parking garage                            0.080972\n",
       "Not known                                 0.080972\n",
       "Communal balcony/Elevated walkway         0.040486\n",
       "External fittings                         0.040486\n",
       "Reception area                            0.040486\n",
       "Barn                                      0.020243\n",
       "Stairs                                    0.020243\n",
       "Roof space                                0.020243\n",
       "Refuse store/Bin room                     0.020243\n",
       "Driver/Passenger area                     0.020243\n",
       "Name: LocationFireStarted, dtype: float64"
      ]
     },
     "execution_count": 51,
     "metadata": {},
     "output_type": "execute_result"
    }
   ],
   "source": [
    "# Source of fire\n",
    "df['LocationFireStarted'].value_counts(normalize = True)*100"
   ]
  },
  {
   "cell_type": "code",
   "execution_count": 52,
   "id": "eca23cca",
   "metadata": {},
   "outputs": [
    {
     "data": {
      "image/png": "[encoded data removed]",
      "text/plain": [
       "<Figure size 720x432 with 1 Axes>"
      ]
     },
     "metadata": {
      "needs_background": "light"
     },
     "output_type": "display_data"
    }
   ],
   "source": [
    "# Plot by location\n",
    "plot_func2(df,\"LocationFireStarted\",\"LocationFireStarted\",\"barh\",'London White Goods Fires Location of Fire (Top 5 2009 to 2024)',\n",
    "         \"Number\",None)"
   ]
  },
  {
   "cell_type": "markdown",
   "id": "0931ba2c",
   "metadata": {},
   "source": [
    "#### Fires by Appliance Manufacturer"
   ]
  },
  {
   "cell_type": "code",
   "execution_count": 53,
   "id": "d00e76a5",
   "metadata": {},
   "outputs": [
    {
     "data": {
      "text/plain": [
       "559"
      ]
     },
     "execution_count": 53,
     "metadata": {},
     "output_type": "execute_result"
    }
   ],
   "source": [
    "# Missing values\n",
    "df['ApplianceManufacturer'].isnull().sum()"
   ]
  },
  {
   "cell_type": "code",
   "execution_count": 54,
   "id": "6c6bf09b",
   "metadata": {},
   "outputs": [
    {
     "data": {
      "text/plain": [
       "HOTPOINT       835\n",
       "Other          584\n",
       "INDESIT        497\n",
       "BEKO           371\n",
       "BOSCH          345\n",
       "              ... \n",
       "CANDLE           1\n",
       "WARWICK          1\n",
       "ARRON            1\n",
       "SPEED QUEEN      1\n",
       "AKAI             1\n",
       "Name: ApplianceManufacturer, Length: 185, dtype: int64"
      ]
     },
     "execution_count": 54,
     "metadata": {},
     "output_type": "execute_result"
    }
   ],
   "source": [
    "# Value counts\n",
    "df['ApplianceManufacturer'].value_counts()"
   ]
  },
  {
   "cell_type": "code",
   "execution_count": 55,
   "id": "6043a5a9",
   "metadata": {},
   "outputs": [],
   "source": [
    "# Set the type to upper case\n",
    "df['ApplianceManufacturer'] = df['ApplianceManufacturer'].str.upper()"
   ]
  },
  {
   "cell_type": "code",
   "execution_count": 56,
   "id": "f376eacc",
   "metadata": {},
   "outputs": [
    {
     "data": {
      "image/png": "[encoded data removed]",
      "text/plain": [
       "<Figure size 576x432 with 1 Axes>"
      ]
     },
     "metadata": {
      "needs_background": "light"
     },
     "output_type": "display_data"
    }
   ],
   "source": [
    "# Select the top five\n",
    "fig, ax = plt.subplots(figsize = (8,6))\n",
    "man = df['ApplianceManufacturer'].value_counts().head(5)\n",
    "man.plot(kind = 'barh',\n",
    "         color = 'darkred',\n",
    "        title = \"White Goods Manufacturer\")\n",
    "ax.spines[['right', 'top']].set_visible(False)\n",
    "ax.invert_yaxis();"
   ]
  },
  {
   "cell_type": "markdown",
   "id": "7fa1b20e",
   "metadata": {},
   "source": [
    "#### Findings\n",
    "\n",
    "  \n",
    "* There appears to be a trend downwards of white goods fire incidents from 2018 with 2018 having the most, with the least in 2024.  \n",
    "* October has the highest number of incidents at 468 (average of 29 per year), with the least in February at 348 (average 21 per year). \n",
    "* There is some seasonality in the data, with more fires in the autumn (particularly October) than in the summer. However, the lowest by month is February which is a short month.\n",
    "* Washing machines consistently account for the greatest number of fires followed by tumble driers,with the two categories being similar in the total amount of fires for the months of December and January. In June and July dishwashers take up the number two spot. This likely just reflects the reduced use of tumbledriers over the summer.\n",
    "* Unsurprisingly, most fires started in the kitchen (72%) where white goods are usually located, with a further 8% in utility rooms and the main causes are wiring insulation, plastic and internal fittings issues. \n",
    "* We are missing over 500 datapoints for the manufacturer of the white good, so we should be careful drawing conclusions. However, from the data we do have, the top brand for problems is Hotpoint. This might not relate to anything in particular wrong with this brand, as it could just be the most popular manufacturer and we do not have any comparison data.\n",
    "* Almost 85% of fires occur in dwellings, purpose built flats/maisonettes and converted flats and maisonettes. The rest mostly occur in non-residential settings such as retail and food and drink outlets.  \n",
    "* The greatest number of white good fires per head of population occur in the City of London and the least in Newham Borough. The City of London had almost three and a half times more fires per head than the next borough in the list of Westminster.\n",
    "* There was a total of 85 deaths and 707 injuries over the 16 year period which equates to 5 deaths and 47 injuries per year on average.  \n",
    "* The Grenfell Tower incident in June 2017 is a significant outlier in the dataset and accounted for 71 lives of the 85 lives lost (83%) and 109 injuries (15%) over the period."
   ]
  },
  {
   "cell_type": "markdown",
   "id": "428fd059",
   "metadata": {},
   "source": [
    "#### Other questions we might ask\n",
    "\n",
    "* Are there any other relationships between features, for example does the type of fire, location or item vary between boroughs, over time or month?  \n",
    "* Do white good fires happen more frequently in poorer neighbourhoods, perhaps because they are running older equipment?"
   ]
  },
  {
   "cell_type": "code",
   "execution_count": 57,
   "id": "9d041ce8",
   "metadata": {},
   "outputs": [],
   "source": [
    "# Save out file\n",
    "df.to_csv(r'C:\\Users\\imoge\\AllMLProjects\\Data\\WhiteGoodsCleaned')"
   ]
  }
 ],
 "metadata": {
  "kernelspec": {
   "display_name": "Python 3",
   "language": "python",
   "name": "python3"
  },
  "language_info": {
   "codemirror_mode": {
    "name": "ipython",
    "version": 3
   },
   "file_extension": ".py",
   "mimetype": "text/x-python",
   "name": "python",
   "nbconvert_exporter": "python",
   "pygments_lexer": "ipython3",
   "version": "3.7.10"
  }
 },
 "nbformat": 4,
 "nbformat_minor": 5
}
